{
 "cells": [
  {
   "cell_type": "markdown",
   "id": "a11a9d6d",
   "metadata": {},
   "source": [
    "<div style=\"background-color: rED; color: BLACK; padding: 8px;text-align: center;\">\n",
    "    <h2 > PYTHON LECTURE 14 </h2>\n",
    "    <h2> M.Usman Akram </h2>\n",
    "    \n",
    "</div>"
   ]
  },
  {
   "cell_type": "markdown",
   "id": "f3957948",
   "metadata": {},
   "source": [
    "Certainly! Here are the main operations in Object-Oriented Programming (OOP) in Python:\n",
    "\n",
    "## 1. Class Definition: \n",
    "Use the `class` keyword to define a class. Classes encapsulate data (attributes) and behaviors (methods).\n",
    "\n",
    "```python\n",
    "class MyClass:\n",
    "    # Class definition\n",
    "    pass\n",
    "```\n",
    "\n",
    "## 2. Object Instantiation: \n",
    "Create an object (instance) of a class by calling the class as if it were a function.\n",
    "\n",
    "```python\n",
    "my_object = MyClass()  # Creating an object of MyClass\n",
    "```\n",
    "\n",
    "## 3. Constructor (`__init__`): \n",
    "The `__init__` method is a special method that gets called when an object is created. It is used to initialize the object's attributes.\n",
    "\n",
    "```python\n",
    "class MyClass:\n",
    "    def __init__(self, attribute):\n",
    "        self.attribute = attribute\n",
    "\n",
    "my_object = MyClass(\"example\")  # Creating an object and passing attribute value\n",
    "```\n",
    "\n",
    "## 4. Attribute Access: \n",
    "Access and modify attributes of an object using dot notation.\n",
    "\n",
    "```python\n",
    "print(my_object.attribute)  # Accessing an attribute\n",
    "my_object.attribute = \"new value\"  # Modifying an attribute\n",
    "```\n",
    "\n",
    "## 5. Method Definition: \n",
    "Define methods within a class to perform operations on objects.\n",
    "\n",
    "```python\n",
    "class MyClass:\n",
    "    def my_method(self):\n",
    "        print(\"Hello from my_method!\")\n",
    "\n",
    "my_object = MyClass()\n",
    "my_object.my_method()  # Calling the method\n",
    "```\n",
    "\n",
    "## 6. Inheritance: \n",
    "Create a derived class (subclass) by inheriting from a base class (superclass).\n",
    "\n",
    "```python\n",
    "class ChildClass(ParentClass):\n",
    "    # Class definition\n",
    "    pass\n",
    "```\n",
    "\n",
    "## 7. Method Overriding: \n",
    "Redefine a method in a derived class to provide a different implementation from the base class.\n",
    "\n",
    "```python\n",
    "class ParentClass:\n",
    "    def my_method(self):\n",
    "        print(\"Parent method\")\n",
    "\n",
    "class ChildClass(ParentClass):\n",
    "    def my_method(self):\n",
    "        print(\"Child method\")\n",
    "\n",
    "my_object = ChildClass()\n",
    "my_object.my_method()  # Output: \"Child method\"\n",
    "```\n",
    "\n",
    "## 8. Polymorphism: \n",
    "Treat objects of different classes as objects of a common base class and use them interchangeably.\n",
    "\n",
    "```python\n",
    "class Animal:\n",
    "    def make_sound(self):\n",
    "        pass\n",
    "\n",
    "class Dog(Animal):\n",
    "    def make_sound(self):\n",
    "        print(\"Woof!\")\n",
    "\n",
    "class Cat(Animal):\n",
    "    def make_sound(self):\n",
    "        print(\"Meow!\")\n",
    "\n",
    "# Using polymorphism\n",
    "animals = [Dog(), Cat()]\n",
    "for animal in animals:\n",
    "    animal.make_sound()\n",
    "```\n",
    "\n",
    "## 9. Encapsulation: \n",
    "Encapsulate data and methods within a class, controlling access to data using public, private, and protected modifiers.\n",
    "\n",
    "```python\n",
    "class MyClass:\n",
    "    def __init__(self):\n",
    "        self.public_attribute = 42\n",
    "        self._protected_attribute = 24\n",
    "        self.__private_attribute = 12\n",
    "\n",
    "    def my_method(self):\n",
    "        print(self.public_attribute)\n",
    "        print(self._protected_attribute)\n",
    "        print(self.__private_attribute)\n",
    "\n",
    "my_object = MyClass()\n",
    "print(my_object.public_attribute)  # Accessing a public attribute\n",
    "print(my_object._protected_attribute)  # Accessing a protected attribute\n",
    "print(my_object.__private_attribute)  # Raises an AttributeError\n",
    "```\n",
    "\n",
    "These operations form the core concepts of OOP in Python, allowing for the creation of classes, objects, attributes, methods, inheritance, polymorphism, and encapsulation."
   ]
  },
  {
   "cell_type": "markdown",
   "id": "7be982dc",
   "metadata": {},
   "source": [
    "# Class Example:"
   ]
  },
  {
   "cell_type": "code",
   "execution_count": 1,
   "id": "7013e9e9",
   "metadata": {},
   "outputs": [
    {
     "name": "stdout",
     "output_type": "stream",
     "text": [
      "The Toyota Camry is driving.\n",
      "The Honda Civic is driving.\n"
     ]
    }
   ],
   "source": [
    "class Car:\n",
    "    def __init__(self, brand, model):\n",
    "        self.brand = brand\n",
    "        self.model = model\n",
    "\n",
    "    def drive(self):\n",
    "        print(f\"The {self.brand} {self.model} is driving.\")\n",
    "\n",
    "# Creating objects of Car class\n",
    "car1 = Car(\"Toyota\", \"Camry\")\n",
    "car2 = Car(\"Honda\", \"Civic\")\n",
    "\n",
    "car1.drive()  # Output: The Toyota Camry is driving.\n",
    "car2.drive()  # Output: The Honda Civic is driving.\n"
   ]
  },
  {
   "cell_type": "markdown",
   "id": "5cca3e75",
   "metadata": {},
   "source": [
    "Explanation:\n",
    "\n",
    "- The Car class represents a car with a brand and a model.\n",
    "- The __init__ method initializes the brand and model attributes of the car object.\n",
    "- The drive method is a behavior specific to the car object, and it prints a message indicating the car is driving.\n",
    "- We create two car objects car1 and car2 of the Car class and call the drive method on each object, demonstrating the behavior of different car instances."
   ]
  },
  {
   "cell_type": "markdown",
   "id": "5256879a",
   "metadata": {},
   "source": [
    "# Object Example:"
   ]
  },
  {
   "cell_type": "code",
   "execution_count": 2,
   "id": "16a5e871",
   "metadata": {},
   "outputs": [
    {
     "name": "stdout",
     "output_type": "stream",
     "text": [
      "Alice\n",
      "30\n"
     ]
    }
   ],
   "source": [
    "class Person:\n",
    "    def __init__(self, name, age):\n",
    "        self.name = name\n",
    "        self.age = age\n",
    "\n",
    "# Creating objects of Person class\n",
    "person1 = Person(\"Alice\", 25)\n",
    "person2 = Person(\"Bob\", 30)\n",
    "\n",
    "print(person1.name)  # Output: Alice\n",
    "print(person2.age)   # Output: 30\n"
   ]
  },
  {
   "cell_type": "markdown",
   "id": "dde59a67",
   "metadata": {},
   "source": [
    "Explanation:\n",
    "\n",
    "- The Person class represents a person with a name and an age.\n",
    "- The __init__ method initializes the name and age attributes of the person object.\n",
    "- We create two person objects person1 and person2 of the Person class.\n",
    "- We access the name attribute of person1 and the age attribute of person2, demonstrating how objects hold different data."
   ]
  },
  {
   "cell_type": "markdown",
   "id": "0765365a",
   "metadata": {},
   "source": [
    "# Attribute Example:"
   ]
  },
  {
   "cell_type": "code",
   "execution_count": 3,
   "id": "c690013f",
   "metadata": {},
   "outputs": [
    {
     "name": "stdout",
     "output_type": "stream",
     "text": [
      "5\n",
      "7\n"
     ]
    }
   ],
   "source": [
    "class Circle:\n",
    "    def __init__(self, radius):\n",
    "        self.radius = radius\n",
    "\n",
    "circle = Circle(5)\n",
    "print(circle.radius)  # Output: 5\n",
    "\n",
    "circle.radius = 7\n",
    "print(circle.radius)  # Output: 7\n"
   ]
  },
  {
   "cell_type": "markdown",
   "id": "ef1c2d10",
   "metadata": {},
   "source": [
    "Explanation:\n",
    "\n",
    "- The Circle class represents a circle with a radius.\n",
    "- The __init__ method initializes the radius attribute of the circle object.\n",
    "- We create a circle object of the Circle class with a radius of 5.\n",
    "- We access and print the radius attribute of the circle object.\n",
    "- We assign a new value of 7 to the radius attribute and print it again, showing how attributes can be modified."
   ]
  },
  {
   "cell_type": "markdown",
   "id": "72e50075",
   "metadata": {},
   "source": [
    "# Method Example:"
   ]
  },
  {
   "cell_type": "code",
   "execution_count": 4,
   "id": "b31db71c",
   "metadata": {},
   "outputs": [
    {
     "name": "stdout",
     "output_type": "stream",
     "text": [
      "7\n",
      "30\n"
     ]
    }
   ],
   "source": [
    "class Calculator:\n",
    "    def add(self, a, b):\n",
    "        return a + b\n",
    "\n",
    "    def multiply(self, a, b):\n",
    "        return a * b\n",
    "\n",
    "calc = Calculator()\n",
    "result1 = calc.add(3, 4)\n",
    "result2 = calc.multiply(5, 6)\n",
    "\n",
    "print(result1)  # Output: 7\n",
    "print(result2)  # Output: 30\n"
   ]
  },
  {
   "cell_type": "markdown",
   "id": "6538f3cb",
   "metadata": {},
   "source": [
    "Explanation:\n",
    "\n",
    "- The Calculator class represents a basic calculator.\n",
    "- The add method takes two numbers as input and returns their sum.\n",
    "- The multiply method takes two numbers as input and returns their product.\n",
    "- We create a calc object of the Calculator class.\n",
    "- We call the add method on the calc object with arguments 3 and 4, storing the result in result1.\n",
    "- We call the `multiply"
   ]
  },
  {
   "cell_type": "markdown",
   "id": "8f608449",
   "metadata": {},
   "source": [
    "# Example 1: Bank Account"
   ]
  },
  {
   "cell_type": "code",
   "execution_count": 5,
   "id": "37625fa7",
   "metadata": {},
   "outputs": [
    {
     "name": "stdout",
     "output_type": "stream",
     "text": [
      "Account Number: 1234567890\n",
      "Balance: $1300.00\n"
     ]
    }
   ],
   "source": [
    "class BankAccount:\n",
    "    def __init__(self, account_number, balance):\n",
    "        self.account_number = account_number\n",
    "        self.balance = balance\n",
    "\n",
    "    def deposit(self, amount):\n",
    "        self.balance += amount\n",
    "\n",
    "    def withdraw(self, amount):\n",
    "        if self.balance >= amount:\n",
    "            self.balance -= amount\n",
    "        else:\n",
    "            print(\"Insufficient funds\")\n",
    "\n",
    "    def display_balance(self):\n",
    "        print(f\"Account Number: {self.account_number}\")\n",
    "        print(f\"Balance: ${self.balance:.2f}\")\n",
    "\n",
    "\n",
    "# Creating an object of BankAccount\n",
    "account = BankAccount(\"1234567890\", 1000.00)\n",
    "\n",
    "# Depositing and withdrawing\n",
    "account.deposit(500.00)\n",
    "account.withdraw(200.00)\n",
    "\n",
    "# Displaying the account balance\n",
    "account.display_balance()\n"
   ]
  },
  {
   "cell_type": "markdown",
   "id": "04507216",
   "metadata": {},
   "source": [
    "Explanation:\n",
    "\n",
    "- In this example, we define a BankAccount class that represents a bank account.\n",
    "\n",
    "- The __init__ method is the constructor that initializes the account number and balance attributes of the object.\n",
    "\n",
    "- The deposit method allows depositing money into the account by updating the balance attribute.\n",
    "\n",
    "- The withdraw method checks if the balance is sufficient before deducting the specified amount. It prints a message if there are insufficient funds.\n",
    "\n",
    "- The display_balance method shows the account number and current balance.\n",
    "\n",
    "- We create an object account of the BankAccount class and perform operations like depositing, withdrawing, and displaying the balance."
   ]
  },
  {
   "cell_type": "markdown",
   "id": "6553cc3f",
   "metadata": {},
   "source": [
    "# Example 2: Rectangle"
   ]
  },
  {
   "cell_type": "code",
   "execution_count": 6,
   "id": "33941c35",
   "metadata": {},
   "outputs": [
    {
     "name": "stdout",
     "output_type": "stream",
     "text": [
      "Rectangle 1:\n",
      "Area: 15\n",
      "Perimeter: 16\n",
      "Rectangle 2:\n",
      "Area: 28\n",
      "Perimeter: 22\n"
     ]
    }
   ],
   "source": [
    "class Rectangle:\n",
    "    def __init__(self, length, width):\n",
    "        self.length = length\n",
    "        self.width = width\n",
    "\n",
    "    def area(self):\n",
    "        return self.length * self.width\n",
    "\n",
    "    def perimeter(self):\n",
    "        return 2 * (self.length + self.width)\n",
    "\n",
    "\n",
    "# Creating two objects of Rectangle\n",
    "rectangle1 = Rectangle(5, 3)\n",
    "rectangle2 = Rectangle(7, 4)\n",
    "\n",
    "# Computing and displaying the area and perimeter\n",
    "print(\"Rectangle 1:\")\n",
    "print(\"Area:\", rectangle1.area())\n",
    "print(\"Perimeter:\", rectangle1.perimeter())\n",
    "\n",
    "print(\"Rectangle 2:\")\n",
    "print(\"Area:\", rectangle2.area())\n",
    "print(\"Perimeter:\", rectangle2.perimeter())\n"
   ]
  },
  {
   "cell_type": "markdown",
   "id": "169d57e1",
   "metadata": {},
   "source": [
    "Explanation:\n",
    "\n",
    "- In this example, we define a Rectangle class that represents a rectangle with length and width.\n",
    "- The __init__ method initializes the length and width attributes of the object.\n",
    "- The area method calculates and returns the area of the rectangle using the length and width attributes.\n",
    "- The perimeter method calculates and returns the perimeter of the rectangle using the length and width attributes.\n",
    "- We create two objects rectangle1 and rectangle2 of the Rectangle class and compute their areas and perimeters."
   ]
  },
  {
   "cell_type": "markdown",
   "id": "50110f0d",
   "metadata": {},
   "source": [
    "# Class Definition: \n",
    "Use the class keyword to define a class. Classes encapsulate data (attributes) and behaviors (methods)."
   ]
  },
  {
   "cell_type": "code",
   "execution_count": 7,
   "id": "5da89ed4",
   "metadata": {},
   "outputs": [],
   "source": [
    "class MyClass:\n",
    "    # Class definition\n",
    "    pass\n"
   ]
  },
  {
   "cell_type": "markdown",
   "id": "a69c7779",
   "metadata": {},
   "source": [
    "# Object Instantiation: \n",
    "Create an object (instance) of a class by calling the class as if it were a function."
   ]
  },
  {
   "cell_type": "code",
   "execution_count": 8,
   "id": "605fb06f",
   "metadata": {},
   "outputs": [],
   "source": [
    "my_object = MyClass()  # Creating an object of MyClass\n"
   ]
  },
  {
   "cell_type": "markdown",
   "id": "e0a71ac7",
   "metadata": {},
   "source": [
    "# Constructor (__init__): \n",
    "The __init__ method is a special method that gets called when an object is created. It is used to initialize the object's attributes."
   ]
  },
  {
   "cell_type": "code",
   "execution_count": 9,
   "id": "a417555f",
   "metadata": {},
   "outputs": [],
   "source": [
    "class MyClass:\n",
    "    def __init__(self, attribute):\n",
    "        self.attribute = attribute\n",
    "\n",
    "my_object = MyClass(\"example\")  # Creating an object and passing attribute value\n"
   ]
  },
  {
   "cell_type": "markdown",
   "id": "c53d4fdd",
   "metadata": {},
   "source": [
    "# Attribute Access:\n",
    "Access and modify attributes of an object using dot notation"
   ]
  },
  {
   "cell_type": "code",
   "execution_count": 10,
   "id": "a53ce06c",
   "metadata": {},
   "outputs": [
    {
     "name": "stdout",
     "output_type": "stream",
     "text": [
      "example\n"
     ]
    }
   ],
   "source": [
    "print(my_object.attribute)  # Accessing an attribute\n",
    "my_object.attribute = \"new value\"  # Modifying an attribute\n"
   ]
  },
  {
   "cell_type": "markdown",
   "id": "a848a0b2",
   "metadata": {},
   "source": [
    "# Method Definition: \n",
    "Define methods within a class to perform operations on objects."
   ]
  },
  {
   "cell_type": "code",
   "execution_count": 11,
   "id": "4a4e2494",
   "metadata": {},
   "outputs": [
    {
     "name": "stdout",
     "output_type": "stream",
     "text": [
      "Hello from my_method!\n"
     ]
    }
   ],
   "source": [
    "class MyClass:\n",
    "    def my_method(self):\n",
    "        print(\"Hello from my_method!\")\n",
    "\n",
    "my_object = MyClass()\n",
    "my_object.my_method()  # Calling the method\n"
   ]
  },
  {
   "cell_type": "markdown",
   "id": "2934974d",
   "metadata": {},
   "source": [
    "# Encapsulation\n",
    "is the process of bundling data (attributes) and methods (functions) together within a class, hiding the internal details of the class from external access. It allows for information hiding, data protection, and modular code organization. Here are the main operations and methods related to encapsulation in Python:"
   ]
  },
  {
   "cell_type": "markdown",
   "id": "f40a2236",
   "metadata": {},
   "source": [
    "## Attribute Access Modifiers:\n",
    "In Python, attribute access modifiers are not enforced by the language itself but are followed as a naming convention. These modifiers control the visibility and accessibility of attributes. The three main access modifiers are:\n",
    "### Public: \n",
    "No special symbol or naming convention is used. Public attributes can be accessed and modified from anywhere.\n",
    "\n",
    "### Protected: \n",
    "Attributes are prefixed with a single underscore (_). Protected attributes should be treated as non-public, but they can still be accessed and modified from outside the class.\n",
    "\n",
    "### Private: \n",
    "Attributes are prefixed with a double underscore (__). Private attributes should not be accessed or modified from outside the class. However, they can still be accessed using name mangling (e.g., _Class__attribute)."
   ]
  },
  {
   "cell_type": "code",
   "execution_count": 12,
   "id": "daa854ca",
   "metadata": {},
   "outputs": [
    {
     "name": "stdout",
     "output_type": "stream",
     "text": [
      "42\n",
      "24\n",
      "12\n",
      "This is a protected method.\n",
      "This is a private method.\n"
     ]
    }
   ],
   "source": [
    "class MyClass:\n",
    "    def __init__(self):\n",
    "        self.public_attribute = 42\n",
    "        self._protected_attribute = 24\n",
    "        self.__private_attribute = 12\n",
    "\n",
    "    def _protected_method(self):\n",
    "        print(\"This is a protected method.\")\n",
    "\n",
    "    def __private_method(self):\n",
    "        print(\"This is a private method.\")\n",
    "\n",
    "my_object = MyClass()\n",
    "print(my_object.public_attribute)  # Accessing a public attribute\n",
    "print(my_object._protected_attribute)  # Accessing a protected attribute\n",
    "print(my_object._MyClass__private_attribute)  # Accessing a private attribute using name mangling\n",
    "\n",
    "my_object._protected_method()  # Calling a protected method\n",
    "my_object._MyClass__private_method()  # Calling a private method using name mangling\n"
   ]
  },
  {
   "cell_type": "markdown",
   "id": "08eaea05",
   "metadata": {},
   "source": [
    "# Getter and Setter Methods:\n",
    "Getter and setter methods are used to control access to attributes, providing an interface to read and modify the attribute values. They allow for additional logic and validation when accessing or modifying attributes."
   ]
  },
  {
   "cell_type": "code",
   "execution_count": 13,
   "id": "675176c8",
   "metadata": {},
   "outputs": [
    {
     "name": "stdout",
     "output_type": "stream",
     "text": [
      "Alice\n",
      "Bob\n",
      "25\n",
      "25\n",
      "30\n"
     ]
    }
   ],
   "source": [
    "class Person:\n",
    "    def __init__(self, name, age):\n",
    "        self._name = name\n",
    "        self._age = age\n",
    "\n",
    "    def get_name(self):\n",
    "        return self._name\n",
    "\n",
    "    def set_name(self, name):\n",
    "        self._name = name\n",
    "\n",
    "    def get_age(self):\n",
    "        return self._age\n",
    "\n",
    "    def set_age(self, age):\n",
    "        if age >= 0:\n",
    "            self._age = age\n",
    "\n",
    "person = Person(\"Alice\", 25)\n",
    "print(person.get_name())  # Output: Alice\n",
    "person.set_name(\"Bob\")\n",
    "print(person.get_name())  # Output: Bob\n",
    "\n",
    "print(person.get_age())  # Output: 25\n",
    "person.set_age(-5)\n",
    "print(person.get_age())  # Output: 25 (age not modified due to validation)\n",
    "person.set_age(30)\n",
    "print(person.get_age())  # Output: 30\n"
   ]
  },
  {
   "cell_type": "markdown",
   "id": "94a3613a",
   "metadata": {},
   "source": [
    "# Class and Static Methods:\n",
    "#### Class methods and static methods are methods that belong to the class rather than an instance of the class.\n",
    "## Class methods are defined using the @classmethod decorator and take the class itself as the first parameter. They can access class attributes and modify class-level state.\n",
    "\n",
    "## Static methods are defined using the @staticmethod decorator and do not take any special parameters. They are independent of the class and can be called without creating an instance."
   ]
  },
  {
   "cell_type": "code",
   "execution_count": 14,
   "id": "3dd3b3ae",
   "metadata": {},
   "outputs": [
    {
     "name": "stdout",
     "output_type": "stream",
     "text": [
      "12.56636\n",
      "7\n"
     ]
    }
   ],
   "source": [
    "class MathUtils:\n",
    "    PI = 3.14159\n",
    "\n",
    "    @classmethod\n",
    "    def circle_area(cls, radius):\n",
    "        return cls.PI * radius**2\n",
    "\n",
    "    @staticmethod\n",
    "    def add(a, b):\n",
    "        return a + b\n",
    "\n",
    "print(MathUtils.circle_area(2))  # Output: 12.56636\n",
    "print(MathUtils.add(3, 4))  # Output: 7\n"
   ]
  },
  {
   "cell_type": "markdown",
   "id": "7eece4cb",
   "metadata": {},
   "source": [
    "These are the main operations and methods associated with encapsulation in Python. They help in organizing code, controlling access to attributes, and providing appropriate interfaces for data manipulation."
   ]
  },
  {
   "cell_type": "markdown",
   "id": "2763785f",
   "metadata": {},
   "source": [
    "# Abstraction \n",
    "is a concept in Object-Oriented Programming that focuses on representing the essential features of an object while hiding unnecessary details. It allows you to create abstract classes or interfaces that define the common structure and behavior for a group of related objects. Here are the main operations and methods related to abstraction in Python:"
   ]
  },
  {
   "cell_type": "markdown",
   "id": "0fc11177",
   "metadata": {},
   "source": [
    "# Abstract Base Class (ABC):\n",
    "An Abstract Base Class is a class that cannot be instantiated and is meant to be subclassed. It serves as a blueprint for other classes and defines the common interface that derived classes must implement. The abc module in Python provides the necessary tools for defining abstract base classes."
   ]
  },
  {
   "cell_type": "code",
   "execution_count": 15,
   "id": "8540b081",
   "metadata": {},
   "outputs": [
    {
     "name": "stdout",
     "output_type": "stream",
     "text": [
      "78.53975\n",
      "31.4159\n"
     ]
    }
   ],
   "source": [
    "from abc import ABC, abstractmethod\n",
    "\n",
    "class Shape(ABC):\n",
    "    @abstractmethod\n",
    "    def area(self):\n",
    "        pass\n",
    "\n",
    "    @abstractmethod\n",
    "    def perimeter(self):\n",
    "        pass\n",
    "\n",
    "class Circle(Shape):\n",
    "    def __init__(self, radius):\n",
    "        self.radius = radius\n",
    "\n",
    "    def area(self):\n",
    "        return 3.14159 * self.radius**2\n",
    "\n",
    "    def perimeter(self):\n",
    "        return 2 * 3.14159 * self.radius\n",
    "\n",
    "circle = Circle(5)\n",
    "print(circle.area())  # Output: 78.53975\n",
    "print(circle.perimeter())  # Output: 31.4159\n"
   ]
  },
  {
   "cell_type": "markdown",
   "id": "b23aea39",
   "metadata": {},
   "source": [
    "# Abstract Methods:\n",
    "Abstract methods are methods declared in an abstract base class but do not provide an implementation. They must be overridden in the derived classes. Abstract methods are decorated with the @abstractmethod decorator."
   ]
  },
  {
   "cell_type": "code",
   "execution_count": 16,
   "id": "fc01eb9e",
   "metadata": {},
   "outputs": [
    {
     "name": "stdout",
     "output_type": "stream",
     "text": [
      "Woof!\n",
      "Meow!\n"
     ]
    }
   ],
   "source": [
    "from abc import ABC, abstractmethod\n",
    "\n",
    "class Animal(ABC):\n",
    "    @abstractmethod\n",
    "    def make_sound(self):\n",
    "        pass\n",
    "\n",
    "class Dog(Animal):\n",
    "    def make_sound(self):\n",
    "        print(\"Woof!\")\n",
    "\n",
    "class Cat(Animal):\n",
    "    def make_sound(self):\n",
    "        print(\"Meow!\")\n",
    "\n",
    "dog = Dog()\n",
    "dog.make_sound()  # Output: \"Woof!\"\n",
    "\n",
    "cat = Cat()\n",
    "cat.make_sound()  # Output: \"Meow!\"\n"
   ]
  },
  {
   "cell_type": "markdown",
   "id": "8d3eba0c",
   "metadata": {},
   "source": [
    "# Abstract Properties:\n",
    "Abstract properties are attributes declared in an abstract base class without providing a concrete implementation. They must be defined in the derived classes."
   ]
  },
  {
   "cell_type": "code",
   "execution_count": 17,
   "id": "420d9f0c",
   "metadata": {},
   "outputs": [
    {
     "name": "stdout",
     "output_type": "stream",
     "text": [
      "20\n"
     ]
    }
   ],
   "source": [
    "from abc import ABC, abstractproperty\n",
    "\n",
    "class Shape(ABC):\n",
    "    @abstractproperty\n",
    "    def area(self):\n",
    "        pass\n",
    "\n",
    "class Rectangle(Shape):\n",
    "    def __init__(self, width, height):\n",
    "        self.width = width\n",
    "        self.height = height\n",
    "\n",
    "    @property\n",
    "    def area(self):\n",
    "        return self.width * self.height\n",
    "\n",
    "rectangle = Rectangle(4, 5)\n",
    "print(rectangle.area)  # Output: 20\n"
   ]
  },
  {
   "cell_type": "markdown",
   "id": "b875a2fd",
   "metadata": {},
   "source": [
    "# Abstract Class Check:\n",
    "You can check if a class is a subclass of an abstract base class using the issubclass() function or check if an object is an instance of an abstract base class using the isinstance() function."
   ]
  },
  {
   "cell_type": "code",
   "execution_count": 18,
   "id": "056cea4f",
   "metadata": {},
   "outputs": [
    {
     "name": "stdout",
     "output_type": "stream",
     "text": [
      "True\n",
      "False\n",
      "True\n",
      "False\n"
     ]
    }
   ],
   "source": [
    "from abc import ABC, abstractmethod\n",
    "\n",
    "class Animal(ABC):\n",
    "    @abstractmethod\n",
    "    def make_sound(self):\n",
    "        pass\n",
    "\n",
    "class Dog(Animal):\n",
    "    def make_sound(self):\n",
    "        print(\"Woof!\")\n",
    "\n",
    "class Cat:\n",
    "    def make_sound(self):\n",
    "        print(\"Meow!\")\n",
    "\n",
    "dog = Dog()\n",
    "cat = Cat()\n",
    "\n",
    "print(issubclass(Dog, Animal))  # Output: True\n",
    "print(issubclass(Cat, Animal))  # Output: False\n",
    "\n",
    "print(isinstance(dog, Animal))  # Output: True\n",
    "print(isinstance(cat, Animal))  # Output: False\n"
   ]
  },
  {
   "cell_type": "markdown",
   "id": "95037919",
   "metadata": {},
   "source": [
    "These are the main operations and methods associated with abstraction in Python. They help in defining abstract base classes, abstract methods, abstract properties, and checking subclassing relationships. Abstraction allows for the creation of common interfaces and promotes code reusability and modularity."
   ]
  },
  {
   "cell_type": "markdown",
   "id": "f0765ebc",
   "metadata": {},
   "source": [
    "# Inheritance \n",
    "is a key concept in Object-Oriented Programming (OOP) that allows you to create new classes (derived classes or subclasses) based on existing classes (base classes or superclasses). The derived classes inherit the attributes and methods of the base class and can override or extend them as needed. Here are the main operations and methods associated with inheritance in Python:"
   ]
  },
  {
   "cell_type": "markdown",
   "id": "36d331ce",
   "metadata": {},
   "source": [
    "# Creating a Base Class:"
   ]
  },
  {
   "cell_type": "code",
   "execution_count": 19,
   "id": "f66abc26",
   "metadata": {},
   "outputs": [],
   "source": [
    "class Vehicle:\n",
    "    def __init__(self, brand, color):\n",
    "        self.brand = brand\n",
    "        self.color = color\n",
    "\n",
    "    def drive(self):\n",
    "        print(f\"The {self.color} {self.brand} is driving.\")\n",
    "\n",
    "    def stop(self):\n",
    "        print(f\"The {self.color} {self.brand} has stopped.\")\n"
   ]
  },
  {
   "cell_type": "markdown",
   "id": "56c6d2de",
   "metadata": {},
   "source": [
    "# Creating a Derived Class:"
   ]
  },
  {
   "cell_type": "code",
   "execution_count": 20,
   "id": "a7a2d67d",
   "metadata": {},
   "outputs": [],
   "source": [
    "class Car(Vehicle):\n",
    "    def __init__(self, brand, color, fuel_type):\n",
    "        super().__init__(brand, color)\n",
    "        self.fuel_type = fuel_type\n",
    "\n",
    "    def refuel(self):\n",
    "        print(f\"Refueling the {self.color} {self.brand} with {self.fuel_type}.\")\n",
    "\n",
    "    def drive(self):\n",
    "        super().drive()\n",
    "        print(\"The car is driving smoothly.\")\n"
   ]
  },
  {
   "cell_type": "markdown",
   "id": "acab9e73",
   "metadata": {},
   "source": [
    "# Creating Objects and Using Inherited Methods:"
   ]
  },
  {
   "cell_type": "code",
   "execution_count": 21,
   "id": "9340212b",
   "metadata": {},
   "outputs": [
    {
     "name": "stdout",
     "output_type": "stream",
     "text": [
      "The Black Generic is driving.\n",
      "The Black Generic has stopped.\n",
      "The Blue Toyota is driving.\n",
      "The car is driving smoothly.\n",
      "The Blue Toyota has stopped.\n",
      "Refueling the Blue Toyota with Petrol.\n"
     ]
    }
   ],
   "source": [
    "vehicle = Vehicle(\"Generic\", \"Black\")\n",
    "vehicle.drive()  # Output: \"The Black Generic is driving.\"\n",
    "vehicle.stop()  # Output: \"The Black Generic has stopped.\"\n",
    "\n",
    "car = Car(\"Toyota\", \"Blue\", \"Petrol\")\n",
    "car.drive()  # Output: \"The Blue Toyota is driving. The car is driving smoothly.\"\n",
    "car.stop()  # Output: \"The Blue Toyota has stopped.\"\n",
    "car.refuel()  # Output: \"Refueling the Blue Toyota with Petrol.\"\n"
   ]
  },
  {
   "cell_type": "markdown",
   "id": "e8a56e99",
   "metadata": {},
   "source": [
    "# Method Overriding:"
   ]
  },
  {
   "cell_type": "code",
   "execution_count": 22,
   "id": "f9a45455",
   "metadata": {},
   "outputs": [
    {
     "name": "stdout",
     "output_type": "stream",
     "text": [
      "The motorcycle is driving fast.\n",
      "The Red Honda has stopped.\n"
     ]
    }
   ],
   "source": [
    "class Motorcycle(Vehicle):\n",
    "    def drive(self):\n",
    "        print(\"The motorcycle is driving fast.\")\n",
    "\n",
    "motorcycle = Motorcycle(\"Honda\", \"Red\")\n",
    "motorcycle.drive()  # Output: \"The motorcycle is driving fast.\"\n",
    "motorcycle.stop()  # Output: \"The Red Honda has stopped.\"\n"
   ]
  },
  {
   "cell_type": "markdown",
   "id": "22b0b5b0",
   "metadata": {},
   "source": [
    "# Checking Class Hierarchy:"
   ]
  },
  {
   "cell_type": "code",
   "execution_count": 23,
   "id": "04cca378",
   "metadata": {},
   "outputs": [
    {
     "name": "stdout",
     "output_type": "stream",
     "text": [
      "True\n",
      "True\n",
      "False\n",
      "True\n",
      "True\n",
      "True\n",
      "False\n"
     ]
    }
   ],
   "source": [
    "print(issubclass(Car, Vehicle))  # Output: True\n",
    "print(issubclass(Motorcycle, Vehicle))  # Output: True\n",
    "print(issubclass(Vehicle, Car))  # Output: False\n",
    "\n",
    "print(isinstance(car, Vehicle))  # Output: True\n",
    "print(isinstance(car, Car))  # Output: True\n",
    "print(isinstance(motorcycle, Vehicle))  # Output: True\n",
    "print(isinstance(motorcycle, Car))  # Output: False\n"
   ]
  },
  {
   "cell_type": "markdown",
   "id": "f0098266",
   "metadata": {},
   "source": [
    "# Accessing Base Class Methods:"
   ]
  },
  {
   "cell_type": "code",
   "execution_count": 24,
   "id": "fbd8bc2e",
   "metadata": {},
   "outputs": [
    {
     "name": "stdout",
     "output_type": "stream",
     "text": [
      "The electric car is driving silently.\n",
      "The Silver Tesla is driving.\n",
      "The car is driving smoothly.\n"
     ]
    }
   ],
   "source": [
    "class ElectricCar(Car):\n",
    "    def drive(self):\n",
    "        print(\"The electric car is driving silently.\")\n",
    "\n",
    "    def drive_with_sound(self):\n",
    "        super().drive()\n",
    "\n",
    "electric_car = ElectricCar(\"Tesla\", \"Silver\", \"Electric\")\n",
    "electric_car.drive()  # Output: \"The electric car is driving silently.\"\n",
    "electric_car.drive_with_sound()  # Output: \"The Silver Tesla is driving. The car is driving smoothly.\"\n"
   ]
  },
  {
   "cell_type": "markdown",
   "id": "646bd49a",
   "metadata": {},
   "source": [
    "# Multiple Inheritance:"
   ]
  },
  {
   "cell_type": "code",
   "execution_count": 25,
   "id": "e302fab5",
   "metadata": {},
   "outputs": [
    {
     "name": "stdout",
     "output_type": "stream",
     "text": [
      "The Red Ferrari is driving.\n",
      "The car is driving smoothly.\n",
      "The Red Ferrari has stopped.\n",
      "Refueling the Red Ferrari with Petrol.\n"
     ]
    }
   ],
   "source": [
    "class SportsCar(Car, Vehicle):\n",
    "    def __init__(self, brand, color, fuel_type):\n",
    "        Car.__init__(self, brand, color, fuel_type)\n",
    "        Vehicle.__init__(self, brand, color)\n",
    "\n",
    "sports_car = SportsCar(\"Ferrari\", \"Red\", \"Petrol\")\n",
    "sports_car.drive()  # Output: \"The Red Ferrari is driving. The car is driving smoothly.\"\n",
    "sports_car.stop()  # Output: \"The Red Ferrari has stopped.\"\n",
    "sports_car.refuel()  # Output: \"Refueling the Red Ferrari with Petrol.\"\n"
   ]
  },
  {
   "cell_type": "markdown",
   "id": "99bb1cd9",
   "metadata": {},
   "source": [
    "These are the main operations and methods associated with inheritance in Python. Inheritance allows for code reuse, modularity, and creating class hierarchies with shared behavior and specialized features."
   ]
  },
  {
   "cell_type": "markdown",
   "id": "06a13eae",
   "metadata": {},
   "source": [
    "# Polymorphism\n",
    "is a fundamental concept in Object-Oriented Programming (OOP) that allows objects of different classes to be treated as objects of a common base class. It enables you to write code that can work with objects of different types, providing flexibility and code reusability. Here are the main operations and methods associated with polymorphism in Python:"
   ]
  },
  {
   "cell_type": "markdown",
   "id": "e904fb96",
   "metadata": {},
   "source": [
    "# Polymorphic Method Invocation:"
   ]
  },
  {
   "cell_type": "code",
   "execution_count": 26,
   "id": "32381389",
   "metadata": {},
   "outputs": [
    {
     "name": "stdout",
     "output_type": "stream",
     "text": [
      "20\n",
      "28.27431\n"
     ]
    }
   ],
   "source": [
    "class Shape:\n",
    "    def area(self):\n",
    "        pass\n",
    "\n",
    "class Rectangle(Shape):\n",
    "    def __init__(self, width, height):\n",
    "        self.width = width\n",
    "        self.height = height\n",
    "\n",
    "    def area(self):\n",
    "        return self.width * self.height\n",
    "\n",
    "class Circle(Shape):\n",
    "    def __init__(self, radius):\n",
    "        self.radius = radius\n",
    "\n",
    "    def area(self):\n",
    "        return 3.14159 * self.radius**2\n",
    "\n",
    "shapes = [Rectangle(4, 5), Circle(3)]\n",
    "\n",
    "for shape in shapes:\n",
    "    print(shape.area())\n"
   ]
  },
  {
   "cell_type": "markdown",
   "id": "ce005caf",
   "metadata": {},
   "source": [
    "# Polymorphic Function Arguments:"
   ]
  },
  {
   "cell_type": "code",
   "execution_count": 27,
   "id": "4a4b0e73",
   "metadata": {},
   "outputs": [
    {
     "name": "stdout",
     "output_type": "stream",
     "text": [
      "Woof!\n",
      "Meow!\n"
     ]
    }
   ],
   "source": [
    "class Animal:\n",
    "    def speak(self):\n",
    "        pass\n",
    "\n",
    "class Dog(Animal):\n",
    "    def speak(self):\n",
    "        return \"Woof!\"\n",
    "\n",
    "class Cat(Animal):\n",
    "    def speak(self):\n",
    "        return \"Meow!\"\n",
    "\n",
    "def make_speak(animal):\n",
    "    print(animal.speak())\n",
    "\n",
    "dog = Dog()\n",
    "cat = Cat()\n",
    "\n",
    "make_speak(dog)  # Output: \"Woof!\"\n",
    "make_speak(cat)  # Output: \"Meow!\"\n"
   ]
  },
  {
   "cell_type": "markdown",
   "id": "29745c6b",
   "metadata": {},
   "source": [
    "# Polymorphic Return Types:"
   ]
  },
  {
   "cell_type": "code",
   "execution_count": 28,
   "id": "a2654caf",
   "metadata": {},
   "outputs": [
    {
     "name": "stdout",
     "output_type": "stream",
     "text": [
      "Woof!\n"
     ]
    }
   ],
   "source": [
    "class Animal:\n",
    "    def speak(self):\n",
    "        pass\n",
    "\n",
    "class Dog(Animal):\n",
    "    def speak(self):\n",
    "        return \"Woof!\"\n",
    "\n",
    "class Cat(Animal):\n",
    "    def speak(self):\n",
    "        return \"Meow!\"\n",
    "\n",
    "def create_animal(speech):\n",
    "    if speech == \"Woof!\":\n",
    "        return Dog()\n",
    "    elif speech == \"Meow!\":\n",
    "        return Cat()\n",
    "    else:\n",
    "        return None\n",
    "\n",
    "animal = create_animal(\"Woof!\")\n",
    "print(animal.speak())  # Output: \"Woof!\"\n"
   ]
  },
  {
   "cell_type": "markdown",
   "id": "4d2b0716",
   "metadata": {},
   "source": [
    "# Polymorphic Operators"
   ]
  },
  {
   "cell_type": "code",
   "execution_count": 29,
   "id": "1754cacf",
   "metadata": {},
   "outputs": [
    {
     "name": "stdout",
     "output_type": "stream",
     "text": [
      "(6, 8)\n",
      "(4, 5)\n"
     ]
    }
   ],
   "source": [
    "class Point:\n",
    "    def __init__(self, x, y):\n",
    "        self.x = x\n",
    "        self.y = y\n",
    "\n",
    "    def __add__(self, other):\n",
    "        if isinstance(other, Point):\n",
    "            return Point(self.x + other.x, self.y + other.y)\n",
    "        elif isinstance(other, int) or isinstance(other, float):\n",
    "            return Point(self.x + other, self.y + other)\n",
    "        else:\n",
    "            raise TypeError(\"Unsupported operand type.\")\n",
    "\n",
    "    def __str__(self):\n",
    "        return f\"({self.x}, {self.y})\"\n",
    "\n",
    "point1 = Point(2, 3)\n",
    "point2 = Point(4, 5)\n",
    "\n",
    "result1 = point1 + point2\n",
    "result2 = point1 + 2\n",
    "\n",
    "print(result1)  # Output: \"(6, 8)\"\n",
    "print(result2)  # Output: \"(4, 5)\"\n"
   ]
  },
  {
   "cell_type": "markdown",
   "id": "bf803935",
   "metadata": {},
   "source": [
    "These are the main operations and methods associated with polymorphism in Python. Polymorphism allows for writing flexible and reusable code by treating objects of different classes as objects of a common base class, enabling method invocations, function arguments, return types, and operator overloading to work seamlessly across different types of objects."
   ]
  },
  {
   "cell_type": "markdown",
   "id": "f32dcff9",
   "metadata": {},
   "source": [
    "<!DOCTYPE html>\n",
    "<html>\n",
    "<head>\n",
    "</head>\n",
    "<body>\n",
    "<div style=\"background-color: #32a8a6; color: black; padding: 8px;text-align: center;\">\n",
    "    <h1>My Social Profiles</h1>\n",
    "    Note: To Follow And Any Query Feel Free To Contact\n",
    "       \n",
    "- <a href=\"https://www.linkedin.com/in/m-usman-akram-b29685251/\">My LinkedIn Profile</a>\n",
    "        \n",
    "- <a href=\"https://github.com/engrusman00109\">My GitHub Account</a>\n",
    "\n",
    "- <a href=\"https://www.facebook.com/profile.php?id=100055510195015\">My FaceBook Account</a>\n",
    "    \n",
    "- <a href=\"musman00109@gmail.com\">Click here to send an email</a>\n",
    "- <a href=\"@EngrUsman00109\">My Twiter Account </a>\n",
    "    \n",
    "</div>\n",
    "      \n",
    "</body>\n",
    "</html>\n"
   ]
  }
 ],
 "metadata": {
  "kernelspec": {
   "display_name": "Python 3 (ipykernel)",
   "language": "python",
   "name": "python3"
  },
  "language_info": {
   "codemirror_mode": {
    "name": "ipython",
    "version": 3
   },
   "file_extension": ".py",
   "mimetype": "text/x-python",
   "name": "python",
   "nbconvert_exporter": "python",
   "pygments_lexer": "ipython3",
   "version": "3.9.7"
  }
 },
 "nbformat": 4,
 "nbformat_minor": 5
}
