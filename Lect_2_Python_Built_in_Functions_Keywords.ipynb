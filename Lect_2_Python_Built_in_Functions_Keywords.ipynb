{
 "cells": [
  {
   "cell_type": "markdown",
   "id": "e25c16ac",
   "metadata": {},
   "source": [
    "<div style=\"background-color: rED; color: BLACK; padding: 8px;text-align: center;\">\n",
    "    <h2 > PYTHON LECTURE 02 </h2>\n",
    "    <h2> M.Usman Akram </h2>\n",
    "    \n",
    "</div>"
   ]
  },
  {
   "cell_type": "markdown",
   "id": "1a4c890a",
   "metadata": {},
   "source": [
    "Built-in functions and keywords serve different purposes in Python:\n",
    "\n",
    "1. **Built-in Functions**: These are pre-defined functions provided by Python that can be called to perform specific operations. They are part of the Python standard library and can be accessed and used by importing the appropriate modules. Built-in functions are reusable pieces of code that perform common tasks. Examples of built-in functions include `print()`, `len()`, `type()`, and `max()`. They are designed to provide general functionalities that can be applied to different data types and objects.\n",
    "\n",
    "2. **Keywords**: Keywords, also known as reserved words, are specific words that have a predefined meaning and cannot be used as identifiers (variable names, function names, etc.). Keywords are an essential part of the Python language's syntax and structure. They are used to define the structure of the code, control flow, and represent specific concepts or actions. Examples of keywords in Python include `if`, `for`, `while`, `def`, `class`, `import`, and `return`. These keywords have special significance and are used to define control structures, define functions and classes, import modules, and more.\n",
    "\n",
    "In summary, built-in functions are pre-defined functions provided by Python for performing specific operations, while keywords are reserved words with predefined meanings that are an integral part of the Python language's syntax and structure."
   ]
  },
  {
   "cell_type": "markdown",
   "id": "de83a621",
   "metadata": {},
   "source": [
    "## abs(): Returns the absolute value of a number."
   ]
  },
  {
   "cell_type": "code",
   "execution_count": 1,
   "id": "333f7366",
   "metadata": {},
   "outputs": [
    {
     "data": {
      "text/plain": [
       "5"
      ]
     },
     "execution_count": 1,
     "metadata": {},
     "output_type": "execute_result"
    }
   ],
   "source": [
    "abs(-5)"
   ]
  },
  {
   "cell_type": "markdown",
   "id": "b142dbd6",
   "metadata": {},
   "source": [
    "## all(): Returns True if all elements in an iterable are true or if the iterable is empty."
   ]
  },
  {
   "cell_type": "code",
   "execution_count": 2,
   "id": "8fa1f3e7",
   "metadata": {},
   "outputs": [
    {
     "data": {
      "text/plain": [
       "False"
      ]
     },
     "execution_count": 2,
     "metadata": {},
     "output_type": "execute_result"
    }
   ],
   "source": [
    "all([True, True, False])"
   ]
  },
  {
   "cell_type": "markdown",
   "id": "6a478bde",
   "metadata": {},
   "source": [
    "## any(): Returns True if any element in an iterable is true. Returns False if the iterable is empty."
   ]
  },
  {
   "cell_type": "code",
   "execution_count": 3,
   "id": "35456fd0",
   "metadata": {},
   "outputs": [
    {
     "data": {
      "text/plain": [
       "True"
      ]
     },
     "execution_count": 3,
     "metadata": {},
     "output_type": "execute_result"
    }
   ],
   "source": [
    "any([True, True, False])"
   ]
  },
  {
   "cell_type": "markdown",
   "id": "84a760b5",
   "metadata": {},
   "source": [
    "## ascii(): Returns a string containing a printable representation of an object"
   ]
  },
  {
   "cell_type": "code",
   "execution_count": 4,
   "id": "326c23b5",
   "metadata": {},
   "outputs": [
    {
     "data": {
      "text/plain": [
       "\"'\\\\xe9'\""
      ]
     },
     "execution_count": 4,
     "metadata": {},
     "output_type": "execute_result"
    }
   ],
   "source": [
    "ascii('é')"
   ]
  },
  {
   "cell_type": "markdown",
   "id": "470313b2",
   "metadata": {},
   "source": [
    "## bin(): Converts an integer to a binary string."
   ]
  },
  {
   "cell_type": "code",
   "execution_count": 5,
   "id": "fc10292a",
   "metadata": {},
   "outputs": [
    {
     "data": {
      "text/plain": [
       "'0b1010'"
      ]
     },
     "execution_count": 5,
     "metadata": {},
     "output_type": "execute_result"
    }
   ],
   "source": [
    "bin(10)"
   ]
  },
  {
   "cell_type": "markdown",
   "id": "685a9c2e",
   "metadata": {},
   "source": [
    "## bool(): Converts a value to a Boolean (True or False)."
   ]
  },
  {
   "cell_type": "code",
   "execution_count": 6,
   "id": "14c91268",
   "metadata": {},
   "outputs": [
    {
     "data": {
      "text/plain": [
       "False"
      ]
     },
     "execution_count": 6,
     "metadata": {},
     "output_type": "execute_result"
    }
   ],
   "source": [
    "bool(0)"
   ]
  },
  {
   "cell_type": "markdown",
   "id": "7916c3e3",
   "metadata": {},
   "source": [
    "## bytearray(): Returns a bytearray object."
   ]
  },
  {
   "cell_type": "code",
   "execution_count": 7,
   "id": "f084976a",
   "metadata": {},
   "outputs": [
    {
     "data": {
      "text/plain": [
       "bytearray(b'\\x00\\x00\\x00\\x00\\x00')"
      ]
     },
     "execution_count": 7,
     "metadata": {},
     "output_type": "execute_result"
    }
   ],
   "source": [
    "bytearray(5)"
   ]
  },
  {
   "cell_type": "markdown",
   "id": "833fbdca",
   "metadata": {},
   "source": [
    "## bytes(): Returns a bytes object."
   ]
  },
  {
   "cell_type": "code",
   "execution_count": 8,
   "id": "3a53f78e",
   "metadata": {},
   "outputs": [
    {
     "data": {
      "text/plain": [
       "b'\\x00\\x00\\x00\\x00\\x00'"
      ]
     },
     "execution_count": 8,
     "metadata": {},
     "output_type": "execute_result"
    }
   ],
   "source": [
    "bytes(5)"
   ]
  },
  {
   "cell_type": "markdown",
   "id": "45e83f5f",
   "metadata": {},
   "source": [
    "## callable():Checks if an object is callable (can be called as a function)."
   ]
  },
  {
   "cell_type": "code",
   "execution_count": 9,
   "id": "89e2fb06",
   "metadata": {},
   "outputs": [
    {
     "data": {
      "text/plain": [
       "True"
      ]
     },
     "execution_count": 9,
     "metadata": {},
     "output_type": "execute_result"
    }
   ],
   "source": [
    "callable(print)"
   ]
  },
  {
   "cell_type": "markdown",
   "id": "05f36b8c",
   "metadata": {},
   "source": [
    "## chr(): Returns a string representing a character with the specified Unicode code point."
   ]
  },
  {
   "cell_type": "code",
   "execution_count": 10,
   "id": "e494d9ca",
   "metadata": {},
   "outputs": [
    {
     "data": {
      "text/plain": [
       "'A'"
      ]
     },
     "execution_count": 10,
     "metadata": {},
     "output_type": "execute_result"
    }
   ],
   "source": [
    "chr(65)"
   ]
  },
  {
   "cell_type": "markdown",
   "id": "05aa7867",
   "metadata": {},
   "source": [
    "## classmethod(): Converts a method into a class method."
   ]
  },
  {
   "cell_type": "code",
   "execution_count": 11,
   "id": "0f94cf79",
   "metadata": {},
   "outputs": [
    {
     "data": {
      "text/plain": [
       "<classmethod at 0x2a38c599580>"
      ]
     },
     "execution_count": 11,
     "metadata": {},
     "output_type": "execute_result"
    }
   ],
   "source": [
    "classmethod(lambda x: x)"
   ]
  },
  {
   "cell_type": "markdown",
   "id": "beae6d3b",
   "metadata": {},
   "source": [
    "## compile(): Returns a code object from a source string."
   ]
  },
  {
   "cell_type": "code",
   "execution_count": 12,
   "id": "be1087ee",
   "metadata": {},
   "outputs": [
    {
     "data": {
      "text/plain": [
       "<code object <module> at 0x000002A38BD0D500, file \"\", line 1>"
      ]
     },
     "execution_count": 12,
     "metadata": {},
     "output_type": "execute_result"
    }
   ],
   "source": [
    "compile('print(\"Hello, world!\")', '', 'exec')"
   ]
  },
  {
   "cell_type": "markdown",
   "id": "5f9a1ace",
   "metadata": {},
   "source": [
    "## complex(): Creates a complex number."
   ]
  },
  {
   "cell_type": "code",
   "execution_count": 13,
   "id": "c22107b2",
   "metadata": {},
   "outputs": [
    {
     "data": {
      "text/plain": [
       "(2+3j)"
      ]
     },
     "execution_count": 13,
     "metadata": {},
     "output_type": "execute_result"
    }
   ],
   "source": [
    "complex(2, 3)"
   ]
  },
  {
   "cell_type": "markdown",
   "id": "6925ae1c",
   "metadata": {},
   "source": [
    "## delattr(): Deletes an attribute from an object."
   ]
  },
  {
   "cell_type": "code",
   "execution_count": 14,
   "id": "2e09e419",
   "metadata": {},
   "outputs": [],
   "source": [
    "#delattr(object, 'attribute_name')"
   ]
  },
  {
   "cell_type": "markdown",
   "id": "1384c3b9",
   "metadata": {},
   "source": [
    "## dict(): Creates a new dictionary."
   ]
  },
  {
   "cell_type": "code",
   "execution_count": 15,
   "id": "a74ac8b4",
   "metadata": {},
   "outputs": [
    {
     "data": {
      "text/plain": [
       "{'name': 'John', 'age': 30}"
      ]
     },
     "execution_count": 15,
     "metadata": {},
     "output_type": "execute_result"
    }
   ],
   "source": [
    "dict(name='John', age=30)"
   ]
  },
  {
   "cell_type": "markdown",
   "id": "cfe0d024",
   "metadata": {},
   "source": [
    "## dir(): Returns a list of names in the current local scope or a specified object's attributes."
   ]
  },
  {
   "cell_type": "code",
   "execution_count": 16,
   "id": "aaab2373",
   "metadata": {},
   "outputs": [
    {
     "data": {
      "text/plain": [
       "['In',\n",
       " 'Out',\n",
       " '_',\n",
       " '_1',\n",
       " '_10',\n",
       " '_11',\n",
       " '_12',\n",
       " '_13',\n",
       " '_15',\n",
       " '_2',\n",
       " '_3',\n",
       " '_4',\n",
       " '_5',\n",
       " '_6',\n",
       " '_7',\n",
       " '_8',\n",
       " '_9',\n",
       " '__',\n",
       " '___',\n",
       " '__builtin__',\n",
       " '__builtins__',\n",
       " '__doc__',\n",
       " '__loader__',\n",
       " '__name__',\n",
       " '__package__',\n",
       " '__spec__',\n",
       " '_dh',\n",
       " '_i',\n",
       " '_i1',\n",
       " '_i10',\n",
       " '_i11',\n",
       " '_i12',\n",
       " '_i13',\n",
       " '_i14',\n",
       " '_i15',\n",
       " '_i16',\n",
       " '_i2',\n",
       " '_i3',\n",
       " '_i4',\n",
       " '_i5',\n",
       " '_i6',\n",
       " '_i7',\n",
       " '_i8',\n",
       " '_i9',\n",
       " '_ih',\n",
       " '_ii',\n",
       " '_iii',\n",
       " '_oh',\n",
       " 'exit',\n",
       " 'get_ipython',\n",
       " 'quit']"
      ]
     },
     "execution_count": 16,
     "metadata": {},
     "output_type": "execute_result"
    }
   ],
   "source": [
    "dir()"
   ]
  },
  {
   "cell_type": "code",
   "execution_count": 17,
   "id": "3a31cf58",
   "metadata": {},
   "outputs": [
    {
     "data": {
      "text/plain": [
       "['__add__',\n",
       " '__class__',\n",
       " '__contains__',\n",
       " '__delattr__',\n",
       " '__dir__',\n",
       " '__doc__',\n",
       " '__eq__',\n",
       " '__format__',\n",
       " '__ge__',\n",
       " '__getattribute__',\n",
       " '__getitem__',\n",
       " '__getnewargs__',\n",
       " '__gt__',\n",
       " '__hash__',\n",
       " '__init__',\n",
       " '__init_subclass__',\n",
       " '__iter__',\n",
       " '__le__',\n",
       " '__len__',\n",
       " '__lt__',\n",
       " '__mod__',\n",
       " '__mul__',\n",
       " '__ne__',\n",
       " '__new__',\n",
       " '__reduce__',\n",
       " '__reduce_ex__',\n",
       " '__repr__',\n",
       " '__rmod__',\n",
       " '__rmul__',\n",
       " '__setattr__',\n",
       " '__sizeof__',\n",
       " '__str__',\n",
       " '__subclasshook__',\n",
       " 'capitalize',\n",
       " 'casefold',\n",
       " 'center',\n",
       " 'count',\n",
       " 'encode',\n",
       " 'endswith',\n",
       " 'expandtabs',\n",
       " 'find',\n",
       " 'format',\n",
       " 'format_map',\n",
       " 'index',\n",
       " 'isalnum',\n",
       " 'isalpha',\n",
       " 'isascii',\n",
       " 'isdecimal',\n",
       " 'isdigit',\n",
       " 'isidentifier',\n",
       " 'islower',\n",
       " 'isnumeric',\n",
       " 'isprintable',\n",
       " 'isspace',\n",
       " 'istitle',\n",
       " 'isupper',\n",
       " 'join',\n",
       " 'ljust',\n",
       " 'lower',\n",
       " 'lstrip',\n",
       " 'maketrans',\n",
       " 'partition',\n",
       " 'removeprefix',\n",
       " 'removesuffix',\n",
       " 'replace',\n",
       " 'rfind',\n",
       " 'rindex',\n",
       " 'rjust',\n",
       " 'rpartition',\n",
       " 'rsplit',\n",
       " 'rstrip',\n",
       " 'split',\n",
       " 'splitlines',\n",
       " 'startswith',\n",
       " 'strip',\n",
       " 'swapcase',\n",
       " 'title',\n",
       " 'translate',\n",
       " 'upper',\n",
       " 'zfill']"
      ]
     },
     "execution_count": 17,
     "metadata": {},
     "output_type": "execute_result"
    }
   ],
   "source": [
    "dir('exit')"
   ]
  },
  {
   "cell_type": "markdown",
   "id": "474cc2fb",
   "metadata": {},
   "source": [
    "## divmod(): Returns a tuple of the quotient and remainder of the division of two numbers."
   ]
  },
  {
   "cell_type": "code",
   "execution_count": 18,
   "id": "5a548fb4",
   "metadata": {},
   "outputs": [
    {
     "data": {
      "text/plain": [
       "(3, 1)"
      ]
     },
     "execution_count": 18,
     "metadata": {},
     "output_type": "execute_result"
    }
   ],
   "source": [
    "divmod(10, 3)"
   ]
  },
  {
   "cell_type": "markdown",
   "id": "3a0c8cab",
   "metadata": {},
   "source": [
    "## enumerate(): Returns an iterator of tuples containing indices and values from an iterable."
   ]
  },
  {
   "cell_type": "code",
   "execution_count": 19,
   "id": "c0d6e249",
   "metadata": {},
   "outputs": [
    {
     "data": {
      "text/plain": [
       "<enumerate at 0x2a38c5780c0>"
      ]
     },
     "execution_count": 19,
     "metadata": {},
     "output_type": "execute_result"
    }
   ],
   "source": [
    "enumerate(['a', 'b', 'c'])"
   ]
  },
  {
   "cell_type": "markdown",
   "id": "9cea1cef",
   "metadata": {},
   "source": [
    "## eval(): Evaluates a Python expression."
   ]
  },
  {
   "cell_type": "code",
   "execution_count": 20,
   "id": "cdb1cc00",
   "metadata": {},
   "outputs": [
    {
     "data": {
      "text/plain": [
       "5"
      ]
     },
     "execution_count": 20,
     "metadata": {},
     "output_type": "execute_result"
    }
   ],
   "source": [
    "eval('2 + 3')"
   ]
  },
  {
   "cell_type": "markdown",
   "id": "fa4cf2e2",
   "metadata": {},
   "source": [
    "## exec(): Executes a Python code or statement."
   ]
  },
  {
   "cell_type": "code",
   "execution_count": 21,
   "id": "5cafd249",
   "metadata": {},
   "outputs": [
    {
     "name": "stdout",
     "output_type": "stream",
     "text": [
      "Hello, world!\n"
     ]
    }
   ],
   "source": [
    "exec('print(\"Hello, world!\")')"
   ]
  },
  {
   "cell_type": "markdown",
   "id": "10f4593b",
   "metadata": {},
   "source": [
    "## filter(): Filters an iterable based on a function."
   ]
  },
  {
   "cell_type": "code",
   "execution_count": 22,
   "id": "c7a95091",
   "metadata": {},
   "outputs": [
    {
     "data": {
      "text/plain": [
       "<filter at 0x2a38c59a040>"
      ]
     },
     "execution_count": 22,
     "metadata": {},
     "output_type": "execute_result"
    }
   ],
   "source": [
    "filter(lambda x: x > 5, [1, 6, 3, 8, 2])"
   ]
  },
  {
   "cell_type": "markdown",
   "id": "8a2f9eb9",
   "metadata": {},
   "source": [
    "## float(): Converts a value to a floating-point number."
   ]
  },
  {
   "cell_type": "code",
   "execution_count": 23,
   "id": "60e8dc82",
   "metadata": {},
   "outputs": [
    {
     "data": {
      "text/plain": [
       "3.14"
      ]
     },
     "execution_count": 23,
     "metadata": {},
     "output_type": "execute_result"
    }
   ],
   "source": [
    "float('3.14')"
   ]
  },
  {
   "cell_type": "markdown",
   "id": "4bd518ee",
   "metadata": {},
   "source": [
    "## format(): Formats a value based on a specified format."
   ]
  },
  {
   "cell_type": "code",
   "execution_count": 24,
   "id": "ea7e5afe",
   "metadata": {},
   "outputs": [
    {
     "data": {
      "text/plain": [
       "'3.14'"
      ]
     },
     "execution_count": 24,
     "metadata": {},
     "output_type": "execute_result"
    }
   ],
   "source": [
    "format(3.14159, '.2f')"
   ]
  },
  {
   "cell_type": "markdown",
   "id": "c4512d52",
   "metadata": {},
   "source": [
    "## frozenset(): Returns an immutable frozenset object."
   ]
  },
  {
   "cell_type": "code",
   "execution_count": 25,
   "id": "c40e7594",
   "metadata": {},
   "outputs": [
    {
     "data": {
      "text/plain": [
       "frozenset({1, 2, 3})"
      ]
     },
     "execution_count": 25,
     "metadata": {},
     "output_type": "execute_result"
    }
   ],
   "source": [
    "frozenset([1, 2, 3])"
   ]
  },
  {
   "cell_type": "markdown",
   "id": "225b485c",
   "metadata": {},
   "source": [
    "## getattr(): Returns the value of an attribute from an object."
   ]
  },
  {
   "cell_type": "code",
   "execution_count": 26,
   "id": "b130994d",
   "metadata": {},
   "outputs": [],
   "source": [
    "#getattr(object, 'attribute')"
   ]
  },
  {
   "cell_type": "markdown",
   "id": "8a64c5b9",
   "metadata": {},
   "source": [
    "## globals(): Returns a dictionary representing the current global symbol table."
   ]
  },
  {
   "cell_type": "code",
   "execution_count": 27,
   "id": "0aa5b603",
   "metadata": {},
   "outputs": [
    {
     "data": {
      "text/plain": [
       "{'__name__': '__main__',\n",
       " '__doc__': 'Automatically created module for IPython interactive environment',\n",
       " '__package__': None,\n",
       " '__loader__': None,\n",
       " '__spec__': None,\n",
       " '__builtin__': <module 'builtins' (built-in)>,\n",
       " '__builtins__': <module 'builtins' (built-in)>,\n",
       " '_ih': ['',\n",
       "  'abs(-5)',\n",
       "  'all([True, True, False])',\n",
       "  'any([True, True, False])',\n",
       "  \"ascii('é')\",\n",
       "  'bin(10)',\n",
       "  'bool(0)',\n",
       "  'bytearray(5)',\n",
       "  'bytes(5)',\n",
       "  'callable(print)',\n",
       "  'chr(65)',\n",
       "  'classmethod(lambda x: x)',\n",
       "  'compile(\\'print(\"Hello, world!\")\\', \\'\\', \\'exec\\')',\n",
       "  'complex(2, 3)',\n",
       "  \"#delattr(object, 'attribute_name')\",\n",
       "  \"dict(name='John', age=30)\",\n",
       "  'dir()',\n",
       "  \"dir('exit')\",\n",
       "  'divmod(10, 3)',\n",
       "  \"enumerate(['a', 'b', 'c'])\",\n",
       "  \"eval('2 + 3')\",\n",
       "  'exec(\\'print(\"Hello, world!\")\\')',\n",
       "  'filter(lambda x: x > 5, [1, 6, 3, 8, 2])',\n",
       "  \"float('3.14')\",\n",
       "  \"format(3.14159, '.2f')\",\n",
       "  'frozenset([1, 2, 3])',\n",
       "  \"#getattr(object, 'attribute')\",\n",
       "  'globals()'],\n",
       " '_oh': {1: 5,\n",
       "  2: False,\n",
       "  3: True,\n",
       "  4: \"'\\\\xe9'\",\n",
       "  5: '0b1010',\n",
       "  6: False,\n",
       "  7: bytearray(b'\\x00\\x00\\x00\\x00\\x00'),\n",
       "  8: b'\\x00\\x00\\x00\\x00\\x00',\n",
       "  9: True,\n",
       "  10: 'A',\n",
       "  11: <classmethod at 0x2a38c599580>,\n",
       "  12: <code object <module> at 0x000002A38BD0D500, file \"\", line 1>,\n",
       "  13: (2+3j),\n",
       "  15: {'name': 'John', 'age': 30},\n",
       "  16: ['In',\n",
       "   'Out',\n",
       "   '_',\n",
       "   '_1',\n",
       "   '_10',\n",
       "   '_11',\n",
       "   '_12',\n",
       "   '_13',\n",
       "   '_15',\n",
       "   '_2',\n",
       "   '_3',\n",
       "   '_4',\n",
       "   '_5',\n",
       "   '_6',\n",
       "   '_7',\n",
       "   '_8',\n",
       "   '_9',\n",
       "   '__',\n",
       "   '___',\n",
       "   '__builtin__',\n",
       "   '__builtins__',\n",
       "   '__doc__',\n",
       "   '__loader__',\n",
       "   '__name__',\n",
       "   '__package__',\n",
       "   '__spec__',\n",
       "   '_dh',\n",
       "   '_i',\n",
       "   '_i1',\n",
       "   '_i10',\n",
       "   '_i11',\n",
       "   '_i12',\n",
       "   '_i13',\n",
       "   '_i14',\n",
       "   '_i15',\n",
       "   '_i16',\n",
       "   '_i2',\n",
       "   '_i3',\n",
       "   '_i4',\n",
       "   '_i5',\n",
       "   '_i6',\n",
       "   '_i7',\n",
       "   '_i8',\n",
       "   '_i9',\n",
       "   '_ih',\n",
       "   '_ii',\n",
       "   '_iii',\n",
       "   '_oh',\n",
       "   'exit',\n",
       "   'get_ipython',\n",
       "   'quit'],\n",
       "  17: ['__add__',\n",
       "   '__class__',\n",
       "   '__contains__',\n",
       "   '__delattr__',\n",
       "   '__dir__',\n",
       "   '__doc__',\n",
       "   '__eq__',\n",
       "   '__format__',\n",
       "   '__ge__',\n",
       "   '__getattribute__',\n",
       "   '__getitem__',\n",
       "   '__getnewargs__',\n",
       "   '__gt__',\n",
       "   '__hash__',\n",
       "   '__init__',\n",
       "   '__init_subclass__',\n",
       "   '__iter__',\n",
       "   '__le__',\n",
       "   '__len__',\n",
       "   '__lt__',\n",
       "   '__mod__',\n",
       "   '__mul__',\n",
       "   '__ne__',\n",
       "   '__new__',\n",
       "   '__reduce__',\n",
       "   '__reduce_ex__',\n",
       "   '__repr__',\n",
       "   '__rmod__',\n",
       "   '__rmul__',\n",
       "   '__setattr__',\n",
       "   '__sizeof__',\n",
       "   '__str__',\n",
       "   '__subclasshook__',\n",
       "   'capitalize',\n",
       "   'casefold',\n",
       "   'center',\n",
       "   'count',\n",
       "   'encode',\n",
       "   'endswith',\n",
       "   'expandtabs',\n",
       "   'find',\n",
       "   'format',\n",
       "   'format_map',\n",
       "   'index',\n",
       "   'isalnum',\n",
       "   'isalpha',\n",
       "   'isascii',\n",
       "   'isdecimal',\n",
       "   'isdigit',\n",
       "   'isidentifier',\n",
       "   'islower',\n",
       "   'isnumeric',\n",
       "   'isprintable',\n",
       "   'isspace',\n",
       "   'istitle',\n",
       "   'isupper',\n",
       "   'join',\n",
       "   'ljust',\n",
       "   'lower',\n",
       "   'lstrip',\n",
       "   'maketrans',\n",
       "   'partition',\n",
       "   'removeprefix',\n",
       "   'removesuffix',\n",
       "   'replace',\n",
       "   'rfind',\n",
       "   'rindex',\n",
       "   'rjust',\n",
       "   'rpartition',\n",
       "   'rsplit',\n",
       "   'rstrip',\n",
       "   'split',\n",
       "   'splitlines',\n",
       "   'startswith',\n",
       "   'strip',\n",
       "   'swapcase',\n",
       "   'title',\n",
       "   'translate',\n",
       "   'upper',\n",
       "   'zfill'],\n",
       "  18: (3, 1),\n",
       "  19: <enumerate at 0x2a38c5780c0>,\n",
       "  20: 5,\n",
       "  22: <filter at 0x2a38c59a040>,\n",
       "  23: 3.14,\n",
       "  24: '3.14',\n",
       "  25: frozenset({1, 2, 3})},\n",
       " '_dh': ['C:\\\\Users\\\\SAEED COMPUTERS\\\\Desktop\\\\Git\\\\python Lectures'],\n",
       " 'In': ['',\n",
       "  'abs(-5)',\n",
       "  'all([True, True, False])',\n",
       "  'any([True, True, False])',\n",
       "  \"ascii('é')\",\n",
       "  'bin(10)',\n",
       "  'bool(0)',\n",
       "  'bytearray(5)',\n",
       "  'bytes(5)',\n",
       "  'callable(print)',\n",
       "  'chr(65)',\n",
       "  'classmethod(lambda x: x)',\n",
       "  'compile(\\'print(\"Hello, world!\")\\', \\'\\', \\'exec\\')',\n",
       "  'complex(2, 3)',\n",
       "  \"#delattr(object, 'attribute_name')\",\n",
       "  \"dict(name='John', age=30)\",\n",
       "  'dir()',\n",
       "  \"dir('exit')\",\n",
       "  'divmod(10, 3)',\n",
       "  \"enumerate(['a', 'b', 'c'])\",\n",
       "  \"eval('2 + 3')\",\n",
       "  'exec(\\'print(\"Hello, world!\")\\')',\n",
       "  'filter(lambda x: x > 5, [1, 6, 3, 8, 2])',\n",
       "  \"float('3.14')\",\n",
       "  \"format(3.14159, '.2f')\",\n",
       "  'frozenset([1, 2, 3])',\n",
       "  \"#getattr(object, 'attribute')\",\n",
       "  'globals()'],\n",
       " 'Out': {1: 5,\n",
       "  2: False,\n",
       "  3: True,\n",
       "  4: \"'\\\\xe9'\",\n",
       "  5: '0b1010',\n",
       "  6: False,\n",
       "  7: bytearray(b'\\x00\\x00\\x00\\x00\\x00'),\n",
       "  8: b'\\x00\\x00\\x00\\x00\\x00',\n",
       "  9: True,\n",
       "  10: 'A',\n",
       "  11: <classmethod at 0x2a38c599580>,\n",
       "  12: <code object <module> at 0x000002A38BD0D500, file \"\", line 1>,\n",
       "  13: (2+3j),\n",
       "  15: {'name': 'John', 'age': 30},\n",
       "  16: ['In',\n",
       "   'Out',\n",
       "   '_',\n",
       "   '_1',\n",
       "   '_10',\n",
       "   '_11',\n",
       "   '_12',\n",
       "   '_13',\n",
       "   '_15',\n",
       "   '_2',\n",
       "   '_3',\n",
       "   '_4',\n",
       "   '_5',\n",
       "   '_6',\n",
       "   '_7',\n",
       "   '_8',\n",
       "   '_9',\n",
       "   '__',\n",
       "   '___',\n",
       "   '__builtin__',\n",
       "   '__builtins__',\n",
       "   '__doc__',\n",
       "   '__loader__',\n",
       "   '__name__',\n",
       "   '__package__',\n",
       "   '__spec__',\n",
       "   '_dh',\n",
       "   '_i',\n",
       "   '_i1',\n",
       "   '_i10',\n",
       "   '_i11',\n",
       "   '_i12',\n",
       "   '_i13',\n",
       "   '_i14',\n",
       "   '_i15',\n",
       "   '_i16',\n",
       "   '_i2',\n",
       "   '_i3',\n",
       "   '_i4',\n",
       "   '_i5',\n",
       "   '_i6',\n",
       "   '_i7',\n",
       "   '_i8',\n",
       "   '_i9',\n",
       "   '_ih',\n",
       "   '_ii',\n",
       "   '_iii',\n",
       "   '_oh',\n",
       "   'exit',\n",
       "   'get_ipython',\n",
       "   'quit'],\n",
       "  17: ['__add__',\n",
       "   '__class__',\n",
       "   '__contains__',\n",
       "   '__delattr__',\n",
       "   '__dir__',\n",
       "   '__doc__',\n",
       "   '__eq__',\n",
       "   '__format__',\n",
       "   '__ge__',\n",
       "   '__getattribute__',\n",
       "   '__getitem__',\n",
       "   '__getnewargs__',\n",
       "   '__gt__',\n",
       "   '__hash__',\n",
       "   '__init__',\n",
       "   '__init_subclass__',\n",
       "   '__iter__',\n",
       "   '__le__',\n",
       "   '__len__',\n",
       "   '__lt__',\n",
       "   '__mod__',\n",
       "   '__mul__',\n",
       "   '__ne__',\n",
       "   '__new__',\n",
       "   '__reduce__',\n",
       "   '__reduce_ex__',\n",
       "   '__repr__',\n",
       "   '__rmod__',\n",
       "   '__rmul__',\n",
       "   '__setattr__',\n",
       "   '__sizeof__',\n",
       "   '__str__',\n",
       "   '__subclasshook__',\n",
       "   'capitalize',\n",
       "   'casefold',\n",
       "   'center',\n",
       "   'count',\n",
       "   'encode',\n",
       "   'endswith',\n",
       "   'expandtabs',\n",
       "   'find',\n",
       "   'format',\n",
       "   'format_map',\n",
       "   'index',\n",
       "   'isalnum',\n",
       "   'isalpha',\n",
       "   'isascii',\n",
       "   'isdecimal',\n",
       "   'isdigit',\n",
       "   'isidentifier',\n",
       "   'islower',\n",
       "   'isnumeric',\n",
       "   'isprintable',\n",
       "   'isspace',\n",
       "   'istitle',\n",
       "   'isupper',\n",
       "   'join',\n",
       "   'ljust',\n",
       "   'lower',\n",
       "   'lstrip',\n",
       "   'maketrans',\n",
       "   'partition',\n",
       "   'removeprefix',\n",
       "   'removesuffix',\n",
       "   'replace',\n",
       "   'rfind',\n",
       "   'rindex',\n",
       "   'rjust',\n",
       "   'rpartition',\n",
       "   'rsplit',\n",
       "   'rstrip',\n",
       "   'split',\n",
       "   'splitlines',\n",
       "   'startswith',\n",
       "   'strip',\n",
       "   'swapcase',\n",
       "   'title',\n",
       "   'translate',\n",
       "   'upper',\n",
       "   'zfill'],\n",
       "  18: (3, 1),\n",
       "  19: <enumerate at 0x2a38c5780c0>,\n",
       "  20: 5,\n",
       "  22: <filter at 0x2a38c59a040>,\n",
       "  23: 3.14,\n",
       "  24: '3.14',\n",
       "  25: frozenset({1, 2, 3})},\n",
       " 'get_ipython': <bound method InteractiveShell.get_ipython of <ipykernel.zmqshell.ZMQInteractiveShell object at 0x000002A38C4A0D00>>,\n",
       " 'exit': <IPython.core.autocall.ZMQExitAutocall at 0x2a38c517250>,\n",
       " 'quit': <IPython.core.autocall.ZMQExitAutocall at 0x2a38c517250>,\n",
       " '_': frozenset({1, 2, 3}),\n",
       " '__': '3.14',\n",
       " '___': 3.14,\n",
       " '_i': \"#getattr(object, 'attribute')\",\n",
       " '_ii': 'frozenset([1, 2, 3])',\n",
       " '_iii': \"format(3.14159, '.2f')\",\n",
       " '_i1': 'abs(-5)',\n",
       " '_1': 5,\n",
       " '_i2': 'all([True, True, False])',\n",
       " '_2': False,\n",
       " '_i3': 'any([True, True, False])',\n",
       " '_3': True,\n",
       " '_i4': \"ascii('é')\",\n",
       " '_4': \"'\\\\xe9'\",\n",
       " '_i5': 'bin(10)',\n",
       " '_5': '0b1010',\n",
       " '_i6': 'bool(0)',\n",
       " '_6': False,\n",
       " '_i7': 'bytearray(5)',\n",
       " '_7': bytearray(b'\\x00\\x00\\x00\\x00\\x00'),\n",
       " '_i8': 'bytes(5)',\n",
       " '_8': b'\\x00\\x00\\x00\\x00\\x00',\n",
       " '_i9': 'callable(print)',\n",
       " '_9': True,\n",
       " '_i10': 'chr(65)',\n",
       " '_10': 'A',\n",
       " '_i11': 'classmethod(lambda x: x)',\n",
       " '_11': <classmethod at 0x2a38c599580>,\n",
       " '_i12': 'compile(\\'print(\"Hello, world!\")\\', \\'\\', \\'exec\\')',\n",
       " '_12': <code object <module> at 0x000002A38BD0D500, file \"\", line 1>,\n",
       " '_i13': 'complex(2, 3)',\n",
       " '_13': (2+3j),\n",
       " '_i14': \"#delattr(object, 'attribute_name')\",\n",
       " '_i15': \"dict(name='John', age=30)\",\n",
       " '_15': {'name': 'John', 'age': 30},\n",
       " '_i16': 'dir()',\n",
       " '_16': ['In',\n",
       "  'Out',\n",
       "  '_',\n",
       "  '_1',\n",
       "  '_10',\n",
       "  '_11',\n",
       "  '_12',\n",
       "  '_13',\n",
       "  '_15',\n",
       "  '_2',\n",
       "  '_3',\n",
       "  '_4',\n",
       "  '_5',\n",
       "  '_6',\n",
       "  '_7',\n",
       "  '_8',\n",
       "  '_9',\n",
       "  '__',\n",
       "  '___',\n",
       "  '__builtin__',\n",
       "  '__builtins__',\n",
       "  '__doc__',\n",
       "  '__loader__',\n",
       "  '__name__',\n",
       "  '__package__',\n",
       "  '__spec__',\n",
       "  '_dh',\n",
       "  '_i',\n",
       "  '_i1',\n",
       "  '_i10',\n",
       "  '_i11',\n",
       "  '_i12',\n",
       "  '_i13',\n",
       "  '_i14',\n",
       "  '_i15',\n",
       "  '_i16',\n",
       "  '_i2',\n",
       "  '_i3',\n",
       "  '_i4',\n",
       "  '_i5',\n",
       "  '_i6',\n",
       "  '_i7',\n",
       "  '_i8',\n",
       "  '_i9',\n",
       "  '_ih',\n",
       "  '_ii',\n",
       "  '_iii',\n",
       "  '_oh',\n",
       "  'exit',\n",
       "  'get_ipython',\n",
       "  'quit'],\n",
       " '_i17': \"dir('exit')\",\n",
       " '_17': ['__add__',\n",
       "  '__class__',\n",
       "  '__contains__',\n",
       "  '__delattr__',\n",
       "  '__dir__',\n",
       "  '__doc__',\n",
       "  '__eq__',\n",
       "  '__format__',\n",
       "  '__ge__',\n",
       "  '__getattribute__',\n",
       "  '__getitem__',\n",
       "  '__getnewargs__',\n",
       "  '__gt__',\n",
       "  '__hash__',\n",
       "  '__init__',\n",
       "  '__init_subclass__',\n",
       "  '__iter__',\n",
       "  '__le__',\n",
       "  '__len__',\n",
       "  '__lt__',\n",
       "  '__mod__',\n",
       "  '__mul__',\n",
       "  '__ne__',\n",
       "  '__new__',\n",
       "  '__reduce__',\n",
       "  '__reduce_ex__',\n",
       "  '__repr__',\n",
       "  '__rmod__',\n",
       "  '__rmul__',\n",
       "  '__setattr__',\n",
       "  '__sizeof__',\n",
       "  '__str__',\n",
       "  '__subclasshook__',\n",
       "  'capitalize',\n",
       "  'casefold',\n",
       "  'center',\n",
       "  'count',\n",
       "  'encode',\n",
       "  'endswith',\n",
       "  'expandtabs',\n",
       "  'find',\n",
       "  'format',\n",
       "  'format_map',\n",
       "  'index',\n",
       "  'isalnum',\n",
       "  'isalpha',\n",
       "  'isascii',\n",
       "  'isdecimal',\n",
       "  'isdigit',\n",
       "  'isidentifier',\n",
       "  'islower',\n",
       "  'isnumeric',\n",
       "  'isprintable',\n",
       "  'isspace',\n",
       "  'istitle',\n",
       "  'isupper',\n",
       "  'join',\n",
       "  'ljust',\n",
       "  'lower',\n",
       "  'lstrip',\n",
       "  'maketrans',\n",
       "  'partition',\n",
       "  'removeprefix',\n",
       "  'removesuffix',\n",
       "  'replace',\n",
       "  'rfind',\n",
       "  'rindex',\n",
       "  'rjust',\n",
       "  'rpartition',\n",
       "  'rsplit',\n",
       "  'rstrip',\n",
       "  'split',\n",
       "  'splitlines',\n",
       "  'startswith',\n",
       "  'strip',\n",
       "  'swapcase',\n",
       "  'title',\n",
       "  'translate',\n",
       "  'upper',\n",
       "  'zfill'],\n",
       " '_i18': 'divmod(10, 3)',\n",
       " '_18': (3, 1),\n",
       " '_i19': \"enumerate(['a', 'b', 'c'])\",\n",
       " '_19': <enumerate at 0x2a38c5780c0>,\n",
       " '_i20': \"eval('2 + 3')\",\n",
       " '_20': 5,\n",
       " '_i21': 'exec(\\'print(\"Hello, world!\")\\')',\n",
       " '_i22': 'filter(lambda x: x > 5, [1, 6, 3, 8, 2])',\n",
       " '_22': <filter at 0x2a38c59a040>,\n",
       " '_i23': \"float('3.14')\",\n",
       " '_23': 3.14,\n",
       " '_i24': \"format(3.14159, '.2f')\",\n",
       " '_24': '3.14',\n",
       " '_i25': 'frozenset([1, 2, 3])',\n",
       " '_25': frozenset({1, 2, 3}),\n",
       " '_i26': \"#getattr(object, 'attribute')\",\n",
       " '_i27': 'globals()'}"
      ]
     },
     "execution_count": 27,
     "metadata": {},
     "output_type": "execute_result"
    }
   ],
   "source": [
    "globals()"
   ]
  },
  {
   "cell_type": "markdown",
   "id": "a5b1004d",
   "metadata": {},
   "source": [
    "## hasattr(): Checks if an object has a specific attribute.(Output: True or False)"
   ]
  },
  {
   "cell_type": "code",
   "execution_count": 28,
   "id": "66b056ae",
   "metadata": {},
   "outputs": [],
   "source": [
    "# hasattr(object, 'attribute')"
   ]
  },
  {
   "cell_type": "markdown",
   "id": "1a165a76",
   "metadata": {},
   "source": [
    "## hash(): Returns the hash value of an object"
   ]
  },
  {
   "cell_type": "code",
   "execution_count": 29,
   "id": "46f4f104",
   "metadata": {},
   "outputs": [
    {
     "data": {
      "text/plain": [
       "-3188703254949780690"
      ]
     },
     "execution_count": 29,
     "metadata": {},
     "output_type": "execute_result"
    }
   ],
   "source": [
    "hash('Hello')"
   ]
  },
  {
   "cell_type": "markdown",
   "id": "9c305e1c",
   "metadata": {},
   "source": [
    "## help(): Displays documentation or information about an object."
   ]
  },
  {
   "cell_type": "code",
   "execution_count": null,
   "id": "da2c2e48",
   "metadata": {},
   "outputs": [
    {
     "name": "stdout",
     "output_type": "stream",
     "text": [
      "\n",
      "Welcome to Python 3.9's help utility!\n",
      "\n",
      "If this is your first time using Python, you should definitely check out\n",
      "the tutorial on the Internet at https://docs.python.org/3.9/tutorial/.\n",
      "\n",
      "Enter the name of any module, keyword, or topic to get help on writing\n",
      "Python programs and using Python modules.  To quit this help utility and\n",
      "return to the interpreter, just type \"quit\".\n",
      "\n",
      "To get a list of available modules, keywords, symbols, or topics, type\n",
      "\"modules\", \"keywords\", \"symbols\", or \"topics\".  Each module also comes\n",
      "with a one-line summary of what it does; to list the modules whose name\n",
      "or summary contain a given string such as \"spam\", type \"modules spam\".\n",
      "\n",
      "help> usman\n",
      "No Python documentation found for 'usman'.\n",
      "Use help() to get the interactive help utility.\n",
      "Use help(str) for help on the str class.\n",
      "\n",
      "help> list\n",
      "Help on class list in module builtins:\n",
      "\n",
      "class list(object)\n",
      " |  list(iterable=(), /)\n",
      " |  \n",
      " |  Built-in mutable sequence.\n",
      " |  \n",
      " |  If no argument is given, the constructor creates a new empty list.\n",
      " |  The argument must be an iterable if specified.\n",
      " |  \n",
      " |  Methods defined here:\n",
      " |  \n",
      " |  __add__(self, value, /)\n",
      " |      Return self+value.\n",
      " |  \n",
      " |  __contains__(self, key, /)\n",
      " |      Return key in self.\n",
      " |  \n",
      " |  __delitem__(self, key, /)\n",
      " |      Delete self[key].\n",
      " |  \n",
      " |  __eq__(self, value, /)\n",
      " |      Return self==value.\n",
      " |  \n",
      " |  __ge__(self, value, /)\n",
      " |      Return self>=value.\n",
      " |  \n",
      " |  __getattribute__(self, name, /)\n",
      " |      Return getattr(self, name).\n",
      " |  \n",
      " |  __getitem__(...)\n",
      " |      x.__getitem__(y) <==> x[y]\n",
      " |  \n",
      " |  __gt__(self, value, /)\n",
      " |      Return self>value.\n",
      " |  \n",
      " |  __iadd__(self, value, /)\n",
      " |      Implement self+=value.\n",
      " |  \n",
      " |  __imul__(self, value, /)\n",
      " |      Implement self*=value.\n",
      " |  \n",
      " |  __init__(self, /, *args, **kwargs)\n",
      " |      Initialize self.  See help(type(self)) for accurate signature.\n",
      " |  \n",
      " |  __iter__(self, /)\n",
      " |      Implement iter(self).\n",
      " |  \n",
      " |  __le__(self, value, /)\n",
      " |      Return self<=value.\n",
      " |  \n",
      " |  __len__(self, /)\n",
      " |      Return len(self).\n",
      " |  \n",
      " |  __lt__(self, value, /)\n",
      " |      Return self<value.\n",
      " |  \n",
      " |  __mul__(self, value, /)\n",
      " |      Return self*value.\n",
      " |  \n",
      " |  __ne__(self, value, /)\n",
      " |      Return self!=value.\n",
      " |  \n",
      " |  __repr__(self, /)\n",
      " |      Return repr(self).\n",
      " |  \n",
      " |  __reversed__(self, /)\n",
      " |      Return a reverse iterator over the list.\n",
      " |  \n",
      " |  __rmul__(self, value, /)\n",
      " |      Return value*self.\n",
      " |  \n",
      " |  __setitem__(self, key, value, /)\n",
      " |      Set self[key] to value.\n",
      " |  \n",
      " |  __sizeof__(self, /)\n",
      " |      Return the size of the list in memory, in bytes.\n",
      " |  \n",
      " |  append(self, object, /)\n",
      " |      Append object to the end of the list.\n",
      " |  \n",
      " |  clear(self, /)\n",
      " |      Remove all items from list.\n",
      " |  \n",
      " |  copy(self, /)\n",
      " |      Return a shallow copy of the list.\n",
      " |  \n",
      " |  count(self, value, /)\n",
      " |      Return number of occurrences of value.\n",
      " |  \n",
      " |  extend(self, iterable, /)\n",
      " |      Extend list by appending elements from the iterable.\n",
      " |  \n",
      " |  index(self, value, start=0, stop=9223372036854775807, /)\n",
      " |      Return first index of value.\n",
      " |      \n",
      " |      Raises ValueError if the value is not present.\n",
      " |  \n",
      " |  insert(self, index, object, /)\n",
      " |      Insert object before index.\n",
      " |  \n",
      " |  pop(self, index=-1, /)\n",
      " |      Remove and return item at index (default last).\n",
      " |      \n",
      " |      Raises IndexError if list is empty or index is out of range.\n",
      " |  \n",
      " |  remove(self, value, /)\n",
      " |      Remove first occurrence of value.\n",
      " |      \n",
      " |      Raises ValueError if the value is not present.\n",
      " |  \n",
      " |  reverse(self, /)\n",
      " |      Reverse *IN PLACE*.\n",
      " |  \n",
      " |  sort(self, /, *, key=None, reverse=False)\n",
      " |      Sort the list in ascending order and return None.\n",
      " |      \n",
      " |      The sort is in-place (i.e. the list itself is modified) and stable (i.e. the\n",
      " |      order of two equal elements is maintained).\n",
      " |      \n",
      " |      If a key function is given, apply it once to each list item and sort them,\n",
      " |      ascending or descending, according to their function values.\n",
      " |      \n",
      " |      The reverse flag can be set to sort in descending order.\n",
      " |  \n",
      " |  ----------------------------------------------------------------------\n",
      " |  Class methods defined here:\n",
      " |  \n",
      " |  __class_getitem__(...) from builtins.type\n",
      " |      See PEP 585\n",
      " |  \n",
      " |  ----------------------------------------------------------------------\n",
      " |  Static methods defined here:\n",
      " |  \n",
      " |  __new__(*args, **kwargs) from builtins.type\n",
      " |      Create and return a new object.  See help(type) for accurate signature.\n",
      " |  \n",
      " |  ----------------------------------------------------------------------\n",
      " |  Data and other attributes defined here:\n",
      " |  \n",
      " |  __hash__ = None\n",
      "\n"
     ]
    }
   ],
   "source": [
    "help()"
   ]
  },
  {
   "cell_type": "markdown",
   "id": "386741d4",
   "metadata": {},
   "source": [
    "## hex(): Converts an integer to a lowercase hexadecimal string."
   ]
  },
  {
   "cell_type": "code",
   "execution_count": null,
   "id": "288e0843",
   "metadata": {},
   "outputs": [],
   "source": [
    "hex(255)"
   ]
  },
  {
   "cell_type": "markdown",
   "id": "d7f5bebf",
   "metadata": {},
   "source": [
    "## id(): Returns the unique identifier of an object"
   ]
  },
  {
   "cell_type": "code",
   "execution_count": null,
   "id": "da7484e6",
   "metadata": {},
   "outputs": [],
   "source": [
    "#id(object)"
   ]
  },
  {
   "cell_type": "markdown",
   "id": "b0b9aff7",
   "metadata": {},
   "source": [
    "## input(): Allows the user to input data from the console."
   ]
  },
  {
   "cell_type": "code",
   "execution_count": null,
   "id": "72b9186f",
   "metadata": {},
   "outputs": [],
   "source": [
    "name = input('Enter your name: ')"
   ]
  },
  {
   "cell_type": "markdown",
   "id": "ce212a58",
   "metadata": {},
   "source": [
    "## int(): Converts a value to an integer."
   ]
  },
  {
   "cell_type": "code",
   "execution_count": null,
   "id": "45d06990",
   "metadata": {},
   "outputs": [],
   "source": [
    "int('10')"
   ]
  },
  {
   "cell_type": "markdown",
   "id": "ce185a6f",
   "metadata": {},
   "source": [
    "## isinstance(): Checks if an object is an instance of a specified class."
   ]
  },
  {
   "cell_type": "code",
   "execution_count": null,
   "id": "a4baf2c3",
   "metadata": {},
   "outputs": [],
   "source": [
    "#isinstance(object, class)"
   ]
  },
  {
   "cell_type": "markdown",
   "id": "2b428c31",
   "metadata": {},
   "source": [
    "## issubclass(): Checks if a class is a subclass of a specified class."
   ]
  },
  {
   "cell_type": "code",
   "execution_count": null,
   "id": "355bf42e",
   "metadata": {},
   "outputs": [],
   "source": [
    "# issubclass(class, classinfo)"
   ]
  },
  {
   "cell_type": "markdown",
   "id": "43845289",
   "metadata": {},
   "source": [
    "## locals(): Returns a dictionary representing the current local symbol table."
   ]
  },
  {
   "cell_type": "code",
   "execution_count": null,
   "id": "800bd13c",
   "metadata": {},
   "outputs": [],
   "source": [
    "locals()"
   ]
  },
  {
   "cell_type": "markdown",
   "id": "0b422fdd",
   "metadata": {},
   "source": [
    "## map(): Applies a function to all items in an input iterable"
   ]
  },
  {
   "cell_type": "code",
   "execution_count": null,
   "id": "046f419c",
   "metadata": {},
   "outputs": [],
   "source": [
    "map(lambda x: x * 2, [1, 2, 3])"
   ]
  },
  {
   "cell_type": "markdown",
   "id": "61b4f076",
   "metadata": {},
   "source": [
    "## memoryview(): Returns a memory view object of an array."
   ]
  },
  {
   "cell_type": "code",
   "execution_count": null,
   "id": "ab907c3f",
   "metadata": {},
   "outputs": [],
   "source": [
    "memoryview(bytes(5))"
   ]
  },
  {
   "cell_type": "markdown",
   "id": "40927d7d",
   "metadata": {},
   "source": [
    "45. object(): Returns a new featureless object.\n",
    "Example: object()\n",
    "\n",
    "46. oct(): Converts an integer to an octal string.\n",
    "Example: oct(8) (Output: '0o10')\n",
    "\n",
    "47. open(): Opens a file and returns a file object.\n",
    "Example: open('file.txt', 'r')\n",
    "\n",
    "48. ord(): Returns the Unicode code point of a character.\n",
    "Example: ord('A') (Output: 65)\n",
    "\n",
    "49. pow(): Raises a number to a power.\n",
    "Example: pow(2, 3) (Output: 8)\n",
    "\n",
    "50. print(): Displays output to the console.\n",
    "Example: print('Hello, world!') (Output: Hello, world!)\n",
    "\n",
    "51. property(): Gets, sets, or deletes a property of an object.\n",
    "Example: property(fget, fset, fdel, doc)\n",
    "\n",
    "52. **range()**: Generates a sequence of numbers within a specified range.\n",
    "    Example: `range(1, 5)` (Output: [1, 2, 3, 4])\n",
    "\n",
    "53. **repr()**: Returns a string containing a printable representation of an object.\n",
    "    Example: `repr('Hello')` (Output: \"'Hello'\")\n",
    "\n",
    "54. **reversed()**: Returns a reversed iterator of a sequence.\n",
    "    Example: `reversed([1, 2, 3])` (Output: [3, 2, 1])\n",
    "\n",
    "55. **round()**: Rounds a number to a specified precision.\n",
    "    Example: `round(3.14159, 2)` (Output: 3.14)\n",
    "\n",
    "56. **set()**: Creates a new set object.\n",
    "    Example: `set([1, 2, 3])` (Output: {1, 2, 3})\n",
    "\n",
    "57. **setattr()**: Sets the value of an attribute of an object.\n",
    "    Example: `setattr(object, 'attribute', value)`\n",
    "\n",
    "58. **slice()**: Returns a slice object.\n",
    "    Example: `slice(1, 5, 2)` (Output: slice(1, 5, 2))\n",
    "\n",
    "59. **sorted()**: Returns a sorted list from an iterable.\n",
    "    Example: `sorted([3, 1, 2])` (Output: [1, 2, 3])\n",
    "\n",
    "60. **staticmethod()**: Converts a method into a static method.\n",
    "    Example: `staticmethod(lambda x: x)`\n",
    "\n",
    "61. **str()**: Converts a value to a string.\n",
    "    Example: `str(42)` (Output: '42')\n",
    "\n",
    "62. **sum()**: Returns the sum of all elements in an iterable.\n",
    "    Example: `sum([1, 2, 3])` (Output: 6)\n",
    "\n",
    "63. **super()**: Returns a temporary object of a superclass.\n",
    "    Example: `super(subclass, object)`\n",
    "\n",
    "64. **tuple()**: Converts an iterable to a tuple.\n",
    "    Example: `tuple([1, 2, 3])` (Output: (1, 2, 3))\n",
    "\n",
    "65. **type()**: Returns the type of an object.\n",
    "    Example: `type('hello')` (Output: <class 'str'>)\n",
    "\n",
    "66. **vars()**: Returns the __dict__ attribute of an object.\n",
    "    Example: `vars(object)`\n",
    "\n",
    "67. **zip()**: Returns an iterator of tuples, where each tuple contains elements from multiple iterables.\n",
    "    Example: `zip([1, 2, 3], ['a', 'b', 'c'])` (Output: [(1, 'a'), (2, 'b'), (3, 'c')])\n",
    "\n",
    "68. import(): Allows the import of a module or package dynamically.\n",
    "    Example: __import__('math')"
   ]
  },
  {
   "cell_type": "markdown",
   "id": "0e5a9d8c",
   "metadata": {},
   "source": [
    "Here is a list of the names of all Python built-in functions:\n",
    "\n",
    "- abs()\n",
    "- all()\n",
    "- any()\n",
    "- ascii()\n",
    "- bin()\n",
    "- bool()\n",
    "- bytearray()\n",
    "- bytes()\n",
    "- callable()\n",
    "- chr()\n",
    "- classmethod()\n",
    "- compile()\n",
    "- complex()\n",
    "- delattr()\n",
    "- dict()\n",
    "- dir()\n",
    "- divmod()\n",
    "- enumerate()\n",
    "- eval()\n",
    "- exec()\n",
    "- filter()\n",
    "- float()\n",
    "- format()\n",
    "- frozenset()\n",
    "- getattr()\n",
    "- globals()\n",
    "- hasattr()\n",
    "- hash()\n",
    "- help()\n",
    "- hex()\n",
    "- id()\n",
    "- input()\n",
    "- int()\n",
    "- isinstance()\n",
    "- issubclass()\n",
    "- iter()\n",
    "- len()\n",
    "- list()\n",
    "- locals()\n",
    "- map()\n",
    "- max()\n",
    "- memoryview()\n",
    "- min()\n",
    "- next()\n",
    "- object()\n",
    "- oct()\n",
    "- open()\n",
    "- ord()\n",
    "- pow()\n",
    "- print()\n",
    "- property()\n",
    "- range()\n",
    "- repr()\n",
    "- reversed()\n",
    "- round()\n",
    "- set()\n",
    "- setattr()\n",
    "- slice()\n",
    "- sorted()\n",
    "- staticmethod()\n",
    "- str()\n",
    "- sum()\n",
    "- super()\n",
    "- tuple()\n",
    "- type()\n",
    "- vars()\n",
    "- zip()\n",
    "\n",
    "These are all the built-in functions available in Python."
   ]
  },
  {
   "cell_type": "markdown",
   "id": "011ed675",
   "metadata": {},
   "source": [
    "Certainly! Here are the names of all Python built-in keywords:\n",
    "\n",
    "- `False`\n",
    "- `None`\n",
    "- `True`\n",
    "- `and`\n",
    "- `as`\n",
    "- `assert`\n",
    "- `async`\n",
    "- `await`\n",
    "- `break`\n",
    "- `class`\n",
    "- `continue`\n",
    "- `def`\n",
    "- `del`\n",
    "- `elif`\n",
    "- `else`\n",
    "- `except`\n",
    "- `finally`\n",
    "- `for`\n",
    "- `from`\n",
    "- `global`\n",
    "- `if`\n",
    "- `import`\n",
    "- `in`\n",
    "- `is`\n",
    "- `lambda`\n",
    "- `nonlocal`\n",
    "- `not`\n",
    "- `or`\n",
    "- `pass`\n",
    "- `raise`\n",
    "- `return`\n",
    "- `try`\n",
    "- `while`\n",
    "- `with`\n",
    "- `yield`\n",
    "\n",
    "These are the reserved keywords in Python, and they have special meanings or functionalities within the language."
   ]
  },
  {
   "cell_type": "markdown",
   "id": "8e6368a5",
   "metadata": {},
   "source": [
    "<!DOCTYPE html>\n",
    "<html>\n",
    "<head>\n",
    "</head>\n",
    "<body>\n",
    "<div style=\"background-color: #32a8a6; color: black; padding: 8px;text-align: center;\">\n",
    "    <h1>My Social Profiles</h1>\n",
    "    Note: To Follow And Any Query Feel Free To Contact\n",
    "       \n",
    "- <a href=\"https://www.linkedin.com/in/m-usman-akram-b29685251/\">My LinkedIn Profile</a>\n",
    "        \n",
    "- <a href=\"https://github.com/engrusman00109\">My GitHub Account</a>\n",
    "\n",
    "- <a href=\"https://www.facebook.com/profile.php?id=100055510195015\">My FaceBook Account</a>\n",
    "    \n",
    "- <a href=\"musman00109@gmail.com\">Click here to send an email</a>\n",
    "- <a href=\"@EngrUsman00109\">My Twiter Account </a>\n",
    "    \n",
    "</div>\n",
    "      \n",
    "</body>\n",
    "</html>\n"
   ]
  },
  {
   "cell_type": "code",
   "execution_count": null,
   "id": "387f1e11",
   "metadata": {},
   "outputs": [],
   "source": []
  }
 ],
 "metadata": {
  "kernelspec": {
   "display_name": "Python 3 (ipykernel)",
   "language": "python",
   "name": "python3"
  },
  "language_info": {
   "codemirror_mode": {
    "name": "ipython",
    "version": 3
   },
   "file_extension": ".py",
   "mimetype": "text/x-python",
   "name": "python",
   "nbconvert_exporter": "python",
   "pygments_lexer": "ipython3",
   "version": "3.9.7"
  }
 },
 "nbformat": 4,
 "nbformat_minor": 5
}
