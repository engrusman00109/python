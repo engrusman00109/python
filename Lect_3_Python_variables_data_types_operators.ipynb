{
 "cells": [
  {
   "cell_type": "markdown",
   "id": "2b383806",
   "metadata": {},
   "source": [
    "<div style=\"background-color: rED; color: BLACK; padding: 8px;text-align: center;\">\n",
    "    <h2 > PYTHON LECTURE 03 </h2>\n",
    "    <h2> M.Usman Akram </h2>\n",
    "    \n",
    "</div>"
   ]
  },
  {
   "cell_type": "markdown",
   "id": "dea5f017",
   "metadata": {},
   "source": [
    "# variables and their types in Python."
   ]
  },
  {
   "cell_type": "markdown",
   "id": "3cdbd830",
   "metadata": {},
   "source": [
    "### Variable naming rules \n",
    "- in Python are important to follow for writing clean and readable code. Here are the key guidelines for naming variables:\n",
    "\n",
    "### 1. Valid Characters:\n",
    "- Variable names can consist of letters (both lowercase and uppercase), digits, and underscores (_).\n",
    "- They cannot start with a digit. However, they can start with an underscore.\n",
    "\n",
    "### 2. Case Sensitivity:\n",
    "- Python is case-sensitive, meaning that variables with different cases are considered distinct. For example, `myVar` and `myvar` are treated as different variables.\n",
    "\n",
    "### 3. Naming Conventions:\n",
    "- It is recommended to use lowercase letters for variable names.\n",
    "- For improved readability, you can use underscores to separate words in a variable name (snake_case). For example: `my_variable`, `name_list`.\n",
    "- Avoid using special characters like spaces, hyphens, or punctuation marks in variable names.\n",
    "\n",
    "### 4. Avoid Reserved Keywords:\n",
    "- Python has reserved keywords that are used for specific purposes. You cannot use these keywords as variable names. Some examples of reserved keywords are `if`, `for`, `while`, `def`, `class`, `import`, `True`, `False`, etc.\n",
    "\n",
    "### 5. Descriptive and Meaningful Names:\n",
    "- Choose variable names that are meaningful and descriptive of the data they represent. This improves code readability and understanding.\n",
    "- It is advisable to use names that indicate the purpose or meaning of the variable. For example: `num_students`, `total_sales`, `is_valid`.\n",
    "\n",
    "Here are some examples of valid and invalid variable names:\n",
    "\n",
    "```python\n",
    "# Valid variable names\n",
    "name = \"Alice\"\n",
    "age_1 = 25\n",
    "total_sales = 1000\n",
    "_is_valid = True\n",
    "\n",
    "# Invalid variable names\n",
    "2nd_place = 3  # Cannot start with a digit\n",
    "my-var = 5     # Cannot use hyphen\n",
    "if = 10        # Cannot use reserved keyword as variable name\n",
    "```\n",
    "\n",
    "By following these variable naming rules, you can write clean, understandable, and Pythonic code."
   ]
  },
  {
   "cell_type": "markdown",
   "id": "2d0edc3e",
   "metadata": {},
   "source": [
    "# Variable Name Cases"
   ]
  },
  {
   "cell_type": "markdown",
   "id": "31263aa2",
   "metadata": {},
   "source": [
    "In Python, variable names are case-sensitive. This means that variables with different cases are treated as distinct variables. Let's explore different cases that can be used for variable names:\n",
    "\n",
    "### 1. Lowercase:\n",
    "Using all lowercase letters is a common convention for variable names in Python. It enhances readability and consistency. For example:\n",
    "```python\n",
    "name = \"Alice\"\n",
    "age = 25\n",
    "```\n",
    "\n",
    "### 2. Uppercase:\n",
    "Uppercase letters can be used for variable names, but it's not a common practice. By convention, uppercase letters are primarily used for constants. For example:\n",
    "```python\n",
    "PI = 3.14159\n",
    "MAX_VALUE = 100\n",
    "```\n",
    "\n",
    "### 3. CamelCase:\n",
    "CamelCase is a naming convention where each word in the variable name starts with an uppercase letter (except for the first word, which starts with a lowercase letter). It is commonly used for class names in Python, following the PEP 8 style guide. For example:\n",
    "```python\n",
    "firstName = \"Alice\"\n",
    "lastName = \"Smith\"\n",
    "```\n",
    "\n",
    "### 4. Snake_case:\n",
    "Snake_case is another popular naming convention in Python, where words are separated by underscores (_). It is commonly used for variable names, function names, and module names. For example:\n",
    "```python\n",
    "first_name = \"Alice\"\n",
    "last_name = \"Smith\"\n",
    "```\n",
    "\n",
    "- It's important to choose a consistent naming style within your codebase or follow the conventions of the project you're working on. Consistency in variable naming helps make your code more readable and maintainable."
   ]
  },
  {
   "cell_type": "markdown",
   "id": "1c2a1637",
   "metadata": {},
   "source": [
    "\n",
    "### 1. TitleCase:\n",
    "TitleCase, also known as PascalCase, is a naming convention where each word in the variable name starts with an uppercase letter, including the first word. It is commonly used in some programming languages for naming classes or types. However, in Python, TitleCase is typically reserved for class names according to the PEP 8 style guide. For example:\n",
    "```python\n",
    "FirstName = \"Alice\"\n",
    "LastName = \"Smith\"\n",
    "```\n",
    "\n",
    "### 2. UPPERCASE_WITH_UNDERSCORES:\n",
    "This naming convention is commonly used for constants in Python. All letters are capitalized, and words are separated by underscores (_). For example:\n",
    "```python\n",
    "MAX_VALUE = 100\n",
    "GRAVITY = 9.8\n",
    "```\n",
    "\n",
    "\n",
    "Remember, regardless of the naming style you choose, it's crucial to be consistent within your code and follow any specific guidelines set by the project or team you're working with."
   ]
  },
  {
   "cell_type": "markdown",
   "id": "12b765aa",
   "metadata": {},
   "source": [
    "# Data Types\n",
    "In Python, there are several data types available. \n",
    "\n",
    "1. Numeric Types:\n",
    "   - `int`: Integer numbers.\n",
    "   - `float`: Floating-point numbers.\n",
    "   - `complex`: Complex numbers.\n",
    "\n",
    "2. Sequence Types:\n",
    "   - `list`: Mutable, ordered sequences.\n",
    "   - `tuple`: Immutable, ordered sequences.\n",
    "   - `range`: Immutable sequences of numbers.\n",
    "\n",
    "3. Text Type:\n",
    "   - `str`: String type for representing text.\n",
    "\n",
    "4. Mapping Type:\n",
    "   - `dict`: Mutable, unordered mappings of keys and values.\n",
    "\n",
    "5. Set Types:\n",
    "   - `set`: Mutable, unordered collections of unique elements.\n",
    "   - `frozenset`: Immutable sets.\n",
    "\n",
    "6. Boolean Type:\n",
    "   - `bool`: Represents the truth values `True` and `False`.\n",
    "\n",
    "7. Binary Types:\n",
    "   - `bytes`: Immutable sequences of bytes.\n",
    "   - `bytearray`: Mutable sequences of bytes.\n",
    "\n",
    "8. Date and Time Types:\n",
    "   - `datetime`: Date and time combination.\n",
    "   - `date`: Date without time information.\n",
    "   - `time`: Time without date information.\n",
    "   - `timedelta`: Duration or difference between two dates or times.\n",
    "\n",
    "9. Other Types:\n",
    "   - `None`: Represents the absence of a value.\n",
    "   - `ellipsis`: Represents an ellipsis (used in slicing syntax).\n",
    "   - `object`: The base class for all objects in Python.\n",
    "\n"
   ]
  },
  {
   "cell_type": "markdown",
   "id": "d4cb1760",
   "metadata": {},
   "source": [
    "Certainly! Here are a few more data types and data structures in Python:\n",
    "\n",
    "10. Iterator Types:\n",
    "   - `iter`: Represents an iterator object used to loop over elements.\n",
    "   - `next`: Retrieves the next item from an iterator.\n",
    "\n",
    "11. Generator Types:\n",
    "   - `generator`: Generates a sequence of values using the `yield` keyword.\n",
    "\n",
    "12. Module Type:\n",
    "   - `module`: Represents a module, which is a file containing Python code and definitions.\n",
    "\n",
    "13. Function Type:\n",
    "   - `function`: Represents a function, which is a block of reusable code.\n",
    "\n",
    "14. Method Type:\n",
    "   - `method`: Represents a function defined within a class and associated with an instance or the class itself.\n",
    "\n",
    "15. Class Type:\n",
    "   - `class`: Represents a blueprint for creating objects, defining their attributes and behavior.\n",
    "\n",
    "16. Type Type:\n",
    "   - `type`: Represents the type of an object. It can also be used to create new types dynamically.\n",
    "\n",
    "17. Callable Types:\n",
    "   - `builtin_function_or_method`: Represents built-in functions or methods.\n",
    "   - `function`: Represents user-defined functions or methods.\n",
    "   - `method`: Represents methods associated with objects or classes.\n",
    "   - `class`: Represents callable classes.\n",
    "\n",
    "18. Module Types:\n",
    "   - Various module-specific types, such as `modulefinder`, `importlib.abc`, etc.\n",
    "\n",
    "These are some additional data types and data structures that are available in Python. Each data type or structure has its own specific purpose and usage. You can refer to the official Python documentation for detailed information about each type and their functionalities."
   ]
  },
  {
   "cell_type": "markdown",
   "id": "965f7227",
   "metadata": {},
   "source": [
    "Certainly! Here are a few more data types and data structures in Python:\n",
    "\n",
    "19. File Types:\n",
    "   - `TextIO`: Represents a text file object.\n",
    "   - `BufferedIO`: Represents a buffered binary file object.\n",
    "   - `BytesIO`: Represents a binary file object in memory.\n",
    "\n",
    "20. Context Manager Types:\n",
    "   - `contextlib.AbstractContextManager`: Abstract base class for defining context managers.\n",
    "   - `contextlib.ContextDecorator`: Abstract base class for creating decorators that can also act as context managers.\n",
    "\n",
    "21. Regular Expression Types:\n",
    "   - `re.Pattern`: Represents a compiled regular expression pattern.\n",
    "   - `re.Match`: Represents a match object resulting from a regular expression search.\n",
    "\n",
    "22. Collections Types:\n",
    "   - `collections.Counter`: Represents a dict subclass for counting hashable objects.\n",
    "   - `collections.namedtuple`: Factory function for creating tuple subclasses with named fields.\n",
    "   - `collections.deque`: Represents a double-ended queue.\n",
    "   - `collections.ChainMap`: Represents a dictionary-like class for creating a single view of multiple mappings.\n",
    "   - `collections.OrderedDict`: Represents a dictionary subclass that remembers the order of insertion.\n",
    "\n",
    "23. Iterator Types:\n",
    "   - `zip`: Iterates over multiple iterables in parallel.\n",
    "   - `map`: Applies a function to every item in an iterable.\n",
    "   - `filter`: Filters out elements from an iterable based on a condition.\n",
    "   - `enumerate`: Returns an iterator that yields pairs of values, the index, and the corresponding item from an iterable.\n",
    "\n",
    "24. Other Types:\n",
    "   - `Exception`: The base class for all built-in exceptions in Python.\n",
    "   - `Ellipsis`: Represents a slice object with an ellipsis (used in slicing syntax).\n",
    "   - `NotImplemented`: Represents a special constant that indicates a placeholder for unimplemented functionality.\n",
    "\n"
   ]
  },
  {
   "cell_type": "markdown",
   "id": "06363d5f",
   "metadata": {},
   "source": [
    "### 1. Numeric Types:"
   ]
  },
  {
   "cell_type": "code",
   "execution_count": 1,
   "id": "59dbbc99",
   "metadata": {},
   "outputs": [
    {
     "name": "stdout",
     "output_type": "stream",
     "text": [
      "<class 'int'>\n",
      "<class 'float'>\n",
      "<class 'complex'>\n"
     ]
    }
   ],
   "source": [
    "# int\n",
    "x = 5\n",
    "print(type(x))  # <class 'int'>\n",
    "\n",
    "# float\n",
    "y = 3.14\n",
    "print(type(y))  # <class 'float'>\n",
    "\n",
    "# complex\n",
    "z = 2 + 3j\n",
    "print(type(z))  # <class 'complex'>\n"
   ]
  },
  {
   "cell_type": "markdown",
   "id": "b712e833",
   "metadata": {},
   "source": [
    "### 2. Sequence Types"
   ]
  },
  {
   "cell_type": "code",
   "execution_count": 2,
   "id": "dca73c70",
   "metadata": {},
   "outputs": [
    {
     "name": "stdout",
     "output_type": "stream",
     "text": [
      "<class 'list'>\n",
      "<class 'tuple'>\n",
      "<class 'range'>\n"
     ]
    }
   ],
   "source": [
    "# list\n",
    "my_list = [1, 2, 3]\n",
    "print(type(my_list))  # <class 'list'>\n",
    "\n",
    "# tuple\n",
    "my_tuple = (4, 5, 6)\n",
    "print(type(my_tuple))  # <class 'tuple'>\n",
    "\n",
    "# range\n",
    "my_range = range(5)\n",
    "print(type(my_range))  # <class 'range'>\n"
   ]
  },
  {
   "cell_type": "markdown",
   "id": "e65814db",
   "metadata": {},
   "source": [
    "### 3. Text Type:"
   ]
  },
  {
   "cell_type": "code",
   "execution_count": 3,
   "id": "9500a9c5",
   "metadata": {},
   "outputs": [
    {
     "name": "stdout",
     "output_type": "stream",
     "text": [
      "<class 'str'>\n"
     ]
    }
   ],
   "source": [
    "# str\n",
    "my_string = \"Hello, world!\"\n",
    "print(type(my_string))  # <class 'str'>\n"
   ]
  },
  {
   "cell_type": "markdown",
   "id": "e1f1209d",
   "metadata": {},
   "source": [
    "### 4. Mapping Type:"
   ]
  },
  {
   "cell_type": "code",
   "execution_count": 4,
   "id": "95fa62e1",
   "metadata": {},
   "outputs": [
    {
     "name": "stdout",
     "output_type": "stream",
     "text": [
      "<class 'dict'>\n"
     ]
    }
   ],
   "source": [
    "# dict\n",
    "my_dict = {\"name\": \"Alice\", \"age\": 25}\n",
    "print(type(my_dict))  # <class 'dict'>\n"
   ]
  },
  {
   "cell_type": "markdown",
   "id": "a1baf05e",
   "metadata": {},
   "source": [
    "### 5. Set Types"
   ]
  },
  {
   "cell_type": "code",
   "execution_count": 5,
   "id": "0b3660de",
   "metadata": {},
   "outputs": [
    {
     "name": "stdout",
     "output_type": "stream",
     "text": [
      "<class 'set'>\n",
      "<class 'frozenset'>\n"
     ]
    }
   ],
   "source": [
    "# set\n",
    "my_set = {1, 2, 3}\n",
    "print(type(my_set))  # <class 'set'>\n",
    "\n",
    "# frozenset\n",
    "my_frozenset = frozenset({4, 5, 6})\n",
    "print(type(my_frozenset))  # <class 'frozenset'>\n"
   ]
  },
  {
   "cell_type": "markdown",
   "id": "9a28f19d",
   "metadata": {},
   "source": [
    "### 6. Boolean Type:"
   ]
  },
  {
   "cell_type": "code",
   "execution_count": 6,
   "id": "5d001369",
   "metadata": {},
   "outputs": [
    {
     "name": "stdout",
     "output_type": "stream",
     "text": [
      "<class 'bool'>\n",
      "<class 'bool'>\n"
     ]
    }
   ],
   "source": [
    "# bool\n",
    "is_true = True\n",
    "print(type(is_true))  # <class 'bool'>\n",
    "\n",
    "is_false = False\n",
    "print(type(is_false))  # <class 'bool'>\n"
   ]
  },
  {
   "cell_type": "markdown",
   "id": "88091a9c",
   "metadata": {},
   "source": [
    "### 7. Binary Types:"
   ]
  },
  {
   "cell_type": "code",
   "execution_count": 7,
   "id": "86a5e396",
   "metadata": {},
   "outputs": [
    {
     "name": "stdout",
     "output_type": "stream",
     "text": [
      "<class 'bytes'>\n",
      "<class 'bytearray'>\n"
     ]
    }
   ],
   "source": [
    "# bytes\n",
    "my_bytes = b\"Hello\"\n",
    "print(type(my_bytes))  # <class 'bytes'>\n",
    "\n",
    "# bytearray\n",
    "my_bytearray = bytearray(b\"World\")\n",
    "print(type(my_bytearray))  # <class 'bytearray'>\n"
   ]
  },
  {
   "cell_type": "markdown",
   "id": "055b217b",
   "metadata": {},
   "source": [
    "### 8. Date and Time Types:"
   ]
  },
  {
   "cell_type": "code",
   "execution_count": 8,
   "id": "7fcf8268",
   "metadata": {},
   "outputs": [
    {
     "name": "stdout",
     "output_type": "stream",
     "text": [
      "<class 'datetime.datetime'>\n",
      "<class 'datetime.date'>\n",
      "<class 'datetime.time'>\n",
      "<class 'datetime.timedelta'>\n"
     ]
    }
   ],
   "source": [
    "import datetime\n",
    "\n",
    "# datetime\n",
    "current_datetime = datetime.datetime.now()\n",
    "print(type(current_datetime))  # <class 'datetime.datetime'>\n",
    "\n",
    "# date\n",
    "today = datetime.date.today()\n",
    "print(type(today))  # <class 'datetime.date'>\n",
    "\n",
    "# time\n",
    "current_time = datetime.datetime.now().time()\n",
    "print(type(current_time))  # <class 'datetime.time'>\n",
    "\n",
    "# timedelta\n",
    "duration = datetime.timedelta(days=7)\n",
    "print(type(duration))  # <class 'datetime.timedelta'>\n"
   ]
  },
  {
   "cell_type": "markdown",
   "id": "1ba32617",
   "metadata": {},
   "source": [
    "### 9. Other Types:"
   ]
  },
  {
   "cell_type": "code",
   "execution_count": 9,
   "id": "26f60e9a",
   "metadata": {},
   "outputs": [
    {
     "name": "stdout",
     "output_type": "stream",
     "text": [
      "<class 'NoneType'>\n",
      "<class 'ellipsis'>\n",
      "<class '__main__.MyClass'>\n"
     ]
    }
   ],
   "source": [
    "# None\n",
    "my_var = None\n",
    "print(type(my_var))  # <class 'NoneType'>\n",
    "\n",
    "# ellipsis\n",
    "my_slice = ...\n",
    "print(type(my_slice))  # <class 'ellipsis'>\n",
    "\n",
    "# object\n",
    "class MyClass:\n",
    "    pass\n",
    "\n",
    "my_obj = MyClass()\n",
    "print(type(my_obj))  # <class '__main__.MyClass'>\n"
   ]
  },
  {
   "cell_type": "markdown",
   "id": "d9c249ea",
   "metadata": {},
   "source": [
    "# 10. Iterator Types:"
   ]
  },
  {
   "cell_type": "code",
   "execution_count": 10,
   "id": "e6b370d7",
   "metadata": {},
   "outputs": [
    {
     "name": "stdout",
     "output_type": "stream",
     "text": [
      "<class 'list_iterator'>\n",
      "1\n"
     ]
    }
   ],
   "source": [
    "# iter\n",
    "my_list = [1, 2, 3]\n",
    "my_iter = iter(my_list)\n",
    "print(type(my_iter))  # <class 'list_iterator'>\n",
    "\n",
    "# next\n",
    "next_item = next(my_iter)\n",
    "print(next_item)  # 1"
   ]
  },
  {
   "cell_type": "markdown",
   "id": "0ed98f22",
   "metadata": {},
   "source": [
    "### 11. Generator Types:"
   ]
  },
  {
   "cell_type": "code",
   "execution_count": 11,
   "id": "fe82f0b7",
   "metadata": {},
   "outputs": [
    {
     "name": "stdout",
     "output_type": "stream",
     "text": [
      "<class 'generator'>\n",
      "1\n",
      "2\n",
      "3\n"
     ]
    }
   ],
   "source": [
    "# generator\n",
    "def my_generator():\n",
    "    yield 1\n",
    "    yield 2\n",
    "    yield 3\n",
    "\n",
    "gen = my_generator()\n",
    "print(type(gen))  # <class 'generator'>\n",
    "\n",
    "# accessing values from the generator\n",
    "print(next(gen))  # 1\n",
    "print(next(gen))  # 2\n",
    "print(next(gen))  # 3\n"
   ]
  },
  {
   "cell_type": "markdown",
   "id": "6bd3c639",
   "metadata": {},
   "source": [
    "### 12. Module Type:"
   ]
  },
  {
   "cell_type": "code",
   "execution_count": 12,
   "id": "9a5165eb",
   "metadata": {},
   "outputs": [
    {
     "name": "stdout",
     "output_type": "stream",
     "text": [
      "<class 'module'>\n",
      "<class 'module'>\n"
     ]
    }
   ],
   "source": [
    "# module\n",
    "import math\n",
    "import pandas \n",
    "\n",
    "print(type(math))  # <class 'module'>\n",
    "print(type(pandas))"
   ]
  },
  {
   "cell_type": "markdown",
   "id": "ade084bc",
   "metadata": {},
   "source": [
    "### 13. Function Type:"
   ]
  },
  {
   "cell_type": "code",
   "execution_count": 13,
   "id": "e401551b",
   "metadata": {},
   "outputs": [
    {
     "name": "stdout",
     "output_type": "stream",
     "text": [
      "<class 'function'>\n"
     ]
    }
   ],
   "source": [
    "# function\n",
    "def greet(name):\n",
    "    print(\"Hello,\", name)\n",
    "\n",
    "print(type(greet))  # <class 'function'>\n"
   ]
  },
  {
   "cell_type": "markdown",
   "id": "32e94c52",
   "metadata": {},
   "source": [
    "### 14. Method Type:"
   ]
  },
  {
   "cell_type": "code",
   "execution_count": 14,
   "id": "cf7bb5ef",
   "metadata": {},
   "outputs": [
    {
     "name": "stdout",
     "output_type": "stream",
     "text": [
      "<class 'method'>\n"
     ]
    }
   ],
   "source": [
    "# method\n",
    "class MyClass:\n",
    "    def greet(self, name):\n",
    "        print(\"Hello,\", name)\n",
    "\n",
    "my_obj = MyClass()\n",
    "print(type(my_obj.greet))  # <class 'method'>\n"
   ]
  },
  {
   "cell_type": "markdown",
   "id": "81d1d0a2",
   "metadata": {},
   "source": [
    "### 15. Class Type:"
   ]
  },
  {
   "cell_type": "code",
   "execution_count": 15,
   "id": "9acf8587",
   "metadata": {},
   "outputs": [
    {
     "name": "stdout",
     "output_type": "stream",
     "text": [
      "<class 'type'>\n"
     ]
    }
   ],
   "source": [
    "# class\n",
    "class MyClass:\n",
    "    pass\n",
    "\n",
    "print(type(MyClass))  # <class 'type'>\n"
   ]
  },
  {
   "cell_type": "markdown",
   "id": "d1d240b6",
   "metadata": {},
   "source": [
    "### 16. Type Type:"
   ]
  },
  {
   "cell_type": "code",
   "execution_count": 16,
   "id": "cde48072",
   "metadata": {},
   "outputs": [
    {
     "name": "stdout",
     "output_type": "stream",
     "text": [
      "<class 'int'>\n",
      "<class 'type'>\n"
     ]
    }
   ],
   "source": [
    "# type\n",
    "my_var = 10\n",
    "print(type(my_var))  # <class 'int'>\n",
    "\n",
    "print(type(int))  # <class 'type'>\n"
   ]
  },
  {
   "cell_type": "markdown",
   "id": "7592630c",
   "metadata": {},
   "source": [
    "### 17. Callable TYpes"
   ]
  },
  {
   "cell_type": "code",
   "execution_count": 17,
   "id": "8cb29f84",
   "metadata": {},
   "outputs": [
    {
     "name": "stdout",
     "output_type": "stream",
     "text": [
      "<class 'builtin_function_or_method'>\n",
      "<class 'function'>\n",
      "<class 'method'>\n",
      "<class '__main__.MyCallableClass'>\n"
     ]
    }
   ],
   "source": [
    "# builtin_function_or_method\n",
    "print(type(len))  # <class 'builtin_function_or_method'>\n",
    "\n",
    "# function\n",
    "def my_function():\n",
    "    pass\n",
    "\n",
    "print(type(my_function))  # <class 'function'>\n",
    "\n",
    "# method\n",
    "class MyClass:\n",
    "    def my_method(self):\n",
    "        pass\n",
    "\n",
    "print(type(MyClass().my_method))  # <class 'method'>\n",
    "\n",
    "# class\n",
    "class MyCallableClass:\n",
    "    def __call__(self):\n",
    "        pass\n",
    "\n",
    "print(type(MyCallableClass()))  # <class '__main__.MyCallableClass'>\n"
   ]
  },
  {
   "cell_type": "markdown",
   "id": "339fee3a",
   "metadata": {},
   "source": [
    "Certainly! Here is a comprehensive list of operators in Python:\n",
    "\n",
    "### 1. Arithmetic Operators:\n",
    "   - Addition: `+`\n",
    "   - Subtraction: `-`\n",
    "   - Multiplication: `*`\n",
    "   - Division: `/`\n",
    "   - Floor Division: `//`\n",
    "   - Modulo (Remainder): `%`\n",
    "   - Exponentiation: `**`\n",
    "\n",
    "### 2. Assignment Operators:\n",
    "   - Assignment: `=`\n",
    "   - Addition Assignment: `+=`\n",
    "   - Subtraction Assignment: `-=`\n",
    "   - Multiplication Assignment: `*=`\n",
    "   - Division Assignment: `/=`\n",
    "   - Floor Division Assignment: `//=`\n",
    "   - Modulo Assignment: `%=`\n",
    "   - Exponentiation Assignment: `**=`\n",
    "   - Bitwise OR Assignment: `|=`\n",
    "   - Bitwise AND Assignment: `&=`\n",
    "   - Bitwise XOR Assignment: `^=`\n",
    "   - Left Shift Assignment: `<<=`\n",
    "   - Right Shift Assignment: `>>=`\n",
    "\n",
    "### 3. Comparison Operators:\n",
    "   - Equal to: `==`\n",
    "   - Not equal to: `!=`\n",
    "   - Greater than: `>`\n",
    "   - Less than: `<`\n",
    "   - Greater than or equal to: `>=`\n",
    "   - Less than or equal to: `<=`\n",
    "\n",
    "### 4. Logical Operators:\n",
    "   - Logical AND: `and`\n",
    "   - Logical OR: `or`\n",
    "   - Logical NOT: `not`\n",
    "\n",
    "### 5. Bitwise Operators:\n",
    "   - Bitwise AND: `&`\n",
    "   - Bitwise OR: `|`\n",
    "   - Bitwise XOR: `^`\n",
    "   - Bitwise NOT: `~`\n",
    "   - Left Shift: `<<`\n",
    "   - Right Shift: `>>`\n",
    "\n",
    "### 6. Membership Operators:\n",
    "   - `in`: Checks if an element is present in a sequence.\n",
    "   - `not in`: Checks if an element is not present in a sequence.\n",
    "\n",
    "### 7. Identity Operators:\n",
    "   - `is`: Checks if two variables refer to the same object.\n",
    "   - `is not`: Checks if two variables do not refer to the same object.\n",
    "\n",
    "### 8. Unary Operators:\n",
    "   - Unary positive: `+`\n",
    "   - Unary negative: `-`\n",
    "\n",
    "These are all the operators available in Python. They are used for various purposes such as arithmetic calculations, assignment of values, comparison of values, logical operations, bitwise operations, membership checks, identity checks, and more."
   ]
  },
  {
   "cell_type": "markdown",
   "id": "ee6b24da",
   "metadata": {},
   "source": [
    "## 1. Arithmetic Operators:"
   ]
  },
  {
   "cell_type": "code",
   "execution_count": 18,
   "id": "47a7d3cf",
   "metadata": {},
   "outputs": [
    {
     "name": "stdout",
     "output_type": "stream",
     "text": [
      "Addition 8\n",
      "Subtraction 6\n",
      "Multiplication 18\n",
      "Division 3.75\n",
      "Floor Division 3\n",
      "Modulo (Remainder) 3\n",
      "Exponentiation 8\n"
     ]
    }
   ],
   "source": [
    "# Addition\n",
    "result = 5 + 3\n",
    "print('Addition',result)  # Output: 8\n",
    "\n",
    "# Subtraction\n",
    "result = 10 - 4\n",
    "print('Subtraction',result)  # Output: 6\n",
    "\n",
    "# Multiplication\n",
    "result = 3 * 6\n",
    "print('Multiplication',result)  # Output: 18\n",
    "\n",
    "# Division\n",
    "result = 15 / 4\n",
    "print('Division',result)  # Output: 3.75\n",
    "\n",
    "# Floor Division\n",
    "result = 15 // 4\n",
    "print('Floor Division',result)  # Output: 3\n",
    "\n",
    "# Modulo (Remainder)\n",
    "result = 15 % 4\n",
    "print('Modulo (Remainder)',result)  # Output: 3\n",
    "\n",
    "# Exponentiation\n",
    "result = 2 ** 3\n",
    "print('Exponentiation',result)  # Output: 8\n"
   ]
  },
  {
   "cell_type": "markdown",
   "id": "dcea1bba",
   "metadata": {},
   "source": [
    "## 2. Assignment Operators:"
   ]
  },
  {
   "cell_type": "code",
   "execution_count": 19,
   "id": "70b43f81",
   "metadata": {},
   "outputs": [
    {
     "name": "stdout",
     "output_type": "stream",
     "text": [
      "10\n",
      "Addition Assignment 15\n",
      "Subtraction Assignment 12\n",
      "Multiplication Assignment 24\n",
      "Division Assignment 6.0\n",
      "Floor Division Assignment 3.0\n",
      "Modulo Assignment 1.0\n",
      "Exponentiation Assignment 1.0\n"
     ]
    }
   ],
   "source": [
    "# Assignment\n",
    "x = 10\n",
    "print(x)  # Output: 10\n",
    "\n",
    "# Addition Assignment\n",
    "x += 5\n",
    "print(\"Addition Assignment\",x)  # Output: 15\n",
    "\n",
    "# Subtraction Assignment\n",
    "x -= 3\n",
    "print(\"Subtraction Assignment\",x)  # Output: 12\n",
    "\n",
    "# Multiplication Assignment\n",
    "x *= 2\n",
    "print(\"Multiplication Assignment\",x)  # Output: 24\n",
    "\n",
    "# Division Assignment\n",
    "x /= 4\n",
    "print(\"Division Assignment\",x)  # Output: 6.0\n",
    "\n",
    "# Floor Division Assignment\n",
    "x //= 2\n",
    "print(\"Floor Division Assignment\",x)  # Output: 3.0\n",
    "\n",
    "# Modulo Assignment\n",
    "x %= 2\n",
    "print(\"Modulo Assignment\",x)  # Output: 1.0\n",
    "\n",
    "# Exponentiation Assignment\n",
    "x **= 3\n",
    "print(\"Exponentiation Assignment\",x)  # Output: 1.0\n"
   ]
  },
  {
   "cell_type": "markdown",
   "id": "0074ff9a",
   "metadata": {},
   "source": [
    "## 3. Comparison Operators:"
   ]
  },
  {
   "cell_type": "code",
   "execution_count": 20,
   "id": "baa483f4",
   "metadata": {},
   "outputs": [
    {
     "name": "stdout",
     "output_type": "stream",
     "text": [
      "False\n",
      "True\n",
      "True\n",
      "False\n",
      "True\n",
      "False\n"
     ]
    }
   ],
   "source": [
    "x = 10\n",
    "y = 5\n",
    "\n",
    "# Equal to\n",
    "print(x == y)  # Output: False\n",
    "\n",
    "# Not equal to\n",
    "print(x != y)  # Output: True\n",
    "\n",
    "# Greater than\n",
    "print(x > y)  # Output: True\n",
    "\n",
    "# Less than\n",
    "print(x < y)  # Output: False\n",
    "\n",
    "# Greater than or equal to\n",
    "print(x >= y)  # Output: True\n",
    "\n",
    "# Less than or equal to\n",
    "print(x <= y)  # Output: False\n"
   ]
  },
  {
   "cell_type": "markdown",
   "id": "c9382a69",
   "metadata": {},
   "source": [
    "## 4. Logical Operators:"
   ]
  },
  {
   "cell_type": "code",
   "execution_count": 21,
   "id": "60738cf0",
   "metadata": {},
   "outputs": [
    {
     "name": "stdout",
     "output_type": "stream",
     "text": [
      "False\n",
      "True\n",
      "False\n"
     ]
    }
   ],
   "source": [
    "x = True\n",
    "y = False\n",
    "\n",
    "# Logical AND\n",
    "print(x and y)  # Output: False\n",
    "\n",
    "# Logical OR\n",
    "print(x or y)  # Output: True\n",
    "\n",
    "# Logical NOT\n",
    "print(not x)  # Output: False\n"
   ]
  },
  {
   "cell_type": "markdown",
   "id": "6041e2e6",
   "metadata": {},
   "source": [
    "## 5. Bitwise Operators:"
   ]
  },
  {
   "cell_type": "code",
   "execution_count": 22,
   "id": "c2e21d2e",
   "metadata": {},
   "outputs": [
    {
     "name": "stdout",
     "output_type": "stream",
     "text": [
      "0\n",
      "15\n",
      "15\n",
      "-11\n",
      "20\n",
      "5\n"
     ]
    }
   ],
   "source": [
    "x = 10  # Binary: 1010\n",
    "y = 5   # Binary: 0101\n",
    "\n",
    "# Bitwise AND\n",
    "print(x & y)  # Output: 0 (Binary: 0000)\n",
    "\n",
    "# Bitwise OR\n",
    "print(x | y)  # Output: 15 (Binary: 1111)\n",
    "\n",
    "# Bitwise XOR\n",
    "print(x ^ y)  # Output: 15 (Binary: 1111)\n",
    "\n",
    "# Bitwise NOT\n",
    "print(~x)  # Output: -11 (Binary: -1011)\n",
    "\n",
    "# Left Shift\n",
    "print(x << 1)  # Output: 20 (Binary: 10100)\n",
    "\n",
    "# Right Shift\n",
    "print(x >> 1)  # Output: 5 (Binary: 0101)\n"
   ]
  },
  {
   "cell_type": "markdown",
   "id": "1e927e1c",
   "metadata": {},
   "source": [
    "## 6. Membership Operators:"
   ]
  },
  {
   "cell_type": "code",
   "execution_count": 23,
   "id": "ec795342",
   "metadata": {},
   "outputs": [
    {
     "name": "stdout",
     "output_type": "stream",
     "text": [
      "True\n",
      "False\n",
      "True\n",
      "False\n"
     ]
    }
   ],
   "source": [
    "fruits = ['apple', 'banana', 'orange']\n",
    "\n",
    "# in operator\n",
    "print('apple' in fruits)       # Output: True\n",
    "print('grape' in fruits)       # Output: False\n",
    "\n",
    "# not in operator\n",
    "print('kiwi' not in fruits)    # Output: True\n",
    "print('banana' not in fruits)  # Output: False\n"
   ]
  },
  {
   "cell_type": "markdown",
   "id": "76969190",
   "metadata": {},
   "source": [
    "## 7. Identity Operators:"
   ]
  },
  {
   "cell_type": "code",
   "execution_count": 24,
   "id": "5fb57d1a",
   "metadata": {},
   "outputs": [
    {
     "name": "stdout",
     "output_type": "stream",
     "text": [
      "True\n",
      "False\n",
      "False\n",
      "True\n"
     ]
    }
   ],
   "source": [
    "x = 5\n",
    "y = 5\n",
    "z = [1, 2, 3]\n",
    "w = [1, 2, 3]\n",
    "\n",
    "# is operator\n",
    "print(x is y)  # Output: True\n",
    "print(z is w)  # Output: False\n",
    "\n",
    "# is not operator\n",
    "print(x is not y)  # Output: False\n",
    "print(z is not w)  # Output: True\n"
   ]
  },
  {
   "cell_type": "markdown",
   "id": "1c7993b0",
   "metadata": {},
   "source": [
    "## 8. Unary Operators:"
   ]
  },
  {
   "cell_type": "code",
   "execution_count": 25,
   "id": "ffd80781",
   "metadata": {},
   "outputs": [
    {
     "name": "stdout",
     "output_type": "stream",
     "text": [
      "10\n",
      "-10\n"
     ]
    }
   ],
   "source": [
    "x = 10\n",
    "\n",
    "# Unary positive\n",
    "print(+x)  # Output: 10\n",
    "\n",
    "# Unary negative\n",
    "print(-x)  # Output: -10\n"
   ]
  },
  {
   "cell_type": "markdown",
   "id": "94db7288",
   "metadata": {},
   "source": [
    "# Task Question:\n",
    "You are given the following scenario:\n",
    "\n",
    "- 1. You are a cashier at a grocery store and you need to calculate the total bill amount for a customer. The customer has purchased multiple items, and you have recorded the prices of each item. Your task is to write a Python program to calculate the total bill amount.\n",
    "\n",
    "## Requirements:\n",
    "\n",
    "- Declare variables to store the prices of the items purchased by the customer. Use appropriate variable names.\n",
    "- Calculate the subtotal by adding up the prices of all the items.\n",
    "- Apply a discount of 10% on the subtotal.\n",
    "- Calculate the final bill amount after applying the discount.\n",
    "- Print the final bill amount.\n",
    "\n",
    "- Write a Python program that implements the above requirements. Test your program with different item prices to ensure it works correctly."
   ]
  },
  {
   "cell_type": "markdown",
   "id": "f138f3c2",
   "metadata": {},
   "source": [
    "# Task Question:\n",
    "2. You are tasked with building a simple calculator program in Python. Your program should be able to perform basic arithmetic operations based on user input. Your task is to write a Python program that takes user input for two numbers and an operator, and then performs the corresponding arithmetic operation to obtain the result.\n",
    "\n",
    "## Requirements:\n",
    "\n",
    "- Prompt the user to enter the first number.(prompt=input)\n",
    "- Prompt the user to enter the second number.\n",
    "- Prompt the user to enter the operator (+, -, *, /).\n",
    "- Based on the operator entered, perform the corresponding arithmetic operation and calculate the result.\n",
    "- Print the result of the arithmetic operation.\n",
    "\n",
    "Write a Python program that implements the above requirements. Test your program with different number inputs and operators to ensure it works correctly."
   ]
  },
  {
   "cell_type": "markdown",
   "id": "7c1fd30c",
   "metadata": {},
   "source": [
    "<!DOCTYPE html>\n",
    "<html>\n",
    "<head>\n",
    "</head>\n",
    "<body>\n",
    "<div style=\"background-color: #32a8a6; color: black; padding: 8px;text-align: center;\">\n",
    "    <h1>My Social Profiles</h1>\n",
    "    Note: To Follow And Any Query Feel Free To Contact\n",
    "       \n",
    "- <a href=\"https://www.linkedin.com/in/m-usman-akram-b29685251/\">My LinkedIn Profile</a>\n",
    "        \n",
    "- <a href=\"https://github.com/engrusman00109\">My GitHub Account</a>\n",
    "\n",
    "- <a href=\"https://www.facebook.com/profile.php?id=100055510195015\">My FaceBook Account</a>\n",
    "    \n",
    "- <a href=\"musman00109@gmail.com\">Click here to send an email</a>\n",
    "- <a href=\"@EngrUsman00109\">My Twiter Account </a>\n",
    "    \n",
    "</div>\n",
    "      \n",
    "</body>\n",
    "</html>\n"
   ]
  }
 ],
 "metadata": {
  "kernelspec": {
   "display_name": "Python 3 (ipykernel)",
   "language": "python",
   "name": "python3"
  },
  "language_info": {
   "codemirror_mode": {
    "name": "ipython",
    "version": 3
   },
   "file_extension": ".py",
   "mimetype": "text/x-python",
   "name": "python",
   "nbconvert_exporter": "python",
   "pygments_lexer": "ipython3",
   "version": "3.9.7"
  }
 },
 "nbformat": 4,
 "nbformat_minor": 5
}
