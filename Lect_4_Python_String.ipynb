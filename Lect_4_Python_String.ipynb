{
 "cells": [
  {
   "cell_type": "markdown",
   "id": "d1cd427e",
   "metadata": {},
   "source": [
    "<div style=\"background-color: rED; color: BLACK; padding: 8px;text-align: center;\">\n",
    "    <h2 > PYTHON LECTURE 04 </h2>\n",
    "    <h2> M.Usman Akram </h2>\n",
    "    \n",
    "</div>"
   ]
  },
  {
   "cell_type": "markdown",
   "id": "67ee2134",
   "metadata": {},
   "source": [
    "# Strings\n",
    "In Python, strings are sequences of characters enclosed in either single quotes ('') or double quotes (\"\"). They are used to represent textual data and are immutable, meaning they cannot be modified once created. \n",
    "\n",
    "\n",
    "Certainly! Here are some important concepts and operations related to strings in Python:\n",
    "\n",
    "### 1. String Creation:\n",
    "   - Strings can be created using single quotes (''), double quotes (\"\") or triple quotes (\"\"\").\n",
    "\n",
    "### 2. String Indexing:\n",
    "   - Individual characters in a string can be accessed using index numbers, starting from 0 for the first character.\n",
    "   - Negative indexing is also supported, where -1 refers to the last character, -2 refers to the second last character, and so on.\n",
    "\n",
    "### 3. String Slicing:\n",
    "   - Slicing allows you to extract a portion of a string by specifying a range of indices.\n",
    "   - The syntax for slicing is `string[start:end:step]`, where `start` is the starting index, `end` is the ending index (exclusive), and `step` is the step size.\n",
    "\n",
    "### 4. String Concatenation:\n",
    "   - Strings can be concatenated (joined together) using the `+` operator.\n",
    "   - Example: `name = \"Alice\"`, `greeting = \"Hello, \" + name`.\n",
    "\n",
    "### 5. String Length:\n",
    "   - The `len()` function returns the length (number of characters) of a string.\n",
    "\n",
    "### 6. String Methods:\n",
    "   - Python provides numerous built-in methods for working with strings.\n",
    "   - Some commonly used methods include `upper()`, `lower()`, `capitalize()`, `title()`, `strip()`, `split()`, `join()`, `replace()`, `find()`, `startswith()`, `endswith()`, and many more.\n",
    "\n",
    "### 7. String Formatting:\n",
    "   - String formatting allows you to create formatted strings by substituting values into a template.\n",
    "   - The `format()` method and f-strings (formatted string literals) are commonly used for string formatting.\n",
    "   - Example using `format()`: `\"Hello, {}!\".format(name)`.\n",
    "   - Example using f-strings: `f\"Hello, {name}!\"`.\n",
    "\n",
    "### 8. Escape Sequences:\n",
    "   - Escape sequences are special characters used to represent characters that are difficult to input directly into a string.\n",
    "   - Examples: `\\n` (newline), `\\t` (tab), `\\\"` (double quote), `\\'` (single quote), `\\\\` (backslash), etc.\n",
    "\n",
    "### 9. String Comparison:\n",
    "   - Strings can be compared using comparison operators like `==`, `!=`, `>`, `<`, `>=`, and `<=`.\n",
    "   - Comparison is based on lexicographic (dictionary) order.\n",
    "\n",
    "### 10. String Immutability:\n",
    "    - Strings in Python are immutable, meaning they cannot be changed once created.\n",
    "    - Any operation that modifies a string actually creates a new string.\n",
    "\n",
    "These concepts and operations cover the basics of working with strings in Python. Strings are a fundamental data type in Python, and understanding these concepts will allow you to manipulate and process text effectively."
   ]
  },
  {
   "cell_type": "markdown",
   "id": "273edbf1",
   "metadata": {},
   "source": [
    "### 1. Creating a string:"
   ]
  },
  {
   "cell_type": "markdown",
   "id": "e699f30d",
   "metadata": {},
   "source": [
    "#### 1. Using Single Quotes:"
   ]
  },
  {
   "cell_type": "code",
   "execution_count": 1,
   "id": "9f6971c2",
   "metadata": {},
   "outputs": [],
   "source": [
    "my_string = 'Hello, World!'"
   ]
  },
  {
   "cell_type": "markdown",
   "id": "6bd1e322",
   "metadata": {},
   "source": [
    "#### 2. Using Double Quotes:"
   ]
  },
  {
   "cell_type": "code",
   "execution_count": 2,
   "id": "b3359796",
   "metadata": {},
   "outputs": [],
   "source": [
    "my_string = \"Hello, World!\""
   ]
  },
  {
   "cell_type": "markdown",
   "id": "99a0ad8e",
   "metadata": {},
   "source": [
    "#### 3. Using Triple Quotes (for multi-line strings):"
   ]
  },
  {
   "cell_type": "code",
   "execution_count": 3,
   "id": "6e1bc478",
   "metadata": {},
   "outputs": [],
   "source": [
    "my_string = '''This is a multi-line\n",
    "string in Python.'''"
   ]
  },
  {
   "cell_type": "markdown",
   "id": "7457e7fd",
   "metadata": {},
   "source": [
    "#### 4. Escaping Special Characters:"
   ]
  },
  {
   "cell_type": "code",
   "execution_count": 4,
   "id": "78dd796e",
   "metadata": {},
   "outputs": [],
   "source": [
    "my_string = \"She said, \\\"Hello!\\\"\""
   ]
  },
  {
   "cell_type": "markdown",
   "id": "811e0387",
   "metadata": {},
   "source": [
    "In the above example, the backslash \\ is used to escape the double quotes within the string.\n",
    "\n",
    "#### 5. Creating an Empty String:"
   ]
  },
  {
   "cell_type": "code",
   "execution_count": 5,
   "id": "6d509bbe",
   "metadata": {},
   "outputs": [],
   "source": [
    "empty_string = \"\""
   ]
  },
  {
   "cell_type": "markdown",
   "id": "6c5c3d11",
   "metadata": {},
   "source": [
    "You can create an empty string by assigning an empty pair of quotes."
   ]
  },
  {
   "cell_type": "markdown",
   "id": "1f61256b",
   "metadata": {},
   "source": [
    "### 2. Accessing characters in a string:\n",
    "\n",
    "In Python, you can access individual characters in a string by using indexing. Each character in the string has a corresponding index, starting from 0 for the first character. Here's how you can access characters in a string:"
   ]
  },
  {
   "cell_type": "code",
   "execution_count": 6,
   "id": "3a53a16c",
   "metadata": {},
   "outputs": [
    {
     "name": "stdout",
     "output_type": "stream",
     "text": [
      "H\n",
      "o\n",
      "!\n",
      "W\n"
     ]
    }
   ],
   "source": [
    "my_string = \"Hello, World!\"\n",
    "\n",
    "# Accessing the first character\n",
    "first_char = my_string[0]\n",
    "print(first_char)  # Output: 'H'\n",
    "\n",
    "# Accessing the fifth character\n",
    "fifth_char = my_string[4]\n",
    "print(fifth_char)  # Output: 'o'\n",
    "\n",
    "# Accessing the last character using negative indexing\n",
    "last_char = my_string[-1]\n",
    "print(last_char)  # Output: '!'\n",
    "\n",
    "# Accessing a character using a variable as the index\n",
    "index = 7\n",
    "char = my_string[index]\n",
    "print(char)  # Output: 'W'"
   ]
  },
  {
   "cell_type": "markdown",
   "id": "5f758525",
   "metadata": {},
   "source": [
    "In Python, you can use positive indexing, where the index starts from 0 and counts forward from the beginning of the string. Negative indexing can also be used, where the index starts from -1 and counts backward from the end of the string. Both methods allow you to access specific characters in a string by their positions."
   ]
  },
  {
   "cell_type": "markdown",
   "id": "a23c78ae",
   "metadata": {},
   "source": [
    "### 3. Concatenating strings:\n",
    "\n",
    "In Python, you can concatenate (join together) strings using the concatenation operator +. This allows you to combine multiple strings into a single string. "
   ]
  },
  {
   "cell_type": "code",
   "execution_count": 7,
   "id": "7a4bb368",
   "metadata": {},
   "outputs": [
    {
     "name": "stdout",
     "output_type": "stream",
     "text": [
      "HelloWorld\n",
      "Hello World\n",
      "Hello, World!\n",
      "Hello, Ahsan!\n"
     ]
    }
   ],
   "source": [
    "string1 = \"Hello\"\n",
    "string2 = \"World\"\n",
    "\n",
    "# Concatenating two strings\n",
    "concatenated = string1 + string2\n",
    "print(concatenated)  # Output: \"HelloWorld\"\n",
    "\n",
    "# Concatenating strings with a space in between\n",
    "concatenated_with_space = string1 + \" \" + string2\n",
    "print(concatenated_with_space)  # Output: \"Hello World\"\n",
    "\n",
    "# Concatenating multiple strings\n",
    "string3 = \"!\"\n",
    "concatenated_multiple = string1 + \", \" + string2 + string3\n",
    "print(concatenated_multiple)  # Output: \"Hello, World!\"\n",
    "\n",
    "# Concatenating strings using variables\n",
    "name = \"Ahsan\"\n",
    "greeting = \"Hello, \" + name + \"!\"\n",
    "print(greeting)  # Output: \"Hello, Alice!\"\n"
   ]
  },
  {
   "cell_type": "markdown",
   "id": "e84ec3b9",
   "metadata": {},
   "source": [
    "In the examples above, the + operator is used to concatenate strings together. You can concatenate strings directly or combine strings with variables, numbers, or other characters. Remember that when concatenating, you may need to add any necessary spaces or punctuation to ensure the desired format of the resulting string."
   ]
  },
  {
   "cell_type": "markdown",
   "id": "e58db7a8",
   "metadata": {},
   "source": [
    "### 4. String length:\n",
    "\n",
    "In Python, you can determine the length (number of characters) of a string using the len() function. The len() function returns the count of characters in a given string. "
   ]
  },
  {
   "cell_type": "code",
   "execution_count": 8,
   "id": "42d1b3cb",
   "metadata": {},
   "outputs": [
    {
     "name": "stdout",
     "output_type": "stream",
     "text": [
      "13\n"
     ]
    }
   ],
   "source": [
    "my_string = \"Hello, Ahsan!\"\n",
    "length = len(my_string)\n",
    "print(length)  # Output: 13\n"
   ]
  },
  {
   "cell_type": "markdown",
   "id": "f2fafd06",
   "metadata": {},
   "source": [
    "In the above example, the len() function is used to calculate the length of the string my_string. The result, which is the number of characters in the string, is then stored in the variable length and printed.\n",
    "\n",
    "Note that the length of a string includes all characters, including spaces, punctuation marks, and special characters. The len() function is a useful tool when you need to determine the size or length of a string in your Python programs."
   ]
  },
  {
   "cell_type": "markdown",
   "id": "65bf4471",
   "metadata": {},
   "source": [
    "### 5. String slicing (extracting substrings):\n",
    "\n",
    "String slicing in Python allows you to extract a substring from a larger string by specifying a range of indices. The syntax for string slicing is string[start:end:step], where start is the starting index, end is the ending index (exclusive), and step is the step size (optional). "
   ]
  },
  {
   "cell_type": "code",
   "execution_count": 9,
   "id": "a9b37c00",
   "metadata": {},
   "outputs": [
    {
     "name": "stdout",
     "output_type": "stream",
     "text": [
      "Hello\n",
      "World!\n",
      "World\n",
      "Hlo ol!\n",
      "!dlroW ,olleH\n"
     ]
    }
   ],
   "source": [
    "my_string = \"Hello, World!\"\n",
    "\n",
    "# Extracting a substring from index 0 to 4 (excluding index 4)\n",
    "substring1 = my_string[0:5]\n",
    "print(substring1)  # Output: \"Hello\"\n",
    "\n",
    "# Extracting a substring from index 7 to the end of the string\n",
    "substring2 = my_string[7:]\n",
    "print(substring2)  # Output: \"World!\"\n",
    "\n",
    "# Extracting a substring using negative indexing\n",
    "substring3 = my_string[-6:-1]\n",
    "print(substring3)  # Output: \"World\"\n",
    "\n",
    "# Extracting a substring with a step size\n",
    "substring4 = my_string[::2]\n",
    "print(substring4)  # Output: \"HloWrd\"\n",
    "\n",
    "# Reversing a string using slicing\n",
    "reversed_string = my_string[::-1]\n",
    "print(reversed_string)  # Output: \"!dlroW ,olleH\"\n"
   ]
  },
  {
   "cell_type": "markdown",
   "id": "2ef83e48",
   "metadata": {},
   "source": [
    "In the examples above, different slices of the my_string variable are extracted based on the specified indices and step sizes. Remember that the starting index is inclusive, while the ending index is exclusive, meaning the character at the ending index is not included in the slice.\n",
    "\n",
    "String slicing is a powerful technique that allows you to extract substrings, reverse strings, or manipulate specific portions of a string based on your needs."
   ]
  },
  {
   "cell_type": "markdown",
   "id": "6590653d",
   "metadata": {},
   "source": [
    "# Differnece Between slicing and indexing"
   ]
  },
  {
   "cell_type": "markdown",
   "id": "4b803c29",
   "metadata": {},
   "source": [
    "Indexing and slicing are both used to access and extract specific parts of a string in Python, but they differ in terms of the granularity of the elements they operate on.\n",
    "\n",
    "### Indexing:\n",
    "\n",
    "- Indexing refers to accessing individual elements (characters) of a string by their position.\n",
    "- Each character in a string has a corresponding index, starting from 0 for the first character.\n",
    "- You can use positive indexing (counting from the beginning) or negative indexing (counting from the end) to access characters.\n",
    "- Indexing is done using square brackets [] with the index number inside.\n",
    "\n",
    "### Slicing:\n",
    "\n",
    "- Slicing refers to extracting a portion (substring) of a string by specifying a range of indices.\n",
    "- It allows you to extract multiple characters from a string in one operation.\n",
    "- Slicing is done using the syntax string[start:end:step], where start is the starting index, end is the ending index (exclusive), and step is the step size (optional).\n",
    "- Slicing returns a new string that includes the characters within the specified range\n",
    "\n",
    "\n",
    "In summary, indexing allows you to access individual characters, while slicing allows you to extract a range of characters as a new string. Indexing operates at the granularity of individual elements, whereas slicing operates at the granularity of subsequences (substrings)."
   ]
  },
  {
   "cell_type": "markdown",
   "id": "bf8bd4e0",
   "metadata": {},
   "source": [
    "# String Methods"
   ]
  },
  {
   "cell_type": "markdown",
   "id": "615fe923",
   "metadata": {},
   "source": [
    "### upper(): Converts all characters in the string to uppercase."
   ]
  },
  {
   "cell_type": "code",
   "execution_count": 10,
   "id": "1ad4286d",
   "metadata": {},
   "outputs": [
    {
     "name": "stdout",
     "output_type": "stream",
     "text": [
      "HELLO, WORLD!\n"
     ]
    }
   ],
   "source": [
    "my_string = \"Hello, World!\"\n",
    "upper_case = my_string.upper()\n",
    "print(upper_case)  # Output: \"HELLO, WORLD!\"\n"
   ]
  },
  {
   "cell_type": "markdown",
   "id": "8a91fff9",
   "metadata": {},
   "source": [
    "### lower(): Converts all characters in the string to lowercase."
   ]
  },
  {
   "cell_type": "code",
   "execution_count": 11,
   "id": "12b63e6c",
   "metadata": {},
   "outputs": [
    {
     "name": "stdout",
     "output_type": "stream",
     "text": [
      "hello, world!\n"
     ]
    }
   ],
   "source": [
    "my_string = \"Hello, World!\"\n",
    "lower_case = my_string.lower()\n",
    "print(lower_case)  # Output: \"hello, world!\""
   ]
  },
  {
   "cell_type": "markdown",
   "id": "0b3f2e25",
   "metadata": {},
   "source": [
    "### strip(): Removes leading and trailing whitespace from the string."
   ]
  },
  {
   "cell_type": "code",
   "execution_count": 12,
   "id": "90bc57d7",
   "metadata": {},
   "outputs": [
    {
     "name": "stdout",
     "output_type": "stream",
     "text": [
      "Hello, World!\n"
     ]
    }
   ],
   "source": [
    "my_string = \"   Hello, World!   \"\n",
    "stripped = my_string.strip()\n",
    "print(stripped)  # Output: \"Hello, World!\""
   ]
  },
  {
   "cell_type": "markdown",
   "id": "c1d11488",
   "metadata": {},
   "source": [
    "### split(): Splits the string into a list of substrings based on whitespace or a specified delimiter."
   ]
  },
  {
   "cell_type": "code",
   "execution_count": 13,
   "id": "60e1bb63",
   "metadata": {},
   "outputs": [
    {
     "name": "stdout",
     "output_type": "stream",
     "text": [
      "['Hello', 'World!']\n"
     ]
    }
   ],
   "source": [
    "my_string = \"Hello, World!\"\n",
    "split_list = my_string.split(\", \")\n",
    "print(split_list)  # Output: ['Hello', 'World!']"
   ]
  },
  {
   "cell_type": "markdown",
   "id": "99b350b1",
   "metadata": {},
   "source": [
    "### replace(): Replaces occurrences of a substring with a new string."
   ]
  },
  {
   "cell_type": "code",
   "execution_count": 14,
   "id": "b6cef774",
   "metadata": {},
   "outputs": [
    {
     "name": "stdout",
     "output_type": "stream",
     "text": [
      "Hello, Python!\n"
     ]
    }
   ],
   "source": [
    "my_string = \"Hello, World!\"\n",
    "new_string = my_string.replace(\"World\", \"Python\")\n",
    "print(new_string)  # Output: \"Hello, Python!\"\n"
   ]
  },
  {
   "cell_type": "markdown",
   "id": "8f07209c",
   "metadata": {},
   "source": [
    "### startswith(): Checks if the string starts with a specified prefix."
   ]
  },
  {
   "cell_type": "code",
   "execution_count": 15,
   "id": "201d0b3b",
   "metadata": {},
   "outputs": [
    {
     "name": "stdout",
     "output_type": "stream",
     "text": [
      "True\n"
     ]
    }
   ],
   "source": [
    "my_string = \"Hello, World!\"\n",
    "starts_with_hello = my_string.startswith(\"Hello\")\n",
    "print(starts_with_hello)  # Output: True\n"
   ]
  },
  {
   "cell_type": "markdown",
   "id": "3194f321",
   "metadata": {},
   "source": [
    "#### endswith(): Checks if the string ends with a specified suffix."
   ]
  },
  {
   "cell_type": "code",
   "execution_count": 16,
   "id": "70fe7f55",
   "metadata": {},
   "outputs": [
    {
     "name": "stdout",
     "output_type": "stream",
     "text": [
      "True\n"
     ]
    }
   ],
   "source": [
    "my_string = \"Hello, World!\"\n",
    "ends_with_world = my_string.endswith(\"World!\")\n",
    "print(ends_with_world)  # Output: True\n"
   ]
  },
  {
   "cell_type": "markdown",
   "id": "76731773",
   "metadata": {},
   "source": [
    "### isdigit(): Checks if all characters in the string are digits."
   ]
  },
  {
   "cell_type": "code",
   "execution_count": 17,
   "id": "c2525fe3",
   "metadata": {},
   "outputs": [
    {
     "name": "stdout",
     "output_type": "stream",
     "text": [
      "True\n"
     ]
    }
   ],
   "source": [
    "my_string = \"12345\"\n",
    "is_digit = my_string.isdigit()\n",
    "print(is_digit)  # Output: True\n"
   ]
  },
  {
   "cell_type": "markdown",
   "id": "6bbdd12e",
   "metadata": {},
   "source": [
    "### isalpha(): Checks if all characters in the string are alphabetic."
   ]
  },
  {
   "cell_type": "code",
   "execution_count": 18,
   "id": "ae8b511e",
   "metadata": {},
   "outputs": [
    {
     "name": "stdout",
     "output_type": "stream",
     "text": [
      "True\n"
     ]
    }
   ],
   "source": [
    "my_string = \"Hello\"\n",
    "is_alpha = my_string.isalpha()\n",
    "print(is_alpha)  # Output: True\n"
   ]
  },
  {
   "cell_type": "markdown",
   "id": "b90e40a3",
   "metadata": {},
   "source": [
    "### isalnum(): Checks if all characters in the string are alphanumeric."
   ]
  },
  {
   "cell_type": "code",
   "execution_count": 19,
   "id": "6fabb81d",
   "metadata": {},
   "outputs": [
    {
     "name": "stdout",
     "output_type": "stream",
     "text": [
      "True\n"
     ]
    }
   ],
   "source": [
    "my_string = \"Hello123\"\n",
    "is_alnum = my_string.isalnum()\n",
    "print(is_alnum)  # Output: True\n"
   ]
  },
  {
   "cell_type": "markdown",
   "id": "5e2b3a03",
   "metadata": {},
   "source": [
    "### isspace(): Checks if all characters in the string are whitespace."
   ]
  },
  {
   "cell_type": "code",
   "execution_count": 20,
   "id": "4f6603f4",
   "metadata": {},
   "outputs": [
    {
     "name": "stdout",
     "output_type": "stream",
     "text": [
      "True\n"
     ]
    }
   ],
   "source": [
    "my_string = \"   \"\n",
    "is_space = my_string.isspace()\n",
    "print(is_space)  # Output: True"
   ]
  },
  {
   "cell_type": "markdown",
   "id": "2929e431",
   "metadata": {},
   "source": [
    "### find(): Searches for the first occurrence of a substring and returns its index."
   ]
  },
  {
   "cell_type": "code",
   "execution_count": 21,
   "id": "4a3642cb",
   "metadata": {},
   "outputs": [
    {
     "name": "stdout",
     "output_type": "stream",
     "text": [
      "7\n"
     ]
    }
   ],
   "source": [
    "my_string = \"Hello, World!\"\n",
    "index = my_string.find(\"World\")\n",
    "print(index)  # Output: 7\n"
   ]
  },
  {
   "cell_type": "markdown",
   "id": "267c0ebe",
   "metadata": {},
   "source": [
    "### count(): Returns the number of occurrences of a substring in the string."
   ]
  },
  {
   "cell_type": "code",
   "execution_count": 22,
   "id": "672be933",
   "metadata": {},
   "outputs": [
    {
     "name": "stdout",
     "output_type": "stream",
     "text": [
      "3\n"
     ]
    }
   ],
   "source": [
    "my_string = \"Hello, Hello, Hello!\"\n",
    "count = my_string.count(\"Hello\")\n",
    "print(count)  # Output: 3\n"
   ]
  },
  {
   "cell_type": "markdown",
   "id": "d4617200",
   "metadata": {},
   "source": [
    "### join(): Concatenates elements of an iterable (e.g., a list) into a string using the string as a separator."
   ]
  },
  {
   "cell_type": "code",
   "execution_count": 23,
   "id": "a65ae1e1",
   "metadata": {},
   "outputs": [
    {
     "name": "stdout",
     "output_type": "stream",
     "text": [
      "Hello, World\n"
     ]
    }
   ],
   "source": [
    "my_list = [\"Hello\", \"World\"]\n",
    "joined_string = \", \".join(my_list)\n",
    "print(joined_string)  # Output: \"Hello, World\"\n"
   ]
  },
  {
   "cell_type": "markdown",
   "id": "a3fa3357",
   "metadata": {},
   "source": [
    "### index(): Searches for the first occurrence of a substring and returns its index."
   ]
  },
  {
   "cell_type": "code",
   "execution_count": 24,
   "id": "586808e8",
   "metadata": {},
   "outputs": [
    {
     "name": "stdout",
     "output_type": "stream",
     "text": [
      "7\n"
     ]
    }
   ],
   "source": [
    "my_string = \"Hello, World!\"\n",
    "index = my_string.index(\"World\")\n",
    "print(index)  # Output: 7\n"
   ]
  },
  {
   "cell_type": "markdown",
   "id": "e5033574",
   "metadata": {},
   "source": [
    "### rindex(): Searches for the last occurrence of a substring and returns its index."
   ]
  },
  {
   "cell_type": "code",
   "execution_count": 25,
   "id": "53b9f64f",
   "metadata": {},
   "outputs": [
    {
     "name": "stdout",
     "output_type": "stream",
     "text": [
      "8\n"
     ]
    }
   ],
   "source": [
    "my_string = \"Hello, World!\"\n",
    "index = my_string.rindex(\"o\")\n",
    "print(index)  # Output: 8\n"
   ]
  },
  {
   "cell_type": "markdown",
   "id": "0d98ed59",
   "metadata": {},
   "source": [
    "### isupper(): Checks if all characters in the string are uppercase."
   ]
  },
  {
   "cell_type": "code",
   "execution_count": 26,
   "id": "032f8341",
   "metadata": {},
   "outputs": [
    {
     "name": "stdout",
     "output_type": "stream",
     "text": [
      "True\n"
     ]
    }
   ],
   "source": [
    "my_string = \"HELLO\"\n",
    "is_upper = my_string.isupper()\n",
    "print(is_upper)  # Output: True\n"
   ]
  },
  {
   "cell_type": "markdown",
   "id": "b3dd8ce7",
   "metadata": {},
   "source": [
    "### islower(): Checks if all characters in the string are lowercase."
   ]
  },
  {
   "cell_type": "code",
   "execution_count": 27,
   "id": "d4033ad8",
   "metadata": {},
   "outputs": [
    {
     "name": "stdout",
     "output_type": "stream",
     "text": [
      "True\n"
     ]
    }
   ],
   "source": [
    "my_string = \"hello\"\n",
    "is_lower = my_string.islower()\n",
    "print(is_lower)  # Output: True\n"
   ]
  },
  {
   "cell_type": "markdown",
   "id": "30cc9588",
   "metadata": {},
   "source": [
    "### istitle(): Checks if the string follows title case convention."
   ]
  },
  {
   "cell_type": "code",
   "execution_count": 28,
   "id": "53c2c25b",
   "metadata": {},
   "outputs": [
    {
     "name": "stdout",
     "output_type": "stream",
     "text": [
      "True\n"
     ]
    }
   ],
   "source": [
    "my_string = \"Hello, World!\"\n",
    "is_title = my_string.istitle()\n",
    "print(is_title)  # Output: True\n"
   ]
  },
  {
   "cell_type": "markdown",
   "id": "3a9e0b23",
   "metadata": {},
   "source": [
    "### replace(): Replaces occurrences of a substring with a new string."
   ]
  },
  {
   "cell_type": "code",
   "execution_count": 29,
   "id": "6d4af798",
   "metadata": {},
   "outputs": [
    {
     "name": "stdout",
     "output_type": "stream",
     "text": [
      "Hello, Python!\n"
     ]
    }
   ],
   "source": [
    "my_string = \"Hello, World!\"\n",
    "new_string = my_string.replace(\"World\", \"Python\")\n",
    "print(new_string)  # Output: \"Hello, Python!\"\n"
   ]
  },
  {
   "cell_type": "markdown",
   "id": "97f4cad1",
   "metadata": {},
   "source": [
    "### swapcase(): Swaps the case of characters in the string (lowercase to uppercase and vice versa)"
   ]
  },
  {
   "cell_type": "code",
   "execution_count": 30,
   "id": "0e9ffb57",
   "metadata": {},
   "outputs": [
    {
     "name": "stdout",
     "output_type": "stream",
     "text": [
      "hELLO, wORLD!\n"
     ]
    }
   ],
   "source": [
    "my_string = \"Hello, World!\"\n",
    "swapped_case = my_string.swapcase()\n",
    "print(swapped_case)  # Output: \"hELLO, wORLD!\"\n"
   ]
  },
  {
   "cell_type": "markdown",
   "id": "6529ade2",
   "metadata": {},
   "source": [
    "### startswith() and endswith() with multiple prefixes/suffixes:"
   ]
  },
  {
   "cell_type": "code",
   "execution_count": 31,
   "id": "7acf6e37",
   "metadata": {},
   "outputs": [
    {
     "name": "stdout",
     "output_type": "stream",
     "text": [
      "True\n",
      "True\n"
     ]
    }
   ],
   "source": [
    "my_string = \"Hello, World!\"\n",
    "starts_with_hello = my_string.startswith((\"Hello\", \"Hi\"))\n",
    "ends_with_world = my_string.endswith((\"World!\", \"Universe!\"))\n",
    "print(starts_with_hello)  # Output: True\n",
    "print(ends_with_world)  # Output: True\n"
   ]
  },
  {
   "cell_type": "markdown",
   "id": "8c8fd70b",
   "metadata": {},
   "source": [
    "### isnumeric(): Checks if all characters in the string are numeric"
   ]
  },
  {
   "cell_type": "code",
   "execution_count": 32,
   "id": "6ba33f63",
   "metadata": {},
   "outputs": [
    {
     "name": "stdout",
     "output_type": "stream",
     "text": [
      "True\n"
     ]
    }
   ],
   "source": [
    "numeric_string = \"12345\"\n",
    "is_numeric = numeric_string.isnumeric()\n",
    "print(is_numeric)  # Output: True\n"
   ]
  },
  {
   "cell_type": "markdown",
   "id": "bc7f31e7",
   "metadata": {},
   "source": [
    "### capitalize(): Capitalizes the first character of the string and converts the rest to lowercase."
   ]
  },
  {
   "cell_type": "code",
   "execution_count": 33,
   "id": "db70d072",
   "metadata": {},
   "outputs": [
    {
     "name": "stdout",
     "output_type": "stream",
     "text": [
      "Hello, world!\n"
     ]
    }
   ],
   "source": [
    "my_string = \"hello, world!\"\n",
    "capitalized = my_string.capitalize()\n",
    "print(capitalized)  # Output: \"Hello, world!\"\n"
   ]
  },
  {
   "cell_type": "markdown",
   "id": "37737877",
   "metadata": {},
   "source": [
    "### center(width, fillchar): Centers the string within a specified width by padding it with a fill character."
   ]
  },
  {
   "cell_type": "code",
   "execution_count": 34,
   "id": "ca599abd",
   "metadata": {},
   "outputs": [
    {
     "name": "stdout",
     "output_type": "stream",
     "text": [
      "--Hello---\n"
     ]
    }
   ],
   "source": [
    "my_string = \"Hello\"\n",
    "centered = my_string.center(10, \"-\")\n",
    "print(centered)  # Output: \"--Hello---\"\n"
   ]
  },
  {
   "cell_type": "markdown",
   "id": "66777f4d",
   "metadata": {},
   "source": [
    "### expandtabs(tabsize): Expands tabs in the string to multiple spaces based on the specified tab size."
   ]
  },
  {
   "cell_type": "code",
   "execution_count": 35,
   "id": "8258dc8c",
   "metadata": {},
   "outputs": [
    {
     "name": "stdout",
     "output_type": "stream",
     "text": [
      "Hello   World\n"
     ]
    }
   ],
   "source": [
    "my_string = \"Hello\\tWorld\"\n",
    "expanded = my_string.expandtabs(4)\n",
    "print(expanded)  # Output: \"Hello   World\"\n"
   ]
  },
  {
   "cell_type": "markdown",
   "id": "7f66336c",
   "metadata": {},
   "source": [
    "### maketrans(x, y, z): Returns a translation table to be used in translate() method for replacing specified characters."
   ]
  },
  {
   "cell_type": "code",
   "execution_count": 36,
   "id": "b034a107",
   "metadata": {},
   "outputs": [
    {
     "name": "stdout",
     "output_type": "stream",
     "text": [
      "H2ll4, W4rld\n"
     ]
    }
   ],
   "source": [
    "table = str.maketrans(\"aeiou\", \"12345\", \"!@#$%\")\n",
    "my_string = \"Hello, World!\"\n",
    "translated = my_string.translate(table)\n",
    "print(translated)  # Output: \"H2ll4, W4rld!\"\n"
   ]
  },
  {
   "cell_type": "markdown",
   "id": "e8b9010f",
   "metadata": {},
   "source": [
    "### partition(separator): Splits the string at the first occurrence of the specified separator and returns a tuple with three elements: the part before the separator, the separator itself, and the part after the separator."
   ]
  },
  {
   "cell_type": "code",
   "execution_count": 37,
   "id": "664b76b0",
   "metadata": {},
   "outputs": [
    {
     "name": "stdout",
     "output_type": "stream",
     "text": [
      "('Hello', ', ', 'World!')\n"
     ]
    }
   ],
   "source": [
    "my_string = \"Hello, World!\"\n",
    "parts = my_string.partition(\", \")\n",
    "print(parts)  # Output: (\"Hello\", \", \", \"World!\")\n"
   ]
  },
  {
   "cell_type": "markdown",
   "id": "755cabd0",
   "metadata": {},
   "source": [
    "### rpartition(separator): Splits the string at the last occurrence of the specified separator and returns a tuple with three elements: the part before the separator, the separator itself, and the part after the separator."
   ]
  },
  {
   "cell_type": "code",
   "execution_count": 38,
   "id": "a09992c4",
   "metadata": {},
   "outputs": [
    {
     "name": "stdout",
     "output_type": "stream",
     "text": [
      "('Hello', ', ', 'World!')\n"
     ]
    }
   ],
   "source": [
    "my_string = \"Hello, World!\"\n",
    "parts = my_string.rpartition(\", \")\n",
    "print(parts)  # Output: (\"Hello, World\", \"\", \"\")\n"
   ]
  },
  {
   "cell_type": "markdown",
   "id": "d92ee40d",
   "metadata": {},
   "source": [
    "### isidentifier(): Checks if the string is a valid identifier (e.g., variable name) in Python."
   ]
  },
  {
   "cell_type": "code",
   "execution_count": 39,
   "id": "010a05c4",
   "metadata": {},
   "outputs": [
    {
     "name": "stdout",
     "output_type": "stream",
     "text": [
      "True\n"
     ]
    }
   ],
   "source": [
    "identifier = \"my_variable\"\n",
    "is_valid_identifier = identifier.isidentifier()\n",
    "print(is_valid_identifier)  # Output: True\n"
   ]
  },
  {
   "cell_type": "markdown",
   "id": "d6664fb7",
   "metadata": {},
   "source": [
    "### isprintable(): Checks if all characters in the string are printable (whitespace, digits, letters, and punctuation)."
   ]
  },
  {
   "cell_type": "code",
   "execution_count": 40,
   "id": "c6f2883e",
   "metadata": {},
   "outputs": [
    {
     "name": "stdout",
     "output_type": "stream",
     "text": [
      "True\n"
     ]
    }
   ],
   "source": [
    "printable_string = \"Hello, World!\"\n",
    "is_printable = printable_string.isprintable()\n",
    "print(is_printable)  # Output: True\n"
   ]
  },
  {
   "cell_type": "markdown",
   "id": "db6a347b",
   "metadata": {},
   "source": [
    "### zfill(width): Pads the string with zeros (0) to the specified width."
   ]
  },
  {
   "cell_type": "code",
   "execution_count": 41,
   "id": "d411550a",
   "metadata": {},
   "outputs": [
    {
     "name": "stdout",
     "output_type": "stream",
     "text": [
      "00042\n"
     ]
    }
   ],
   "source": [
    "my_string = \"42\"\n",
    "padded_string = my_string.zfill(5)\n",
    "print(padded_string)  # Output: \"00042\"\n"
   ]
  },
  {
   "cell_type": "markdown",
   "id": "2ea91dd7",
   "metadata": {},
   "source": [
    "### splitlines(): Splits the string into a list of lines, recognizing different line break characters."
   ]
  },
  {
   "cell_type": "code",
   "execution_count": 42,
   "id": "72678f76",
   "metadata": {},
   "outputs": [
    {
     "name": "stdout",
     "output_type": "stream",
     "text": [
      "['Line 1', 'Line 2', 'Line 3', 'Line 4']\n"
     ]
    }
   ],
   "source": [
    "multiline_string = \"Line 1\\nLine 2\\r\\nLine 3\\rLine 4\"\n",
    "lines = multiline_string.splitlines()\n",
    "print(lines)  # Output: ['Line 1', 'Line 2', 'Line 3', 'Line 4']\n"
   ]
  },
  {
   "cell_type": "markdown",
   "id": "f574bd04",
   "metadata": {},
   "source": [
    "### startswith() and endswith() with a specified start and end index:"
   ]
  },
  {
   "cell_type": "code",
   "execution_count": 43,
   "id": "5b2f56d6",
   "metadata": {},
   "outputs": [
    {
     "name": "stdout",
     "output_type": "stream",
     "text": [
      "True\n",
      "True\n"
     ]
    }
   ],
   "source": [
    "my_string = \"Hello, World!\"\n",
    "starts_with_hello = my_string.startswith(\"Hello\", 0, 5)\n",
    "ends_with_world = my_string.endswith(\"World!\", 7)\n",
    "print(starts_with_hello)  # Output: True\n",
    "print(ends_with_world)  # Output: True\n"
   ]
  },
  {
   "cell_type": "markdown",
   "id": "382a455c",
   "metadata": {},
   "source": [
    "### encode"
   ]
  },
  {
   "cell_type": "markdown",
   "id": "842a312b",
   "metadata": {},
   "source": [
    "## UTF-8 Encoding:"
   ]
  },
  {
   "cell_type": "code",
   "execution_count": 44,
   "id": "3f5e8c6d",
   "metadata": {},
   "outputs": [
    {
     "name": "stdout",
     "output_type": "stream",
     "text": [
      "b'Hello, World!'\n"
     ]
    }
   ],
   "source": [
    "my_string = \"Hello, World!\"\n",
    "encoded_string = my_string.encode('utf-8')\n",
    "print(encoded_string)  # Output: b'Hello, World!'"
   ]
  },
  {
   "cell_type": "markdown",
   "id": "e8327a5d",
   "metadata": {},
   "source": [
    "## ASCII Encoding:"
   ]
  },
  {
   "cell_type": "code",
   "execution_count": 45,
   "id": "885369d0",
   "metadata": {},
   "outputs": [
    {
     "name": "stdout",
     "output_type": "stream",
     "text": [
      "b'Hello, World!'\n"
     ]
    }
   ],
   "source": [
    "my_string = \"Hello, World!\"\n",
    "encoded_string = my_string.encode('ascii')\n",
    "print(encoded_string)  # Output: b'Hello, World!'"
   ]
  },
  {
   "cell_type": "markdown",
   "id": "4507da39",
   "metadata": {},
   "source": [
    "## Base64 Encoding:"
   ]
  },
  {
   "cell_type": "code",
   "execution_count": 46,
   "id": "991ce75a",
   "metadata": {},
   "outputs": [
    {
     "name": "stdout",
     "output_type": "stream",
     "text": [
      "SGVsbG8sIFdvcmxkIQ==\n"
     ]
    }
   ],
   "source": [
    "import base64\n",
    "\n",
    "my_string = \"Hello, World!\"\n",
    "encoded_bytes = base64.b64encode(my_string.encode('utf-8'))\n",
    "encoded_string = encoded_bytes.decode('utf-8')\n",
    "print(encoded_string)  # Output: \"SGVsbG8sIFdvcmxkIQ==\"\n"
   ]
  },
  {
   "cell_type": "markdown",
   "id": "41ef70fe",
   "metadata": {},
   "source": [
    "## URL Encoding (percent-encoding):"
   ]
  },
  {
   "cell_type": "code",
   "execution_count": 47,
   "id": "9724cdc7",
   "metadata": {},
   "outputs": [
    {
     "name": "stdout",
     "output_type": "stream",
     "text": [
      "Hello%2C%20World%21\n"
     ]
    }
   ],
   "source": [
    "import urllib.parse\n",
    "\n",
    "my_string = \"Hello, World!\"\n",
    "encoded_string = urllib.parse.quote(my_string)\n",
    "print(encoded_string)  # Output: \"Hello%2C%20World%21\"\n"
   ]
  },
  {
   "cell_type": "markdown",
   "id": "db713f5b",
   "metadata": {},
   "source": [
    "# String formatting\n",
    "String formatting in Python allows you to construct strings by combining variables and values in a formatted manner. There are multiple ways to perform string formatting in Python"
   ]
  },
  {
   "cell_type": "markdown",
   "id": "8dc56a88",
   "metadata": {},
   "source": [
    "## Using the % operator:"
   ]
  },
  {
   "cell_type": "code",
   "execution_count": 48,
   "id": "46e05856",
   "metadata": {},
   "outputs": [
    {
     "name": "stdout",
     "output_type": "stream",
     "text": [
      "My name is Ahsan and I am 20 years old.\n"
     ]
    }
   ],
   "source": [
    "name = \"Ahsan\"\n",
    "age = 20\n",
    "formatted_string = \"My name is %s and I am %d years old.\" % (name, age)\n",
    "print(formatted_string)  # Output: \"My name is Alice and I am 25 years old.\"\n"
   ]
  },
  {
   "cell_type": "markdown",
   "id": "17609965",
   "metadata": {},
   "source": [
    "## Using the str.format() method:"
   ]
  },
  {
   "cell_type": "code",
   "execution_count": 49,
   "id": "9895bf16",
   "metadata": {},
   "outputs": [
    {
     "name": "stdout",
     "output_type": "stream",
     "text": [
      "My name is Ahsan and I am 20 years old.\n"
     ]
    }
   ],
   "source": [
    "name = \"Ahsan\"\n",
    "age = 20\n",
    "formatted_string = \"My name is {} and I am {} years old.\".format(name, age)\n",
    "print(formatted_string)  # Output: \"My name is Alice and I am 25 years old.\"\n"
   ]
  },
  {
   "cell_type": "markdown",
   "id": "0c1973b7",
   "metadata": {},
   "source": [
    "## Using f-strings (formatted string literals) introduced in Python 3.6 and later:"
   ]
  },
  {
   "cell_type": "code",
   "execution_count": 50,
   "id": "37d36034",
   "metadata": {},
   "outputs": [
    {
     "name": "stdout",
     "output_type": "stream",
     "text": [
      "My name is Ahsan and I am 20 years old.\n"
     ]
    }
   ],
   "source": [
    "name = \"Ahsan\"\n",
    "age = 20\n",
    "formatted_string = f\"My name is {name} and I am {age} years old.\"\n",
    "print(formatted_string)  # Output: \"My name is Alice and I am 25 years old.\"\n"
   ]
  },
  {
   "cell_type": "markdown",
   "id": "572a7aeb",
   "metadata": {},
   "source": [
    "# Task Questions:\n",
    "Here are a few task-based questions related to Python strings:\n",
    "\n",
    "1. Task: Reverse a String\n",
    "- Question: Write a Python program to reverse a given string.\n",
    "   \n",
    "2. Task: Count Occurrences\n",
    "   - Question: Write a Python program that takes a string and a character as input and returns the number of occurrences of that character in the string.\n",
    "   \n",
    "3. Task: Palindrome Check\n",
    "   - Question: Write a Python program to check if a given string is a palindrome (reads the same forward and backward).\n",
    "   \n",
    "4. Task: Word Count\n",
    "   - Question: Write a Python program that takes a sentence as input and returns the count of words in the sentence.\n",
    "   \n",
    "5. Task: Capitalize Words\n",
    "   - Question: Write a Python program that takes a sentence as input and capitalizes the first letter of each word.\n",
    "   \n",
    "6. Task: Remove Duplicate Characters\n",
    "   - Question: Write a Python program that takes a string as input and removes any duplicate characters, keeping only the first occurrence of each character.\n",
    "   \n",
    "7. Task: Replace Substring\n",
    "   - Question: Write a Python program that takes a string, a target substring, and a replacement substring as input and replaces all occurrences of the target substring with the replacement substring.\n",
    "   \n",
    "8. Task: Count Vowels and Consonants\n",
    "   - Question: Write a Python program that takes a string as input and counts the number of vowels and consonants in the string.\n",
    "   \n",
    "9. Task: Extract Email Addresses\n",
    "   - Question: Write a Python program that takes a string as input and extracts all email addresses present in the string.\n",
    "   \n",
    "10. Task: Title Case Conversion\n",
    "    - Question: Write a Python program that takes a string as input and converts it to title case (capitalizes the first letter of each word and converts the remaining letters to lowercase).\n",
    "   \n",
    "These task-based questions can be used to practice and demonstrate your understanding of string manipulation and the various string methods available in Python."
   ]
  },
  {
   "cell_type": "markdown",
   "id": "b35e6848",
   "metadata": {},
   "source": [
    "<!DOCTYPE html>\n",
    "<html>\n",
    "<head>\n",
    "</head>\n",
    "<body>\n",
    "<div style=\"background-color: #32a8a6; color: black; padding: 8px;text-align: center;\">\n",
    "    <h1>My Social Profiles</h1>\n",
    "    Note: To Follow And Any Query Feel Free To Contact\n",
    "       \n",
    "- <a href=\"https://www.linkedin.com/in/m-usman-akram-b29685251/\">My LinkedIn Profile</a>\n",
    "        \n",
    "- <a href=\"https://github.com/engrusman00109\">My GitHub Account</a>\n",
    "\n",
    "- <a href=\"https://www.facebook.com/profile.php?id=100055510195015\">My FaceBook Account</a>\n",
    "    \n",
    "- <a href=\"musman00109@gmail.com\">Click here to send an email</a>\n",
    "- <a href=\"@EngrUsman00109\">My Twiter Account </a>\n",
    "    \n",
    "</div>\n",
    "      \n",
    "</body>\n",
    "</html>\n"
   ]
  }
 ],
 "metadata": {
  "kernelspec": {
   "display_name": "Python 3 (ipykernel)",
   "language": "python",
   "name": "python3"
  },
  "language_info": {
   "codemirror_mode": {
    "name": "ipython",
    "version": 3
   },
   "file_extension": ".py",
   "mimetype": "text/x-python",
   "name": "python",
   "nbconvert_exporter": "python",
   "pygments_lexer": "ipython3",
   "version": "3.9.7"
  }
 },
 "nbformat": 4,
 "nbformat_minor": 5
}
