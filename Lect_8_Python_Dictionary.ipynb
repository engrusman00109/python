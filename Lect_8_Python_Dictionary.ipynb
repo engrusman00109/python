{
 "cells": [
  {
   "cell_type": "markdown",
   "id": "8ac4bd91",
   "metadata": {},
   "source": [
    "<div style=\"background-color: rED; color: BLACK; padding: 8px;text-align: center;\">\n",
    "    <h2 > PYTHON LECTURE 08 </h2>\n",
    "    <h2> M.Usman Akram </h2>\n",
    "    \n",
    "</div>"
   ]
  },
  {
   "cell_type": "markdown",
   "id": "4f409102",
   "metadata": {},
   "source": [
    "# Dictionaries \n",
    "- in Python are unordered collections of key-value pairs. They are also known as associative arrays, maps, or hash tables in other programming languages. Dictionaries are mutable, meaning you can modify them by adding, updating, or removing key-value pairs.\n",
    "\n",
    "- Dictionaries are commonly used when you want to store and access data based on a specific key rather than an index. They are useful for tasks like mapping unique identifiers to values, building lookup tables, or representing structured data."
   ]
  },
  {
   "cell_type": "markdown",
   "id": "434c243b",
   "metadata": {},
   "source": [
    "# Creating a Dictionary:"
   ]
  },
  {
   "cell_type": "code",
   "execution_count": 1,
   "id": "6aef1cec",
   "metadata": {},
   "outputs": [
    {
     "name": "stdout",
     "output_type": "stream",
     "text": [
      "{'name': 'John', 'age': 30, 'city': 'New York'}\n"
     ]
    }
   ],
   "source": [
    "my_dict = {'name': 'John', 'age': 30, 'city': 'New York'}\n",
    "print(my_dict)  # Output: {'name': 'John', 'age': 30, 'city': 'New York'}\n"
   ]
  },
  {
   "cell_type": "markdown",
   "id": "21574dd7",
   "metadata": {},
   "source": [
    "# 2.Accessing Values:"
   ]
  },
  {
   "cell_type": "code",
   "execution_count": 2,
   "id": "5469a735",
   "metadata": {},
   "outputs": [
    {
     "name": "stdout",
     "output_type": "stream",
     "text": [
      "John\n"
     ]
    }
   ],
   "source": [
    "print(my_dict['name'])  # Output: John"
   ]
  },
  {
   "cell_type": "markdown",
   "id": "b8cb3a7c",
   "metadata": {},
   "source": [
    "# Updating a Dictionary:"
   ]
  },
  {
   "cell_type": "code",
   "execution_count": 3,
   "id": "012f212b",
   "metadata": {},
   "outputs": [
    {
     "name": "stdout",
     "output_type": "stream",
     "text": [
      "{'name': 'John', 'age': 31, 'city': 'New York'}\n"
     ]
    }
   ],
   "source": [
    "my_dict['age'] = 31\n",
    "print(my_dict)  # Output: {'name': 'John', 'age': 31, 'city': 'New York'}\n"
   ]
  },
  {
   "cell_type": "markdown",
   "id": "3694eb7a",
   "metadata": {},
   "source": [
    "# Adding a New Key-Value Pair:"
   ]
  },
  {
   "cell_type": "code",
   "execution_count": 4,
   "id": "a3be7e38",
   "metadata": {},
   "outputs": [
    {
     "name": "stdout",
     "output_type": "stream",
     "text": [
      "{'name': 'John', 'age': 31, 'city': 'New York', 'country': 'USA'}\n"
     ]
    }
   ],
   "source": [
    "my_dict['country'] = 'USA'\n",
    "print(my_dict)  # Output: {'name': 'John', 'age': 31, 'city': 'New York', 'country': 'USA'}\n"
   ]
  },
  {
   "cell_type": "markdown",
   "id": "80fe0695",
   "metadata": {},
   "source": [
    "# Deleting a Key-Value Pair:"
   ]
  },
  {
   "cell_type": "code",
   "execution_count": 5,
   "id": "9aa766fa",
   "metadata": {},
   "outputs": [
    {
     "name": "stdout",
     "output_type": "stream",
     "text": [
      "{'name': 'John', 'age': 31, 'country': 'USA'}\n"
     ]
    }
   ],
   "source": [
    "del my_dict['city']\n",
    "print(my_dict)  # Output: {'name': 'John', 'age': 31, 'country': 'USA'}\n"
   ]
  },
  {
   "cell_type": "markdown",
   "id": "63f5d369",
   "metadata": {},
   "source": [
    "# Checking if a Key Exists:"
   ]
  },
  {
   "cell_type": "code",
   "execution_count": 6,
   "id": "1a293b6b",
   "metadata": {},
   "outputs": [
    {
     "name": "stdout",
     "output_type": "stream",
     "text": [
      "Key 'name' exists!\n"
     ]
    }
   ],
   "source": [
    "if 'name' in my_dict:\n",
    "    print(\"Key 'name' exists!\")\n"
   ]
  },
  {
   "cell_type": "markdown",
   "id": "f7d51200",
   "metadata": {},
   "source": [
    "# Getting the Number of Key-Value Pairs:"
   ]
  },
  {
   "cell_type": "code",
   "execution_count": 7,
   "id": "2269bc3f",
   "metadata": {},
   "outputs": [
    {
     "name": "stdout",
     "output_type": "stream",
     "text": [
      "3\n"
     ]
    }
   ],
   "source": [
    "num_items = len(my_dict)\n",
    "print(num_items)  # Output: 3\n"
   ]
  },
  {
   "cell_type": "markdown",
   "id": "e50d48f2",
   "metadata": {},
   "source": [
    "# Getting a List of Keys:"
   ]
  },
  {
   "cell_type": "code",
   "execution_count": 8,
   "id": "0baeaaa9",
   "metadata": {},
   "outputs": [
    {
     "name": "stdout",
     "output_type": "stream",
     "text": [
      "['name', 'age', 'country']\n"
     ]
    }
   ],
   "source": [
    "keys_list = list(my_dict.keys())\n",
    "print(keys_list)  # Output: ['name', 'age', 'country']\n"
   ]
  },
  {
   "cell_type": "markdown",
   "id": "9154da07",
   "metadata": {},
   "source": [
    "# Getting a List of Keys:"
   ]
  },
  {
   "cell_type": "code",
   "execution_count": 9,
   "id": "d764fdba",
   "metadata": {},
   "outputs": [
    {
     "name": "stdout",
     "output_type": "stream",
     "text": [
      "['name', 'age', 'country']\n"
     ]
    }
   ],
   "source": [
    "keys_list = list(my_dict.keys())\n",
    "print(keys_list)  # Output: ['name', 'age', 'country']\n"
   ]
  },
  {
   "cell_type": "markdown",
   "id": "2a863344",
   "metadata": {},
   "source": [
    "# Getting a List of Values:"
   ]
  },
  {
   "cell_type": "markdown",
   "id": "4c0aa7db",
   "metadata": {},
   "source": [
    "values_list = list(my_dict.values())\n",
    "print(values_list)  # Output: ['John', 31, 'USA']\n"
   ]
  },
  {
   "cell_type": "markdown",
   "id": "bf8c588c",
   "metadata": {},
   "source": [
    "# Getting a List of Key-Value Pairs:"
   ]
  },
  {
   "cell_type": "code",
   "execution_count": 10,
   "id": "f1726e77",
   "metadata": {},
   "outputs": [
    {
     "name": "stdout",
     "output_type": "stream",
     "text": [
      "[('name', 'John'), ('age', 31), ('country', 'USA')]\n"
     ]
    }
   ],
   "source": [
    "items_list = list(my_dict.items())\n",
    "print(items_list)  # Output: [('name', 'John'), ('age', 31), ('country', 'USA')]\n"
   ]
  },
  {
   "cell_type": "markdown",
   "id": "a4955861",
   "metadata": {},
   "source": [
    "# Copying a Dictionary:"
   ]
  },
  {
   "cell_type": "code",
   "execution_count": 11,
   "id": "5d74fd87",
   "metadata": {},
   "outputs": [
    {
     "name": "stdout",
     "output_type": "stream",
     "text": [
      "{'name': 'John', 'age': 31, 'country': 'USA'}\n"
     ]
    }
   ],
   "source": [
    "new_dict = my_dict.copy()\n",
    "print(new_dict)  # Output: {'name': 'John', 'age': 31, 'country': 'USA'}\n"
   ]
  },
  {
   "cell_type": "markdown",
   "id": "470bb018",
   "metadata": {},
   "source": [
    "# Clearing a Dictionary:"
   ]
  },
  {
   "cell_type": "code",
   "execution_count": 12,
   "id": "03da1e0d",
   "metadata": {},
   "outputs": [
    {
     "name": "stdout",
     "output_type": "stream",
     "text": [
      "{}\n"
     ]
    }
   ],
   "source": [
    "my_dict.clear()\n",
    "print(my_dict)  # Output: {}\n"
   ]
  },
  {
   "cell_type": "markdown",
   "id": "7a940559",
   "metadata": {},
   "source": [
    "# Getting a Value with Default:"
   ]
  },
  {
   "cell_type": "code",
   "execution_count": 13,
   "id": "a9443c33",
   "metadata": {},
   "outputs": [
    {
     "name": "stdout",
     "output_type": "stream",
     "text": [
      "Default\n"
     ]
    }
   ],
   "source": [
    "value = my_dict.get('name', 'Default')\n",
    "print(value)  # Output: Default\n"
   ]
  },
  {
   "cell_type": "markdown",
   "id": "2622e1ce",
   "metadata": {},
   "source": [
    "# Removing and Returning a Value:"
   ]
  },
  {
   "cell_type": "code",
   "execution_count": 14,
   "id": "b9d72894",
   "metadata": {},
   "outputs": [
    {
     "name": "stdout",
     "output_type": "stream",
     "text": [
      "{'name': 'John', 'age': 30, 'city': 'New York'}\n"
     ]
    }
   ],
   "source": [
    "my_dict = {'name': 'John', 'age': 30, 'city': 'New York'}\n",
    "print(my_dict)  # Output: {'name': 'John', 'age': 30, 'city': 'New York'}\n"
   ]
  },
  {
   "cell_type": "code",
   "execution_count": 15,
   "id": "4c56b866",
   "metadata": {},
   "outputs": [
    {
     "name": "stdout",
     "output_type": "stream",
     "text": [
      "30\n",
      "{'name': 'John', 'city': 'New York'}\n"
     ]
    }
   ],
   "source": [
    "value = my_dict.pop('age')\n",
    "print(value)  # Output: 31\n",
    "print(my_dict)  # Output: {'name': 'John', 'country': 'USA'}\n"
   ]
  },
  {
   "cell_type": "markdown",
   "id": "a680a30b",
   "metadata": {},
   "source": [
    "# Removing and Returning an Arbitrary Key-Value Pair:"
   ]
  },
  {
   "cell_type": "code",
   "execution_count": 16,
   "id": "537a5313",
   "metadata": {},
   "outputs": [
    {
     "name": "stdout",
     "output_type": "stream",
     "text": [
      "city New York\n",
      "{'name': 'John'}\n"
     ]
    }
   ],
   "source": [
    "key, value = my_dict.popitem()\n",
    "print(key, value)  # Output: ('country', 'USA')\n",
    "print(my_dict)  # Output: {'name': 'John'}\n"
   ]
  },
  {
   "cell_type": "markdown",
   "id": "65622905",
   "metadata": {},
   "source": [
    "# Iterating Over a Dictionary:"
   ]
  },
  {
   "cell_type": "code",
   "execution_count": 17,
   "id": "5299da1b",
   "metadata": {},
   "outputs": [
    {
     "name": "stdout",
     "output_type": "stream",
     "text": [
      "name John\n"
     ]
    }
   ],
   "source": [
    "for key, value in my_dict.items():\n",
    "    print(key, value)\n",
    "# Output:\n",
    "# name John\n"
   ]
  },
  {
   "cell_type": "markdown",
   "id": "348e6470",
   "metadata": {},
   "source": [
    "# Checking if a Value Exists:"
   ]
  },
  {
   "cell_type": "code",
   "execution_count": 18,
   "id": "b8efde58",
   "metadata": {},
   "outputs": [
    {
     "name": "stdout",
     "output_type": "stream",
     "text": [
      "Value 'John' exists!\n"
     ]
    }
   ],
   "source": [
    "if 'John' in my_dict.values():\n",
    "    print(\"Value 'John' exists!\")\n"
   ]
  },
  {
   "cell_type": "markdown",
   "id": "21c6cb9d",
   "metadata": {},
   "source": [
    "# Checking if a Dictionary is Empty:"
   ]
  },
  {
   "cell_type": "code",
   "execution_count": 19,
   "id": "ee202a29",
   "metadata": {},
   "outputs": [],
   "source": [
    "if not my_dict:\n",
    "    print(\"The dictionary is empty!\")\n"
   ]
  },
  {
   "cell_type": "markdown",
   "id": "978d4df9",
   "metadata": {},
   "source": [
    "# Creating a Dictionary with a Constructor:"
   ]
  },
  {
   "cell_type": "code",
   "execution_count": 20,
   "id": "fcbf016d",
   "metadata": {},
   "outputs": [
    {
     "name": "stdout",
     "output_type": "stream",
     "text": [
      "{'name': 'John', 'age': 30, 'city': 'New York'}\n"
     ]
    }
   ],
   "source": [
    "my_dict = dict(name='John', age=30, city='New York')\n",
    "print(my_dict)  # Output: {'name': 'John', 'age': 30, 'city': 'New York'}\n"
   ]
  },
  {
   "cell_type": "markdown",
   "id": "d2f26616",
   "metadata": {},
   "source": [
    "# Setting a Default Value if Key Doesn't Exist:"
   ]
  },
  {
   "cell_type": "code",
   "execution_count": 21,
   "id": "f7dbf8c3",
   "metadata": {},
   "outputs": [
    {
     "name": "stdout",
     "output_type": "stream",
     "text": [
      "Unknown\n",
      "{'name': 'John', 'age': 30, 'city': 'New York', 'country': 'Unknown'}\n"
     ]
    }
   ],
   "source": [
    "value = my_dict.setdefault('country', 'Unknown')\n",
    "print(value)  # Output: Unknown\n",
    "print(my_dict)  # Output: {'name': 'John', 'age': 30, 'city': 'New York', 'country': 'Unknown'}\n"
   ]
  },
  {
   "cell_type": "markdown",
   "id": "a81e787e",
   "metadata": {},
   "source": [
    "# Merging Dictionaries (Python 3.9+):"
   ]
  },
  {
   "cell_type": "code",
   "execution_count": 22,
   "id": "3861f39c",
   "metadata": {},
   "outputs": [
    {
     "name": "stdout",
     "output_type": "stream",
     "text": [
      "{'name': 'John', 'age': 30}\n"
     ]
    }
   ],
   "source": [
    "dict1 = {'name': 'John'}\n",
    "dict2 = {'age': 30}\n",
    "merged_dict = {**dict1, **dict2}\n",
    "print(merged_dict)  # Output: {'name': 'John', 'age': 30}\n"
   ]
  },
  {
   "cell_type": "markdown",
   "id": "f94df0c5",
   "metadata": {},
   "source": [
    "# Sorting a Dictionary by Key:"
   ]
  },
  {
   "cell_type": "code",
   "execution_count": 23,
   "id": "f1efb867",
   "metadata": {},
   "outputs": [
    {
     "name": "stdout",
     "output_type": "stream",
     "text": [
      "{'age': 30, 'city': 'New York', 'country': 'Unknown', 'name': 'John'}\n"
     ]
    }
   ],
   "source": [
    "sorted_dict = dict(sorted(my_dict.items()))\n",
    "print(sorted_dict)  # Output: {'age': 30, 'city': 'New York', 'name': 'John'}\n"
   ]
  },
  {
   "cell_type": "markdown",
   "id": "ceb07610",
   "metadata": {},
   "source": [
    "# Sorting a Dictionary by Value:"
   ]
  },
  {
   "cell_type": "code",
   "execution_count": 24,
   "id": "731d7b68",
   "metadata": {},
   "outputs": [
    {
     "ename": "TypeError",
     "evalue": "'<' not supported between instances of 'int' and 'str'",
     "output_type": "error",
     "traceback": [
      "\u001b[1;31m---------------------------------------------------------------------------\u001b[0m",
      "\u001b[1;31mTypeError\u001b[0m                                 Traceback (most recent call last)",
      "\u001b[1;32mC:\\Users\\SAEEDC~1\\AppData\\Local\\Temp/ipykernel_2720/2935716884.py\u001b[0m in \u001b[0;36m<module>\u001b[1;34m\u001b[0m\n\u001b[1;32m----> 1\u001b[1;33m \u001b[0msorted_dict\u001b[0m \u001b[1;33m=\u001b[0m \u001b[0mdict\u001b[0m\u001b[1;33m(\u001b[0m\u001b[0msorted\u001b[0m\u001b[1;33m(\u001b[0m\u001b[0mmy_dict\u001b[0m\u001b[1;33m.\u001b[0m\u001b[0mitems\u001b[0m\u001b[1;33m(\u001b[0m\u001b[1;33m)\u001b[0m\u001b[1;33m,\u001b[0m \u001b[0mkey\u001b[0m\u001b[1;33m=\u001b[0m\u001b[1;32mlambda\u001b[0m \u001b[0mx\u001b[0m\u001b[1;33m:\u001b[0m \u001b[0mx\u001b[0m\u001b[1;33m[\u001b[0m\u001b[1;36m1\u001b[0m\u001b[1;33m]\u001b[0m\u001b[1;33m)\u001b[0m\u001b[1;33m)\u001b[0m\u001b[1;33m\u001b[0m\u001b[1;33m\u001b[0m\u001b[0m\n\u001b[0m\u001b[0;32m      2\u001b[0m \u001b[0mprint\u001b[0m\u001b[1;33m(\u001b[0m\u001b[0msorted_dict\u001b[0m\u001b[1;33m)\u001b[0m  \u001b[1;31m# Output: {'name': 'John', 'age': 30, 'city': 'New York'}\u001b[0m\u001b[1;33m\u001b[0m\u001b[1;33m\u001b[0m\u001b[0m\n",
      "\u001b[1;31mTypeError\u001b[0m: '<' not supported between instances of 'int' and 'str'"
     ]
    }
   ],
   "source": [
    "sorted_dict = dict(sorted(my_dict.items(), key=lambda x: x[1]))\n",
    "print(sorted_dict)  # Output: {'name': 'John', 'age': 30, 'city': 'New York'}\n"
   ]
  },
  {
   "cell_type": "markdown",
   "id": "93f31dd1",
   "metadata": {},
   "source": [
    "# Creating a Dictionary from Two Lists:"
   ]
  },
  {
   "cell_type": "code",
   "execution_count": null,
   "id": "e05ce0c5",
   "metadata": {},
   "outputs": [],
   "source": [
    "keys = ['name', 'age', 'city']\n",
    "values = ['John', 30, 'New York']\n",
    "combined_dict = dict(zip(keys, values))\n",
    "print(combined_dict)  # Output: {'name': 'John', 'age': 30, 'city': 'New York'}\n"
   ]
  },
  {
   "cell_type": "markdown",
   "id": "45cb51a3",
   "metadata": {},
   "source": [
    "# Creating a Dictionary with Default Values"
   ]
  },
  {
   "cell_type": "code",
   "execution_count": null,
   "id": "cfb45b0e",
   "metadata": {},
   "outputs": [],
   "source": [
    "keys = ['name', 'age', 'city']\n",
    "values = ['John', 30, 'New York']\n",
    "combined_dict = dict(zip(keys, values))\n",
    "print(combined_dict)  # Output: {'name': 'John', 'age': 30, 'city': 'New York'}\n"
   ]
  },
  {
   "cell_type": "markdown",
   "id": "eb60ff71",
   "metadata": {},
   "source": [
    "# Checking Equality of Two Dictionaries:"
   ]
  },
  {
   "cell_type": "code",
   "execution_count": null,
   "id": "b21f6435",
   "metadata": {},
   "outputs": [],
   "source": [
    "dict1 = {'name': 'John', 'age': 30}\n",
    "dict2 = {'age': 30, 'name': 'John'}\n",
    "if dict1 == dict2:\n",
    "    print(\"The dictionaries are equal!\")\n"
   ]
  },
  {
   "cell_type": "markdown",
   "id": "fa570054",
   "metadata": {},
   "source": [
    "# Creating a Nested Dictionary:"
   ]
  },
  {
   "cell_type": "code",
   "execution_count": null,
   "id": "e18fd1cf",
   "metadata": {},
   "outputs": [],
   "source": [
    "student = {\n",
    "    'name': 'John',\n",
    "    'age': 20,\n",
    "    'grades': {'math': 90, 'science': 85, 'history': 92}\n",
    "}\n",
    "print(student['grades']['math'])  # Output: 90\n"
   ]
  },
  {
   "cell_type": "markdown",
   "id": "e096d19e",
   "metadata": {},
   "source": [
    "# Accessing a Non-existent Key with get():"
   ]
  },
  {
   "cell_type": "code",
   "execution_count": null,
   "id": "fc9f1117",
   "metadata": {},
   "outputs": [],
   "source": [
    "my_dict = {'name': 'John', 'age': 30}\n",
    "value = my_dict.get('country', 'Unknown')\n",
    "print(value)  # Output: Unknown\n"
   ]
  },
  {
   "cell_type": "markdown",
   "id": "469b8892",
   "metadata": {},
   "source": [
    "# Counting the Occurrences of Values in a Dictionary:"
   ]
  },
  {
   "cell_type": "code",
   "execution_count": null,
   "id": "86ded5af",
   "metadata": {},
   "outputs": [],
   "source": [
    "my_dict = {'a': 1, 'b': 2, 'c': 1, 'd': 2}\n",
    "value_count = {}\n",
    "for value in my_dict.values():\n",
    "    value_count[value] = value_count.get(value, 0) + 1\n",
    "print(value_count)  # Output: {1: 2, 2: 2}\n"
   ]
  },
  {
   "cell_type": "markdown",
   "id": "bde55d50",
   "metadata": {},
   "source": [
    "# Removing a Key-Value Pair and Returning a Default Value:"
   ]
  },
  {
   "cell_type": "code",
   "execution_count": null,
   "id": "ef4423bb",
   "metadata": {},
   "outputs": [],
   "source": [
    "value = my_dict.pop('age', 0)  # Remove 'age' key and return 0 if not found\n",
    "print(value)  # Output: 30\n"
   ]
  },
  {
   "cell_type": "markdown",
   "id": "9b5be98b",
   "metadata": {},
   "source": [
    "# Getting a List of Keys in Insertion Order (Python 3.7+):"
   ]
  },
  {
   "cell_type": "code",
   "execution_count": null,
   "id": "3f9cbe20",
   "metadata": {},
   "outputs": [],
   "source": [
    "from collections import OrderedDict\n",
    "\n",
    "my_dict = {'name': 'John', 'age': 30, 'city': 'New York'}\n",
    "keys_list = list(OrderedDict(my_dict).keys())\n",
    "print(keys_list)  # Output: ['name', 'age', 'city']\n"
   ]
  },
  {
   "cell_type": "markdown",
   "id": "c7696a7c",
   "metadata": {},
   "source": [
    "# Converting Dictionary Keys to a Set:"
   ]
  },
  {
   "cell_type": "code",
   "execution_count": null,
   "id": "6550404c",
   "metadata": {},
   "outputs": [],
   "source": [
    "my_dict = {'name': 'John', 'age': 30, 'city': 'New York'}\n",
    "key_set = set(my_dict.keys())\n",
    "print(key_set)  # Output: {'name', 'age', 'city'}\n"
   ]
  },
  {
   "cell_type": "markdown",
   "id": "6c24fade",
   "metadata": {},
   "source": [
    "# Checking if All Keys or Values Satisfy a Condition:"
   ]
  },
  {
   "cell_type": "code",
   "execution_count": null,
   "id": "d1fa6cd2",
   "metadata": {},
   "outputs": [],
   "source": [
    "my_dict = {'name': 'John', 'age': 30, 'city': 'New York'}\n",
    "all_keys = all(key.isalpha() for key in my_dict.keys())\n",
    "all_values = all(value > 0 for value in my_dict.values())\n",
    "print(all_keys)  # Output: True\n",
    "print(all_values)  # Output: True\n"
   ]
  },
  {
   "cell_type": "markdown",
   "id": "3b173259",
   "metadata": {},
   "source": [
    "# Creating a Dictionary from a List of Tuples:"
   ]
  },
  {
   "cell_type": "code",
   "execution_count": null,
   "id": "b2835e42",
   "metadata": {},
   "outputs": [],
   "source": [
    "my_list = [('name', 'John'), ('age', 30), ('city', 'New York')]\n",
    "my_dict = dict(my_list)\n",
    "print(my_dict)  # Output: {'name': 'John', 'age': 30, 'city': 'New York'}\n"
   ]
  },
  {
   "cell_type": "markdown",
   "id": "953c2e25",
   "metadata": {},
   "source": [
    "# Checking if Any Key or Value Satisfies a Condition:"
   ]
  },
  {
   "cell_type": "code",
   "execution_count": null,
   "id": "a81b8866",
   "metadata": {},
   "outputs": [],
   "source": [
    "my_dict = {'name': 'John', 'age': 30, 'city': 'New York'}\n",
    "any_key = any(key == 'age' for key in my_dict.keys())\n",
    "any_value = any(value == 'John' for value in my_dict.values())\n",
    "print(any_key)  # Output: True\n",
    "print(any_value)  # Output: True\n"
   ]
  },
  {
   "cell_type": "markdown",
   "id": "24a69ddc",
   "metadata": {},
   "source": [
    "# Checking if Two Dictionaries Have the Same Keys:"
   ]
  },
  {
   "cell_type": "code",
   "execution_count": null,
   "id": "72fb9424",
   "metadata": {},
   "outputs": [],
   "source": [
    "dict1 = {'name': 'John', 'age': 30}\n",
    "dict2 = {'age': 30, 'city': 'New York'}\n",
    "if set(dict1.keys()) == set(dict2.keys()):\n",
    "    print(\"The dictionaries have the same keys!\")\n"
   ]
  },
  {
   "cell_type": "markdown",
   "id": "dd2cc2b6",
   "metadata": {},
   "source": [
    "# Filtering a Dictionary Based on Key or Value Conditions:"
   ]
  },
  {
   "cell_type": "code",
   "execution_count": null,
   "id": "44d823a8",
   "metadata": {},
   "outputs": [],
   "source": [
    "my_dict = {'name': 'John', 'age': 30, 'city': 'New York'}\n",
    "filtered_dict = {key: value for key, value in my_dict.items() if key != 'age'}\n",
    "print(filtered_dict)  # Output: {'name': 'John', 'city': 'New York'}\n"
   ]
  },
  {
   "cell_type": "markdown",
   "id": "a5fe9e25",
   "metadata": {},
   "source": [
    "# Combining Dictionaries Using update() Method:"
   ]
  },
  {
   "cell_type": "code",
   "execution_count": null,
   "id": "ce1a86af",
   "metadata": {},
   "outputs": [],
   "source": [
    "dict1 = {'name': 'John', 'age': 30}\n",
    "dict2 = {'age': 31, 'city': 'New York'}\n",
    "dict1.update(dict2)\n",
    "print(dict1)  # Output: {'name': 'John', 'age': 31, 'city': 'New York'}\n"
   ]
  },
  {
   "cell_type": "markdown",
   "id": "a7202efc",
   "metadata": {},
   "source": [
    "# Creating a Dictionary with Default Values using defaultdict:"
   ]
  },
  {
   "cell_type": "code",
   "execution_count": null,
   "id": "517da1ed",
   "metadata": {},
   "outputs": [],
   "source": [
    "from collections import defaultdict\n",
    "\n",
    "my_dict = defaultdict(int)  # Default value is 0 (integer)\n",
    "my_dict['count'] += 1\n",
    "print(my_dict)  # Output: {'count': 1}\n"
   ]
  },
  {
   "cell_type": "markdown",
   "id": "f66d34ea",
   "metadata": {},
   "source": [
    "# Reversing Keys and Values in a Dictionary:"
   ]
  },
  {
   "cell_type": "code",
   "execution_count": null,
   "id": "fa861dc3",
   "metadata": {},
   "outputs": [],
   "source": [
    "my_dict = {'name': 'John', 'age': 30, 'city': 'New York'}\n",
    "reversed_dict = {value: key for key, value in my_dict.items()}\n",
    "print(reversed_dict)  # Output: {'John': 'name', 30: 'age', 'New York': 'city'}\n"
   ]
  },
  {
   "cell_type": "markdown",
   "id": "e0810c13",
   "metadata": {},
   "source": [
    "# Updating Values in Nested Dictionaries:"
   ]
  },
  {
   "cell_type": "code",
   "execution_count": null,
   "id": "1b8914dd",
   "metadata": {},
   "outputs": [],
   "source": [
    "my_dict = {'person': {'name': 'John', 'age': 30}}\n",
    "my_dict['person']['age'] = 31\n",
    "print(my_dict)  # Output: {'person': {'name': 'John', 'age': 31}}\n"
   ]
  },
  {
   "cell_type": "markdown",
   "id": "86a6f0b7",
   "metadata": {},
   "source": [
    "# Flattening a Dictionary:"
   ]
  },
  {
   "cell_type": "code",
   "execution_count": null,
   "id": "f9d30d7d",
   "metadata": {},
   "outputs": [],
   "source": [
    "import itertools\n",
    "\n",
    "my_dict = {'person': {'name': 'John', 'age': 30}, 'city': 'New York'}\n",
    "flattened_dict = dict(itertools.chain.from_iterable(d.items() if isinstance(d, dict) else [(k, d)] for k, d in my_dict.items()))\n",
    "print(flattened_dict)  # Output: {'name': 'John', 'age': 30, 'city': 'New York'}\n"
   ]
  },
  {
   "cell_type": "markdown",
   "id": "37ddc2ec",
   "metadata": {},
   "source": [
    "# Converting a Dictionary to a JSON String:"
   ]
  },
  {
   "cell_type": "code",
   "execution_count": null,
   "id": "bfb16ca4",
   "metadata": {},
   "outputs": [],
   "source": [
    "import json\n",
    "\n",
    "my_dict = {'name': 'John', 'age': 30, 'city': 'New York'}\n",
    "json_str = json.dumps(my_dict)\n",
    "print(json_str)  # Output: {\"name\": \"John\", \"age\": 30, \"city\": \"New York\"}\n"
   ]
  },
  {
   "cell_type": "markdown",
   "id": "1dfcf282",
   "metadata": {},
   "source": [
    "solve a real-life practice question involving dictionaries in Python. Here's an example:\n",
    "\n",
    "Question:\n",
    "You work for a company that sells various products. The sales data for the month of May is provided in the form of a list of dictionaries. Each dictionary represents a sale and contains the following information: 'product' (name of the product), 'quantity' (number of units sold), and 'price' (price per unit). Write a program that calculates the total sales for each product and displays the result.\n",
    "\n",
    "Sales Data:\n",
    "```python\n",
    "sales = [\n",
    "    {'product': 'Apple', 'quantity': 10, 'price': 2.5},\n",
    "    {'product': 'Banana', 'quantity': 5, 'price': 1.8},\n",
    "    {'product': 'Orange', 'quantity': 8, 'price': 3.2},\n",
    "    {'product': 'Apple', 'quantity': 15, 'price': 2.5},\n",
    "    {'product': 'Banana', 'quantity': 12, 'price': 1.8},\n",
    "    {'product': 'Grape', 'quantity': 6, 'price': 4.0},\n",
    "    {'product': 'Orange', 'quantity': 10, 'price': 3.2}\n",
    "]\n",
    "```\n",
    "\n",
    "Solution:\n",
    "```python\n",
    "sales_summary = {}\n",
    "\n",
    "# Calculate total sales for each product\n",
    "for sale in sales:\n",
    "    product = sale['product']\n",
    "    quantity = sale['quantity']\n",
    "    price = sale['price']\n",
    "    total_sale = quantity * price\n",
    "\n",
    "    if product in sales_summary:\n",
    "        sales_summary[product] += total_sale\n",
    "    else:\n",
    "        sales_summary[product] = total_sale\n",
    "\n",
    "# Display the sales summary\n",
    "for product, total_sale in sales_summary.items():\n",
    "    print(f\"Total sales of {product}: ${total_sale:.2f}\")\n",
    "```\n",
    "\n",
    "Output:\n",
    "```\n",
    "Total sales of Apple: $62.50\n",
    "Total sales of Banana: $43.20\n",
    "Total sales of Orange: $51.20\n",
    "Total sales of Grape: $24.00\n",
    "```\n",
    "\n",
    "In this solution, we iterate over each sale in the `sales` list and calculate the total sale by multiplying the quantity and price. We use a dictionary `sales_summary` to keep track of the total sales for each product. If a product already exists in the dictionary, we add the current sale to the existing total. Otherwise, we add a new entry for the product in the dictionary. Finally, we iterate over the `sales_summary` dictionary and display the total sales for each product."
   ]
  },
  {
   "cell_type": "markdown",
   "id": "001ffe43",
   "metadata": {},
   "source": [
    "<!DOCTYPE html>\n",
    "<html>\n",
    "<head>\n",
    "</head>\n",
    "<body>\n",
    "<div style=\"background-color: #32a8a6; color: black; padding: 8px;text-align: center;\">\n",
    "    <h1>My Social Profiles</h1>\n",
    "    Note: To Follow And Any Query Feel Free To Contact\n",
    "       \n",
    "- <a href=\"https://www.linkedin.com/in/m-usman-akram-b29685251/\">My LinkedIn Profile</a>\n",
    "        \n",
    "- <a href=\"https://github.com/engrusman00109\">My GitHub Account</a>\n",
    "\n",
    "- <a href=\"https://www.facebook.com/profile.php?id=100055510195015\">My FaceBook Account</a>\n",
    "    \n",
    "- <a href=\"musman00109@gmail.com\">Click here to send an email</a>\n",
    "- <a href=\"@EngrUsman00109\">My Twiter Account </a>\n",
    "    \n",
    "</div>\n",
    "      \n",
    "</body>\n",
    "</html>\n"
   ]
  }
 ],
 "metadata": {
  "kernelspec": {
   "display_name": "Python 3 (ipykernel)",
   "language": "python",
   "name": "python3"
  },
  "language_info": {
   "codemirror_mode": {
    "name": "ipython",
    "version": 3
   },
   "file_extension": ".py",
   "mimetype": "text/x-python",
   "name": "python",
   "nbconvert_exporter": "python",
   "pygments_lexer": "ipython3",
   "version": "3.9.7"
  }
 },
 "nbformat": 4,
 "nbformat_minor": 5
}
