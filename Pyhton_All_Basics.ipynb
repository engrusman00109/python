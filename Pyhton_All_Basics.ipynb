{
 "cells": [
  {
   "cell_type": "markdown",
   "id": "16772458",
   "metadata": {
    "papermill": {
     "duration": 0.05704,
     "end_time": "2022-11-11T10:16:04.497248",
     "exception": false,
     "start_time": "2022-11-11T10:16:04.440208",
     "status": "completed"
    },
    "tags": []
   },
   "source": [
    "<div style=\"background-color: rED; color: BLACK; padding: 8px;text-align: center;\">\n",
    "    <h2 > PYTHON Basics </h2>\n",
    "    <h2> M.Usman Akram </h2>\n",
    "    \n",
    "</div>"
   ]
  },
  {
   "cell_type": "markdown",
   "id": "129dfbc7",
   "metadata": {
    "papermill": {
     "duration": 0.051684,
     "end_time": "2022-11-11T10:16:04.601616",
     "exception": false,
     "start_time": "2022-11-11T10:16:04.549932",
     "status": "completed"
    },
    "tags": []
   },
   "source": [
    "# Python Introduction :\n",
    "- Python is a popular programming language. It was created by Guido van Rossum, and released in 1991.\n",
    "\n",
    "- It is used for:\n",
    "\n",
    "    - web development (server-side)\n",
    "    - software development\n",
    "    - mathematics\n",
    "    - system scripting."
   ]
  },
  {
   "cell_type": "markdown",
   "id": "b03756b3",
   "metadata": {
    "papermill": {
     "duration": 0.051441,
     "end_time": "2022-11-11T10:16:04.705007",
     "exception": false,
     "start_time": "2022-11-11T10:16:04.653566",
     "status": "completed"
    },
    "tags": []
   },
   "source": [
    "### Execute Python Syntax :"
   ]
  },
  {
   "cell_type": "code",
   "execution_count": 1,
   "id": "ef622cf1",
   "metadata": {
    "execution": {
     "iopub.execute_input": "2022-11-11T10:16:04.812077Z",
     "iopub.status.busy": "2022-11-11T10:16:04.811273Z",
     "iopub.status.idle": "2022-11-11T10:16:04.823162Z",
     "shell.execute_reply": "2022-11-11T10:16:04.821905Z"
    },
    "papermill": {
     "duration": 0.069261,
     "end_time": "2022-11-11T10:16:04.825904",
     "exception": false,
     "start_time": "2022-11-11T10:16:04.756643",
     "status": "completed"
    },
    "tags": []
   },
   "outputs": [
    {
     "name": "stdout",
     "output_type": "stream",
     "text": [
      "I am Usman Akram \n"
     ]
    }
   ],
   "source": [
    "print(\"I am Usman Akram \")"
   ]
  },
  {
   "cell_type": "markdown",
   "id": "f8787716",
   "metadata": {
    "papermill": {
     "duration": 0.052684,
     "end_time": "2022-11-11T10:16:04.931602",
     "exception": false,
     "start_time": "2022-11-11T10:16:04.878918",
     "status": "completed"
    },
    "tags": []
   },
   "source": [
    "### Python Indentation:\n",
    "- Indentation refers to the spaces at the beginning of a code line.\n",
    "\n",
    "- Where in other programming languages the indentation in code is for readability only, the indentation in Python is very important.\n",
    "\n",
    "- Python uses indentation to indicate a block of code."
   ]
  },
  {
   "cell_type": "markdown",
   "id": "5254ae2c",
   "metadata": {
    "papermill": {
     "duration": 0.051739,
     "end_time": "2022-11-11T10:16:05.035525",
     "exception": false,
     "start_time": "2022-11-11T10:16:04.983786",
     "status": "completed"
    },
    "tags": []
   },
   "source": [
    "# Python Comments:\n",
    "- Comments can be used to explain Python code.\n",
    "\n",
    "- Comments can be used to make the code more readable.\n",
    "\n",
    "- Comments can be used to prevent execution when testing code.\n",
    "\n",
    "- Comments starts with a #, and Python will ignore them."
   ]
  },
  {
   "cell_type": "markdown",
   "id": "3deebb6c",
   "metadata": {
    "papermill": {
     "duration": 0.052443,
     "end_time": "2022-11-11T10:16:05.140228",
     "exception": false,
     "start_time": "2022-11-11T10:16:05.087785",
     "status": "completed"
    },
    "tags": []
   },
   "source": [
    "#### Single Line Comments:\n",
    "##### Example:\n"
   ]
  },
  {
   "cell_type": "code",
   "execution_count": 2,
   "id": "cbf76b92",
   "metadata": {
    "execution": {
     "iopub.execute_input": "2022-11-11T10:16:05.248321Z",
     "iopub.status.busy": "2022-11-11T10:16:05.247639Z",
     "iopub.status.idle": "2022-11-11T10:16:05.252914Z",
     "shell.execute_reply": "2022-11-11T10:16:05.251667Z"
    },
    "papermill": {
     "duration": 0.062089,
     "end_time": "2022-11-11T10:16:05.255244",
     "exception": false,
     "start_time": "2022-11-11T10:16:05.193155",
     "status": "completed"
    },
    "tags": []
   },
   "outputs": [
    {
     "name": "stdout",
     "output_type": "stream",
     "text": [
      "This is a single line comment \n"
     ]
    }
   ],
   "source": [
    "# This is a comment\n",
    "print(\"This is a single line comment \")"
   ]
  },
  {
   "cell_type": "markdown",
   "id": "af4f7d0d",
   "metadata": {
    "papermill": {
     "duration": 0.052149,
     "end_time": "2022-11-11T10:16:05.360629",
     "exception": false,
     "start_time": "2022-11-11T10:16:05.308480",
     "status": "completed"
    },
    "tags": []
   },
   "source": [
    "#### Multi Line Comments\n",
    "- Python does not really have a syntax for multi line comments.\n",
    "\n",
    "- To add a multiline comment you could insert a # for each line.\n",
    "- Since Python will ignore string literals that are not assigned to a variable, you can add a multiline string (triple quotes) in your code, and place your comment inside it:\n",
    " #### Example:"
   ]
  },
  {
   "cell_type": "code",
   "execution_count": 3,
   "id": "9bb8ce18",
   "metadata": {
    "execution": {
     "iopub.execute_input": "2022-11-11T10:16:05.469207Z",
     "iopub.status.busy": "2022-11-11T10:16:05.468140Z",
     "iopub.status.idle": "2022-11-11T10:16:05.475408Z",
     "shell.execute_reply": "2022-11-11T10:16:05.473898Z"
    },
    "papermill": {
     "duration": 0.064559,
     "end_time": "2022-11-11T10:16:05.478103",
     "exception": false,
     "start_time": "2022-11-11T10:16:05.413544",
     "status": "completed"
    },
    "tags": []
   },
   "outputs": [
    {
     "name": "stdout",
     "output_type": "stream",
     "text": [
      "This is a Multiline comment\n",
      " we can also pass multiline comments using three quotes ''' \n"
     ]
    }
   ],
   "source": [
    "#This is a comment\n",
    "#written in\n",
    "#more than just one line\n",
    "print(\"This is a Multiline comment\")\n",
    " \n",
    "'''\n",
    "This is a second \n",
    "method of\n",
    "passing multiline \n",
    "Comment.\n",
    "'''\n",
    "print(\" we can also pass multiline comments using three quotes ''' \")"
   ]
  },
  {
   "cell_type": "markdown",
   "id": "4cd22ade",
   "metadata": {
    "papermill": {
     "duration": 0.05294,
     "end_time": "2022-11-11T10:16:05.583747",
     "exception": false,
     "start_time": "2022-11-11T10:16:05.530807",
     "status": "completed"
    },
    "tags": []
   },
   "source": [
    "# Python Variables:\n",
    "Variables are containers for storing data values."
   ]
  },
  {
   "cell_type": "markdown",
   "id": "eb008a1c",
   "metadata": {
    "papermill": {
     "duration": 0.052762,
     "end_time": "2022-11-11T10:16:05.688858",
     "exception": false,
     "start_time": "2022-11-11T10:16:05.636096",
     "status": "completed"
    },
    "tags": []
   },
   "source": [
    "### Creaing Variables:\n",
    "- Python has no command for declaring a variable.\n",
    "\n",
    "- A variable is created the moment you first assign a value to it.\n",
    "- String variables can be declared either by using single or double quotes\n",
    "- Variable names are case-sensitive."
   ]
  },
  {
   "cell_type": "markdown",
   "id": "7301d635",
   "metadata": {
    "papermill": {
     "duration": 0.052052,
     "end_time": "2022-11-11T10:16:05.792921",
     "exception": false,
     "start_time": "2022-11-11T10:16:05.740869",
     "status": "completed"
    },
    "tags": []
   },
   "source": [
    "#### Example:"
   ]
  },
  {
   "cell_type": "code",
   "execution_count": 4,
   "id": "a34093b9",
   "metadata": {
    "execution": {
     "iopub.execute_input": "2022-11-11T10:16:05.900265Z",
     "iopub.status.busy": "2022-11-11T10:16:05.899039Z",
     "iopub.status.idle": "2022-11-11T10:16:05.907618Z",
     "shell.execute_reply": "2022-11-11T10:16:05.906205Z"
    },
    "papermill": {
     "duration": 0.065342,
     "end_time": "2022-11-11T10:16:05.910265",
     "exception": false,
     "start_time": "2022-11-11T10:16:05.844923",
     "status": "completed"
    },
    "tags": []
   },
   "outputs": [
    {
     "name": "stdout",
     "output_type": "stream",
     "text": [
      "14\n",
      "Usman\n"
     ]
    }
   ],
   "source": [
    "x = 14\n",
    "y = \"Usman\"\n",
    "print(x)\n",
    "print(y)\n"
   ]
  },
  {
   "cell_type": "markdown",
   "id": "2566bf65",
   "metadata": {
    "papermill": {
     "duration": 0.065716,
     "end_time": "2022-11-11T10:16:06.031919",
     "exception": false,
     "start_time": "2022-11-11T10:16:05.966203",
     "status": "completed"
    },
    "tags": []
   },
   "source": [
    "### Casting Variables:\n",
    "If you want to specify the data type of a variable, this can be done with casting."
   ]
  },
  {
   "cell_type": "markdown",
   "id": "1233b9c4",
   "metadata": {
    "papermill": {
     "duration": 0.05578,
     "end_time": "2022-11-11T10:16:06.141987",
     "exception": false,
     "start_time": "2022-11-11T10:16:06.086207",
     "status": "completed"
    },
    "tags": []
   },
   "source": [
    "#### Example:"
   ]
  },
  {
   "cell_type": "code",
   "execution_count": 5,
   "id": "fc44066f",
   "metadata": {
    "execution": {
     "iopub.execute_input": "2022-11-11T10:16:06.250045Z",
     "iopub.status.busy": "2022-11-11T10:16:06.249654Z",
     "iopub.status.idle": "2022-11-11T10:16:06.255615Z",
     "shell.execute_reply": "2022-11-11T10:16:06.254310Z"
    },
    "papermill": {
     "duration": 0.063726,
     "end_time": "2022-11-11T10:16:06.259054",
     "exception": false,
     "start_time": "2022-11-11T10:16:06.195328",
     "status": "completed"
    },
    "tags": []
   },
   "outputs": [
    {
     "name": "stdout",
     "output_type": "stream",
     "text": [
      "3\n",
      "3\n",
      "3.0\n"
     ]
    }
   ],
   "source": [
    "a = str(3)    # x will be '3'\n",
    "b = int(3)    # y will be 3\n",
    "c = float(3)  # z will be 3.0\n",
    "print(a)\n",
    "print(b)\n",
    "print(c)"
   ]
  },
  {
   "cell_type": "markdown",
   "id": "7d5c9d3a",
   "metadata": {
    "papermill": {
     "duration": 0.059283,
     "end_time": "2022-11-11T10:16:06.372458",
     "exception": false,
     "start_time": "2022-11-11T10:16:06.313175",
     "status": "completed"
    },
    "tags": []
   },
   "source": [
    "# Python - Variable Names:\n",
    "- A variable can have a short name (like x and y) or a more descriptive name (age, carname, total_volume).\n",
    "- Rules for Python variables:\n",
    "    - A variable name must start with a letter or the underscore character\n",
    "    - A variable name cannot start with a number\n",
    "    - A variable name can only contain alpha-numeric characters and underscores (A-z, 0-9, and _ )\n",
    "    - Variable names are case-sensitive (age, Age and AGE are three different variables)"
   ]
  },
  {
   "cell_type": "markdown",
   "id": "14bcc29c",
   "metadata": {
    "papermill": {
     "duration": 0.055712,
     "end_time": "2022-11-11T10:16:06.483731",
     "exception": false,
     "start_time": "2022-11-11T10:16:06.428019",
     "status": "completed"
    },
    "tags": []
   },
   "source": [
    "#### Example:\n",
    "- some Legal and Illegal variable names.\n"
   ]
  },
  {
   "cell_type": "code",
   "execution_count": 6,
   "id": "42666a5d",
   "metadata": {
    "execution": {
     "iopub.execute_input": "2022-11-11T10:16:06.592056Z",
     "iopub.status.busy": "2022-11-11T10:16:06.591411Z",
     "iopub.status.idle": "2022-11-11T10:16:06.596768Z",
     "shell.execute_reply": "2022-11-11T10:16:06.595999Z"
    },
    "papermill": {
     "duration": 0.063322,
     "end_time": "2022-11-11T10:16:06.599036",
     "exception": false,
     "start_time": "2022-11-11T10:16:06.535714",
     "status": "completed"
    },
    "tags": []
   },
   "outputs": [],
   "source": [
    "myname = \"Usman\"\n",
    "my_name = \"Usman\"\n",
    "_my_name = \"Usman\"\n",
    "myName = \"Usman\"\n",
    "MYNAME = \"Usman\"\n",
    "myname2 = \"Usman\"\n",
    "\n",
    "# 2myvar = \"usman\"\n",
    "# my-var = \"usman\"\n",
    "# my var = \"usman\""
   ]
  },
  {
   "cell_type": "markdown",
   "id": "2da8cf7d",
   "metadata": {
    "papermill": {
     "duration": 0.052514,
     "end_time": "2022-11-11T10:16:06.703836",
     "exception": false,
     "start_time": "2022-11-11T10:16:06.651322",
     "status": "completed"
    },
    "tags": []
   },
   "source": [
    "## Multi Words Variable Names\n",
    "- Variable names with more than one word can be difficult to read.\n",
    "\n",
    "- There are several techniques you can use to make them more readable."
   ]
  },
  {
   "cell_type": "markdown",
   "id": "7d1ef504",
   "metadata": {
    "papermill": {
     "duration": 0.053343,
     "end_time": "2022-11-11T10:16:06.810794",
     "exception": false,
     "start_time": "2022-11-11T10:16:06.757451",
     "status": "completed"
    },
    "tags": []
   },
   "source": [
    "### Camel Case:\n",
    "- Each word, except the first, starts with a capital letter."
   ]
  },
  {
   "cell_type": "markdown",
   "id": "b605840d",
   "metadata": {
    "papermill": {
     "duration": 0.057184,
     "end_time": "2022-11-11T10:16:06.921931",
     "exception": false,
     "start_time": "2022-11-11T10:16:06.864747",
     "status": "completed"
    },
    "tags": []
   },
   "source": [
    "#### Example :"
   ]
  },
  {
   "cell_type": "code",
   "execution_count": 7,
   "id": "a9be1f75",
   "metadata": {
    "execution": {
     "iopub.execute_input": "2022-11-11T10:16:07.052152Z",
     "iopub.status.busy": "2022-11-11T10:16:07.051384Z",
     "iopub.status.idle": "2022-11-11T10:16:07.057756Z",
     "shell.execute_reply": "2022-11-11T10:16:07.056336Z"
    },
    "papermill": {
     "duration": 0.063651,
     "end_time": "2022-11-11T10:16:07.060625",
     "exception": false,
     "start_time": "2022-11-11T10:16:06.996974",
     "status": "completed"
    },
    "tags": []
   },
   "outputs": [
    {
     "name": "stdout",
     "output_type": "stream",
     "text": [
      "Usman Akram\n"
     ]
    }
   ],
   "source": [
    "myNameIs=\"Usman Akram\"\n",
    "print(myNameIs)"
   ]
  },
  {
   "cell_type": "markdown",
   "id": "49b49eed",
   "metadata": {
    "papermill": {
     "duration": 0.052608,
     "end_time": "2022-11-11T10:16:07.166238",
     "exception": false,
     "start_time": "2022-11-11T10:16:07.113630",
     "status": "completed"
    },
    "tags": []
   },
   "source": [
    "### Pascal Case:\n",
    "- Each word starts with a capital letter."
   ]
  },
  {
   "cell_type": "markdown",
   "id": "8f66af63",
   "metadata": {
    "papermill": {
     "duration": 0.053159,
     "end_time": "2022-11-11T10:16:07.272683",
     "exception": false,
     "start_time": "2022-11-11T10:16:07.219524",
     "status": "completed"
    },
    "tags": []
   },
   "source": [
    "#### Example:"
   ]
  },
  {
   "cell_type": "code",
   "execution_count": 8,
   "id": "a8f63f3f",
   "metadata": {
    "execution": {
     "iopub.execute_input": "2022-11-11T10:16:07.379972Z",
     "iopub.status.busy": "2022-11-11T10:16:07.378787Z",
     "iopub.status.idle": "2022-11-11T10:16:07.390468Z",
     "shell.execute_reply": "2022-11-11T10:16:07.389668Z"
    },
    "papermill": {
     "duration": 0.067574,
     "end_time": "2022-11-11T10:16:07.392882",
     "exception": false,
     "start_time": "2022-11-11T10:16:07.325308",
     "status": "completed"
    },
    "tags": []
   },
   "outputs": [
    {
     "name": "stdout",
     "output_type": "stream",
     "text": [
      "Usman Akram\n"
     ]
    }
   ],
   "source": [
    "MyName=\"Usman Akram\"\n",
    "print(MyName)"
   ]
  },
  {
   "cell_type": "markdown",
   "id": "f8a2ffb0",
   "metadata": {
    "papermill": {
     "duration": 0.051786,
     "end_time": "2022-11-11T10:16:07.497900",
     "exception": false,
     "start_time": "2022-11-11T10:16:07.446114",
     "status": "completed"
    },
    "tags": []
   },
   "source": [
    "### Snake Case:\n",
    "- Each word is separated by an underscore character."
   ]
  },
  {
   "cell_type": "markdown",
   "id": "ac11d057",
   "metadata": {
    "papermill": {
     "duration": 0.052912,
     "end_time": "2022-11-11T10:16:07.603391",
     "exception": false,
     "start_time": "2022-11-11T10:16:07.550479",
     "status": "completed"
    },
    "tags": []
   },
   "source": [
    "#### Example:"
   ]
  },
  {
   "cell_type": "code",
   "execution_count": 9,
   "id": "9d36f2fe",
   "metadata": {
    "execution": {
     "iopub.execute_input": "2022-11-11T10:16:07.711391Z",
     "iopub.status.busy": "2022-11-11T10:16:07.710655Z",
     "iopub.status.idle": "2022-11-11T10:16:07.716550Z",
     "shell.execute_reply": "2022-11-11T10:16:07.714970Z"
    },
    "papermill": {
     "duration": 0.063062,
     "end_time": "2022-11-11T10:16:07.719084",
     "exception": false,
     "start_time": "2022-11-11T10:16:07.656022",
     "status": "completed"
    },
    "tags": []
   },
   "outputs": [
    {
     "name": "stdout",
     "output_type": "stream",
     "text": [
      "Usman Akram\n"
     ]
    }
   ],
   "source": [
    "my_name_is=\"Usman Akram\"\n",
    "print(my_name_is)"
   ]
  },
  {
   "cell_type": "markdown",
   "id": "452a738d",
   "metadata": {
    "papermill": {
     "duration": 0.053987,
     "end_time": "2022-11-11T10:16:07.827187",
     "exception": false,
     "start_time": "2022-11-11T10:16:07.773200",
     "status": "completed"
    },
    "tags": []
   },
   "source": [
    "## Many Values to Multiple Variables:\n",
    "- Python allows you to assign values to multiple variables in one line"
   ]
  },
  {
   "cell_type": "markdown",
   "id": "e398491c",
   "metadata": {
    "papermill": {
     "duration": 0.053898,
     "end_time": "2022-11-11T10:16:07.933547",
     "exception": false,
     "start_time": "2022-11-11T10:16:07.879649",
     "status": "completed"
    },
    "tags": []
   },
   "source": [
    "#### Example:"
   ]
  },
  {
   "cell_type": "code",
   "execution_count": 10,
   "id": "36ba3829",
   "metadata": {
    "execution": {
     "iopub.execute_input": "2022-11-11T10:16:08.064942Z",
     "iopub.status.busy": "2022-11-11T10:16:08.063950Z",
     "iopub.status.idle": "2022-11-11T10:16:08.070732Z",
     "shell.execute_reply": "2022-11-11T10:16:08.069072Z"
    },
    "papermill": {
     "duration": 0.072447,
     "end_time": "2022-11-11T10:16:08.073368",
     "exception": false,
     "start_time": "2022-11-11T10:16:08.000921",
     "status": "completed"
    },
    "tags": []
   },
   "outputs": [
    {
     "name": "stdout",
     "output_type": "stream",
     "text": [
      "Usman\n",
      "Ahtsham\n",
      "Ahsan\n"
     ]
    }
   ],
   "source": [
    "x, y, z = \"Usman\", \"Ahtsham\", \"Ahsan\"\n",
    "print(x)\n",
    "print(y)\n",
    "print(z)"
   ]
  },
  {
   "cell_type": "markdown",
   "id": "f3e0722e",
   "metadata": {
    "papermill": {
     "duration": 0.052139,
     "end_time": "2022-11-11T10:16:08.177618",
     "exception": false,
     "start_time": "2022-11-11T10:16:08.125479",
     "status": "completed"
    },
    "tags": []
   },
   "source": [
    "## One Value to Multiple Variables:\n",
    "- you can assign the same value to multiple variables in one line."
   ]
  },
  {
   "cell_type": "markdown",
   "id": "d3124a9e",
   "metadata": {
    "papermill": {
     "duration": 0.052265,
     "end_time": "2022-11-11T10:16:08.282122",
     "exception": false,
     "start_time": "2022-11-11T10:16:08.229857",
     "status": "completed"
    },
    "tags": []
   },
   "source": [
    "#### Example:"
   ]
  },
  {
   "cell_type": "code",
   "execution_count": 11,
   "id": "cd0243bc",
   "metadata": {
    "execution": {
     "iopub.execute_input": "2022-11-11T10:16:08.388317Z",
     "iopub.status.busy": "2022-11-11T10:16:08.387916Z",
     "iopub.status.idle": "2022-11-11T10:16:08.393244Z",
     "shell.execute_reply": "2022-11-11T10:16:08.392482Z"
    },
    "papermill": {
     "duration": 0.060762,
     "end_time": "2022-11-11T10:16:08.395141",
     "exception": false,
     "start_time": "2022-11-11T10:16:08.334379",
     "status": "completed"
    },
    "tags": []
   },
   "outputs": [
    {
     "name": "stdout",
     "output_type": "stream",
     "text": [
      "Usman Akram \n",
      "Usman Akram \n",
      "Usman Akram \n"
     ]
    }
   ],
   "source": [
    "x = y = z = \"Usman Akram \"\n",
    "print(x)\n",
    "print(y)\n",
    "print(z)\n"
   ]
  },
  {
   "cell_type": "markdown",
   "id": "8cb6038d",
   "metadata": {
    "papermill": {
     "duration": 0.052606,
     "end_time": "2022-11-11T10:16:08.501564",
     "exception": false,
     "start_time": "2022-11-11T10:16:08.448958",
     "status": "completed"
    },
    "tags": []
   },
   "source": [
    "### Unpack a Collection:\n",
    "- If you have a collection of values in a list, tuple etc. Python allows you to extract the values into variables. This is called unpacking."
   ]
  },
  {
   "cell_type": "markdown",
   "id": "2dd28eb5",
   "metadata": {
    "papermill": {
     "duration": 0.057061,
     "end_time": "2022-11-11T10:16:08.611858",
     "exception": false,
     "start_time": "2022-11-11T10:16:08.554797",
     "status": "completed"
    },
    "tags": []
   },
   "source": [
    "#### Example:"
   ]
  },
  {
   "cell_type": "code",
   "execution_count": 12,
   "id": "5e91be0a",
   "metadata": {
    "execution": {
     "iopub.execute_input": "2022-11-11T10:16:08.720426Z",
     "iopub.status.busy": "2022-11-11T10:16:08.720021Z",
     "iopub.status.idle": "2022-11-11T10:16:08.725908Z",
     "shell.execute_reply": "2022-11-11T10:16:08.724626Z"
    },
    "papermill": {
     "duration": 0.062507,
     "end_time": "2022-11-11T10:16:08.728590",
     "exception": false,
     "start_time": "2022-11-11T10:16:08.666083",
     "status": "completed"
    },
    "tags": []
   },
   "outputs": [
    {
     "name": "stdout",
     "output_type": "stream",
     "text": [
      "usman\n",
      "ahtsham\n",
      "Ahsan\n"
     ]
    }
   ],
   "source": [
    "name = [\"usman\", \"ahtsham\",\"Ahsan\"]\n",
    "x, y, z = name\n",
    "print(x)\n",
    "print(y)\n",
    "print(z)\n"
   ]
  },
  {
   "cell_type": "markdown",
   "id": "83cea2fa",
   "metadata": {
    "papermill": {
     "duration": 0.052056,
     "end_time": "2022-11-11T10:16:08.834558",
     "exception": false,
     "start_time": "2022-11-11T10:16:08.782502",
     "status": "completed"
    },
    "tags": []
   },
   "source": [
    "## Python - Output Variables:\n",
    "- The Python print() function is often used to output variables."
   ]
  },
  {
   "cell_type": "markdown",
   "id": "59aff2b4",
   "metadata": {
    "papermill": {
     "duration": 0.054472,
     "end_time": "2022-11-11T10:16:08.941850",
     "exception": false,
     "start_time": "2022-11-11T10:16:08.887378",
     "status": "completed"
    },
    "tags": []
   },
   "source": [
    "#### Example:"
   ]
  },
  {
   "cell_type": "code",
   "execution_count": 13,
   "id": "12bfe494",
   "metadata": {
    "execution": {
     "iopub.execute_input": "2022-11-11T10:16:09.051833Z",
     "iopub.status.busy": "2022-11-11T10:16:09.050668Z",
     "iopub.status.idle": "2022-11-11T10:16:09.057564Z",
     "shell.execute_reply": "2022-11-11T10:16:09.055916Z"
    },
    "papermill": {
     "duration": 0.065429,
     "end_time": "2022-11-11T10:16:09.060107",
     "exception": false,
     "start_time": "2022-11-11T10:16:08.994678",
     "status": "completed"
    },
    "tags": []
   },
   "outputs": [
    {
     "name": "stdout",
     "output_type": "stream",
     "text": [
      "i am Usman Akram.\n"
     ]
    }
   ],
   "source": [
    "x = \"i am Usman Akram.\"\n",
    "print(x)"
   ]
  },
  {
   "cell_type": "markdown",
   "id": "9744f381",
   "metadata": {
    "papermill": {
     "duration": 0.053746,
     "end_time": "2022-11-11T10:16:09.169733",
     "exception": false,
     "start_time": "2022-11-11T10:16:09.115987",
     "status": "completed"
    },
    "tags": []
   },
   "source": [
    "- In the print() function, you output multiple variables, separated by a comma"
   ]
  },
  {
   "cell_type": "markdown",
   "id": "2a0e3632",
   "metadata": {
    "papermill": {
     "duration": 0.052894,
     "end_time": "2022-11-11T10:16:09.276852",
     "exception": false,
     "start_time": "2022-11-11T10:16:09.223958",
     "status": "completed"
    },
    "tags": []
   },
   "source": [
    "#### Example:"
   ]
  },
  {
   "cell_type": "code",
   "execution_count": 14,
   "id": "60e67c04",
   "metadata": {
    "execution": {
     "iopub.execute_input": "2022-11-11T10:16:09.384245Z",
     "iopub.status.busy": "2022-11-11T10:16:09.383471Z",
     "iopub.status.idle": "2022-11-11T10:16:09.389442Z",
     "shell.execute_reply": "2022-11-11T10:16:09.388364Z"
    },
    "papermill": {
     "duration": 0.06254,
     "end_time": "2022-11-11T10:16:09.392015",
     "exception": false,
     "start_time": "2022-11-11T10:16:09.329475",
     "status": "completed"
    },
    "tags": []
   },
   "outputs": [
    {
     "name": "stdout",
     "output_type": "stream",
     "text": [
      "i  am usman\n"
     ]
    }
   ],
   "source": [
    "x = \"i \"\n",
    "y = \"am\"\n",
    "z = \"usman\"\n",
    "print(x, y, z)"
   ]
  },
  {
   "cell_type": "markdown",
   "id": "e042dc7f",
   "metadata": {
    "papermill": {
     "duration": 0.052583,
     "end_time": "2022-11-11T10:16:09.498508",
     "exception": false,
     "start_time": "2022-11-11T10:16:09.445925",
     "status": "completed"
    },
    "tags": []
   },
   "source": [
    "# Python Data Types:\n",
    "- In programming, data type is an important concept.\n",
    "\n",
    "- Variables can store data of different types, and different types can do different things.\n",
    "\n",
    "- Python has the following data types built-in by default, in these categories:\n",
    "\n",
    "    - Text Type:\t str\n",
    "    - Numeric Types:\t int, float, complex\n",
    "    - Sequence Types:\tlist, tuple, range\n",
    "    - Mapping Type:\t  dict\n",
    "    - Set Types:\tset, frozenset\n",
    "    - Boolean Type:\tbool\n",
    "    - Binary Types:\tbytes, bytearray, memoryview\n",
    "    - None Type:\tNoneType"
   ]
  },
  {
   "cell_type": "markdown",
   "id": "2a55b8a3",
   "metadata": {
    "papermill": {
     "duration": 0.052012,
     "end_time": "2022-11-11T10:16:09.603867",
     "exception": false,
     "start_time": "2022-11-11T10:16:09.551855",
     "status": "completed"
    },
    "tags": []
   },
   "source": [
    "## Getting the Data Type:\n",
    "- You can get the data type of any object by using the type() function.\n",
    "#### Example:\n"
   ]
  },
  {
   "cell_type": "code",
   "execution_count": 15,
   "id": "91a5664f",
   "metadata": {
    "execution": {
     "iopub.execute_input": "2022-11-11T10:16:09.710623Z",
     "iopub.status.busy": "2022-11-11T10:16:09.710188Z",
     "iopub.status.idle": "2022-11-11T10:16:09.716041Z",
     "shell.execute_reply": "2022-11-11T10:16:09.714996Z"
    },
    "papermill": {
     "duration": 0.062771,
     "end_time": "2022-11-11T10:16:09.718892",
     "exception": false,
     "start_time": "2022-11-11T10:16:09.656121",
     "status": "completed"
    },
    "tags": []
   },
   "outputs": [
    {
     "name": "stdout",
     "output_type": "stream",
     "text": [
      "<class 'str'>\n",
      "<class 'float'>\n",
      "<class 'int'>\n",
      "<class 'complex'>\n"
     ]
    }
   ],
   "source": [
    "a='usman'\n",
    "b=12.6\n",
    "c=14\n",
    "d=2+3j\n",
    "print(type(a))\n",
    "print(type(b))\n",
    "print(type(c))\n",
    "print(type(d))"
   ]
  },
  {
   "cell_type": "markdown",
   "id": "03f98b55",
   "metadata": {
    "papermill": {
     "duration": 0.053508,
     "end_time": "2022-11-11T10:16:09.825397",
     "exception": false,
     "start_time": "2022-11-11T10:16:09.771889",
     "status": "completed"
    },
    "tags": []
   },
   "source": [
    "# Python Numbers:\n",
    "- There are three numeric types in Python:\n",
    "\n",
    "    - int\n",
    "    - float\n",
    "    - complex\n",
    "- Variables of numeric types are created when you assign a value to them.\n",
    "#### Example:"
   ]
  },
  {
   "cell_type": "code",
   "execution_count": 16,
   "id": "7b854d56",
   "metadata": {
    "execution": {
     "iopub.execute_input": "2022-11-11T10:16:09.933276Z",
     "iopub.status.busy": "2022-11-11T10:16:09.932674Z",
     "iopub.status.idle": "2022-11-11T10:16:09.938561Z",
     "shell.execute_reply": "2022-11-11T10:16:09.937344Z"
    },
    "papermill": {
     "duration": 0.063004,
     "end_time": "2022-11-11T10:16:09.941275",
     "exception": false,
     "start_time": "2022-11-11T10:16:09.878271",
     "status": "completed"
    },
    "tags": []
   },
   "outputs": [
    {
     "name": "stdout",
     "output_type": "stream",
     "text": [
      "<class 'int'>\n",
      "<class 'float'>\n",
      "<class 'complex'>\n"
     ]
    }
   ],
   "source": [
    "x = 1    # int\n",
    "y = 2.8  # float\n",
    "z = 1j   # complex\n",
    "print(type(x))\n",
    "print(type(y))\n",
    "print(type(z))"
   ]
  },
  {
   "cell_type": "markdown",
   "id": "de6d65d7",
   "metadata": {
    "papermill": {
     "duration": 0.052789,
     "end_time": "2022-11-11T10:16:10.048976",
     "exception": false,
     "start_time": "2022-11-11T10:16:09.996187",
     "status": "completed"
    },
    "tags": []
   },
   "source": [
    "### Int :\n",
    "- Int, or integer, is a whole number, positive or negative, without decimals, of unlimited length.\n",
    "#### Example:\n"
   ]
  },
  {
   "cell_type": "code",
   "execution_count": 17,
   "id": "308a4ec2",
   "metadata": {
    "execution": {
     "iopub.execute_input": "2022-11-11T10:16:10.157338Z",
     "iopub.status.busy": "2022-11-11T10:16:10.156011Z",
     "iopub.status.idle": "2022-11-11T10:16:10.163928Z",
     "shell.execute_reply": "2022-11-11T10:16:10.162555Z"
    },
    "papermill": {
     "duration": 0.06578,
     "end_time": "2022-11-11T10:16:10.167395",
     "exception": false,
     "start_time": "2022-11-11T10:16:10.101615",
     "status": "completed"
    },
    "tags": []
   },
   "outputs": [
    {
     "name": "stdout",
     "output_type": "stream",
     "text": [
      "<class 'int'>\n",
      "<class 'int'>\n",
      "<class 'int'>\n"
     ]
    }
   ],
   "source": [
    "x = 1\n",
    "y = 35656222554887711\n",
    "z = -3255522\n",
    "\n",
    "print(type(x))\n",
    "print(type(y))\n",
    "print(type(z))"
   ]
  },
  {
   "cell_type": "markdown",
   "id": "ef025f2a",
   "metadata": {
    "papermill": {
     "duration": 0.052769,
     "end_time": "2022-11-11T10:16:10.273819",
     "exception": false,
     "start_time": "2022-11-11T10:16:10.221050",
     "status": "completed"
    },
    "tags": []
   },
   "source": [
    "### Float :\n",
    "- Float, or \"floating point number\" is a number, positive or negative, containing one or more decimals.\n",
    "#### Example:"
   ]
  },
  {
   "cell_type": "code",
   "execution_count": 18,
   "id": "6aa05f70",
   "metadata": {
    "execution": {
     "iopub.execute_input": "2022-11-11T10:16:10.381349Z",
     "iopub.status.busy": "2022-11-11T10:16:10.380699Z",
     "iopub.status.idle": "2022-11-11T10:16:10.388367Z",
     "shell.execute_reply": "2022-11-11T10:16:10.387464Z"
    },
    "papermill": {
     "duration": 0.064175,
     "end_time": "2022-11-11T10:16:10.390618",
     "exception": false,
     "start_time": "2022-11-11T10:16:10.326443",
     "status": "completed"
    },
    "tags": []
   },
   "outputs": [
    {
     "name": "stdout",
     "output_type": "stream",
     "text": [
      "<class 'float'>\n",
      "<class 'float'>\n",
      "<class 'float'>\n"
     ]
    }
   ],
   "source": [
    "x = 1.10\n",
    "y = 1.0\n",
    "z = -35.59\n",
    "print(type(x))\n",
    "print(type(y))\n",
    "print(type(z))"
   ]
  },
  {
   "cell_type": "markdown",
   "id": "6e8302fc",
   "metadata": {
    "papermill": {
     "duration": 0.052416,
     "end_time": "2022-11-11T10:16:10.495890",
     "exception": false,
     "start_time": "2022-11-11T10:16:10.443474",
     "status": "completed"
    },
    "tags": []
   },
   "source": [
    "- Float can also be scientific numbers with an \"e\" to indicate the power of 10."
   ]
  },
  {
   "cell_type": "code",
   "execution_count": 19,
   "id": "d37eca98",
   "metadata": {
    "execution": {
     "iopub.execute_input": "2022-11-11T10:16:10.604863Z",
     "iopub.status.busy": "2022-11-11T10:16:10.604105Z",
     "iopub.status.idle": "2022-11-11T10:16:10.611159Z",
     "shell.execute_reply": "2022-11-11T10:16:10.609770Z"
    },
    "papermill": {
     "duration": 0.064788,
     "end_time": "2022-11-11T10:16:10.613370",
     "exception": false,
     "start_time": "2022-11-11T10:16:10.548582",
     "status": "completed"
    },
    "tags": []
   },
   "outputs": [
    {
     "name": "stdout",
     "output_type": "stream",
     "text": [
      "35000.0\n",
      "120000.0\n",
      "<class 'float'>\n",
      "<class 'float'>\n"
     ]
    }
   ],
   "source": [
    "x = 35e3\n",
    "y = 12E4\n",
    "print(x)\n",
    "print(y)\n",
    "print(type(x))\n",
    "print(type(y))"
   ]
  },
  {
   "cell_type": "markdown",
   "id": "88317c53",
   "metadata": {
    "papermill": {
     "duration": 0.053086,
     "end_time": "2022-11-11T10:16:10.719701",
     "exception": false,
     "start_time": "2022-11-11T10:16:10.666615",
     "status": "completed"
    },
    "tags": []
   },
   "source": [
    "### Complex\n",
    "- Complex numbers are written with a \"j\" as the imaginary part.\n",
    "#### Example:"
   ]
  },
  {
   "cell_type": "code",
   "execution_count": 20,
   "id": "c7a0926f",
   "metadata": {
    "execution": {
     "iopub.execute_input": "2022-11-11T10:16:10.830436Z",
     "iopub.status.busy": "2022-11-11T10:16:10.829262Z",
     "iopub.status.idle": "2022-11-11T10:16:10.835831Z",
     "shell.execute_reply": "2022-11-11T10:16:10.834989Z"
    },
    "papermill": {
     "duration": 0.064357,
     "end_time": "2022-11-11T10:16:10.838141",
     "exception": false,
     "start_time": "2022-11-11T10:16:10.773784",
     "status": "completed"
    },
    "tags": []
   },
   "outputs": [
    {
     "name": "stdout",
     "output_type": "stream",
     "text": [
      "<class 'complex'>\n",
      "<class 'complex'>\n",
      "<class 'complex'>\n"
     ]
    }
   ],
   "source": [
    "x = 3+5j\n",
    "y = 5j\n",
    "z = 0-5j\n",
    "\n",
    "print(type(x))\n",
    "print(type(y))\n",
    "print(type(z))"
   ]
  },
  {
   "cell_type": "markdown",
   "id": "d1caa887",
   "metadata": {
    "papermill": {
     "duration": 0.052945,
     "end_time": "2022-11-11T10:16:10.944130",
     "exception": false,
     "start_time": "2022-11-11T10:16:10.891185",
     "status": "completed"
    },
    "tags": []
   },
   "source": [
    "## Type Conversion:\n",
    "- You can convert from one type to another with the int(), float(), and complex() methods.\n",
    "#### Example:\n"
   ]
  },
  {
   "cell_type": "code",
   "execution_count": 21,
   "id": "254996e7",
   "metadata": {
    "execution": {
     "iopub.execute_input": "2022-11-11T10:16:11.054825Z",
     "iopub.status.busy": "2022-11-11T10:16:11.053464Z",
     "iopub.status.idle": "2022-11-11T10:16:11.061598Z",
     "shell.execute_reply": "2022-11-11T10:16:11.060202Z"
    },
    "papermill": {
     "duration": 0.065551,
     "end_time": "2022-11-11T10:16:11.064068",
     "exception": false,
     "start_time": "2022-11-11T10:16:10.998517",
     "status": "completed"
    },
    "tags": []
   },
   "outputs": [
    {
     "name": "stdout",
     "output_type": "stream",
     "text": [
      "1.0\n",
      "2\n",
      "(1+0j)\n",
      "<class 'float'>\n",
      "<class 'int'>\n",
      "<class 'complex'>\n"
     ]
    }
   ],
   "source": [
    "x = 1    # int\n",
    "y = 2.8  # float\n",
    "z = 1j   # complex\n",
    "\n",
    "#convert from int to float:\n",
    "a = float(x)\n",
    "\n",
    "#convert from float to int:\n",
    "b = int(y)\n",
    "\n",
    "#convert from int to complex:\n",
    "c = complex(x)\n",
    "\n",
    "print(a)\n",
    "print(b)\n",
    "print(c)\n",
    "\n",
    "print(type(a))\n",
    "print(type(b))\n",
    "print(type(c))"
   ]
  },
  {
   "cell_type": "markdown",
   "id": "d48e3596",
   "metadata": {
    "papermill": {
     "duration": 0.052673,
     "end_time": "2022-11-11T10:16:11.170103",
     "exception": false,
     "start_time": "2022-11-11T10:16:11.117430",
     "status": "completed"
    },
    "tags": []
   },
   "source": [
    "# Python Casting:"
   ]
  },
  {
   "cell_type": "markdown",
   "id": "d88eecd8",
   "metadata": {
    "papermill": {
     "duration": 0.052659,
     "end_time": "2022-11-11T10:16:11.275253",
     "exception": false,
     "start_time": "2022-11-11T10:16:11.222594",
     "status": "completed"
    },
    "tags": []
   },
   "source": [
    "### Specify a Variable Type\n",
    "- There may be times when you want to specify a type on to a variable. This can be done with casting. Python is an object-orientated language, and as such it uses classes to define data types, including its primitive types.\n",
    "\n",
    "- Casting in python is therefore done using constructor functions:\n",
    "\n",
    "    - int() - constructs an integer number from an integer literal, a float literal (by removing all decimals), or a string literal (providing the string represents a whole number)\n",
    "    - float() - constructs a float number from an integer literal, a float literal or a string literal (providing the string represents a float or an integer)\n",
    "    - str() - constructs a string from a wide variety of data types, including strings, integer literals and float literals"
   ]
  },
  {
   "cell_type": "markdown",
   "id": "13024343",
   "metadata": {
    "papermill": {
     "duration": 0.052696,
     "end_time": "2022-11-11T10:16:11.380811",
     "exception": false,
     "start_time": "2022-11-11T10:16:11.328115",
     "status": "completed"
    },
    "tags": []
   },
   "source": [
    "### Integers:\n",
    "#### Examples:"
   ]
  },
  {
   "cell_type": "code",
   "execution_count": 22,
   "id": "787bd5af",
   "metadata": {
    "execution": {
     "iopub.execute_input": "2022-11-11T10:16:11.487986Z",
     "iopub.status.busy": "2022-11-11T10:16:11.487480Z",
     "iopub.status.idle": "2022-11-11T10:16:11.494119Z",
     "shell.execute_reply": "2022-11-11T10:16:11.492956Z"
    },
    "papermill": {
     "duration": 0.063066,
     "end_time": "2022-11-11T10:16:11.496493",
     "exception": false,
     "start_time": "2022-11-11T10:16:11.433427",
     "status": "completed"
    },
    "tags": []
   },
   "outputs": [
    {
     "name": "stdout",
     "output_type": "stream",
     "text": [
      "1\n",
      "2\n",
      "3\n"
     ]
    }
   ],
   "source": [
    "x = int(1)   # x will be 1\n",
    "y = int(2.8) # y will be 2\n",
    "z = int(\"3\") # z will be 3\n",
    "print(x)\n",
    "print(y)\n",
    "print(z)\n",
    "\n"
   ]
  },
  {
   "cell_type": "markdown",
   "id": "8f222064",
   "metadata": {
    "papermill": {
     "duration": 0.052685,
     "end_time": "2022-11-11T10:16:11.602213",
     "exception": false,
     "start_time": "2022-11-11T10:16:11.549528",
     "status": "completed"
    },
    "tags": []
   },
   "source": [
    "### Floats:\n",
    "#### Example:\n"
   ]
  },
  {
   "cell_type": "code",
   "execution_count": 23,
   "id": "b4ce2921",
   "metadata": {
    "execution": {
     "iopub.execute_input": "2022-11-11T10:16:11.712269Z",
     "iopub.status.busy": "2022-11-11T10:16:11.711067Z",
     "iopub.status.idle": "2022-11-11T10:16:11.718761Z",
     "shell.execute_reply": "2022-11-11T10:16:11.717259Z"
    },
    "papermill": {
     "duration": 0.065909,
     "end_time": "2022-11-11T10:16:11.721681",
     "exception": false,
     "start_time": "2022-11-11T10:16:11.655772",
     "status": "completed"
    },
    "tags": []
   },
   "outputs": [
    {
     "name": "stdout",
     "output_type": "stream",
     "text": [
      "1.0\n",
      "2.8\n",
      "3.0\n",
      "4.2\n"
     ]
    }
   ],
   "source": [
    "x = float(1)     # x will be 1.0\n",
    "y = float(2.8)   # y will be 2.8\n",
    "z = float(\"3\")   # z will be 3.0\n",
    "w = float(\"4.2\") # w will be 4.2\n",
    "print(x)\n",
    "print(y)\n",
    "print(z)\n",
    "print(w)\n"
   ]
  },
  {
   "cell_type": "markdown",
   "id": "1544c5e3",
   "metadata": {
    "papermill": {
     "duration": 0.053772,
     "end_time": "2022-11-11T10:16:11.830823",
     "exception": false,
     "start_time": "2022-11-11T10:16:11.777051",
     "status": "completed"
    },
    "tags": []
   },
   "source": [
    "### Strings:\n",
    "#### Example:"
   ]
  },
  {
   "cell_type": "code",
   "execution_count": 24,
   "id": "06048622",
   "metadata": {
    "execution": {
     "iopub.execute_input": "2022-11-11T10:16:11.939976Z",
     "iopub.status.busy": "2022-11-11T10:16:11.939229Z",
     "iopub.status.idle": "2022-11-11T10:16:11.946252Z",
     "shell.execute_reply": "2022-11-11T10:16:11.944814Z"
    },
    "papermill": {
     "duration": 0.064541,
     "end_time": "2022-11-11T10:16:11.949204",
     "exception": false,
     "start_time": "2022-11-11T10:16:11.884663",
     "status": "completed"
    },
    "tags": []
   },
   "outputs": [
    {
     "name": "stdout",
     "output_type": "stream",
     "text": [
      "usman\n",
      "14\n",
      "3.0\n"
     ]
    }
   ],
   "source": [
    "x = str(\"usman\") # x will be 's1'\n",
    "y = str(14)    # y will be '2'\n",
    "z = str(3.0)  # z will be '3.0'\n",
    "print(x)\n",
    "print(y)\n",
    "print(z)\n"
   ]
  },
  {
   "cell_type": "markdown",
   "id": "69f8c1b0",
   "metadata": {
    "papermill": {
     "duration": 0.052933,
     "end_time": "2022-11-11T10:16:12.057837",
     "exception": false,
     "start_time": "2022-11-11T10:16:12.004904",
     "status": "completed"
    },
    "tags": []
   },
   "source": [
    "# Python Strings:\n",
    "\n",
    "- Strings in python are surrounded by either single quotation marks, or double quotation marks.\n",
    "\n",
    "- 'hello' is the same as \"hello\".\n",
    "\n",
    "- You can display a string literal with the print() function.\n",
    "#### Example:"
   ]
  },
  {
   "cell_type": "code",
   "execution_count": 25,
   "id": "7f573872",
   "metadata": {
    "execution": {
     "iopub.execute_input": "2022-11-11T10:16:12.165966Z",
     "iopub.status.busy": "2022-11-11T10:16:12.165589Z",
     "iopub.status.idle": "2022-11-11T10:16:12.170644Z",
     "shell.execute_reply": "2022-11-11T10:16:12.169578Z"
    },
    "papermill": {
     "duration": 0.063145,
     "end_time": "2022-11-11T10:16:12.173907",
     "exception": false,
     "start_time": "2022-11-11T10:16:12.110762",
     "status": "completed"
    },
    "tags": []
   },
   "outputs": [
    {
     "name": "stdout",
     "output_type": "stream",
     "text": [
      "Usman\n",
      "Usman\n"
     ]
    }
   ],
   "source": [
    "print(\"Usman\")\n",
    "print('Usman')"
   ]
  },
  {
   "cell_type": "markdown",
   "id": "2512b94a",
   "metadata": {
    "papermill": {
     "duration": 0.052945,
     "end_time": "2022-11-11T10:16:12.282355",
     "exception": false,
     "start_time": "2022-11-11T10:16:12.229410",
     "status": "completed"
    },
    "tags": []
   },
   "source": [
    "### Assign String to a Variable\n",
    "- Assigning a string to a variable is done with the variable name followed by an equal sign and the string.\n",
    "#### Example:"
   ]
  },
  {
   "cell_type": "code",
   "execution_count": 26,
   "id": "4caa4aec",
   "metadata": {
    "execution": {
     "iopub.execute_input": "2022-11-11T10:16:12.390690Z",
     "iopub.status.busy": "2022-11-11T10:16:12.390268Z",
     "iopub.status.idle": "2022-11-11T10:16:12.395125Z",
     "shell.execute_reply": "2022-11-11T10:16:12.393950Z"
    },
    "papermill": {
     "duration": 0.062807,
     "end_time": "2022-11-11T10:16:12.398252",
     "exception": false,
     "start_time": "2022-11-11T10:16:12.335445",
     "status": "completed"
    },
    "tags": []
   },
   "outputs": [
    {
     "name": "stdout",
     "output_type": "stream",
     "text": [
      "Usman\n"
     ]
    }
   ],
   "source": [
    "a = \"Usman\"\n",
    "print(a)"
   ]
  },
  {
   "cell_type": "markdown",
   "id": "290b99eb",
   "metadata": {
    "papermill": {
     "duration": 0.053029,
     "end_time": "2022-11-11T10:16:12.504504",
     "exception": false,
     "start_time": "2022-11-11T10:16:12.451475",
     "status": "completed"
    },
    "tags": []
   },
   "source": [
    "### Multiline Strings\n",
    "- You can assign a multiline string to a variable by using three quotes:\n",
    " - You can use three double quotes:\n",
    "#### Example:"
   ]
  },
  {
   "cell_type": "code",
   "execution_count": 27,
   "id": "3dc443fa",
   "metadata": {
    "execution": {
     "iopub.execute_input": "2022-11-11T10:16:12.614728Z",
     "iopub.status.busy": "2022-11-11T10:16:12.614337Z",
     "iopub.status.idle": "2022-11-11T10:16:12.619849Z",
     "shell.execute_reply": "2022-11-11T10:16:12.618934Z"
    },
    "papermill": {
     "duration": 0.064058,
     "end_time": "2022-11-11T10:16:12.622929",
     "exception": false,
     "start_time": "2022-11-11T10:16:12.558871",
     "status": "completed"
    },
    "tags": []
   },
   "outputs": [
    {
     "name": "stdout",
     "output_type": "stream",
     "text": [
      "i am Usman Akram.\n",
      "i am from Bahawalpur.\n",
      "i am Engineering Student.\n"
     ]
    }
   ],
   "source": [
    "a = \"\"\"i am Usman Akram.\n",
    "i am from Bahawalpur.\n",
    "i am Engineering Student.\"\"\"\n",
    "print(a)"
   ]
  },
  {
   "cell_type": "markdown",
   "id": "d93609a7",
   "metadata": {
    "papermill": {
     "duration": 0.053059,
     "end_time": "2022-11-11T10:16:12.730938",
     "exception": false,
     "start_time": "2022-11-11T10:16:12.677879",
     "status": "completed"
    },
    "tags": []
   },
   "source": [
    "### Strings are Arrays:\n",
    "- Like many other popular programming languages, strings in Python are arrays of bytes representing unicode characters.\n",
    "\n",
    "- However, Python does not have a character data type, a single character is simply a string with a length of 1.\n",
    "\n",
    "- Square brackets can be used to access elements of the string.\n",
    "#### Example:"
   ]
  },
  {
   "cell_type": "code",
   "execution_count": 28,
   "id": "0694e4fe",
   "metadata": {
    "execution": {
     "iopub.execute_input": "2022-11-11T10:16:12.842593Z",
     "iopub.status.busy": "2022-11-11T10:16:12.842158Z",
     "iopub.status.idle": "2022-11-11T10:16:12.848369Z",
     "shell.execute_reply": "2022-11-11T10:16:12.847016Z"
    },
    "papermill": {
     "duration": 0.065729,
     "end_time": "2022-11-11T10:16:12.850670",
     "exception": false,
     "start_time": "2022-11-11T10:16:12.784941",
     "status": "completed"
    },
    "tags": []
   },
   "outputs": [
    {
     "name": "stdout",
     "output_type": "stream",
     "text": [
      "U\n"
     ]
    }
   ],
   "source": [
    "a = \"Usman Akram\"\n",
    "print(a[0])"
   ]
  },
  {
   "cell_type": "markdown",
   "id": "9c0465a5",
   "metadata": {
    "papermill": {
     "duration": 0.059608,
     "end_time": "2022-11-11T10:16:12.974056",
     "exception": false,
     "start_time": "2022-11-11T10:16:12.914448",
     "status": "completed"
    },
    "tags": []
   },
   "source": [
    "### Looping Through a String:\n",
    "- Since strings are arrays, we can loop through the characters in a string, with a for loop.\n",
    "#### Example:"
   ]
  },
  {
   "cell_type": "code",
   "execution_count": 29,
   "id": "6cfb392c",
   "metadata": {
    "execution": {
     "iopub.execute_input": "2022-11-11T10:16:13.093873Z",
     "iopub.status.busy": "2022-11-11T10:16:13.093440Z",
     "iopub.status.idle": "2022-11-11T10:16:13.101195Z",
     "shell.execute_reply": "2022-11-11T10:16:13.100200Z"
    },
    "papermill": {
     "duration": 0.071783,
     "end_time": "2022-11-11T10:16:13.103768",
     "exception": false,
     "start_time": "2022-11-11T10:16:13.031985",
     "status": "completed"
    },
    "tags": []
   },
   "outputs": [
    {
     "name": "stdout",
     "output_type": "stream",
     "text": [
      "U\n",
      "s\n",
      "m\n",
      "a\n",
      "n\n"
     ]
    }
   ],
   "source": [
    "for a in \"Usman\":\n",
    "  print(a)"
   ]
  },
  {
   "cell_type": "markdown",
   "id": "39b2a3b7",
   "metadata": {
    "papermill": {
     "duration": 0.059682,
     "end_time": "2022-11-11T10:16:13.219194",
     "exception": false,
     "start_time": "2022-11-11T10:16:13.159512",
     "status": "completed"
    },
    "tags": []
   },
   "source": [
    "### String Length:\n",
    "- To get the length of a string, use the len() function.\n",
    "#### Example:"
   ]
  },
  {
   "cell_type": "code",
   "execution_count": 30,
   "id": "c1a44ba6",
   "metadata": {
    "execution": {
     "iopub.execute_input": "2022-11-11T10:16:13.337700Z",
     "iopub.status.busy": "2022-11-11T10:16:13.337279Z",
     "iopub.status.idle": "2022-11-11T10:16:13.342968Z",
     "shell.execute_reply": "2022-11-11T10:16:13.341815Z"
    },
    "papermill": {
     "duration": 0.067143,
     "end_time": "2022-11-11T10:16:13.346064",
     "exception": false,
     "start_time": "2022-11-11T10:16:13.278921",
     "status": "completed"
    },
    "tags": []
   },
   "outputs": [
    {
     "name": "stdout",
     "output_type": "stream",
     "text": [
      "13\n"
     ]
    }
   ],
   "source": [
    "a = \"Usman Akram !\"\n",
    "print(len(a))"
   ]
  },
  {
   "cell_type": "markdown",
   "id": "36385bbf",
   "metadata": {
    "papermill": {
     "duration": 0.053793,
     "end_time": "2022-11-11T10:16:13.455598",
     "exception": false,
     "start_time": "2022-11-11T10:16:13.401805",
     "status": "completed"
    },
    "tags": []
   },
   "source": [
    "### Check String:\n",
    "- To check if a certain phrase or character is present in a string, we can use the keyword in.\n",
    "#### Example:\n",
    "        -  Check if \"Usman\" is present in the following text:"
   ]
  },
  {
   "cell_type": "code",
   "execution_count": 31,
   "id": "f3736838",
   "metadata": {
    "execution": {
     "iopub.execute_input": "2022-11-11T10:16:13.566388Z",
     "iopub.status.busy": "2022-11-11T10:16:13.565976Z",
     "iopub.status.idle": "2022-11-11T10:16:13.571820Z",
     "shell.execute_reply": "2022-11-11T10:16:13.570604Z"
    },
    "papermill": {
     "duration": 0.065927,
     "end_time": "2022-11-11T10:16:13.575583",
     "exception": false,
     "start_time": "2022-11-11T10:16:13.509656",
     "status": "completed"
    },
    "tags": []
   },
   "outputs": [
    {
     "name": "stdout",
     "output_type": "stream",
     "text": [
      "True\n"
     ]
    }
   ],
   "source": [
    "a = \"\"\"i am Usman Akram.\n",
    "i am from Bahawalpur.\n",
    "i am Engineering Student.\"\"\"\n",
    "print(\"Usman \"in a)"
   ]
  },
  {
   "cell_type": "markdown",
   "id": "f380eb9f",
   "metadata": {
    "papermill": {
     "duration": 0.05618,
     "end_time": "2022-11-11T10:16:13.688378",
     "exception": false,
     "start_time": "2022-11-11T10:16:13.632198",
     "status": "completed"
    },
    "tags": []
   },
   "source": [
    "#### Example:\n",
    "- Print only if \"Usman\" is present."
   ]
  },
  {
   "cell_type": "code",
   "execution_count": 32,
   "id": "d98db4f5",
   "metadata": {
    "execution": {
     "iopub.execute_input": "2022-11-11T10:16:13.805157Z",
     "iopub.status.busy": "2022-11-11T10:16:13.804347Z",
     "iopub.status.idle": "2022-11-11T10:16:13.811137Z",
     "shell.execute_reply": "2022-11-11T10:16:13.809691Z"
    },
    "papermill": {
     "duration": 0.070887,
     "end_time": "2022-11-11T10:16:13.814325",
     "exception": false,
     "start_time": "2022-11-11T10:16:13.743438",
     "status": "completed"
    },
    "tags": []
   },
   "outputs": [
    {
     "name": "stdout",
     "output_type": "stream",
     "text": [
      "Usman is present .\n"
     ]
    }
   ],
   "source": [
    "a = \"\"\"i am Usman Akram.\n",
    "i am from Bahawalpur.\n",
    "i am Engineering Student.\"\"\"\n",
    "if \"Usman\" in a:\n",
    "    print(\"Usman is present .\")"
   ]
  },
  {
   "cell_type": "markdown",
   "id": "066de5d2",
   "metadata": {
    "papermill": {
     "duration": 0.053778,
     "end_time": "2022-11-11T10:16:13.922512",
     "exception": false,
     "start_time": "2022-11-11T10:16:13.868734",
     "status": "completed"
    },
    "tags": []
   },
   "source": [
    "### Check if NOT:\n",
    "- To check if a certain phrase or character is NOT present in a string, we can use the keyword not in.\n",
    "#### Example:"
   ]
  },
  {
   "cell_type": "code",
   "execution_count": 33,
   "id": "6b4b3bed",
   "metadata": {
    "execution": {
     "iopub.execute_input": "2022-11-11T10:16:14.034866Z",
     "iopub.status.busy": "2022-11-11T10:16:14.033546Z",
     "iopub.status.idle": "2022-11-11T10:16:14.039833Z",
     "shell.execute_reply": "2022-11-11T10:16:14.038688Z"
    },
    "papermill": {
     "duration": 0.065246,
     "end_time": "2022-11-11T10:16:14.042498",
     "exception": false,
     "start_time": "2022-11-11T10:16:13.977252",
     "status": "completed"
    },
    "tags": []
   },
   "outputs": [
    {
     "name": "stdout",
     "output_type": "stream",
     "text": [
      "True\n"
     ]
    }
   ],
   "source": [
    "a = \"\"\"i am Usman Akram.\n",
    "i am from Bahawalpur.\n",
    "i am Engineering Student.\"\"\"\n",
    "print(\"Ali \"not in a)"
   ]
  },
  {
   "cell_type": "code",
   "execution_count": 34,
   "id": "c3446f8a",
   "metadata": {
    "execution": {
     "iopub.execute_input": "2022-11-11T10:16:14.152340Z",
     "iopub.status.busy": "2022-11-11T10:16:14.151245Z",
     "iopub.status.idle": "2022-11-11T10:16:14.157503Z",
     "shell.execute_reply": "2022-11-11T10:16:14.156129Z"
    },
    "papermill": {
     "duration": 0.063821,
     "end_time": "2022-11-11T10:16:14.160066",
     "exception": false,
     "start_time": "2022-11-11T10:16:14.096245",
     "status": "completed"
    },
    "tags": []
   },
   "outputs": [
    {
     "name": "stdout",
     "output_type": "stream",
     "text": [
      "Ali is not present .\n"
     ]
    }
   ],
   "source": [
    "a = \"\"\"i am Usman Akram.\n",
    "i am from Bahawalpur.\n",
    "i am Engineering Student.\"\"\"\n",
    "if \"Ali\"not in a:\n",
    "    print(\"Ali is not present .\")"
   ]
  },
  {
   "cell_type": "markdown",
   "id": "a5f98010",
   "metadata": {
    "papermill": {
     "duration": 0.054535,
     "end_time": "2022-11-11T10:16:14.268961",
     "exception": false,
     "start_time": "2022-11-11T10:16:14.214426",
     "status": "completed"
    },
    "tags": []
   },
   "source": [
    "## Python - Slicing Strings:\n",
    "- You can return a range of characters by using the slice syntax.\n",
    "\n",
    "- Specify the start index and the end index, separated by a colon, to return a part of the string.\n",
    "\n",
    "#### Example:\n",
    "- Get the characters from position 2 to position 5 (not included)."
   ]
  },
  {
   "cell_type": "code",
   "execution_count": 35,
   "id": "04183c6e",
   "metadata": {
    "execution": {
     "iopub.execute_input": "2022-11-11T10:16:14.380046Z",
     "iopub.status.busy": "2022-11-11T10:16:14.379661Z",
     "iopub.status.idle": "2022-11-11T10:16:14.385783Z",
     "shell.execute_reply": "2022-11-11T10:16:14.384443Z"
    },
    "papermill": {
     "duration": 0.064798,
     "end_time": "2022-11-11T10:16:14.388386",
     "exception": false,
     "start_time": "2022-11-11T10:16:14.323588",
     "status": "completed"
    },
    "tags": []
   },
   "outputs": [
    {
     "name": "stdout",
     "output_type": "stream",
     "text": [
      "tsh\n"
     ]
    }
   ],
   "source": [
    "a='Ahtsham'\n",
    "print(a[2:5])"
   ]
  },
  {
   "cell_type": "markdown",
   "id": "e6d6b9c1",
   "metadata": {
    "papermill": {
     "duration": 0.053549,
     "end_time": "2022-11-11T10:16:14.497015",
     "exception": false,
     "start_time": "2022-11-11T10:16:14.443466",
     "status": "completed"
    },
    "tags": []
   },
   "source": [
    "### Slice From the Start\n",
    "- By leaving out the start index, the range will start at the first character:\n",
    "\n",
    "#### Example\n",
    "- Get the characters from the start to position 5 (not included):"
   ]
  },
  {
   "cell_type": "code",
   "execution_count": 36,
   "id": "3bbf33d9",
   "metadata": {
    "execution": {
     "iopub.execute_input": "2022-11-11T10:16:14.613940Z",
     "iopub.status.busy": "2022-11-11T10:16:14.613535Z",
     "iopub.status.idle": "2022-11-11T10:16:14.618919Z",
     "shell.execute_reply": "2022-11-11T10:16:14.617743Z"
    },
    "papermill": {
     "duration": 0.069325,
     "end_time": "2022-11-11T10:16:14.621438",
     "exception": false,
     "start_time": "2022-11-11T10:16:14.552113",
     "status": "completed"
    },
    "tags": []
   },
   "outputs": [
    {
     "name": "stdout",
     "output_type": "stream",
     "text": [
      "Ahtsh\n"
     ]
    }
   ],
   "source": [
    "a='Ahtsham'\n",
    "print(a[:5])"
   ]
  },
  {
   "cell_type": "markdown",
   "id": "918d5b7b",
   "metadata": {
    "papermill": {
     "duration": 0.053907,
     "end_time": "2022-11-11T10:16:14.729063",
     "exception": false,
     "start_time": "2022-11-11T10:16:14.675156",
     "status": "completed"
    },
    "tags": []
   },
   "source": [
    "### Slice To the End:\n",
    "- By leaving out the end index, the range will go to the end.\n",
    "\n",
    "#### Example:\n",
    "- Get the characters from position 2, and all the way to the end."
   ]
  },
  {
   "cell_type": "code",
   "execution_count": 37,
   "id": "23826cf1",
   "metadata": {
    "execution": {
     "iopub.execute_input": "2022-11-11T10:16:14.841628Z",
     "iopub.status.busy": "2022-11-11T10:16:14.841210Z",
     "iopub.status.idle": "2022-11-11T10:16:14.846529Z",
     "shell.execute_reply": "2022-11-11T10:16:14.845654Z"
    },
    "papermill": {
     "duration": 0.064104,
     "end_time": "2022-11-11T10:16:14.848974",
     "exception": false,
     "start_time": "2022-11-11T10:16:14.784870",
     "status": "completed"
    },
    "tags": []
   },
   "outputs": [
    {
     "name": "stdout",
     "output_type": "stream",
     "text": [
      "tsham\n"
     ]
    }
   ],
   "source": [
    "a='Ahtsham'\n",
    "print(a[2:])"
   ]
  },
  {
   "cell_type": "markdown",
   "id": "2cbef790",
   "metadata": {
    "papermill": {
     "duration": 0.054691,
     "end_time": "2022-11-11T10:16:14.958143",
     "exception": false,
     "start_time": "2022-11-11T10:16:14.903452",
     "status": "completed"
    },
    "tags": []
   },
   "source": [
    "### Negative Indexing:\n",
    "- Use negative indexes to start the slice from the end of the string:\n",
    "#### Example:\n",
    "- Get the characters:\n",
    "\n",
    "    - From: \"o\" in \"World!\" (position -5)\n",
    "\n",
    "    - To, but not included: \"d\" in \"World!\" (position -2):"
   ]
  },
  {
   "cell_type": "code",
   "execution_count": 38,
   "id": "60694d4b",
   "metadata": {
    "execution": {
     "iopub.execute_input": "2022-11-11T10:16:15.070377Z",
     "iopub.status.busy": "2022-11-11T10:16:15.069907Z",
     "iopub.status.idle": "2022-11-11T10:16:15.076394Z",
     "shell.execute_reply": "2022-11-11T10:16:15.075019Z"
    },
    "papermill": {
     "duration": 0.066264,
     "end_time": "2022-11-11T10:16:15.079098",
     "exception": false,
     "start_time": "2022-11-11T10:16:15.012834",
     "status": "completed"
    },
    "tags": []
   },
   "outputs": [
    {
     "name": "stdout",
     "output_type": "stream",
     "text": [
      "orl\n"
     ]
    }
   ],
   "source": [
    "a=\"world\"\n",
    "print(a[-4 :-1])"
   ]
  },
  {
   "cell_type": "markdown",
   "id": "334d78ad",
   "metadata": {
    "papermill": {
     "duration": 0.053853,
     "end_time": "2022-11-11T10:16:15.187262",
     "exception": false,
     "start_time": "2022-11-11T10:16:15.133409",
     "status": "completed"
    },
    "tags": []
   },
   "source": [
    "## Python - Modify Strings:\n",
    "- Python has a set of built-in methods that you can use on strings."
   ]
  },
  {
   "cell_type": "markdown",
   "id": "aaec0b9e",
   "metadata": {
    "papermill": {
     "duration": 0.054762,
     "end_time": "2022-11-11T10:16:15.296074",
     "exception": false,
     "start_time": "2022-11-11T10:16:15.241312",
     "status": "completed"
    },
    "tags": []
   },
   "source": [
    "### Upper Case:\n",
    "- The upper() method returns the string in upper case:\n",
    "#### Example:"
   ]
  },
  {
   "cell_type": "code",
   "execution_count": 39,
   "id": "ba31ac7a",
   "metadata": {
    "execution": {
     "iopub.execute_input": "2022-11-11T10:16:15.406558Z",
     "iopub.status.busy": "2022-11-11T10:16:15.406123Z",
     "iopub.status.idle": "2022-11-11T10:16:15.411891Z",
     "shell.execute_reply": "2022-11-11T10:16:15.410741Z"
    },
    "papermill": {
     "duration": 0.063817,
     "end_time": "2022-11-11T10:16:15.414332",
     "exception": false,
     "start_time": "2022-11-11T10:16:15.350515",
     "status": "completed"
    },
    "tags": []
   },
   "outputs": [
    {
     "name": "stdout",
     "output_type": "stream",
     "text": [
      "USMAN\n"
     ]
    }
   ],
   "source": [
    "a='Usman'\n",
    "print(a.upper())"
   ]
  },
  {
   "cell_type": "markdown",
   "id": "67d3b46c",
   "metadata": {
    "papermill": {
     "duration": 0.053591,
     "end_time": "2022-11-11T10:16:15.522080",
     "exception": false,
     "start_time": "2022-11-11T10:16:15.468489",
     "status": "completed"
    },
    "tags": []
   },
   "source": [
    "### Lower Case:\n",
    "The lower() method returns the string in lower case.\n",
    "#### Example:"
   ]
  },
  {
   "cell_type": "code",
   "execution_count": 40,
   "id": "2d2d1fcb",
   "metadata": {
    "execution": {
     "iopub.execute_input": "2022-11-11T10:16:15.632105Z",
     "iopub.status.busy": "2022-11-11T10:16:15.631677Z",
     "iopub.status.idle": "2022-11-11T10:16:15.638234Z",
     "shell.execute_reply": "2022-11-11T10:16:15.636357Z"
    },
    "papermill": {
     "duration": 0.064763,
     "end_time": "2022-11-11T10:16:15.640850",
     "exception": false,
     "start_time": "2022-11-11T10:16:15.576087",
     "status": "completed"
    },
    "tags": []
   },
   "outputs": [
    {
     "name": "stdout",
     "output_type": "stream",
     "text": [
      "usman akram\n"
     ]
    }
   ],
   "source": [
    "a=\"USman AkRam\"\n",
    "print(a.lower())"
   ]
  },
  {
   "cell_type": "markdown",
   "id": "a00ff0d5",
   "metadata": {
    "papermill": {
     "duration": 0.054495,
     "end_time": "2022-11-11T10:16:15.749868",
     "exception": false,
     "start_time": "2022-11-11T10:16:15.695373",
     "status": "completed"
    },
    "tags": []
   },
   "source": [
    "### Remove Whitespace:\n",
    "- Whitespace is the space before and/or after the actual text, and very often you want to remove this space.\n",
    "- The strip() method removes any whitespace from the beginning or the end:\n",
    "#### Example:"
   ]
  },
  {
   "cell_type": "code",
   "execution_count": 41,
   "id": "2c5a5908",
   "metadata": {
    "execution": {
     "iopub.execute_input": "2022-11-11T10:16:15.862408Z",
     "iopub.status.busy": "2022-11-11T10:16:15.861885Z",
     "iopub.status.idle": "2022-11-11T10:16:15.868619Z",
     "shell.execute_reply": "2022-11-11T10:16:15.866904Z"
    },
    "papermill": {
     "duration": 0.066007,
     "end_time": "2022-11-11T10:16:15.871774",
     "exception": false,
     "start_time": "2022-11-11T10:16:15.805767",
     "status": "completed"
    },
    "tags": []
   },
   "outputs": [
    {
     "name": "stdout",
     "output_type": "stream",
     "text": [
      "Usman Akram Malik\n",
      "          Usman Akram Malik         \n"
     ]
    }
   ],
   "source": [
    "a=\"          Usman Akram Malik         \"\n",
    "print(a.strip())\n",
    "# without strip mrthod\n",
    "print(a)"
   ]
  },
  {
   "cell_type": "markdown",
   "id": "4449ae2b",
   "metadata": {
    "papermill": {
     "duration": 0.057344,
     "end_time": "2022-11-11T10:16:15.985661",
     "exception": false,
     "start_time": "2022-11-11T10:16:15.928317",
     "status": "completed"
    },
    "tags": []
   },
   "source": [
    "### Replace String:\n",
    "- The replace() method replaces a string with another string:\n",
    "#### Example:"
   ]
  },
  {
   "cell_type": "code",
   "execution_count": 42,
   "id": "4ee4b9ad",
   "metadata": {
    "execution": {
     "iopub.execute_input": "2022-11-11T10:16:16.096147Z",
     "iopub.status.busy": "2022-11-11T10:16:16.095724Z",
     "iopub.status.idle": "2022-11-11T10:16:16.101353Z",
     "shell.execute_reply": "2022-11-11T10:16:16.100318Z"
    },
    "papermill": {
     "duration": 0.063293,
     "end_time": "2022-11-11T10:16:16.103557",
     "exception": false,
     "start_time": "2022-11-11T10:16:16.040264",
     "status": "completed"
    },
    "tags": []
   },
   "outputs": [
    {
     "name": "stdout",
     "output_type": "stream",
     "text": [
      "Ahtsham Akram\n"
     ]
    }
   ],
   "source": [
    "a=\"usman Akram\"\n",
    "print(a.replace(\"usman\",\"Ahtsham\"))"
   ]
  },
  {
   "cell_type": "markdown",
   "id": "e7e4a8ea",
   "metadata": {
    "papermill": {
     "duration": 0.055108,
     "end_time": "2022-11-11T10:16:16.214006",
     "exception": false,
     "start_time": "2022-11-11T10:16:16.158898",
     "status": "completed"
    },
    "tags": []
   },
   "source": [
    "### Split String:\n",
    "- The split() method returns a list where the text between the specified separator becomes the list items.\n",
    "\n",
    "#### Example:\n",
    "- The split() method splits the string into substrings if it finds instances of the separator."
   ]
  },
  {
   "cell_type": "code",
   "execution_count": 43,
   "id": "7b74e131",
   "metadata": {
    "execution": {
     "iopub.execute_input": "2022-11-11T10:16:16.325316Z",
     "iopub.status.busy": "2022-11-11T10:16:16.324911Z",
     "iopub.status.idle": "2022-11-11T10:16:16.329495Z",
     "shell.execute_reply": "2022-11-11T10:16:16.328746Z"
    },
    "papermill": {
     "duration": 0.062864,
     "end_time": "2022-11-11T10:16:16.331646",
     "exception": false,
     "start_time": "2022-11-11T10:16:16.268782",
     "status": "completed"
    },
    "tags": []
   },
   "outputs": [
    {
     "name": "stdout",
     "output_type": "stream",
     "text": [
      "['Usman,', 'Akram', 'Malik']\n"
     ]
    }
   ],
   "source": [
    "a=\"Usman, Akram Malik\"\n",
    "print(a.split())"
   ]
  },
  {
   "cell_type": "markdown",
   "id": "a2f481d5",
   "metadata": {
    "papermill": {
     "duration": 0.0544,
     "end_time": "2022-11-11T10:16:16.440394",
     "exception": false,
     "start_time": "2022-11-11T10:16:16.385994",
     "status": "completed"
    },
    "tags": []
   },
   "source": [
    "#### Example:"
   ]
  },
  {
   "cell_type": "code",
   "execution_count": 44,
   "id": "f19da450",
   "metadata": {
    "execution": {
     "iopub.execute_input": "2022-11-11T10:16:16.552200Z",
     "iopub.status.busy": "2022-11-11T10:16:16.551794Z",
     "iopub.status.idle": "2022-11-11T10:16:16.557079Z",
     "shell.execute_reply": "2022-11-11T10:16:16.556017Z"
    },
    "papermill": {
     "duration": 0.064903,
     "end_time": "2022-11-11T10:16:16.559849",
     "exception": false,
     "start_time": "2022-11-11T10:16:16.494946",
     "status": "completed"
    },
    "tags": []
   },
   "outputs": [
    {
     "name": "stdout",
     "output_type": "stream",
     "text": [
      "['Usman', ' Akram ', ' Malik']\n"
     ]
    }
   ],
   "source": [
    "a=\"Usman, Akram , Malik\"\n",
    "print(a.split(\",\"))"
   ]
  },
  {
   "cell_type": "markdown",
   "id": "eb8d1a3f",
   "metadata": {
    "papermill": {
     "duration": 0.054368,
     "end_time": "2022-11-11T10:16:16.669617",
     "exception": false,
     "start_time": "2022-11-11T10:16:16.615249",
     "status": "completed"
    },
    "tags": []
   },
   "source": [
    "## String Concatenation:\n",
    "- To concatenate, or combine, two strings you can use the + operator.\n",
    "#### Example\n",
    "- Merge variable a with variable b into variable c."
   ]
  },
  {
   "cell_type": "code",
   "execution_count": 45,
   "id": "26c5b549",
   "metadata": {
    "execution": {
     "iopub.execute_input": "2022-11-11T10:16:16.782461Z",
     "iopub.status.busy": "2022-11-11T10:16:16.781987Z",
     "iopub.status.idle": "2022-11-11T10:16:16.788482Z",
     "shell.execute_reply": "2022-11-11T10:16:16.787231Z"
    },
    "papermill": {
     "duration": 0.067068,
     "end_time": "2022-11-11T10:16:16.791563",
     "exception": false,
     "start_time": "2022-11-11T10:16:16.724495",
     "status": "completed"
    },
    "tags": []
   },
   "outputs": [
    {
     "name": "stdout",
     "output_type": "stream",
     "text": [
      "UsmanAkram\n"
     ]
    }
   ],
   "source": [
    "a='Usman'\n",
    "b='Akram'\n",
    "c=a+b\n",
    "print(c)"
   ]
  },
  {
   "cell_type": "markdown",
   "id": "9f9dbe48",
   "metadata": {
    "papermill": {
     "duration": 0.054398,
     "end_time": "2022-11-11T10:16:16.903230",
     "exception": false,
     "start_time": "2022-11-11T10:16:16.848832",
     "status": "completed"
    },
    "tags": []
   },
   "source": [
    "#### Example:\n",
    "- To add a space between them, add a \" \":"
   ]
  },
  {
   "cell_type": "code",
   "execution_count": 46,
   "id": "caeac583",
   "metadata": {
    "execution": {
     "iopub.execute_input": "2022-11-11T10:16:17.016754Z",
     "iopub.status.busy": "2022-11-11T10:16:17.015669Z",
     "iopub.status.idle": "2022-11-11T10:16:17.021648Z",
     "shell.execute_reply": "2022-11-11T10:16:17.020518Z"
    },
    "papermill": {
     "duration": 0.06575,
     "end_time": "2022-11-11T10:16:17.024338",
     "exception": false,
     "start_time": "2022-11-11T10:16:16.958588",
     "status": "completed"
    },
    "tags": []
   },
   "outputs": [
    {
     "name": "stdout",
     "output_type": "stream",
     "text": [
      "Usman  Akram\n"
     ]
    }
   ],
   "source": [
    "a=\"Usman \"\n",
    "b=\"Akram\"\n",
    "c=a+\" \"+b\n",
    "print(c)"
   ]
  },
  {
   "cell_type": "markdown",
   "id": "736f66c7",
   "metadata": {
    "papermill": {
     "duration": 0.054245,
     "end_time": "2022-11-11T10:16:17.134489",
     "exception": false,
     "start_time": "2022-11-11T10:16:17.080244",
     "status": "completed"
    },
    "tags": []
   },
   "source": [
    "## Python - Format - Strings:\n",
    "- As we learned in the Python Variables chapter, we cannot combine strings and numbers like this.\n",
    "- But we can combine strings and numbers by using the format() method!\n",
    "\n",
    "- The format() method takes the passed arguments, formats them, and places them in the string where the placeholders {} are.\n",
    "#### Example:"
   ]
  },
  {
   "cell_type": "code",
   "execution_count": 47,
   "id": "ec0eae11",
   "metadata": {
    "execution": {
     "iopub.execute_input": "2022-11-11T10:16:17.246156Z",
     "iopub.status.busy": "2022-11-11T10:16:17.245791Z",
     "iopub.status.idle": "2022-11-11T10:16:17.251383Z",
     "shell.execute_reply": "2022-11-11T10:16:17.250086Z"
    },
    "papermill": {
     "duration": 0.064663,
     "end_time": "2022-11-11T10:16:17.254103",
     "exception": false,
     "start_time": "2022-11-11T10:16:17.189440",
     "status": "completed"
    },
    "tags": []
   },
   "outputs": [
    {
     "name": "stdout",
     "output_type": "stream",
     "text": [
      "My name Usman, and I am 21\n"
     ]
    }
   ],
   "source": [
    "age = 21\n",
    "name = \"My name Usman, and I am {}\"\n",
    "print(name.format(age))"
   ]
  },
  {
   "cell_type": "markdown",
   "id": "be132faf",
   "metadata": {
    "papermill": {
     "duration": 0.054282,
     "end_time": "2022-11-11T10:16:17.363767",
     "exception": false,
     "start_time": "2022-11-11T10:16:17.309485",
     "status": "completed"
    },
    "tags": []
   },
   "source": [
    "- The format() method takes unlimited number of arguments, and are placed into the respective placeholders"
   ]
  },
  {
   "cell_type": "code",
   "execution_count": 48,
   "id": "b87e9be9",
   "metadata": {
    "execution": {
     "iopub.execute_input": "2022-11-11T10:16:17.474939Z",
     "iopub.status.busy": "2022-11-11T10:16:17.474558Z",
     "iopub.status.idle": "2022-11-11T10:16:17.481013Z",
     "shell.execute_reply": "2022-11-11T10:16:17.479791Z"
    },
    "papermill": {
     "duration": 0.06485,
     "end_time": "2022-11-11T10:16:17.483404",
     "exception": false,
     "start_time": "2022-11-11T10:16:17.418554",
     "status": "completed"
    },
    "tags": []
   },
   "outputs": [
    {
     "name": "stdout",
     "output_type": "stream",
     "text": [
      "I am Usman i am from  Bahawalput and i am  21 years old\n"
     ]
    }
   ],
   "source": [
    "name = \"Usman\"\n",
    "city = \"Bahawalput\"\n",
    "age = 21\n",
    "myorder = \"I am {} i am from  {} and i am  {} years old\"\n",
    "print(myorder.format(name, city, age))"
   ]
  },
  {
   "cell_type": "markdown",
   "id": "10a24042",
   "metadata": {
    "papermill": {
     "duration": 0.055223,
     "end_time": "2022-11-11T10:16:17.594114",
     "exception": false,
     "start_time": "2022-11-11T10:16:17.538891",
     "status": "completed"
    },
    "tags": []
   },
   "source": [
    "## Escape Character :\n",
    "- To insert characters that are illegal in a string, use an escape character.\n",
    "\n",
    "- An escape character is a backslash \\ followed by the character you want to insert.\n",
    "\n",
    "- An example of an illegal character is a double quote inside a string that is surrounded by double quotes."
   ]
  },
  {
   "cell_type": "markdown",
   "id": "9e042a89",
   "metadata": {
    "papermill": {
     "duration": 0.05481,
     "end_time": "2022-11-11T10:16:17.704547",
     "exception": false,
     "start_time": "2022-11-11T10:16:17.649737",
     "status": "completed"
    },
    "tags": []
   },
   "source": [
    "#### Example:\n",
    "- The escape character allows you to use double quotes when you normally would not be allowed.\n",
    "- To fix this problem, use the escape character \\\":"
   ]
  },
  {
   "cell_type": "code",
   "execution_count": 49,
   "id": "1a89a97a",
   "metadata": {
    "execution": {
     "iopub.execute_input": "2022-11-11T10:16:17.818814Z",
     "iopub.status.busy": "2022-11-11T10:16:17.817578Z",
     "iopub.status.idle": "2022-11-11T10:16:17.823106Z",
     "shell.execute_reply": "2022-11-11T10:16:17.822121Z"
    },
    "papermill": {
     "duration": 0.065484,
     "end_time": "2022-11-11T10:16:17.826193",
     "exception": false,
     "start_time": "2022-11-11T10:16:17.760709",
     "status": "completed"
    },
    "tags": []
   },
   "outputs": [
    {
     "name": "stdout",
     "output_type": "stream",
     "text": [
      "i am usman \"Akram\" i am from bahawalpur.\n"
     ]
    }
   ],
   "source": [
    "name = \"i am usman \\\"Akram\\\" i am from bahawalpur.\"\n",
    "print(name)"
   ]
  },
  {
   "cell_type": "markdown",
   "id": "d438093b",
   "metadata": {
    "papermill": {
     "duration": 0.055228,
     "end_time": "2022-11-11T10:16:17.940235",
     "exception": false,
     "start_time": "2022-11-11T10:16:17.885007",
     "status": "completed"
    },
    "tags": []
   },
   "source": [
    "### New Line:\n",
    "- \" \\n \" is used for new line"
   ]
  },
  {
   "cell_type": "code",
   "execution_count": 50,
   "id": "0f2d5fe7",
   "metadata": {
    "execution": {
     "iopub.execute_input": "2022-11-11T10:16:18.059067Z",
     "iopub.status.busy": "2022-11-11T10:16:18.058669Z",
     "iopub.status.idle": "2022-11-11T10:16:18.064005Z",
     "shell.execute_reply": "2022-11-11T10:16:18.063130Z"
    },
    "papermill": {
     "duration": 0.067095,
     "end_time": "2022-11-11T10:16:18.066636",
     "exception": false,
     "start_time": "2022-11-11T10:16:17.999541",
     "status": "completed"
    },
    "tags": []
   },
   "outputs": [
    {
     "name": "stdout",
     "output_type": "stream",
     "text": [
      "i am Usman\n",
      "i am from bahawalpur.\n"
     ]
    }
   ],
   "source": [
    "print(\"i am Usman\\ni am from bahawalpur.\")"
   ]
  },
  {
   "cell_type": "markdown",
   "id": "dc48a61d",
   "metadata": {
    "papermill": {
     "duration": 0.055592,
     "end_time": "2022-11-11T10:16:18.182047",
     "exception": false,
     "start_time": "2022-11-11T10:16:18.126455",
     "status": "completed"
    },
    "tags": []
   },
   "source": [
    "## String Methods:\n",
    "- Python has a set of built-in methods that you can use on strings."
   ]
  },
  {
   "cell_type": "markdown",
   "id": "9803c59f",
   "metadata": {
    "papermill": {
     "duration": 0.055531,
     "end_time": "2022-11-11T10:16:18.293723",
     "exception": false,
     "start_time": "2022-11-11T10:16:18.238192",
     "status": "completed"
    },
    "tags": []
   },
   "source": [
    "### capitalize():\n",
    "- Converts the first character to upper case"
   ]
  },
  {
   "cell_type": "code",
   "execution_count": 51,
   "id": "aebf9347",
   "metadata": {
    "execution": {
     "iopub.execute_input": "2022-11-11T10:16:18.410155Z",
     "iopub.status.busy": "2022-11-11T10:16:18.409704Z",
     "iopub.status.idle": "2022-11-11T10:16:18.415702Z",
     "shell.execute_reply": "2022-11-11T10:16:18.414334Z"
    },
    "papermill": {
     "duration": 0.067186,
     "end_time": "2022-11-11T10:16:18.418019",
     "exception": false,
     "start_time": "2022-11-11T10:16:18.350833",
     "status": "completed"
    },
    "tags": []
   },
   "outputs": [
    {
     "name": "stdout",
     "output_type": "stream",
     "text": [
      "I am usman akram\n"
     ]
    }
   ],
   "source": [
    "a=\"i am usman akram\"\n",
    "print(a.capitalize())"
   ]
  },
  {
   "cell_type": "markdown",
   "id": "0b7a2015",
   "metadata": {
    "papermill": {
     "duration": 0.05522,
     "end_time": "2022-11-11T10:16:18.529495",
     "exception": false,
     "start_time": "2022-11-11T10:16:18.474275",
     "status": "completed"
    },
    "tags": []
   },
   "source": [
    "### center():\n",
    "- Returns a centered string\n",
    "#### Example:"
   ]
  },
  {
   "cell_type": "code",
   "execution_count": 52,
   "id": "94b42611",
   "metadata": {
    "execution": {
     "iopub.execute_input": "2022-11-11T10:16:18.646635Z",
     "iopub.status.busy": "2022-11-11T10:16:18.646193Z",
     "iopub.status.idle": "2022-11-11T10:16:18.651440Z",
     "shell.execute_reply": "2022-11-11T10:16:18.650511Z"
    },
    "papermill": {
     "duration": 0.067219,
     "end_time": "2022-11-11T10:16:18.653978",
     "exception": false,
     "start_time": "2022-11-11T10:16:18.586759",
     "status": "completed"
    },
    "tags": []
   },
   "outputs": [
    {
     "name": "stdout",
     "output_type": "stream",
     "text": [
      "                      Usman                       \n"
     ]
    }
   ],
   "source": [
    "a=\"Usman\"\n",
    "print(a.center( 50 ))"
   ]
  },
  {
   "cell_type": "markdown",
   "id": "ac1a1b81",
   "metadata": {
    "papermill": {
     "duration": 0.058265,
     "end_time": "2022-11-11T10:16:18.769895",
     "exception": false,
     "start_time": "2022-11-11T10:16:18.711630",
     "status": "completed"
    },
    "tags": []
   },
   "source": [
    "### count():\n",
    "- Returns the number of times a specified value occurs in a string\n",
    "#### Example:"
   ]
  },
  {
   "cell_type": "code",
   "execution_count": 53,
   "id": "a2c8ed9b",
   "metadata": {
    "execution": {
     "iopub.execute_input": "2022-11-11T10:16:18.887261Z",
     "iopub.status.busy": "2022-11-11T10:16:18.886869Z",
     "iopub.status.idle": "2022-11-11T10:16:18.892157Z",
     "shell.execute_reply": "2022-11-11T10:16:18.891030Z"
    },
    "papermill": {
     "duration": 0.067236,
     "end_time": "2022-11-11T10:16:18.895069",
     "exception": false,
     "start_time": "2022-11-11T10:16:18.827833",
     "status": "completed"
    },
    "tags": []
   },
   "outputs": [
    {
     "name": "stdout",
     "output_type": "stream",
     "text": [
      "3\n"
     ]
    }
   ],
   "source": [
    "a=\"usman akram\"\n",
    "print(a.count(\"a\"))"
   ]
  },
  {
   "cell_type": "markdown",
   "id": "f52dff77",
   "metadata": {
    "papermill": {
     "duration": 0.073303,
     "end_time": "2022-11-11T10:16:19.026178",
     "exception": false,
     "start_time": "2022-11-11T10:16:18.952875",
     "status": "completed"
    },
    "tags": []
   },
   "source": [
    "### encode():\n",
    "- Returns an encoded version of the string\n",
    "#### Example:\n"
   ]
  },
  {
   "cell_type": "code",
   "execution_count": 54,
   "id": "cf6dee57",
   "metadata": {
    "execution": {
     "iopub.execute_input": "2022-11-11T10:16:19.149264Z",
     "iopub.status.busy": "2022-11-11T10:16:19.148834Z",
     "iopub.status.idle": "2022-11-11T10:16:19.154407Z",
     "shell.execute_reply": "2022-11-11T10:16:19.153192Z"
    },
    "papermill": {
     "duration": 0.0666,
     "end_time": "2022-11-11T10:16:19.156952",
     "exception": false,
     "start_time": "2022-11-11T10:16:19.090352",
     "status": "completed"
    },
    "tags": []
   },
   "outputs": [
    {
     "name": "stdout",
     "output_type": "stream",
     "text": [
      "b'stylo.'\n"
     ]
    }
   ],
   "source": [
    "a=\"stylo.\"\n",
    "print(a.encode())"
   ]
  },
  {
   "cell_type": "markdown",
   "id": "481bbe59",
   "metadata": {
    "papermill": {
     "duration": 0.05787,
     "end_time": "2022-11-11T10:16:19.271810",
     "exception": false,
     "start_time": "2022-11-11T10:16:19.213940",
     "status": "completed"
    },
    "tags": []
   },
   "source": [
    "### find():\n",
    "- Searches the string for a specified value and returns the position of where it was found.\n",
    "#### Example:"
   ]
  },
  {
   "cell_type": "code",
   "execution_count": 55,
   "id": "2809f8da",
   "metadata": {
    "execution": {
     "iopub.execute_input": "2022-11-11T10:16:19.388395Z",
     "iopub.status.busy": "2022-11-11T10:16:19.387480Z",
     "iopub.status.idle": "2022-11-11T10:16:19.393325Z",
     "shell.execute_reply": "2022-11-11T10:16:19.392172Z"
    },
    "papermill": {
     "duration": 0.066761,
     "end_time": "2022-11-11T10:16:19.396565",
     "exception": false,
     "start_time": "2022-11-11T10:16:19.329804",
     "status": "completed"
    },
    "tags": []
   },
   "outputs": [
    {
     "name": "stdout",
     "output_type": "stream",
     "text": [
      "3\n"
     ]
    }
   ],
   "source": [
    "a=\"usman\"\n",
    "print(a.find(\"a\"))"
   ]
  },
  {
   "cell_type": "markdown",
   "id": "cc8af8e1",
   "metadata": {
    "papermill": {
     "duration": 0.0584,
     "end_time": "2022-11-11T10:16:19.513361",
     "exception": false,
     "start_time": "2022-11-11T10:16:19.454961",
     "status": "completed"
    },
    "tags": []
   },
   "source": [
    "### title():\n",
    "- Converts the first character of each word to upper case.\n",
    "#### Example:"
   ]
  },
  {
   "cell_type": "code",
   "execution_count": 56,
   "id": "f5609eb1",
   "metadata": {
    "execution": {
     "iopub.execute_input": "2022-11-11T10:16:19.710249Z",
     "iopub.status.busy": "2022-11-11T10:16:19.709761Z",
     "iopub.status.idle": "2022-11-11T10:16:19.715313Z",
     "shell.execute_reply": "2022-11-11T10:16:19.714086Z"
    },
    "papermill": {
     "duration": 0.146138,
     "end_time": "2022-11-11T10:16:19.718539",
     "exception": false,
     "start_time": "2022-11-11T10:16:19.572401",
     "status": "completed"
    },
    "tags": []
   },
   "outputs": [
    {
     "name": "stdout",
     "output_type": "stream",
     "text": [
      "I Am Usman.I Am From Bahawalpur \n"
     ]
    }
   ],
   "source": [
    "b=\"i am Usman.i am from bahawalpur \"\n",
    "print(b.title())"
   ]
  },
  {
   "cell_type": "markdown",
   "id": "70e24270",
   "metadata": {
    "papermill": {
     "duration": 0.059995,
     "end_time": "2022-11-11T10:16:19.838999",
     "exception": false,
     "start_time": "2022-11-11T10:16:19.779004",
     "status": "completed"
    },
    "tags": []
   },
   "source": [
    "### swapcase():\n",
    "- Swaps cases, lower case becomes upper case and vice versa.\n",
    "#### Example:\n"
   ]
  },
  {
   "cell_type": "code",
   "execution_count": 57,
   "id": "c9d1be1a",
   "metadata": {
    "execution": {
     "iopub.execute_input": "2022-11-11T10:16:19.957010Z",
     "iopub.status.busy": "2022-11-11T10:16:19.956571Z",
     "iopub.status.idle": "2022-11-11T10:16:19.963023Z",
     "shell.execute_reply": "2022-11-11T10:16:19.961871Z"
    },
    "papermill": {
     "duration": 0.067686,
     "end_time": "2022-11-11T10:16:19.966456",
     "exception": false,
     "start_time": "2022-11-11T10:16:19.898770",
     "status": "completed"
    },
    "tags": []
   },
   "outputs": [
    {
     "name": "stdout",
     "output_type": "stream",
     "text": [
      "USMAN\n",
      "akram\n"
     ]
    }
   ],
   "source": [
    "a=\"usman\"\n",
    "b=\"AKRAM\"\n",
    "print(a.swapcase())\n",
    "print(b.swapcase())"
   ]
  },
  {
   "cell_type": "markdown",
   "id": "1287ce24",
   "metadata": {
    "papermill": {
     "duration": 0.056671,
     "end_time": "2022-11-11T10:16:20.080511",
     "exception": false,
     "start_time": "2022-11-11T10:16:20.023840",
     "status": "completed"
    },
    "tags": []
   },
   "source": [
    "### index():\n",
    "- Searches the string for a specified value and returns the position of where it was found.\n",
    "#### Example:"
   ]
  },
  {
   "cell_type": "code",
   "execution_count": 58,
   "id": "114f8351",
   "metadata": {
    "execution": {
     "iopub.execute_input": "2022-11-11T10:16:20.194931Z",
     "iopub.status.busy": "2022-11-11T10:16:20.194550Z",
     "iopub.status.idle": "2022-11-11T10:16:20.199990Z",
     "shell.execute_reply": "2022-11-11T10:16:20.198779Z"
    },
    "papermill": {
     "duration": 0.066631,
     "end_time": "2022-11-11T10:16:20.202953",
     "exception": false,
     "start_time": "2022-11-11T10:16:20.136322",
     "status": "completed"
    },
    "tags": []
   },
   "outputs": [
    {
     "name": "stdout",
     "output_type": "stream",
     "text": [
      "6\n"
     ]
    }
   ],
   "source": [
    "a=\"Usman Akram\"\n",
    "print(a.index(\"Akram\"))"
   ]
  },
  {
   "cell_type": "markdown",
   "id": "f713b2dd",
   "metadata": {
    "papermill": {
     "duration": 0.056943,
     "end_time": "2022-11-11T10:16:20.317178",
     "exception": false,
     "start_time": "2022-11-11T10:16:20.260235",
     "status": "completed"
    },
    "tags": []
   },
   "source": [
    "####  Example:\n",
    "- If the value is not found, the find() method returns -1, but the index() method will raise an exception."
   ]
  },
  {
   "cell_type": "code",
   "execution_count": 59,
   "id": "5b6598aa",
   "metadata": {
    "execution": {
     "iopub.execute_input": "2022-11-11T10:16:20.435207Z",
     "iopub.status.busy": "2022-11-11T10:16:20.434815Z",
     "iopub.status.idle": "2022-11-11T10:16:20.441165Z",
     "shell.execute_reply": "2022-11-11T10:16:20.439573Z"
    },
    "papermill": {
     "duration": 0.070208,
     "end_time": "2022-11-11T10:16:20.443522",
     "exception": false,
     "start_time": "2022-11-11T10:16:20.373314",
     "status": "completed"
    },
    "tags": []
   },
   "outputs": [
    {
     "name": "stdout",
     "output_type": "stream",
     "text": [
      "12\n",
      "12\n"
     ]
    }
   ],
   "source": [
    "txt = \"Hello, i am Usman Akram.\"\n",
    "\n",
    "print(txt.find(\"U\"))\n",
    "print(txt.index(\"U\"))\n"
   ]
  },
  {
   "cell_type": "markdown",
   "id": "ac52b0b0",
   "metadata": {
    "papermill": {
     "duration": 0.056304,
     "end_time": "2022-11-11T10:16:20.556939",
     "exception": false,
     "start_time": "2022-11-11T10:16:20.500635",
     "status": "completed"
    },
    "tags": []
   },
   "source": [
    "## Python Booleans :\n",
    "- Booleans represent one of two values: True or False.\n",
    "- In programming you often need to know if an expression is True or False.\n",
    "\n",
    "- You can evaluate any expression in Python, and get one of two answers, True or False.\n",
    "\n",
    "- When you compare two values, the expression is evaluated and Python returns the Boolean answer"
   ]
  },
  {
   "cell_type": "markdown",
   "id": "97d1d081",
   "metadata": {
    "papermill": {
     "duration": 0.056155,
     "end_time": "2022-11-11T10:16:20.669224",
     "exception": false,
     "start_time": "2022-11-11T10:16:20.613069",
     "status": "completed"
    },
    "tags": []
   },
   "source": [
    "#### Example:"
   ]
  },
  {
   "cell_type": "code",
   "execution_count": 60,
   "id": "e5e0f5fd",
   "metadata": {
    "execution": {
     "iopub.execute_input": "2022-11-11T10:16:20.784044Z",
     "iopub.status.busy": "2022-11-11T10:16:20.783624Z",
     "iopub.status.idle": "2022-11-11T10:16:20.790023Z",
     "shell.execute_reply": "2022-11-11T10:16:20.788744Z"
    },
    "papermill": {
     "duration": 0.066554,
     "end_time": "2022-11-11T10:16:20.792414",
     "exception": false,
     "start_time": "2022-11-11T10:16:20.725860",
     "status": "completed"
    },
    "tags": []
   },
   "outputs": [
    {
     "name": "stdout",
     "output_type": "stream",
     "text": [
      "True\n",
      "False\n",
      "False\n"
     ]
    }
   ],
   "source": [
    "print(10 > 9)\n",
    "print(10 == 9)\n",
    "print(10 < 9)"
   ]
  },
  {
   "cell_type": "markdown",
   "id": "677c1880",
   "metadata": {
    "papermill": {
     "duration": 0.057435,
     "end_time": "2022-11-11T10:16:20.908493",
     "exception": false,
     "start_time": "2022-11-11T10:16:20.851058",
     "status": "completed"
    },
    "tags": []
   },
   "source": [
    "## Python Operators:\n",
    "- Operators are used to perform operations on variables and values.\n",
    "\n",
    "- Python divides the operators in the following groups:\n",
    "\n",
    "    - Arithmetic operators\n",
    "    - Assignment operators\n",
    "    - Comparison operators\n",
    "    - Logical operators\n",
    "    - Identity operators\n",
    "    - Membership operators\n",
    "    - Bitwise operators"
   ]
  },
  {
   "cell_type": "markdown",
   "id": "69c3bbc8",
   "metadata": {
    "papermill": {
     "duration": 0.055706,
     "end_time": "2022-11-11T10:16:21.020823",
     "exception": false,
     "start_time": "2022-11-11T10:16:20.965117",
     "status": "completed"
    },
    "tags": []
   },
   "source": [
    "## Python Arithmetic Operators:\n",
    "- Arithmetic operators are used with numeric values to perform common mathematical operations."
   ]
  },
  {
   "cell_type": "markdown",
   "id": "20dd8bcd",
   "metadata": {
    "papermill": {
     "duration": 0.056767,
     "end_time": "2022-11-11T10:16:21.134454",
     "exception": false,
     "start_time": "2022-11-11T10:16:21.077687",
     "status": "completed"
    },
    "tags": []
   },
   "source": [
    "#### Addition (+):\n",
    "#### Example:"
   ]
  },
  {
   "cell_type": "code",
   "execution_count": 61,
   "id": "52c1e086",
   "metadata": {
    "execution": {
     "iopub.execute_input": "2022-11-11T10:16:21.248201Z",
     "iopub.status.busy": "2022-11-11T10:16:21.247813Z",
     "iopub.status.idle": "2022-11-11T10:16:21.253992Z",
     "shell.execute_reply": "2022-11-11T10:16:21.252307Z"
    },
    "papermill": {
     "duration": 0.066758,
     "end_time": "2022-11-11T10:16:21.257420",
     "exception": false,
     "start_time": "2022-11-11T10:16:21.190662",
     "status": "completed"
    },
    "tags": []
   },
   "outputs": [
    {
     "name": "stdout",
     "output_type": "stream",
     "text": [
      "14\n"
     ]
    }
   ],
   "source": [
    "a=11\n",
    "b=3\n",
    "print(a+b)"
   ]
  },
  {
   "cell_type": "markdown",
   "id": "1e540639",
   "metadata": {
    "papermill": {
     "duration": 0.055701,
     "end_time": "2022-11-11T10:16:21.369881",
     "exception": false,
     "start_time": "2022-11-11T10:16:21.314180",
     "status": "completed"
    },
    "tags": []
   },
   "source": [
    "#### Subtraction  (-):\n",
    "#### Example:"
   ]
  },
  {
   "cell_type": "code",
   "execution_count": 62,
   "id": "7238552d",
   "metadata": {
    "execution": {
     "iopub.execute_input": "2022-11-11T10:16:21.485522Z",
     "iopub.status.busy": "2022-11-11T10:16:21.485095Z",
     "iopub.status.idle": "2022-11-11T10:16:21.490167Z",
     "shell.execute_reply": "2022-11-11T10:16:21.489351Z"
    },
    "papermill": {
     "duration": 0.067154,
     "end_time": "2022-11-11T10:16:21.493869",
     "exception": false,
     "start_time": "2022-11-11T10:16:21.426715",
     "status": "completed"
    },
    "tags": []
   },
   "outputs": [
    {
     "name": "stdout",
     "output_type": "stream",
     "text": [
      "8\n"
     ]
    }
   ],
   "source": [
    "a=11\n",
    "b=3\n",
    "print(a-b)"
   ]
  },
  {
   "cell_type": "markdown",
   "id": "eca251f3",
   "metadata": {
    "papermill": {
     "duration": 0.056546,
     "end_time": "2022-11-11T10:16:21.608969",
     "exception": false,
     "start_time": "2022-11-11T10:16:21.552423",
     "status": "completed"
    },
    "tags": []
   },
   "source": [
    "#### Multiplication ( * ):\n",
    "#### Example:"
   ]
  },
  {
   "cell_type": "code",
   "execution_count": 63,
   "id": "514377a5",
   "metadata": {
    "execution": {
     "iopub.execute_input": "2022-11-11T10:16:21.726352Z",
     "iopub.status.busy": "2022-11-11T10:16:21.725565Z",
     "iopub.status.idle": "2022-11-11T10:16:21.731725Z",
     "shell.execute_reply": "2022-11-11T10:16:21.730588Z"
    },
    "papermill": {
     "duration": 0.067639,
     "end_time": "2022-11-11T10:16:21.734319",
     "exception": false,
     "start_time": "2022-11-11T10:16:21.666680",
     "status": "completed"
    },
    "tags": []
   },
   "outputs": [
    {
     "name": "stdout",
     "output_type": "stream",
     "text": [
      "33\n"
     ]
    }
   ],
   "source": [
    "a=11\n",
    "b=3\n",
    "print(a*b)"
   ]
  },
  {
   "cell_type": "markdown",
   "id": "1ef806ed",
   "metadata": {
    "papermill": {
     "duration": 0.0565,
     "end_time": "2022-11-11T10:16:21.848423",
     "exception": false,
     "start_time": "2022-11-11T10:16:21.791923",
     "status": "completed"
    },
    "tags": []
   },
   "source": [
    "#### Division  ( / ):\n",
    "#### Example:"
   ]
  },
  {
   "cell_type": "code",
   "execution_count": 64,
   "id": "ed7e0493",
   "metadata": {
    "execution": {
     "iopub.execute_input": "2022-11-11T10:16:21.963082Z",
     "iopub.status.busy": "2022-11-11T10:16:21.962709Z",
     "iopub.status.idle": "2022-11-11T10:16:21.968184Z",
     "shell.execute_reply": "2022-11-11T10:16:21.967036Z"
    },
    "papermill": {
     "duration": 0.066007,
     "end_time": "2022-11-11T10:16:21.970861",
     "exception": false,
     "start_time": "2022-11-11T10:16:21.904854",
     "status": "completed"
    },
    "tags": []
   },
   "outputs": [
    {
     "name": "stdout",
     "output_type": "stream",
     "text": [
      "3.6666666666666665\n"
     ]
    }
   ],
   "source": [
    "a=11\n",
    "b=3\n",
    "print(a/b)"
   ]
  },
  {
   "cell_type": "markdown",
   "id": "5d55d273",
   "metadata": {
    "papermill": {
     "duration": 0.055619,
     "end_time": "2022-11-11T10:16:22.082945",
     "exception": false,
     "start_time": "2022-11-11T10:16:22.027326",
     "status": "completed"
    },
    "tags": []
   },
   "source": [
    "#### Modulus  (%):\n",
    "#### Example:"
   ]
  },
  {
   "cell_type": "code",
   "execution_count": 65,
   "id": "e6d31deb",
   "metadata": {
    "execution": {
     "iopub.execute_input": "2022-11-11T10:16:22.257085Z",
     "iopub.status.busy": "2022-11-11T10:16:22.256701Z",
     "iopub.status.idle": "2022-11-11T10:16:22.262015Z",
     "shell.execute_reply": "2022-11-11T10:16:22.260713Z"
    },
    "papermill": {
     "duration": 0.124789,
     "end_time": "2022-11-11T10:16:22.265532",
     "exception": false,
     "start_time": "2022-11-11T10:16:22.140743",
     "status": "completed"
    },
    "tags": []
   },
   "outputs": [
    {
     "name": "stdout",
     "output_type": "stream",
     "text": [
      "2\n"
     ]
    }
   ],
   "source": [
    "a=11\n",
    "b=3\n",
    "print(a%b)"
   ]
  },
  {
   "cell_type": "markdown",
   "id": "26e16bdb",
   "metadata": {
    "papermill": {
     "duration": 0.056112,
     "end_time": "2022-11-11T10:16:22.379115",
     "exception": false,
     "start_time": "2022-11-11T10:16:22.323003",
     "status": "completed"
    },
    "tags": []
   },
   "source": [
    "#### Exponentiation  ( ** ):\n",
    "#### Example:"
   ]
  },
  {
   "cell_type": "code",
   "execution_count": 66,
   "id": "f2fe58b4",
   "metadata": {
    "execution": {
     "iopub.execute_input": "2022-11-11T10:16:22.496689Z",
     "iopub.status.busy": "2022-11-11T10:16:22.496249Z",
     "iopub.status.idle": "2022-11-11T10:16:22.501729Z",
     "shell.execute_reply": "2022-11-11T10:16:22.500374Z"
    },
    "papermill": {
     "duration": 0.067837,
     "end_time": "2022-11-11T10:16:22.504555",
     "exception": false,
     "start_time": "2022-11-11T10:16:22.436718",
     "status": "completed"
    },
    "tags": []
   },
   "outputs": [
    {
     "name": "stdout",
     "output_type": "stream",
     "text": [
      "1331\n"
     ]
    }
   ],
   "source": [
    "a=11\n",
    "b=3\n",
    "print(a**b)"
   ]
  },
  {
   "cell_type": "markdown",
   "id": "694ff550",
   "metadata": {
    "papermill": {
     "duration": 0.056579,
     "end_time": "2022-11-11T10:16:22.617769",
     "exception": false,
     "start_time": "2022-11-11T10:16:22.561190",
     "status": "completed"
    },
    "tags": []
   },
   "source": [
    "#### Floor division   ( // ):\n",
    "#### Example:"
   ]
  },
  {
   "cell_type": "code",
   "execution_count": 67,
   "id": "a88d9ca2",
   "metadata": {
    "execution": {
     "iopub.execute_input": "2022-11-11T10:16:22.732181Z",
     "iopub.status.busy": "2022-11-11T10:16:22.731782Z",
     "iopub.status.idle": "2022-11-11T10:16:22.737448Z",
     "shell.execute_reply": "2022-11-11T10:16:22.736334Z"
    },
    "papermill": {
     "duration": 0.066145,
     "end_time": "2022-11-11T10:16:22.740052",
     "exception": false,
     "start_time": "2022-11-11T10:16:22.673907",
     "status": "completed"
    },
    "tags": []
   },
   "outputs": [
    {
     "name": "stdout",
     "output_type": "stream",
     "text": [
      "3\n"
     ]
    }
   ],
   "source": [
    "a=11\n",
    "b=3\n",
    "print(a//b)"
   ]
  },
  {
   "cell_type": "markdown",
   "id": "4157118c",
   "metadata": {
    "papermill": {
     "duration": 0.057327,
     "end_time": "2022-11-11T10:16:22.854955",
     "exception": false,
     "start_time": "2022-11-11T10:16:22.797628",
     "status": "completed"
    },
    "tags": []
   },
   "source": [
    "## Python Assignment Operators:\n",
    "- some Examples of Assignment Operators are given in blow\n",
    "#### Example:"
   ]
  },
  {
   "cell_type": "code",
   "execution_count": 68,
   "id": "3a6e2cdf",
   "metadata": {
    "execution": {
     "iopub.execute_input": "2022-11-11T10:16:22.973643Z",
     "iopub.status.busy": "2022-11-11T10:16:22.973195Z",
     "iopub.status.idle": "2022-11-11T10:16:22.979773Z",
     "shell.execute_reply": "2022-11-11T10:16:22.978309Z"
    },
    "papermill": {
     "duration": 0.069135,
     "end_time": "2022-11-11T10:16:22.982512",
     "exception": false,
     "start_time": "2022-11-11T10:16:22.913377",
     "status": "completed"
    },
    "tags": []
   },
   "outputs": [
    {
     "name": "stdout",
     "output_type": "stream",
     "text": [
      "37\n"
     ]
    }
   ],
   "source": [
    "x=34\n",
    "# x=x+3\n",
    "x += 3\n",
    "\n",
    "print(x)"
   ]
  },
  {
   "cell_type": "markdown",
   "id": "f08e9ca7",
   "metadata": {
    "papermill": {
     "duration": 0.055627,
     "end_time": "2022-11-11T10:16:23.095139",
     "exception": false,
     "start_time": "2022-11-11T10:16:23.039512",
     "status": "completed"
    },
    "tags": []
   },
   "source": [
    "#### Example:"
   ]
  },
  {
   "cell_type": "code",
   "execution_count": 69,
   "id": "b624bd2a",
   "metadata": {
    "execution": {
     "iopub.execute_input": "2022-11-11T10:16:23.211639Z",
     "iopub.status.busy": "2022-11-11T10:16:23.210571Z",
     "iopub.status.idle": "2022-11-11T10:16:23.216497Z",
     "shell.execute_reply": "2022-11-11T10:16:23.215315Z"
    },
    "papermill": {
     "duration": 0.065942,
     "end_time": "2022-11-11T10:16:23.218898",
     "exception": false,
     "start_time": "2022-11-11T10:16:23.152956",
     "status": "completed"
    },
    "tags": []
   },
   "outputs": [
    {
     "name": "stdout",
     "output_type": "stream",
     "text": [
      "1\n"
     ]
    }
   ],
   "source": [
    "x=37\n",
    "# x=x%3\n",
    "x %= 3\n",
    "print(x)"
   ]
  },
  {
   "cell_type": "markdown",
   "id": "6f24dabe",
   "metadata": {
    "papermill": {
     "duration": 0.055712,
     "end_time": "2022-11-11T10:16:23.331843",
     "exception": false,
     "start_time": "2022-11-11T10:16:23.276131",
     "status": "completed"
    },
    "tags": []
   },
   "source": [
    "#### Example:"
   ]
  },
  {
   "cell_type": "code",
   "execution_count": 70,
   "id": "0f59ef6e",
   "metadata": {
    "execution": {
     "iopub.execute_input": "2022-11-11T10:16:23.446927Z",
     "iopub.status.busy": "2022-11-11T10:16:23.446381Z",
     "iopub.status.idle": "2022-11-11T10:16:23.452046Z",
     "shell.execute_reply": "2022-11-11T10:16:23.451233Z"
    },
    "papermill": {
     "duration": 0.066715,
     "end_time": "2022-11-11T10:16:23.454787",
     "exception": false,
     "start_time": "2022-11-11T10:16:23.388072",
     "status": "completed"
    },
    "tags": []
   },
   "outputs": [
    {
     "name": "stdout",
     "output_type": "stream",
     "text": [
      "4.0\n"
     ]
    }
   ],
   "source": [
    "x=12\n",
    "x/=3\n",
    "print(x)"
   ]
  },
  {
   "cell_type": "markdown",
   "id": "f878f3d2",
   "metadata": {
    "papermill": {
     "duration": 0.057225,
     "end_time": "2022-11-11T10:16:23.572572",
     "exception": false,
     "start_time": "2022-11-11T10:16:23.515347",
     "status": "completed"
    },
    "tags": []
   },
   "source": [
    "#### Example:"
   ]
  },
  {
   "cell_type": "code",
   "execution_count": 71,
   "id": "8f6f36a3",
   "metadata": {
    "execution": {
     "iopub.execute_input": "2022-11-11T10:16:23.688793Z",
     "iopub.status.busy": "2022-11-11T10:16:23.688342Z",
     "iopub.status.idle": "2022-11-11T10:16:23.694520Z",
     "shell.execute_reply": "2022-11-11T10:16:23.693207Z"
    },
    "papermill": {
     "duration": 0.06675,
     "end_time": "2022-11-11T10:16:23.696882",
     "exception": false,
     "start_time": "2022-11-11T10:16:23.630132",
     "status": "completed"
    },
    "tags": []
   },
   "outputs": [
    {
     "name": "stdout",
     "output_type": "stream",
     "text": [
      "4\n"
     ]
    }
   ],
   "source": [
    "x=12\n",
    "x//=3\n",
    "print(x)"
   ]
  },
  {
   "cell_type": "markdown",
   "id": "1dba160a",
   "metadata": {
    "papermill": {
     "duration": 0.056859,
     "end_time": "2022-11-11T10:16:23.811187",
     "exception": false,
     "start_time": "2022-11-11T10:16:23.754328",
     "status": "completed"
    },
    "tags": []
   },
   "source": [
    "## Comparison Operators:\n",
    "- Comparison operators are used to compare two values.\n",
    "- Some Comparison operators are given in blow.\n",
    "    - Equal   (=)\n",
    "    - Not equal   (!=)\n",
    "    - Greater than  (>)\n",
    "    - Less than   (<)\n",
    "    - Greater than or equal to  (>=)\n",
    "    - Less than or equal to  (<=)"
   ]
  },
  {
   "cell_type": "markdown",
   "id": "4af65e29",
   "metadata": {
    "papermill": {
     "duration": 0.056208,
     "end_time": "2022-11-11T10:16:23.924092",
     "exception": false,
     "start_time": "2022-11-11T10:16:23.867884",
     "status": "completed"
    },
    "tags": []
   },
   "source": [
    "#### Eamples:"
   ]
  },
  {
   "cell_type": "markdown",
   "id": "7b70396c",
   "metadata": {
    "papermill": {
     "duration": 0.056046,
     "end_time": "2022-11-11T10:16:24.036862",
     "exception": false,
     "start_time": "2022-11-11T10:16:23.980816",
     "status": "completed"
    },
    "tags": []
   },
   "source": [
    "###  == operator :"
   ]
  },
  {
   "cell_type": "code",
   "execution_count": 72,
   "id": "ada68f88",
   "metadata": {
    "execution": {
     "iopub.execute_input": "2022-11-11T10:16:24.155197Z",
     "iopub.status.busy": "2022-11-11T10:16:24.154783Z",
     "iopub.status.idle": "2022-11-11T10:16:24.161185Z",
     "shell.execute_reply": "2022-11-11T10:16:24.159961Z"
    },
    "papermill": {
     "duration": 0.070657,
     "end_time": "2022-11-11T10:16:24.164713",
     "exception": false,
     "start_time": "2022-11-11T10:16:24.094056",
     "status": "completed"
    },
    "tags": []
   },
   "outputs": [
    {
     "name": "stdout",
     "output_type": "stream",
     "text": [
      "False\n"
     ]
    }
   ],
   "source": [
    "x = 5\n",
    "y = 3\n",
    "print(x == y)\n"
   ]
  },
  {
   "cell_type": "code",
   "execution_count": 73,
   "id": "44e4be88",
   "metadata": {
    "execution": {
     "iopub.execute_input": "2022-11-11T10:16:24.283439Z",
     "iopub.status.busy": "2022-11-11T10:16:24.283029Z",
     "iopub.status.idle": "2022-11-11T10:16:24.288893Z",
     "shell.execute_reply": "2022-11-11T10:16:24.287705Z"
    },
    "papermill": {
     "duration": 0.067964,
     "end_time": "2022-11-11T10:16:24.291589",
     "exception": false,
     "start_time": "2022-11-11T10:16:24.223625",
     "status": "completed"
    },
    "tags": []
   },
   "outputs": [
    {
     "name": "stdout",
     "output_type": "stream",
     "text": [
      "True\n"
     ]
    }
   ],
   "source": [
    "x = 5\n",
    "y = 5\n",
    "print(x == y)"
   ]
  },
  {
   "cell_type": "markdown",
   "id": "7d1462f5",
   "metadata": {
    "papermill": {
     "duration": 0.056851,
     "end_time": "2022-11-11T10:16:24.405839",
     "exception": false,
     "start_time": "2022-11-11T10:16:24.348988",
     "status": "completed"
    },
    "tags": []
   },
   "source": [
    "### != Operator :"
   ]
  },
  {
   "cell_type": "code",
   "execution_count": 74,
   "id": "e2bf31c9",
   "metadata": {
    "execution": {
     "iopub.execute_input": "2022-11-11T10:16:24.522230Z",
     "iopub.status.busy": "2022-11-11T10:16:24.521828Z",
     "iopub.status.idle": "2022-11-11T10:16:24.528150Z",
     "shell.execute_reply": "2022-11-11T10:16:24.526800Z"
    },
    "papermill": {
     "duration": 0.067901,
     "end_time": "2022-11-11T10:16:24.530761",
     "exception": false,
     "start_time": "2022-11-11T10:16:24.462860",
     "status": "completed"
    },
    "tags": []
   },
   "outputs": [
    {
     "name": "stdout",
     "output_type": "stream",
     "text": [
      "True\n"
     ]
    }
   ],
   "source": [
    "x = 5\n",
    "y = 3\n",
    "\n",
    "print(x != y)\n"
   ]
  },
  {
   "cell_type": "code",
   "execution_count": 75,
   "id": "a9ee39b9",
   "metadata": {
    "execution": {
     "iopub.execute_input": "2022-11-11T10:16:24.646987Z",
     "iopub.status.busy": "2022-11-11T10:16:24.646574Z",
     "iopub.status.idle": "2022-11-11T10:16:24.652613Z",
     "shell.execute_reply": "2022-11-11T10:16:24.651251Z"
    },
    "papermill": {
     "duration": 0.067674,
     "end_time": "2022-11-11T10:16:24.655785",
     "exception": false,
     "start_time": "2022-11-11T10:16:24.588111",
     "status": "completed"
    },
    "tags": []
   },
   "outputs": [
    {
     "name": "stdout",
     "output_type": "stream",
     "text": [
      "False\n"
     ]
    }
   ],
   "source": [
    "x = 5\n",
    "y = 5\n",
    "\n",
    "print(x != y)"
   ]
  },
  {
   "cell_type": "markdown",
   "id": "6643ba75",
   "metadata": {
    "papermill": {
     "duration": 0.057818,
     "end_time": "2022-11-11T10:16:24.772146",
     "exception": false,
     "start_time": "2022-11-11T10:16:24.714328",
     "status": "completed"
    },
    "tags": []
   },
   "source": [
    "###  > Operator :"
   ]
  },
  {
   "cell_type": "code",
   "execution_count": 76,
   "id": "2d1d8d98",
   "metadata": {
    "execution": {
     "iopub.execute_input": "2022-11-11T10:16:24.890161Z",
     "iopub.status.busy": "2022-11-11T10:16:24.889761Z",
     "iopub.status.idle": "2022-11-11T10:16:24.895152Z",
     "shell.execute_reply": "2022-11-11T10:16:24.894102Z"
    },
    "papermill": {
     "duration": 0.068154,
     "end_time": "2022-11-11T10:16:24.898048",
     "exception": false,
     "start_time": "2022-11-11T10:16:24.829894",
     "status": "completed"
    },
    "tags": []
   },
   "outputs": [
    {
     "name": "stdout",
     "output_type": "stream",
     "text": [
      "True\n"
     ]
    }
   ],
   "source": [
    "x = 5\n",
    "y = 3\n",
    "\n",
    "print(x > y)"
   ]
  },
  {
   "cell_type": "code",
   "execution_count": 77,
   "id": "6f921748",
   "metadata": {
    "execution": {
     "iopub.execute_input": "2022-11-11T10:16:25.015913Z",
     "iopub.status.busy": "2022-11-11T10:16:25.015535Z",
     "iopub.status.idle": "2022-11-11T10:16:25.021525Z",
     "shell.execute_reply": "2022-11-11T10:16:25.020153Z"
    },
    "papermill": {
     "duration": 0.068921,
     "end_time": "2022-11-11T10:16:25.024952",
     "exception": false,
     "start_time": "2022-11-11T10:16:24.956031",
     "status": "completed"
    },
    "tags": []
   },
   "outputs": [
    {
     "name": "stdout",
     "output_type": "stream",
     "text": [
      "False\n"
     ]
    }
   ],
   "source": [
    "x = 1\n",
    "y = 5\n",
    "\n",
    "print(x > y)"
   ]
  },
  {
   "cell_type": "markdown",
   "id": "1459ee15",
   "metadata": {
    "papermill": {
     "duration": 0.057932,
     "end_time": "2022-11-11T10:16:25.141201",
     "exception": false,
     "start_time": "2022-11-11T10:16:25.083269",
     "status": "completed"
    },
    "tags": []
   },
   "source": [
    "### < Operator :"
   ]
  },
  {
   "cell_type": "code",
   "execution_count": 78,
   "id": "e4fa9dc3",
   "metadata": {
    "execution": {
     "iopub.execute_input": "2022-11-11T10:16:25.315919Z",
     "iopub.status.busy": "2022-11-11T10:16:25.315535Z",
     "iopub.status.idle": "2022-11-11T10:16:25.321250Z",
     "shell.execute_reply": "2022-11-11T10:16:25.320111Z"
    },
    "papermill": {
     "duration": 0.067384,
     "end_time": "2022-11-11T10:16:25.324203",
     "exception": false,
     "start_time": "2022-11-11T10:16:25.256819",
     "status": "completed"
    },
    "tags": []
   },
   "outputs": [
    {
     "name": "stdout",
     "output_type": "stream",
     "text": [
      "True\n"
     ]
    }
   ],
   "source": [
    "x = 1\n",
    "y = 5\n",
    "\n",
    "print(x < y)"
   ]
  },
  {
   "cell_type": "code",
   "execution_count": 79,
   "id": "fdd21dcc",
   "metadata": {
    "execution": {
     "iopub.execute_input": "2022-11-11T10:16:25.442544Z",
     "iopub.status.busy": "2022-11-11T10:16:25.442082Z",
     "iopub.status.idle": "2022-11-11T10:16:25.448743Z",
     "shell.execute_reply": "2022-11-11T10:16:25.447338Z"
    },
    "papermill": {
     "duration": 0.068722,
     "end_time": "2022-11-11T10:16:25.451337",
     "exception": false,
     "start_time": "2022-11-11T10:16:25.382615",
     "status": "completed"
    },
    "tags": []
   },
   "outputs": [
    {
     "name": "stdout",
     "output_type": "stream",
     "text": [
      "False\n"
     ]
    }
   ],
   "source": [
    "x = 10\n",
    "y = 5\n",
    "\n",
    "print(x < y)"
   ]
  },
  {
   "cell_type": "markdown",
   "id": "cb497c4d",
   "metadata": {
    "papermill": {
     "duration": 0.058187,
     "end_time": "2022-11-11T10:16:25.567591",
     "exception": false,
     "start_time": "2022-11-11T10:16:25.509404",
     "status": "completed"
    },
    "tags": []
   },
   "source": [
    "### >= Operator :"
   ]
  },
  {
   "cell_type": "code",
   "execution_count": 80,
   "id": "6cf90928",
   "metadata": {
    "execution": {
     "iopub.execute_input": "2022-11-11T10:16:25.686211Z",
     "iopub.status.busy": "2022-11-11T10:16:25.685755Z",
     "iopub.status.idle": "2022-11-11T10:16:25.691760Z",
     "shell.execute_reply": "2022-11-11T10:16:25.690395Z"
    },
    "papermill": {
     "duration": 0.068625,
     "end_time": "2022-11-11T10:16:25.694474",
     "exception": false,
     "start_time": "2022-11-11T10:16:25.625849",
     "status": "completed"
    },
    "tags": []
   },
   "outputs": [
    {
     "name": "stdout",
     "output_type": "stream",
     "text": [
      "True\n"
     ]
    }
   ],
   "source": [
    "x = 5\n",
    "y = 5\n",
    "\n",
    "print(x >= y)"
   ]
  },
  {
   "cell_type": "code",
   "execution_count": 81,
   "id": "8f0c36bb",
   "metadata": {
    "execution": {
     "iopub.execute_input": "2022-11-11T10:16:25.813047Z",
     "iopub.status.busy": "2022-11-11T10:16:25.812627Z",
     "iopub.status.idle": "2022-11-11T10:16:25.818103Z",
     "shell.execute_reply": "2022-11-11T10:16:25.817214Z"
    },
    "papermill": {
     "duration": 0.067287,
     "end_time": "2022-11-11T10:16:25.820200",
     "exception": false,
     "start_time": "2022-11-11T10:16:25.752913",
     "status": "completed"
    },
    "tags": []
   },
   "outputs": [
    {
     "name": "stdout",
     "output_type": "stream",
     "text": [
      "True\n"
     ]
    }
   ],
   "source": [
    "x = 10\n",
    "y = 5\n",
    "\n",
    "print(x >= y)"
   ]
  },
  {
   "cell_type": "markdown",
   "id": "17a8bee3",
   "metadata": {
    "papermill": {
     "duration": 0.057199,
     "end_time": "2022-11-11T10:16:25.934958",
     "exception": false,
     "start_time": "2022-11-11T10:16:25.877759",
     "status": "completed"
    },
    "tags": []
   },
   "source": [
    "### <= Operator :"
   ]
  },
  {
   "cell_type": "code",
   "execution_count": 82,
   "id": "6feadaa0",
   "metadata": {
    "execution": {
     "iopub.execute_input": "2022-11-11T10:16:26.055797Z",
     "iopub.status.busy": "2022-11-11T10:16:26.055361Z",
     "iopub.status.idle": "2022-11-11T10:16:26.061557Z",
     "shell.execute_reply": "2022-11-11T10:16:26.060233Z"
    },
    "papermill": {
     "duration": 0.067942,
     "end_time": "2022-11-11T10:16:26.063895",
     "exception": false,
     "start_time": "2022-11-11T10:16:25.995953",
     "status": "completed"
    },
    "tags": []
   },
   "outputs": [
    {
     "name": "stdout",
     "output_type": "stream",
     "text": [
      "True\n"
     ]
    }
   ],
   "source": [
    "x = 5\n",
    "y = 5\n",
    "\n",
    "print(x <= y)"
   ]
  },
  {
   "cell_type": "code",
   "execution_count": 83,
   "id": "2b060c46",
   "metadata": {
    "execution": {
     "iopub.execute_input": "2022-11-11T10:16:26.182817Z",
     "iopub.status.busy": "2022-11-11T10:16:26.182410Z",
     "iopub.status.idle": "2022-11-11T10:16:26.188158Z",
     "shell.execute_reply": "2022-11-11T10:16:26.186884Z"
    },
    "papermill": {
     "duration": 0.068924,
     "end_time": "2022-11-11T10:16:26.190792",
     "exception": false,
     "start_time": "2022-11-11T10:16:26.121868",
     "status": "completed"
    },
    "tags": []
   },
   "outputs": [
    {
     "name": "stdout",
     "output_type": "stream",
     "text": [
      "False\n"
     ]
    }
   ],
   "source": [
    "x = 10\n",
    "y = 5\n",
    "\n",
    "print(x <= y)"
   ]
  },
  {
   "cell_type": "markdown",
   "id": "cedadd7a",
   "metadata": {
    "papermill": {
     "duration": 0.057435,
     "end_time": "2022-11-11T10:16:26.306667",
     "exception": false,
     "start_time": "2022-11-11T10:16:26.249232",
     "status": "completed"
    },
    "tags": []
   },
   "source": [
    "## Python Logical Operators:\n",
    "- Logical operators are used to combine conditional statements."
   ]
  },
  {
   "cell_type": "markdown",
   "id": "56090267",
   "metadata": {
    "papermill": {
     "duration": 0.057172,
     "end_time": "2022-11-11T10:16:26.422877",
     "exception": false,
     "start_time": "2022-11-11T10:16:26.365705",
     "status": "completed"
    },
    "tags": []
   },
   "source": [
    "- there are three Logical Operators in Python.\n",
    "#### and\n",
    "        - Returns True if both statements are true.\n",
    "#### or \n",
    "        - Returns True if one of the statements is true\n",
    "#### not \n",
    "        - Reverse the result, returns False if the result is true"
   ]
  },
  {
   "cell_type": "markdown",
   "id": "bacc88ff",
   "metadata": {
    "papermill": {
     "duration": 0.056731,
     "end_time": "2022-11-11T10:16:26.537911",
     "exception": false,
     "start_time": "2022-11-11T10:16:26.481180",
     "status": "completed"
    },
    "tags": []
   },
   "source": [
    "#### And Operator :"
   ]
  },
  {
   "cell_type": "code",
   "execution_count": 84,
   "id": "baabe1ef",
   "metadata": {
    "execution": {
     "iopub.execute_input": "2022-11-11T10:16:26.656704Z",
     "iopub.status.busy": "2022-11-11T10:16:26.656329Z",
     "iopub.status.idle": "2022-11-11T10:16:26.661628Z",
     "shell.execute_reply": "2022-11-11T10:16:26.660454Z"
    },
    "papermill": {
     "duration": 0.067785,
     "end_time": "2022-11-11T10:16:26.664494",
     "exception": false,
     "start_time": "2022-11-11T10:16:26.596709",
     "status": "completed"
    },
    "tags": []
   },
   "outputs": [
    {
     "name": "stdout",
     "output_type": "stream",
     "text": [
      "False\n"
     ]
    }
   ],
   "source": [
    "a=4\n",
    "b=6\n",
    "c=1\n",
    "print(a<b and b<c)"
   ]
  },
  {
   "cell_type": "markdown",
   "id": "853e516e",
   "metadata": {
    "papermill": {
     "duration": 0.057334,
     "end_time": "2022-11-11T10:16:26.779731",
     "exception": false,
     "start_time": "2022-11-11T10:16:26.722397",
     "status": "completed"
    },
    "tags": []
   },
   "source": [
    "#### Or Operator :"
   ]
  },
  {
   "cell_type": "code",
   "execution_count": 85,
   "id": "533fc9c9",
   "metadata": {
    "execution": {
     "iopub.execute_input": "2022-11-11T10:16:26.897802Z",
     "iopub.status.busy": "2022-11-11T10:16:26.897404Z",
     "iopub.status.idle": "2022-11-11T10:16:26.903771Z",
     "shell.execute_reply": "2022-11-11T10:16:26.902456Z"
    },
    "papermill": {
     "duration": 0.068441,
     "end_time": "2022-11-11T10:16:26.906593",
     "exception": false,
     "start_time": "2022-11-11T10:16:26.838152",
     "status": "completed"
    },
    "tags": []
   },
   "outputs": [
    {
     "name": "stdout",
     "output_type": "stream",
     "text": [
      "True\n"
     ]
    }
   ],
   "source": [
    "a=4\n",
    "b=6\n",
    "c=1\n",
    "print(a<b or b<c)"
   ]
  },
  {
   "cell_type": "markdown",
   "id": "325f9675",
   "metadata": {
    "papermill": {
     "duration": 0.057526,
     "end_time": "2022-11-11T10:16:27.025631",
     "exception": false,
     "start_time": "2022-11-11T10:16:26.968105",
     "status": "completed"
    },
    "tags": []
   },
   "source": [
    "#### Not Operator :"
   ]
  },
  {
   "cell_type": "code",
   "execution_count": 86,
   "id": "05f8fab2",
   "metadata": {
    "execution": {
     "iopub.execute_input": "2022-11-11T10:16:27.143053Z",
     "iopub.status.busy": "2022-11-11T10:16:27.142670Z",
     "iopub.status.idle": "2022-11-11T10:16:27.148657Z",
     "shell.execute_reply": "2022-11-11T10:16:27.147371Z"
    },
    "papermill": {
     "duration": 0.067495,
     "end_time": "2022-11-11T10:16:27.151172",
     "exception": false,
     "start_time": "2022-11-11T10:16:27.083677",
     "status": "completed"
    },
    "tags": []
   },
   "outputs": [
    {
     "name": "stdout",
     "output_type": "stream",
     "text": [
      "True\n"
     ]
    }
   ],
   "source": [
    "a=4\n",
    "b=6\n",
    "c=1\n",
    "print(not (a<b and b<c))"
   ]
  },
  {
   "cell_type": "markdown",
   "id": "65bd5b0f",
   "metadata": {
    "papermill": {
     "duration": 0.059033,
     "end_time": "2022-11-11T10:16:27.270037",
     "exception": false,
     "start_time": "2022-11-11T10:16:27.211004",
     "status": "completed"
    },
    "tags": []
   },
   "source": [
    "### Identity Operators:\n",
    "- Identity operators are used to compare the objects, not if they are equal, but if they are actually the same object, with the same memory location\n",
    "- there are two identity Operators in Python.\n",
    "    - is \n",
    "    - is not"
   ]
  },
  {
   "cell_type": "markdown",
   "id": "ba3756ff",
   "metadata": {
    "papermill": {
     "duration": 0.05752,
     "end_time": "2022-11-11T10:16:27.386597",
     "exception": false,
     "start_time": "2022-11-11T10:16:27.329077",
     "status": "completed"
    },
    "tags": []
   },
   "source": [
    "#### IS Operator :"
   ]
  },
  {
   "cell_type": "code",
   "execution_count": 87,
   "id": "310c5c87",
   "metadata": {
    "execution": {
     "iopub.execute_input": "2022-11-11T10:16:27.503601Z",
     "iopub.status.busy": "2022-11-11T10:16:27.503167Z",
     "iopub.status.idle": "2022-11-11T10:16:27.509101Z",
     "shell.execute_reply": "2022-11-11T10:16:27.508003Z"
    },
    "papermill": {
     "duration": 0.067585,
     "end_time": "2022-11-11T10:16:27.512100",
     "exception": false,
     "start_time": "2022-11-11T10:16:27.444515",
     "status": "completed"
    },
    "tags": []
   },
   "outputs": [
    {
     "name": "stdout",
     "output_type": "stream",
     "text": [
      "True\n"
     ]
    }
   ],
   "source": [
    "a=\"usman\"\n",
    "b=\"usman\"\n",
    "print(a is b)"
   ]
  },
  {
   "cell_type": "code",
   "execution_count": 88,
   "id": "d228afca",
   "metadata": {
    "execution": {
     "iopub.execute_input": "2022-11-11T10:16:27.631329Z",
     "iopub.status.busy": "2022-11-11T10:16:27.630806Z",
     "iopub.status.idle": "2022-11-11T10:16:27.636877Z",
     "shell.execute_reply": "2022-11-11T10:16:27.635579Z"
    },
    "papermill": {
     "duration": 0.070033,
     "end_time": "2022-11-11T10:16:27.640795",
     "exception": false,
     "start_time": "2022-11-11T10:16:27.570762",
     "status": "completed"
    },
    "tags": []
   },
   "outputs": [
    {
     "name": "stdout",
     "output_type": "stream",
     "text": [
      "False\n"
     ]
    }
   ],
   "source": [
    "a=\"usman\"\n",
    "b=\"Ahtsham\"\n",
    "print(a is b)"
   ]
  },
  {
   "cell_type": "markdown",
   "id": "934212f4",
   "metadata": {
    "papermill": {
     "duration": 0.058542,
     "end_time": "2022-11-11T10:16:27.761414",
     "exception": false,
     "start_time": "2022-11-11T10:16:27.702872",
     "status": "completed"
    },
    "tags": []
   },
   "source": [
    "#### IS NOT :"
   ]
  },
  {
   "cell_type": "code",
   "execution_count": 89,
   "id": "1ead844c",
   "metadata": {
    "execution": {
     "iopub.execute_input": "2022-11-11T10:16:27.881000Z",
     "iopub.status.busy": "2022-11-11T10:16:27.880606Z",
     "iopub.status.idle": "2022-11-11T10:16:27.885992Z",
     "shell.execute_reply": "2022-11-11T10:16:27.885106Z"
    },
    "papermill": {
     "duration": 0.068339,
     "end_time": "2022-11-11T10:16:27.889470",
     "exception": false,
     "start_time": "2022-11-11T10:16:27.821131",
     "status": "completed"
    },
    "tags": []
   },
   "outputs": [
    {
     "name": "stdout",
     "output_type": "stream",
     "text": [
      "True\n"
     ]
    }
   ],
   "source": [
    "a=\"usman\"\n",
    "b=\"Ahtsham\"\n",
    "print(a is not  b)"
   ]
  },
  {
   "cell_type": "code",
   "execution_count": 90,
   "id": "2aceee70",
   "metadata": {
    "execution": {
     "iopub.execute_input": "2022-11-11T10:16:28.010404Z",
     "iopub.status.busy": "2022-11-11T10:16:28.009499Z",
     "iopub.status.idle": "2022-11-11T10:16:28.015448Z",
     "shell.execute_reply": "2022-11-11T10:16:28.014353Z"
    },
    "papermill": {
     "duration": 0.068967,
     "end_time": "2022-11-11T10:16:28.017944",
     "exception": false,
     "start_time": "2022-11-11T10:16:27.948977",
     "status": "completed"
    },
    "tags": []
   },
   "outputs": [
    {
     "name": "stdout",
     "output_type": "stream",
     "text": [
      "False\n"
     ]
    }
   ],
   "source": [
    "a=\"usman\"\n",
    "b=\"usman\"\n",
    "print(a is not b)"
   ]
  },
  {
   "cell_type": "markdown",
   "id": "64c06a6b",
   "metadata": {
    "papermill": {
     "duration": 0.057918,
     "end_time": "2022-11-11T10:16:28.135365",
     "exception": false,
     "start_time": "2022-11-11T10:16:28.077447",
     "status": "completed"
    },
    "tags": []
   },
   "source": [
    "### Membership Operators\n",
    "- Membership operators are used to test if a sequence is presented in an object.\n",
    "- There are two types of Membership Operators in python.\n",
    "    - in\n",
    "    - not in"
   ]
  },
  {
   "cell_type": "markdown",
   "id": "3f699a38",
   "metadata": {
    "papermill": {
     "duration": 0.057848,
     "end_time": "2022-11-11T10:16:28.251945",
     "exception": false,
     "start_time": "2022-11-11T10:16:28.194097",
     "status": "completed"
    },
    "tags": []
   },
   "source": [
    "#### In Operator:\n"
   ]
  },
  {
   "cell_type": "code",
   "execution_count": 91,
   "id": "9afba096",
   "metadata": {
    "execution": {
     "iopub.execute_input": "2022-11-11T10:16:28.369616Z",
     "iopub.status.busy": "2022-11-11T10:16:28.369183Z",
     "iopub.status.idle": "2022-11-11T10:16:28.374898Z",
     "shell.execute_reply": "2022-11-11T10:16:28.373720Z"
    },
    "papermill": {
     "duration": 0.068258,
     "end_time": "2022-11-11T10:16:28.377976",
     "exception": false,
     "start_time": "2022-11-11T10:16:28.309718",
     "status": "completed"
    },
    "tags": []
   },
   "outputs": [
    {
     "name": "stdout",
     "output_type": "stream",
     "text": [
      "True\n"
     ]
    }
   ],
   "source": [
    "a=\"usman\"\n",
    "b=\"u\"\n",
    "print(b in a)"
   ]
  },
  {
   "cell_type": "code",
   "execution_count": 92,
   "id": "896c8620",
   "metadata": {
    "execution": {
     "iopub.execute_input": "2022-11-11T10:16:28.497975Z",
     "iopub.status.busy": "2022-11-11T10:16:28.497549Z",
     "iopub.status.idle": "2022-11-11T10:16:28.503522Z",
     "shell.execute_reply": "2022-11-11T10:16:28.502321Z"
    },
    "papermill": {
     "duration": 0.067764,
     "end_time": "2022-11-11T10:16:28.505740",
     "exception": false,
     "start_time": "2022-11-11T10:16:28.437976",
     "status": "completed"
    },
    "tags": []
   },
   "outputs": [
    {
     "name": "stdout",
     "output_type": "stream",
     "text": [
      "True\n"
     ]
    }
   ],
   "source": [
    "name=[\"usman\",\"ahsan\",\"Ahtsham\",\"ali\"]\n",
    "a=\"Ahtsham\"\n",
    "print(a in name)"
   ]
  },
  {
   "cell_type": "code",
   "execution_count": 93,
   "id": "4ff9a207",
   "metadata": {
    "execution": {
     "iopub.execute_input": "2022-11-11T10:16:28.627103Z",
     "iopub.status.busy": "2022-11-11T10:16:28.626701Z",
     "iopub.status.idle": "2022-11-11T10:16:28.632789Z",
     "shell.execute_reply": "2022-11-11T10:16:28.631710Z"
    },
    "papermill": {
     "duration": 0.069176,
     "end_time": "2022-11-11T10:16:28.635132",
     "exception": false,
     "start_time": "2022-11-11T10:16:28.565956",
     "status": "completed"
    },
    "tags": []
   },
   "outputs": [
    {
     "name": "stdout",
     "output_type": "stream",
     "text": [
      "False\n"
     ]
    }
   ],
   "source": [
    "name=[\"usman\",\"ahsan\",\"Ahtsham\",\"ali\"]\n",
    "a=\"talha\"\n",
    "print(a in name)"
   ]
  },
  {
   "cell_type": "markdown",
   "id": "62911f98",
   "metadata": {
    "papermill": {
     "duration": 0.061951,
     "end_time": "2022-11-11T10:16:28.757881",
     "exception": false,
     "start_time": "2022-11-11T10:16:28.695930",
     "status": "completed"
    },
    "tags": []
   },
   "source": [
    "#### Not In Operator :"
   ]
  },
  {
   "cell_type": "code",
   "execution_count": 94,
   "id": "99cd24ae",
   "metadata": {
    "execution": {
     "iopub.execute_input": "2022-11-11T10:16:28.878916Z",
     "iopub.status.busy": "2022-11-11T10:16:28.878532Z",
     "iopub.status.idle": "2022-11-11T10:16:28.884490Z",
     "shell.execute_reply": "2022-11-11T10:16:28.883408Z"
    },
    "papermill": {
     "duration": 0.06798,
     "end_time": "2022-11-11T10:16:28.886861",
     "exception": false,
     "start_time": "2022-11-11T10:16:28.818881",
     "status": "completed"
    },
    "tags": []
   },
   "outputs": [
    {
     "name": "stdout",
     "output_type": "stream",
     "text": [
      "True\n"
     ]
    }
   ],
   "source": [
    "name=[\"usman\",\"ahsan\",\"Ahtsham\",\"ali\"]\n",
    "a=\"talha\"\n",
    "print(a  not in name)"
   ]
  },
  {
   "cell_type": "code",
   "execution_count": 95,
   "id": "a0558913",
   "metadata": {
    "execution": {
     "iopub.execute_input": "2022-11-11T10:16:29.006715Z",
     "iopub.status.busy": "2022-11-11T10:16:29.006255Z",
     "iopub.status.idle": "2022-11-11T10:16:29.012840Z",
     "shell.execute_reply": "2022-11-11T10:16:29.011528Z"
    },
    "papermill": {
     "duration": 0.069264,
     "end_time": "2022-11-11T10:16:29.016207",
     "exception": false,
     "start_time": "2022-11-11T10:16:28.946943",
     "status": "completed"
    },
    "tags": []
   },
   "outputs": [
    {
     "name": "stdout",
     "output_type": "stream",
     "text": [
      "False\n"
     ]
    }
   ],
   "source": [
    "name=[\"usman\",\"ahsan\",\"Ahtsham\",\"ali\"]\n",
    "a=\"Ahtsham\"\n",
    "print(a not in name)"
   ]
  },
  {
   "cell_type": "code",
   "execution_count": 96,
   "id": "db190c1f",
   "metadata": {
    "execution": {
     "iopub.execute_input": "2022-11-11T10:16:29.137153Z",
     "iopub.status.busy": "2022-11-11T10:16:29.136776Z",
     "iopub.status.idle": "2022-11-11T10:16:29.142513Z",
     "shell.execute_reply": "2022-11-11T10:16:29.141217Z"
    },
    "papermill": {
     "duration": 0.068766,
     "end_time": "2022-11-11T10:16:29.144904",
     "exception": false,
     "start_time": "2022-11-11T10:16:29.076138",
     "status": "completed"
    },
    "tags": []
   },
   "outputs": [
    {
     "name": "stdout",
     "output_type": "stream",
     "text": [
      "False\n"
     ]
    }
   ],
   "source": [
    "a=\"usman\"\n",
    "b=\"u\"\n",
    "print(b  not in a)"
   ]
  },
  {
   "cell_type": "markdown",
   "id": "b23ad2a6",
   "metadata": {
    "papermill": {
     "duration": 0.058026,
     "end_time": "2022-11-11T10:16:29.261845",
     "exception": false,
     "start_time": "2022-11-11T10:16:29.203819",
     "status": "completed"
    },
    "tags": []
   },
   "source": [
    "# Python If _ Else :"
   ]
  },
  {
   "cell_type": "markdown",
   "id": "56452010",
   "metadata": {
    "papermill": {
     "duration": 0.058345,
     "end_time": "2022-11-11T10:16:29.378196",
     "exception": false,
     "start_time": "2022-11-11T10:16:29.319851",
     "status": "completed"
    },
    "tags": []
   },
   "source": [
    "#### if Condition :\n",
    "- An \"if statement\" is written by using the if keyword."
   ]
  },
  {
   "cell_type": "code",
   "execution_count": 97,
   "id": "a3607561",
   "metadata": {
    "execution": {
     "iopub.execute_input": "2022-11-11T10:16:29.496685Z",
     "iopub.status.busy": "2022-11-11T10:16:29.496263Z",
     "iopub.status.idle": "2022-11-11T10:16:29.502243Z",
     "shell.execute_reply": "2022-11-11T10:16:29.501008Z"
    },
    "papermill": {
     "duration": 0.068606,
     "end_time": "2022-11-11T10:16:29.505131",
     "exception": false,
     "start_time": "2022-11-11T10:16:29.436525",
     "status": "completed"
    },
    "tags": []
   },
   "outputs": [
    {
     "name": "stdout",
     "output_type": "stream",
     "text": [
      "b is greater than a\n"
     ]
    }
   ],
   "source": [
    "a = 33\n",
    "b = 200\n",
    "if b > a:\n",
    "  print(\"b is greater than a\")"
   ]
  },
  {
   "cell_type": "markdown",
   "id": "f2e046c3",
   "metadata": {
    "papermill": {
     "duration": 0.060387,
     "end_time": "2022-11-11T10:16:29.626772",
     "exception": false,
     "start_time": "2022-11-11T10:16:29.566385",
     "status": "completed"
    },
    "tags": []
   },
   "source": [
    "#### Elif Condition :\n",
    "- The elif keyword is pythons way of saying \"if the previous conditions were not true, then try this condition\"."
   ]
  },
  {
   "cell_type": "code",
   "execution_count": 98,
   "id": "3e8c89c6",
   "metadata": {
    "execution": {
     "iopub.execute_input": "2022-11-11T10:16:29.751841Z",
     "iopub.status.busy": "2022-11-11T10:16:29.751362Z",
     "iopub.status.idle": "2022-11-11T10:16:29.757256Z",
     "shell.execute_reply": "2022-11-11T10:16:29.756342Z"
    },
    "papermill": {
     "duration": 0.070887,
     "end_time": "2022-11-11T10:16:29.761664",
     "exception": false,
     "start_time": "2022-11-11T10:16:29.690777",
     "status": "completed"
    },
    "tags": []
   },
   "outputs": [
    {
     "name": "stdout",
     "output_type": "stream",
     "text": [
      "A is Less than B\n"
     ]
    }
   ],
   "source": [
    "a= 33\n",
    "b= 67\n",
    "if a > b:\n",
    "    print( \"A is Greater than  B\")\n",
    "elif a<b:\n",
    "    print(\"A is Less than B\")\n",
    "    \n"
   ]
  },
  {
   "cell_type": "markdown",
   "id": "8be01ec0",
   "metadata": {
    "papermill": {
     "duration": 0.057715,
     "end_time": "2022-11-11T10:16:29.879946",
     "exception": false,
     "start_time": "2022-11-11T10:16:29.822231",
     "status": "completed"
    },
    "tags": []
   },
   "source": [
    "#### Else\n",
    "- The else keyword catches anything which isn't caught by the preceding conditions."
   ]
  },
  {
   "cell_type": "code",
   "execution_count": 99,
   "id": "4c47e6b7",
   "metadata": {
    "execution": {
     "iopub.execute_input": "2022-11-11T10:16:30.015666Z",
     "iopub.status.busy": "2022-11-11T10:16:30.015219Z",
     "iopub.status.idle": "2022-11-11T10:16:30.021059Z",
     "shell.execute_reply": "2022-11-11T10:16:30.020079Z"
    },
    "papermill": {
     "duration": 0.086441,
     "end_time": "2022-11-11T10:16:30.024880",
     "exception": false,
     "start_time": "2022-11-11T10:16:29.938439",
     "status": "completed"
    },
    "tags": []
   },
   "outputs": [
    {
     "name": "stdout",
     "output_type": "stream",
     "text": [
      "A and B are equal\n"
     ]
    }
   ],
   "source": [
    "a= 33\n",
    "b= 33\n",
    "if a > b:\n",
    "    print( \"A is Greater than  B\")\n",
    "elif a<b:\n",
    "    print(\"A is Less than B\")\n",
    "else:\n",
    "    print(\"A and B are equal\")\n",
    "    "
   ]
  },
  {
   "cell_type": "markdown",
   "id": "a2c22106",
   "metadata": {
    "papermill": {
     "duration": 0.059315,
     "end_time": "2022-11-11T10:16:30.152569",
     "exception": false,
     "start_time": "2022-11-11T10:16:30.093254",
     "status": "completed"
    },
    "tags": []
   },
   "source": [
    "# Python Loops:\n",
    "- Python has two primitive loop commands:\n",
    "\n",
    "    - while loops\n",
    "    - for loops"
   ]
  },
  {
   "cell_type": "markdown",
   "id": "6d86d84c",
   "metadata": {
    "papermill": {
     "duration": 0.058425,
     "end_time": "2022-11-11T10:16:30.270000",
     "exception": false,
     "start_time": "2022-11-11T10:16:30.211575",
     "status": "completed"
    },
    "tags": []
   },
   "source": [
    "##  while Loop\n",
    "- With the while loop we can execute a set of statements as long as a condition is true."
   ]
  },
  {
   "cell_type": "code",
   "execution_count": 100,
   "id": "d758bd46",
   "metadata": {
    "execution": {
     "iopub.execute_input": "2022-11-11T10:16:30.389678Z",
     "iopub.status.busy": "2022-11-11T10:16:30.388988Z",
     "iopub.status.idle": "2022-11-11T10:16:30.394574Z",
     "shell.execute_reply": "2022-11-11T10:16:30.393372Z"
    },
    "papermill": {
     "duration": 0.069186,
     "end_time": "2022-11-11T10:16:30.398170",
     "exception": false,
     "start_time": "2022-11-11T10:16:30.328984",
     "status": "completed"
    },
    "tags": []
   },
   "outputs": [
    {
     "name": "stdout",
     "output_type": "stream",
     "text": [
      "1\n",
      "2\n",
      "3\n",
      "4\n",
      "5\n"
     ]
    }
   ],
   "source": [
    "i = 1\n",
    "while i < 6:\n",
    "  print(i)\n",
    "  i += 1"
   ]
  },
  {
   "cell_type": "code",
   "execution_count": 101,
   "id": "2d9200c3",
   "metadata": {
    "execution": {
     "iopub.execute_input": "2022-11-11T10:16:30.518772Z",
     "iopub.status.busy": "2022-11-11T10:16:30.518383Z",
     "iopub.status.idle": "2022-11-11T10:16:30.524191Z",
     "shell.execute_reply": "2022-11-11T10:16:30.522946Z"
    },
    "papermill": {
     "duration": 0.068659,
     "end_time": "2022-11-11T10:16:30.526777",
     "exception": false,
     "start_time": "2022-11-11T10:16:30.458118",
     "status": "completed"
    },
    "tags": []
   },
   "outputs": [
    {
     "name": "stdout",
     "output_type": "stream",
     "text": [
      "0\n",
      "1\n",
      "2\n",
      "3\n",
      "4\n",
      "5\n",
      "6\n",
      "7\n",
      "8\n",
      "9\n"
     ]
    }
   ],
   "source": [
    "x = 0\n",
    "while (x<10):\n",
    "    print(x)\n",
    "    x +=1\n",
    "   \n",
    "     "
   ]
  },
  {
   "cell_type": "markdown",
   "id": "5342ea62",
   "metadata": {
    "papermill": {
     "duration": 0.058909,
     "end_time": "2022-11-11T10:16:30.644573",
     "exception": false,
     "start_time": "2022-11-11T10:16:30.585664",
     "status": "completed"
    },
    "tags": []
   },
   "source": [
    "### The break Statement:\n",
    "- With the break statement we can stop the loop even if the while condition is true."
   ]
  },
  {
   "cell_type": "code",
   "execution_count": 102,
   "id": "0d6a5d8f",
   "metadata": {
    "execution": {
     "iopub.execute_input": "2022-11-11T10:16:30.765065Z",
     "iopub.status.busy": "2022-11-11T10:16:30.764674Z",
     "iopub.status.idle": "2022-11-11T10:16:30.770320Z",
     "shell.execute_reply": "2022-11-11T10:16:30.769236Z"
    },
    "papermill": {
     "duration": 0.06992,
     "end_time": "2022-11-11T10:16:30.773493",
     "exception": false,
     "start_time": "2022-11-11T10:16:30.703573",
     "status": "completed"
    },
    "tags": []
   },
   "outputs": [
    {
     "name": "stdout",
     "output_type": "stream",
     "text": [
      "0\n",
      "1\n",
      "2\n",
      "3\n",
      "4\n"
     ]
    }
   ],
   "source": [
    "u=0\n",
    "while u<10:\n",
    "    if u==5:\n",
    "     break\n",
    "    print(u)\n",
    "    u+=1"
   ]
  },
  {
   "cell_type": "markdown",
   "id": "e9a701fd",
   "metadata": {
    "papermill": {
     "duration": 0.058785,
     "end_time": "2022-11-11T10:16:30.892659",
     "exception": false,
     "start_time": "2022-11-11T10:16:30.833874",
     "status": "completed"
    },
    "tags": []
   },
   "source": [
    "## Python For Loops:\n",
    "- A for loop is used for iterating over a sequence (that is either a list, a tuple, a dictionary, a set, or a string).\n",
    "\n",
    "- This is less like the for keyword in other programming languages, and works more like an iterator method as found in other object-orientated programming languages.\n",
    "\n",
    "- With the for loop we can execute a set of statements, once for each item in a list, tuple, set etc"
   ]
  },
  {
   "cell_type": "code",
   "execution_count": 103,
   "id": "3ec61c4d",
   "metadata": {
    "execution": {
     "iopub.execute_input": "2022-11-11T10:16:31.069367Z",
     "iopub.status.busy": "2022-11-11T10:16:31.068969Z",
     "iopub.status.idle": "2022-11-11T10:16:31.074337Z",
     "shell.execute_reply": "2022-11-11T10:16:31.073154Z"
    },
    "papermill": {
     "duration": 0.068081,
     "end_time": "2022-11-11T10:16:31.077042",
     "exception": false,
     "start_time": "2022-11-11T10:16:31.008961",
     "status": "completed"
    },
    "tags": []
   },
   "outputs": [
    {
     "name": "stdout",
     "output_type": "stream",
     "text": [
      "u\n",
      "s\n",
      "m\n",
      "a\n",
      "n\n"
     ]
    }
   ],
   "source": [
    "u=\"usman\"\n",
    "for x in u:\n",
    "    print(x)"
   ]
  },
  {
   "cell_type": "code",
   "execution_count": 104,
   "id": "d70422c5",
   "metadata": {
    "execution": {
     "iopub.execute_input": "2022-11-11T10:16:31.197800Z",
     "iopub.status.busy": "2022-11-11T10:16:31.197280Z",
     "iopub.status.idle": "2022-11-11T10:16:31.203606Z",
     "shell.execute_reply": "2022-11-11T10:16:31.201942Z"
    },
    "papermill": {
     "duration": 0.069418,
     "end_time": "2022-11-11T10:16:31.205987",
     "exception": false,
     "start_time": "2022-11-11T10:16:31.136569",
     "status": "completed"
    },
    "tags": []
   },
   "outputs": [
    {
     "name": "stdout",
     "output_type": "stream",
     "text": [
      "Usman\n",
      "Ahtsham\n",
      "Ahsan\n"
     ]
    }
   ],
   "source": [
    "name = (\"Usman\", \"Ahtsham\", \"Ahsan\")\n",
    "for x in name:\n",
    "  print(x)\n"
   ]
  },
  {
   "cell_type": "markdown",
   "id": "bf0ee20a",
   "metadata": {
    "papermill": {
     "duration": 0.058368,
     "end_time": "2022-11-11T10:16:31.324915",
     "exception": false,
     "start_time": "2022-11-11T10:16:31.266547",
     "status": "completed"
    },
    "tags": []
   },
   "source": [
    "#### The break Statement:\n",
    "- With the break statement we can stop the loop before it has looped through all the items"
   ]
  },
  {
   "cell_type": "code",
   "execution_count": 105,
   "id": "1a98a839",
   "metadata": {
    "execution": {
     "iopub.execute_input": "2022-11-11T10:16:31.444759Z",
     "iopub.status.busy": "2022-11-11T10:16:31.443929Z",
     "iopub.status.idle": "2022-11-11T10:16:31.449583Z",
     "shell.execute_reply": "2022-11-11T10:16:31.448797Z"
    },
    "papermill": {
     "duration": 0.068785,
     "end_time": "2022-11-11T10:16:31.452313",
     "exception": false,
     "start_time": "2022-11-11T10:16:31.383528",
     "status": "completed"
    },
    "tags": []
   },
   "outputs": [
    {
     "name": "stdout",
     "output_type": "stream",
     "text": [
      "Usman\n",
      "ali\n"
     ]
    }
   ],
   "source": [
    "name = (\"Usman\",\"ali\", \"Ahtsham\", \"Ahsan\")\n",
    "for x in name:\n",
    "    if x==\"Ahtsham\":\n",
    "        break\n",
    "    print(x)"
   ]
  },
  {
   "cell_type": "markdown",
   "id": "19e1a823",
   "metadata": {
    "papermill": {
     "duration": 0.058572,
     "end_time": "2022-11-11T10:16:31.571013",
     "exception": false,
     "start_time": "2022-11-11T10:16:31.512441",
     "status": "completed"
    },
    "tags": []
   },
   "source": [
    "#### The range() Function:\n",
    "- To loop through a set of code a specified number of times, we can use the range() function,\n",
    "- The range() function returns a sequence of numbers, starting from 0 by default, and increments by 1 (by default), and ends at a specified number."
   ]
  },
  {
   "cell_type": "code",
   "execution_count": 106,
   "id": "91095983",
   "metadata": {
    "execution": {
     "iopub.execute_input": "2022-11-11T10:16:31.693147Z",
     "iopub.status.busy": "2022-11-11T10:16:31.692733Z",
     "iopub.status.idle": "2022-11-11T10:16:31.698805Z",
     "shell.execute_reply": "2022-11-11T10:16:31.697535Z"
    },
    "papermill": {
     "duration": 0.069938,
     "end_time": "2022-11-11T10:16:31.701813",
     "exception": false,
     "start_time": "2022-11-11T10:16:31.631875",
     "status": "completed"
    },
    "tags": []
   },
   "outputs": [
    {
     "name": "stdout",
     "output_type": "stream",
     "text": [
      "0\n",
      "1\n",
      "2\n",
      "3\n",
      "4\n",
      "5\n"
     ]
    }
   ],
   "source": [
    "for x in range(6):\n",
    "    print(x)"
   ]
  },
  {
   "cell_type": "markdown",
   "id": "712a97f7",
   "metadata": {
    "papermill": {
     "duration": 0.060628,
     "end_time": "2022-11-11T10:16:31.823277",
     "exception": false,
     "start_time": "2022-11-11T10:16:31.762649",
     "status": "completed"
    },
    "tags": []
   },
   "source": [
    "- Using the start parameter."
   ]
  },
  {
   "cell_type": "code",
   "execution_count": 107,
   "id": "c3a14981",
   "metadata": {
    "execution": {
     "iopub.execute_input": "2022-11-11T10:16:31.943263Z",
     "iopub.status.busy": "2022-11-11T10:16:31.942834Z",
     "iopub.status.idle": "2022-11-11T10:16:31.948589Z",
     "shell.execute_reply": "2022-11-11T10:16:31.947442Z"
    },
    "papermill": {
     "duration": 0.06924,
     "end_time": "2022-11-11T10:16:31.951446",
     "exception": false,
     "start_time": "2022-11-11T10:16:31.882206",
     "status": "completed"
    },
    "tags": []
   },
   "outputs": [
    {
     "name": "stdout",
     "output_type": "stream",
     "text": [
      "3\n",
      "4\n",
      "5\n"
     ]
    }
   ],
   "source": [
    "for x in range(3,6):\n",
    "    print(x)"
   ]
  },
  {
   "cell_type": "markdown",
   "id": "03fbdd80",
   "metadata": {
    "papermill": {
     "duration": 0.060283,
     "end_time": "2022-11-11T10:16:32.070967",
     "exception": false,
     "start_time": "2022-11-11T10:16:32.010684",
     "status": "completed"
    },
    "tags": []
   },
   "source": [
    "- Increment the sequence with 3 (default is 1)"
   ]
  },
  {
   "cell_type": "code",
   "execution_count": 108,
   "id": "3905c80e",
   "metadata": {
    "execution": {
     "iopub.execute_input": "2022-11-11T10:16:32.194156Z",
     "iopub.status.busy": "2022-11-11T10:16:32.193769Z",
     "iopub.status.idle": "2022-11-11T10:16:32.199410Z",
     "shell.execute_reply": "2022-11-11T10:16:32.198129Z"
    },
    "papermill": {
     "duration": 0.070297,
     "end_time": "2022-11-11T10:16:32.202198",
     "exception": false,
     "start_time": "2022-11-11T10:16:32.131901",
     "status": "completed"
    },
    "tags": []
   },
   "outputs": [
    {
     "name": "stdout",
     "output_type": "stream",
     "text": [
      "0\n",
      "3\n",
      "6\n",
      "9\n",
      "12\n"
     ]
    }
   ],
   "source": [
    "for x in range(0,15,3):\n",
    "    print(x)"
   ]
  },
  {
   "cell_type": "markdown",
   "id": "86d6088a",
   "metadata": {
    "papermill": {
     "duration": 0.060822,
     "end_time": "2022-11-11T10:16:32.323192",
     "exception": false,
     "start_time": "2022-11-11T10:16:32.262370",
     "status": "completed"
    },
    "tags": []
   },
   "source": [
    "### Nested Loops:\n",
    "- A nested loop is a loop inside a loop.\n",
    "\n",
    "- The \"inner loop\" will be executed one time for each iteration of the \"outer loop\"."
   ]
  },
  {
   "cell_type": "code",
   "execution_count": 109,
   "id": "054977e8",
   "metadata": {
    "execution": {
     "iopub.execute_input": "2022-11-11T10:16:32.444108Z",
     "iopub.status.busy": "2022-11-11T10:16:32.443675Z",
     "iopub.status.idle": "2022-11-11T10:16:32.450131Z",
     "shell.execute_reply": "2022-11-11T10:16:32.448559Z"
    },
    "papermill": {
     "duration": 0.070054,
     "end_time": "2022-11-11T10:16:32.452765",
     "exception": false,
     "start_time": "2022-11-11T10:16:32.382711",
     "status": "completed"
    },
    "tags": []
   },
   "outputs": [
    {
     "name": "stdout",
     "output_type": "stream",
     "text": [
      "* \n",
      "* * \n",
      "* * * \n"
     ]
    }
   ],
   "source": [
    " \n",
    "n = 3  \n",
    "for i in range(0, n):   \n",
    "        for j in range(0, i + 1):   \n",
    "            print(\"* \", end=\"\")\n",
    "        print()\n",
    "        "
   ]
  },
  {
   "cell_type": "markdown",
   "id": "619ef166",
   "metadata": {
    "papermill": {
     "duration": 0.059281,
     "end_time": "2022-11-11T10:16:32.571942",
     "exception": false,
     "start_time": "2022-11-11T10:16:32.512661",
     "status": "completed"
    },
    "tags": []
   },
   "source": [
    "---\n",
    "---\n",
    "---\n",
    "---\n",
    "---\n",
    "---\n"
   ]
  },
  {
   "cell_type": "markdown",
   "id": "3852dc03",
   "metadata": {
    "papermill": {
     "duration": 0.059276,
     "end_time": "2022-11-11T10:16:32.690584",
     "exception": false,
     "start_time": "2022-11-11T10:16:32.631308",
     "status": "completed"
    },
    "tags": []
   },
   "source": [
    "# Data Structures in python:\n",
    "- Lists\n",
    "- Tuples\n",
    "- Sets\n",
    "- Dictionaries"
   ]
  },
  {
   "cell_type": "markdown",
   "id": "79b948fb",
   "metadata": {
    "papermill": {
     "duration": 0.060799,
     "end_time": "2022-11-11T10:16:32.810980",
     "exception": false,
     "start_time": "2022-11-11T10:16:32.750181",
     "status": "completed"
    },
    "tags": []
   },
   "source": [
    "# Lists:\n",
    "- Lists are used to store multiple items in a single variable.\n",
    "\n",
    "- Lists are one of 4 built-in data types in Python used to store collections of data, the other 3 are Tuple, Set, and Dictionary, all with different qualities and usage.\n",
    "\n",
    "- Lists are created using square brackets  [    ] :\n",
    "- List items are ordered, changeable, and allow duplicate values.\n",
    "\n",
    "- List items are indexed, the first item has index 0 , the second item has index 1 etc."
   ]
  },
  {
   "cell_type": "markdown",
   "id": "184c91be",
   "metadata": {
    "papermill": {
     "duration": 0.058966,
     "end_time": "2022-11-11T10:16:32.929327",
     "exception": false,
     "start_time": "2022-11-11T10:16:32.870361",
     "status": "completed"
    },
    "tags": []
   },
   "source": [
    "## Creation of List:\n",
    "#### Example:"
   ]
  },
  {
   "cell_type": "code",
   "execution_count": 110,
   "id": "a9ec66a0",
   "metadata": {
    "execution": {
     "iopub.execute_input": "2022-11-11T10:16:33.048830Z",
     "iopub.status.busy": "2022-11-11T10:16:33.048463Z",
     "iopub.status.idle": "2022-11-11T10:16:33.054242Z",
     "shell.execute_reply": "2022-11-11T10:16:33.053003Z"
    },
    "papermill": {
     "duration": 0.069093,
     "end_time": "2022-11-11T10:16:33.057197",
     "exception": false,
     "start_time": "2022-11-11T10:16:32.988104",
     "status": "completed"
    },
    "tags": []
   },
   "outputs": [
    {
     "name": "stdout",
     "output_type": "stream",
     "text": [
      "['usman', 'ahtsham', 'ahsan', 14, 28, 26]\n"
     ]
    }
   ],
   "source": [
    "list_1=[\"usman\",\"ahtsham\",\"ahsan\",14,28,26]\n",
    "print(list_1)"
   ]
  },
  {
   "cell_type": "markdown",
   "id": "0b1ff934",
   "metadata": {
    "papermill": {
     "duration": 0.058697,
     "end_time": "2022-11-11T10:16:33.175551",
     "exception": false,
     "start_time": "2022-11-11T10:16:33.116854",
     "status": "completed"
    },
    "tags": []
   },
   "source": [
    "## Access Items:\n",
    "- List items are indexed and you can access them by referring to the index number.\n",
    "#### Examples:"
   ]
  },
  {
   "cell_type": "code",
   "execution_count": 111,
   "id": "d020f0e3",
   "metadata": {
    "execution": {
     "iopub.execute_input": "2022-11-11T10:16:33.297700Z",
     "iopub.status.busy": "2022-11-11T10:16:33.297223Z",
     "iopub.status.idle": "2022-11-11T10:16:33.302793Z",
     "shell.execute_reply": "2022-11-11T10:16:33.302004Z"
    },
    "papermill": {
     "duration": 0.07036,
     "end_time": "2022-11-11T10:16:33.305251",
     "exception": false,
     "start_time": "2022-11-11T10:16:33.234891",
     "status": "completed"
    },
    "tags": []
   },
   "outputs": [
    {
     "name": "stdout",
     "output_type": "stream",
     "text": [
      "45\n"
     ]
    }
   ],
   "source": [
    "list_2=[12,45,67,89]\n",
    "print(list_2[1])"
   ]
  },
  {
   "cell_type": "markdown",
   "id": "3d661864",
   "metadata": {
    "papermill": {
     "duration": 0.05978,
     "end_time": "2022-11-11T10:16:33.425381",
     "exception": false,
     "start_time": "2022-11-11T10:16:33.365601",
     "status": "completed"
    },
    "tags": []
   },
   "source": [
    "- negative indexing"
   ]
  },
  {
   "cell_type": "code",
   "execution_count": 112,
   "id": "5306e8ba",
   "metadata": {
    "execution": {
     "iopub.execute_input": "2022-11-11T10:16:33.550029Z",
     "iopub.status.busy": "2022-11-11T10:16:33.549508Z",
     "iopub.status.idle": "2022-11-11T10:16:33.556052Z",
     "shell.execute_reply": "2022-11-11T10:16:33.554883Z"
    },
    "papermill": {
     "duration": 0.072362,
     "end_time": "2022-11-11T10:16:33.559172",
     "exception": false,
     "start_time": "2022-11-11T10:16:33.486810",
     "status": "completed"
    },
    "tags": []
   },
   "outputs": [
    {
     "name": "stdout",
     "output_type": "stream",
     "text": [
      "7\n"
     ]
    }
   ],
   "source": [
    "list_3=[43,23,4523,23,45,7]\n",
    "print(list_3[-1])"
   ]
  },
  {
   "cell_type": "markdown",
   "id": "241d740a",
   "metadata": {
    "papermill": {
     "duration": 0.059689,
     "end_time": "2022-11-11T10:16:33.680123",
     "exception": false,
     "start_time": "2022-11-11T10:16:33.620434",
     "status": "completed"
    },
    "tags": []
   },
   "source": [
    "### Range of Indexes:\n",
    "- You can specify a range of indexes by specifying where to start and where to end the range.\n",
    "\n",
    "- When specifying a range, the return value will be a new list with the specified items.\n",
    "#### Example:"
   ]
  },
  {
   "cell_type": "code",
   "execution_count": 113,
   "id": "e5fddd14",
   "metadata": {
    "execution": {
     "iopub.execute_input": "2022-11-11T10:16:33.801940Z",
     "iopub.status.busy": "2022-11-11T10:16:33.801548Z",
     "iopub.status.idle": "2022-11-11T10:16:33.807691Z",
     "shell.execute_reply": "2022-11-11T10:16:33.806622Z"
    },
    "papermill": {
     "duration": 0.071093,
     "end_time": "2022-11-11T10:16:33.810913",
     "exception": false,
     "start_time": "2022-11-11T10:16:33.739820",
     "status": "completed"
    },
    "tags": []
   },
   "outputs": [
    {
     "name": "stdout",
     "output_type": "stream",
     "text": [
      "[23, 452, 23, 45]\n"
     ]
    }
   ],
   "source": [
    "list_4=[43,23,452,23,45,7]\n",
    "print(list_4[1:5])"
   ]
  },
  {
   "cell_type": "markdown",
   "id": "8bc7501a",
   "metadata": {
    "papermill": {
     "duration": 0.059162,
     "end_time": "2022-11-11T10:16:33.931037",
     "exception": false,
     "start_time": "2022-11-11T10:16:33.871875",
     "status": "completed"
    },
    "tags": []
   },
   "source": [
    "- negative index"
   ]
  },
  {
   "cell_type": "code",
   "execution_count": 114,
   "id": "1a1f3217",
   "metadata": {
    "execution": {
     "iopub.execute_input": "2022-11-11T10:16:34.051717Z",
     "iopub.status.busy": "2022-11-11T10:16:34.051273Z",
     "iopub.status.idle": "2022-11-11T10:16:34.057256Z",
     "shell.execute_reply": "2022-11-11T10:16:34.056094Z"
    },
    "papermill": {
     "duration": 0.069223,
     "end_time": "2022-11-11T10:16:34.059825",
     "exception": false,
     "start_time": "2022-11-11T10:16:33.990602",
     "status": "completed"
    },
    "tags": []
   },
   "outputs": [
    {
     "name": "stdout",
     "output_type": "stream",
     "text": [
      "[23, 452, 23, 45]\n"
     ]
    }
   ],
   "source": [
    "list_5=[43,23,452,23,45,7]\n",
    "print(list_5[-5:-1])"
   ]
  },
  {
   "cell_type": "markdown",
   "id": "f67fb04b",
   "metadata": {
    "papermill": {
     "duration": 0.060206,
     "end_time": "2022-11-11T10:16:34.179424",
     "exception": false,
     "start_time": "2022-11-11T10:16:34.119218",
     "status": "completed"
    },
    "tags": []
   },
   "source": [
    "- By leaving out the start value, the range will start at the first item\n",
    "- By leaving out the end value, the range will go on to the end of the list"
   ]
  },
  {
   "cell_type": "code",
   "execution_count": 115,
   "id": "34554a94",
   "metadata": {
    "execution": {
     "iopub.execute_input": "2022-11-11T10:16:34.303969Z",
     "iopub.status.busy": "2022-11-11T10:16:34.303566Z",
     "iopub.status.idle": "2022-11-11T10:16:34.309574Z",
     "shell.execute_reply": "2022-11-11T10:16:34.308400Z"
    },
    "papermill": {
     "duration": 0.071867,
     "end_time": "2022-11-11T10:16:34.312368",
     "exception": false,
     "start_time": "2022-11-11T10:16:34.240501",
     "status": "completed"
    },
    "tags": []
   },
   "outputs": [
    {
     "name": "stdout",
     "output_type": "stream",
     "text": [
      "[43, 23, 452, 23, 45]\n"
     ]
    }
   ],
   "source": [
    "list_6=[43,23,452,23,45,7]\n",
    "print(list_6[:5])"
   ]
  },
  {
   "cell_type": "code",
   "execution_count": 116,
   "id": "a934b16b",
   "metadata": {
    "execution": {
     "iopub.execute_input": "2022-11-11T10:16:34.437152Z",
     "iopub.status.busy": "2022-11-11T10:16:34.436726Z",
     "iopub.status.idle": "2022-11-11T10:16:34.442787Z",
     "shell.execute_reply": "2022-11-11T10:16:34.441574Z"
    },
    "papermill": {
     "duration": 0.072056,
     "end_time": "2022-11-11T10:16:34.445846",
     "exception": false,
     "start_time": "2022-11-11T10:16:34.373790",
     "status": "completed"
    },
    "tags": []
   },
   "outputs": [
    {
     "name": "stdout",
     "output_type": "stream",
     "text": [
      "[23, 45, 7]\n"
     ]
    }
   ],
   "source": [
    "list_7=[43,23,452,23,45,7]\n",
    "print(list_7[3:])"
   ]
  },
  {
   "cell_type": "markdown",
   "id": "55b085a3",
   "metadata": {
    "papermill": {
     "duration": 0.060205,
     "end_time": "2022-11-11T10:16:34.566686",
     "exception": false,
     "start_time": "2022-11-11T10:16:34.506481",
     "status": "completed"
    },
    "tags": []
   },
   "source": [
    "### Check if Item Exists:\n",
    "- To determine if a specified item is present in a list use the in keyword"
   ]
  },
  {
   "cell_type": "code",
   "execution_count": 117,
   "id": "3d4d7745",
   "metadata": {
    "execution": {
     "iopub.execute_input": "2022-11-11T10:16:34.692786Z",
     "iopub.status.busy": "2022-11-11T10:16:34.692369Z",
     "iopub.status.idle": "2022-11-11T10:16:34.698922Z",
     "shell.execute_reply": "2022-11-11T10:16:34.697733Z"
    },
    "papermill": {
     "duration": 0.073145,
     "end_time": "2022-11-11T10:16:34.702121",
     "exception": false,
     "start_time": "2022-11-11T10:16:34.628976",
     "status": "completed"
    },
    "tags": []
   },
   "outputs": [
    {
     "name": "stdout",
     "output_type": "stream",
     "text": [
      "Yes, 'ali' is in the  list\n"
     ]
    }
   ],
   "source": [
    "list_8 = [\"usman\", \"ali\", \"ahsan\"]\n",
    "if \"ali\" in list_8:\n",
    "  print(\"Yes, 'ali' is in the  list\")"
   ]
  },
  {
   "cell_type": "markdown",
   "id": "106813a3",
   "metadata": {
    "papermill": {
     "duration": 0.059271,
     "end_time": "2022-11-11T10:16:34.821755",
     "exception": false,
     "start_time": "2022-11-11T10:16:34.762484",
     "status": "completed"
    },
    "tags": []
   },
   "source": [
    "## Change Item Value:\n",
    "- To change the value of a specific item, refer to the index number,\n",
    "#### Example:"
   ]
  },
  {
   "cell_type": "code",
   "execution_count": 118,
   "id": "9fec3e17",
   "metadata": {
    "execution": {
     "iopub.execute_input": "2022-11-11T10:16:34.943889Z",
     "iopub.status.busy": "2022-11-11T10:16:34.943475Z",
     "iopub.status.idle": "2022-11-11T10:16:34.949609Z",
     "shell.execute_reply": "2022-11-11T10:16:34.948340Z"
    },
    "papermill": {
     "duration": 0.070558,
     "end_time": "2022-11-11T10:16:34.952399",
     "exception": false,
     "start_time": "2022-11-11T10:16:34.881841",
     "status": "completed"
    },
    "tags": []
   },
   "outputs": [
    {
     "name": "stdout",
     "output_type": "stream",
     "text": [
      "['usman', 'ahtsham', 'ahsan', 'umer']\n"
     ]
    }
   ],
   "source": [
    "list_9=[\"usman\",\"ali\",\"ahsan\",\"umer\"]\n",
    "list_9[1]=\"ahtsham\"\n",
    "print(list_9)"
   ]
  },
  {
   "cell_type": "markdown",
   "id": "8c401a13",
   "metadata": {
    "papermill": {
     "duration": 0.059123,
     "end_time": "2022-11-11T10:16:35.073537",
     "exception": false,
     "start_time": "2022-11-11T10:16:35.014414",
     "status": "completed"
    },
    "tags": []
   },
   "source": [
    "- To change the value of items within a specific range, define a list with the new values, and refer to the range of index numbers where you want to insert the new values.\n",
    "#### Example:"
   ]
  },
  {
   "cell_type": "code",
   "execution_count": 119,
   "id": "2446d9b2",
   "metadata": {
    "execution": {
     "iopub.execute_input": "2022-11-11T10:16:35.196818Z",
     "iopub.status.busy": "2022-11-11T10:16:35.196446Z",
     "iopub.status.idle": "2022-11-11T10:16:35.201230Z",
     "shell.execute_reply": "2022-11-11T10:16:35.200393Z"
    },
    "papermill": {
     "duration": 0.070715,
     "end_time": "2022-11-11T10:16:35.204518",
     "exception": false,
     "start_time": "2022-11-11T10:16:35.133803",
     "status": "completed"
    },
    "tags": []
   },
   "outputs": [
    {
     "name": "stdout",
     "output_type": "stream",
     "text": [
      "['usman', 'ahtsham', 'ahmad', 'umer']\n"
     ]
    }
   ],
   "source": [
    "list_10=[\"usman\",\"ali\",\"ahsan\",\"umer\"]\n",
    "list_10[1:3]=[\"ahtsham\",\"ahmad\"]\n",
    "print(list_10)"
   ]
  },
  {
   "cell_type": "markdown",
   "id": "b0bc5415",
   "metadata": {
    "papermill": {
     "duration": 0.061894,
     "end_time": "2022-11-11T10:16:35.328441",
     "exception": false,
     "start_time": "2022-11-11T10:16:35.266547",
     "status": "completed"
    },
    "tags": []
   },
   "source": [
    "## Add List Items:"
   ]
  },
  {
   "cell_type": "markdown",
   "id": "42e1a784",
   "metadata": {
    "papermill": {
     "duration": 0.060445,
     "end_time": "2022-11-11T10:16:35.449063",
     "exception": false,
     "start_time": "2022-11-11T10:16:35.388618",
     "status": "completed"
    },
    "tags": []
   },
   "source": [
    "### Append Items:\n",
    "To add an item to the end of the list, use the append() method.\n",
    "#### Example:"
   ]
  },
  {
   "cell_type": "code",
   "execution_count": 120,
   "id": "aae9b968",
   "metadata": {
    "execution": {
     "iopub.execute_input": "2022-11-11T10:16:35.572858Z",
     "iopub.status.busy": "2022-11-11T10:16:35.572378Z",
     "iopub.status.idle": "2022-11-11T10:16:35.577943Z",
     "shell.execute_reply": "2022-11-11T10:16:35.576656Z"
    },
    "papermill": {
     "duration": 0.071231,
     "end_time": "2022-11-11T10:16:35.581471",
     "exception": false,
     "start_time": "2022-11-11T10:16:35.510240",
     "status": "completed"
    },
    "tags": []
   },
   "outputs": [
    {
     "name": "stdout",
     "output_type": "stream",
     "text": [
      "[43, 23, 452, 23, 45, 7, 8]\n"
     ]
    }
   ],
   "source": [
    "list_11=[43,23,452,23,45,7]\n",
    "list_11.append(8)\n",
    "print(list_11)"
   ]
  },
  {
   "cell_type": "markdown",
   "id": "a398e81a",
   "metadata": {
    "papermill": {
     "duration": 0.060118,
     "end_time": "2022-11-11T10:16:35.702599",
     "exception": false,
     "start_time": "2022-11-11T10:16:35.642481",
     "status": "completed"
    },
    "tags": []
   },
   "source": [
    "### Insert Items:\n",
    "- To insert a new list item, without replacing any of the existing values, we can use the insert() method.\n",
    "\n",
    "- The insert() method inserts an item at the specified index.\n",
    "#### Example:"
   ]
  },
  {
   "cell_type": "code",
   "execution_count": 121,
   "id": "85e5d898",
   "metadata": {
    "execution": {
     "iopub.execute_input": "2022-11-11T10:16:35.825136Z",
     "iopub.status.busy": "2022-11-11T10:16:35.824749Z",
     "iopub.status.idle": "2022-11-11T10:16:35.830223Z",
     "shell.execute_reply": "2022-11-11T10:16:35.829145Z"
    },
    "papermill": {
     "duration": 0.070026,
     "end_time": "2022-11-11T10:16:35.832716",
     "exception": false,
     "start_time": "2022-11-11T10:16:35.762690",
     "status": "completed"
    },
    "tags": []
   },
   "outputs": [
    {
     "name": "stdout",
     "output_type": "stream",
     "text": [
      "[43, 44, 23, 452, 23, 45, 7]\n"
     ]
    }
   ],
   "source": [
    "list_12=[43,23,452,23,45,7]\n",
    "list_12.insert(1,44)\n",
    "print(list_12)"
   ]
  },
  {
   "cell_type": "markdown",
   "id": "0ef33823",
   "metadata": {
    "papermill": {
     "duration": 0.060758,
     "end_time": "2022-11-11T10:16:35.954275",
     "exception": false,
     "start_time": "2022-11-11T10:16:35.893517",
     "status": "completed"
    },
    "tags": []
   },
   "source": [
    "### Extend List:\n",
    "- To append elements from another list to the current list, use the extend() method.\n",
    "#### Example:"
   ]
  },
  {
   "cell_type": "code",
   "execution_count": 122,
   "id": "57c94bed",
   "metadata": {
    "execution": {
     "iopub.execute_input": "2022-11-11T10:16:36.079170Z",
     "iopub.status.busy": "2022-11-11T10:16:36.078795Z",
     "iopub.status.idle": "2022-11-11T10:16:36.083699Z",
     "shell.execute_reply": "2022-11-11T10:16:36.082915Z"
    },
    "papermill": {
     "duration": 0.069938,
     "end_time": "2022-11-11T10:16:36.087121",
     "exception": false,
     "start_time": "2022-11-11T10:16:36.017183",
     "status": "completed"
    },
    "tags": []
   },
   "outputs": [
    {
     "name": "stdout",
     "output_type": "stream",
     "text": [
      "[43, 23, 452, 23, 45, 7, 'usman', 'ahtsham']\n"
     ]
    }
   ],
   "source": [
    "list_12=[43,23,452,23,45,7]\n",
    "a=[\"usman\",\"ahtsham\"]\n",
    "list_12.extend(a)\n",
    "print(list_12)"
   ]
  },
  {
   "cell_type": "markdown",
   "id": "00e615fe",
   "metadata": {
    "papermill": {
     "duration": 0.061154,
     "end_time": "2022-11-11T10:16:36.210225",
     "exception": false,
     "start_time": "2022-11-11T10:16:36.149071",
     "status": "completed"
    },
    "tags": []
   },
   "source": [
    "## Remove List Items:\n"
   ]
  },
  {
   "cell_type": "markdown",
   "id": "caf43620",
   "metadata": {
    "papermill": {
     "duration": 0.061379,
     "end_time": "2022-11-11T10:16:36.332927",
     "exception": false,
     "start_time": "2022-11-11T10:16:36.271548",
     "status": "completed"
    },
    "tags": []
   },
   "source": [
    "### Remove Specified Item\n",
    "The remove() method removes the specified item.\n",
    "#### Example:"
   ]
  },
  {
   "cell_type": "code",
   "execution_count": 123,
   "id": "49aac1da",
   "metadata": {
    "execution": {
     "iopub.execute_input": "2022-11-11T10:16:36.455447Z",
     "iopub.status.busy": "2022-11-11T10:16:36.454803Z",
     "iopub.status.idle": "2022-11-11T10:16:36.460215Z",
     "shell.execute_reply": "2022-11-11T10:16:36.458996Z"
    },
    "papermill": {
     "duration": 0.07018,
     "end_time": "2022-11-11T10:16:36.463132",
     "exception": false,
     "start_time": "2022-11-11T10:16:36.392952",
     "status": "completed"
    },
    "tags": []
   },
   "outputs": [
    {
     "name": "stdout",
     "output_type": "stream",
     "text": [
      "[43, 452, 23, 45, 7]\n"
     ]
    }
   ],
   "source": [
    "list_13=[43,23,452,23,45,7]\n",
    "list_13.remove(23)\n",
    "print(list_13)"
   ]
  },
  {
   "cell_type": "markdown",
   "id": "72b6623b",
   "metadata": {
    "papermill": {
     "duration": 0.060713,
     "end_time": "2022-11-11T10:16:36.584328",
     "exception": false,
     "start_time": "2022-11-11T10:16:36.523615",
     "status": "completed"
    },
    "tags": []
   },
   "source": [
    "### Remove Specified Index:\n",
    "- The pop() method removes the specified index.\n",
    "- If you do not specify the index, the pop() method removes the last item.\n",
    "- The del keyword also removes the specified index\n",
    "#### Example:"
   ]
  },
  {
   "cell_type": "code",
   "execution_count": 124,
   "id": "39686bb8",
   "metadata": {
    "execution": {
     "iopub.execute_input": "2022-11-11T10:16:36.709082Z",
     "iopub.status.busy": "2022-11-11T10:16:36.708671Z",
     "iopub.status.idle": "2022-11-11T10:16:36.714939Z",
     "shell.execute_reply": "2022-11-11T10:16:36.713697Z"
    },
    "papermill": {
     "duration": 0.072684,
     "end_time": "2022-11-11T10:16:36.718541",
     "exception": false,
     "start_time": "2022-11-11T10:16:36.645857",
     "status": "completed"
    },
    "tags": []
   },
   "outputs": [
    {
     "name": "stdout",
     "output_type": "stream",
     "text": [
      "[23, 452, 23, 45, 7]\n"
     ]
    }
   ],
   "source": [
    "list_14=[43,23,452,23,45,7]\n",
    "list_14.pop(0)\n",
    "print(list_14)"
   ]
  },
  {
   "cell_type": "code",
   "execution_count": 125,
   "id": "a96219e0",
   "metadata": {
    "execution": {
     "iopub.execute_input": "2022-11-11T10:16:36.843506Z",
     "iopub.status.busy": "2022-11-11T10:16:36.842785Z",
     "iopub.status.idle": "2022-11-11T10:16:36.848947Z",
     "shell.execute_reply": "2022-11-11T10:16:36.847555Z"
    },
    "papermill": {
     "duration": 0.071489,
     "end_time": "2022-11-11T10:16:36.851837",
     "exception": false,
     "start_time": "2022-11-11T10:16:36.780348",
     "status": "completed"
    },
    "tags": []
   },
   "outputs": [
    {
     "name": "stdout",
     "output_type": "stream",
     "text": [
      "[43, 23, 452, 23, 45]\n"
     ]
    }
   ],
   "source": [
    "list_15=[43,23,452,23,45,7]\n",
    "list_15.pop()\n",
    "print(list_15)"
   ]
  },
  {
   "cell_type": "code",
   "execution_count": 126,
   "id": "0678c755",
   "metadata": {
    "execution": {
     "iopub.execute_input": "2022-11-11T10:16:36.976188Z",
     "iopub.status.busy": "2022-11-11T10:16:36.975787Z",
     "iopub.status.idle": "2022-11-11T10:16:36.981889Z",
     "shell.execute_reply": "2022-11-11T10:16:36.980780Z"
    },
    "papermill": {
     "duration": 0.071824,
     "end_time": "2022-11-11T10:16:36.985367",
     "exception": false,
     "start_time": "2022-11-11T10:16:36.913543",
     "status": "completed"
    },
    "tags": []
   },
   "outputs": [
    {
     "name": "stdout",
     "output_type": "stream",
     "text": [
      "[43, 452, 23, 45, 7]\n"
     ]
    }
   ],
   "source": [
    "list_16=[43,23,452,23,45,7]\n",
    "del list_16[1]\n",
    "print(list_16)"
   ]
  },
  {
   "cell_type": "markdown",
   "id": "80d7fcbf",
   "metadata": {
    "papermill": {
     "duration": 0.060234,
     "end_time": "2022-11-11T10:16:37.107090",
     "exception": false,
     "start_time": "2022-11-11T10:16:37.046856",
     "status": "completed"
    },
    "tags": []
   },
   "source": [
    "### Clear the List:\n",
    "The clear() method empties the list.\n",
    "\n",
    "The list still remains, but it has no content.\n",
    "#### Example:"
   ]
  },
  {
   "cell_type": "code",
   "execution_count": 127,
   "id": "b982073e",
   "metadata": {
    "execution": {
     "iopub.execute_input": "2022-11-11T10:16:37.229882Z",
     "iopub.status.busy": "2022-11-11T10:16:37.229483Z",
     "iopub.status.idle": "2022-11-11T10:16:37.235189Z",
     "shell.execute_reply": "2022-11-11T10:16:37.233949Z"
    },
    "papermill": {
     "duration": 0.070529,
     "end_time": "2022-11-11T10:16:37.237916",
     "exception": false,
     "start_time": "2022-11-11T10:16:37.167387",
     "status": "completed"
    },
    "tags": []
   },
   "outputs": [
    {
     "name": "stdout",
     "output_type": "stream",
     "text": [
      "[]\n"
     ]
    }
   ],
   "source": [
    "list_17=[43,23,452,23,45,7]\n",
    "list_17.clear()\n",
    "print(list_17)"
   ]
  },
  {
   "cell_type": "markdown",
   "id": "5d45fbdb",
   "metadata": {
    "papermill": {
     "duration": 0.065013,
     "end_time": "2022-11-11T10:16:37.363480",
     "exception": false,
     "start_time": "2022-11-11T10:16:37.298467",
     "status": "completed"
    },
    "tags": []
   },
   "source": [
    "### Loop Lists:\n",
    "- You can loop through the list items by using a for loop."
   ]
  },
  {
   "cell_type": "code",
   "execution_count": 128,
   "id": "13a27676",
   "metadata": {
    "execution": {
     "iopub.execute_input": "2022-11-11T10:16:37.487567Z",
     "iopub.status.busy": "2022-11-11T10:16:37.487093Z",
     "iopub.status.idle": "2022-11-11T10:16:37.493121Z",
     "shell.execute_reply": "2022-11-11T10:16:37.491796Z"
    },
    "papermill": {
     "duration": 0.070987,
     "end_time": "2022-11-11T10:16:37.495691",
     "exception": false,
     "start_time": "2022-11-11T10:16:37.424704",
     "status": "completed"
    },
    "tags": []
   },
   "outputs": [
    {
     "name": "stdout",
     "output_type": "stream",
     "text": [
      "usman\n",
      "ahsan\n",
      "ali\n"
     ]
    }
   ],
   "source": [
    "list_18 = [\"usman\", \"ahsan\", \"ali\"]\n",
    "for x in list_18:\n",
    "  print(x)"
   ]
  },
  {
   "cell_type": "markdown",
   "id": "f7f1f198",
   "metadata": {
    "papermill": {
     "duration": 0.06048,
     "end_time": "2022-11-11T10:16:37.617615",
     "exception": false,
     "start_time": "2022-11-11T10:16:37.557135",
     "status": "completed"
    },
    "tags": []
   },
   "source": [
    "## Sort Lists:\n",
    "- List objects have a sort() method that will sort the list alphanumerically, ascending, by default.\n",
    "- To sort descending, use the keyword argument reverse = True.\n",
    "#### Examples:\n"
   ]
  },
  {
   "cell_type": "code",
   "execution_count": 129,
   "id": "5f2b05c8",
   "metadata": {
    "execution": {
     "iopub.execute_input": "2022-11-11T10:16:37.740400Z",
     "iopub.status.busy": "2022-11-11T10:16:37.739895Z",
     "iopub.status.idle": "2022-11-11T10:16:37.746213Z",
     "shell.execute_reply": "2022-11-11T10:16:37.744999Z"
    },
    "papermill": {
     "duration": 0.070761,
     "end_time": "2022-11-11T10:16:37.748595",
     "exception": false,
     "start_time": "2022-11-11T10:16:37.677834",
     "status": "completed"
    },
    "tags": []
   },
   "outputs": [
    {
     "name": "stdout",
     "output_type": "stream",
     "text": [
      "['ali', 'bilal', 'saood', 'usman']\n"
     ]
    }
   ],
   "source": [
    "list_19 = [\"usman\", \"ali\", \"bilal\", \"saood\"]\n",
    "list_19.sort()\n",
    "print(list_19)"
   ]
  },
  {
   "cell_type": "code",
   "execution_count": 130,
   "id": "b78e94fb",
   "metadata": {
    "execution": {
     "iopub.execute_input": "2022-11-11T10:16:37.872320Z",
     "iopub.status.busy": "2022-11-11T10:16:37.871895Z",
     "iopub.status.idle": "2022-11-11T10:16:37.877790Z",
     "shell.execute_reply": "2022-11-11T10:16:37.876460Z"
    },
    "papermill": {
     "duration": 0.070203,
     "end_time": "2022-11-11T10:16:37.880360",
     "exception": false,
     "start_time": "2022-11-11T10:16:37.810157",
     "status": "completed"
    },
    "tags": []
   },
   "outputs": [
    {
     "name": "stdout",
     "output_type": "stream",
     "text": [
      "[23, 50, 65, 82, 100]\n"
     ]
    }
   ],
   "source": [
    "list_20 = [100, 50, 65, 82, 23]\n",
    "list_20.sort()\n",
    "print(list_20)"
   ]
  },
  {
   "cell_type": "code",
   "execution_count": 131,
   "id": "c93c2cb8",
   "metadata": {
    "execution": {
     "iopub.execute_input": "2022-11-11T10:16:38.003177Z",
     "iopub.status.busy": "2022-11-11T10:16:38.002791Z",
     "iopub.status.idle": "2022-11-11T10:16:38.008565Z",
     "shell.execute_reply": "2022-11-11T10:16:38.007269Z"
    },
    "papermill": {
     "duration": 0.070505,
     "end_time": "2022-11-11T10:16:38.011192",
     "exception": false,
     "start_time": "2022-11-11T10:16:37.940687",
     "status": "completed"
    },
    "tags": []
   },
   "outputs": [
    {
     "name": "stdout",
     "output_type": "stream",
     "text": [
      "['usman', 'saood', 'bilal', 'ali']\n"
     ]
    }
   ],
   "source": [
    "list_21 = [\"usman\", \"ali\", \"bilal\", \"saood\"]\n",
    "list_21.sort(reverse = True)\n",
    "print(list_21)"
   ]
  },
  {
   "cell_type": "code",
   "execution_count": 132,
   "id": "33e89995",
   "metadata": {
    "execution": {
     "iopub.execute_input": "2022-11-11T10:16:38.134215Z",
     "iopub.status.busy": "2022-11-11T10:16:38.133822Z",
     "iopub.status.idle": "2022-11-11T10:16:38.139853Z",
     "shell.execute_reply": "2022-11-11T10:16:38.138481Z"
    },
    "papermill": {
     "duration": 0.071072,
     "end_time": "2022-11-11T10:16:38.142623",
     "exception": false,
     "start_time": "2022-11-11T10:16:38.071551",
     "status": "completed"
    },
    "tags": []
   },
   "outputs": [
    {
     "name": "stdout",
     "output_type": "stream",
     "text": [
      "[100, 82, 65, 50, 23]\n"
     ]
    }
   ],
   "source": [
    "list_22 = [100, 50, 65, 82, 23]\n",
    "list_22.sort(reverse = True)\n",
    "print(list_22)"
   ]
  },
  {
   "cell_type": "markdown",
   "id": "295b56b7",
   "metadata": {
    "papermill": {
     "duration": 0.060898,
     "end_time": "2022-11-11T10:16:38.265107",
     "exception": false,
     "start_time": "2022-11-11T10:16:38.204209",
     "status": "completed"
    },
    "tags": []
   },
   "source": [
    "## Copy a List:\n",
    "- You cannot copy a list simply by typing list2 = list1, because: list2 will only be a reference to list1, and changes made in list1 will automatically also be made in list2.\n",
    "\n",
    "- There are ways to make a copy, one way is to use the built-in List method copy().\n",
    "#### Examples:"
   ]
  },
  {
   "cell_type": "code",
   "execution_count": 133,
   "id": "4fd90175",
   "metadata": {
    "execution": {
     "iopub.execute_input": "2022-11-11T10:16:38.388935Z",
     "iopub.status.busy": "2022-11-11T10:16:38.388554Z",
     "iopub.status.idle": "2022-11-11T10:16:38.394139Z",
     "shell.execute_reply": "2022-11-11T10:16:38.392978Z"
    },
    "papermill": {
     "duration": 0.070919,
     "end_time": "2022-11-11T10:16:38.396947",
     "exception": false,
     "start_time": "2022-11-11T10:16:38.326028",
     "status": "completed"
    },
    "tags": []
   },
   "outputs": [
    {
     "name": "stdout",
     "output_type": "stream",
     "text": [
      "['usman', 'ali', 'bilal', 'saood']\n"
     ]
    }
   ],
   "source": [
    "list_23 = [\"usman\", \"ali\", \"bilal\", \"saood\"]\n",
    "mylist = list_23.copy()\n",
    "print(mylist)"
   ]
  },
  {
   "cell_type": "markdown",
   "id": "e6c97ed4",
   "metadata": {
    "papermill": {
     "duration": 0.060715,
     "end_time": "2022-11-11T10:16:38.519104",
     "exception": false,
     "start_time": "2022-11-11T10:16:38.458389",
     "status": "completed"
    },
    "tags": []
   },
   "source": [
    "## Join Two Lists:\n",
    "There are several ways to join, or concatenate, two or more lists in Python.\n",
    "\n",
    "One of the easiest ways are by using the + operator.\n",
    "#### Examples:"
   ]
  },
  {
   "cell_type": "code",
   "execution_count": 134,
   "id": "53c17c10",
   "metadata": {
    "execution": {
     "iopub.execute_input": "2022-11-11T10:16:38.643243Z",
     "iopub.status.busy": "2022-11-11T10:16:38.642870Z",
     "iopub.status.idle": "2022-11-11T10:16:38.648648Z",
     "shell.execute_reply": "2022-11-11T10:16:38.647358Z"
    },
    "papermill": {
     "duration": 0.071108,
     "end_time": "2022-11-11T10:16:38.651326",
     "exception": false,
     "start_time": "2022-11-11T10:16:38.580218",
     "status": "completed"
    },
    "tags": []
   },
   "outputs": [
    {
     "name": "stdout",
     "output_type": "stream",
     "text": [
      "['a', 'b', 'c', 1, 2, 3]\n"
     ]
    }
   ],
   "source": [
    "list1 = [\"a\", \"b\", \"c\"]\n",
    "list2 = [1, 2, 3]\n",
    "\n",
    "list3 = list1 + list2\n",
    "print(list3)"
   ]
  },
  {
   "cell_type": "code",
   "execution_count": 135,
   "id": "ed4be208",
   "metadata": {
    "execution": {
     "iopub.execute_input": "2022-11-11T10:16:38.776133Z",
     "iopub.status.busy": "2022-11-11T10:16:38.775734Z",
     "iopub.status.idle": "2022-11-11T10:16:38.782573Z",
     "shell.execute_reply": "2022-11-11T10:16:38.781232Z"
    },
    "papermill": {
     "duration": 0.072297,
     "end_time": "2022-11-11T10:16:38.785378",
     "exception": false,
     "start_time": "2022-11-11T10:16:38.713081",
     "status": "completed"
    },
    "tags": []
   },
   "outputs": [
    {
     "name": "stdout",
     "output_type": "stream",
     "text": [
      "['a', 'b', 'c', 1, 2, 3]\n"
     ]
    }
   ],
   "source": [
    "list1 = [\"a\", \"b\" , \"c\"]\n",
    "list2 = [1, 2, 3]\n",
    "\n",
    "for x in list2:\n",
    "  list1.append(x)\n",
    "\n",
    "print(list1)"
   ]
  },
  {
   "cell_type": "markdown",
   "id": "cbbc92bf",
   "metadata": {
    "papermill": {
     "duration": 0.06084,
     "end_time": "2022-11-11T10:16:38.908533",
     "exception": false,
     "start_time": "2022-11-11T10:16:38.847693",
     "status": "completed"
    },
    "tags": []
   },
   "source": [
    "## Python Tuples:\n",
    "- Tuples are used to store multiple items in a single variable.\n",
    "\n",
    "- Tuple is one of 4 built-in data types in Python used to store collections of data, the other 3 are List, Set, and Dictionary, all with different qualities and usage.\n",
    "\n",
    "- Tuples are written with round brackets.\n",
    "- Tuple items are ordered, unchangeable, and allow duplicate values.\n",
    "\n",
    "- Tuple items are indexed, the first item has index [0], the second item has index [1] etc."
   ]
  },
  {
   "cell_type": "markdown",
   "id": "7ede342a",
   "metadata": {
    "papermill": {
     "duration": 0.061894,
     "end_time": "2022-11-11T10:16:39.031384",
     "exception": false,
     "start_time": "2022-11-11T10:16:38.969490",
     "status": "completed"
    },
    "tags": []
   },
   "source": [
    "### Create a Tuple:\n",
    "#### Example:"
   ]
  },
  {
   "cell_type": "code",
   "execution_count": 136,
   "id": "1bd698bd",
   "metadata": {
    "execution": {
     "iopub.execute_input": "2022-11-11T10:16:39.158172Z",
     "iopub.status.busy": "2022-11-11T10:16:39.157431Z",
     "iopub.status.idle": "2022-11-11T10:16:39.163085Z",
     "shell.execute_reply": "2022-11-11T10:16:39.161925Z"
    },
    "papermill": {
     "duration": 0.07251,
     "end_time": "2022-11-11T10:16:39.166410",
     "exception": false,
     "start_time": "2022-11-11T10:16:39.093900",
     "status": "completed"
    },
    "tags": []
   },
   "outputs": [
    {
     "name": "stdout",
     "output_type": "stream",
     "text": [
      "('usman', 'ali', 'ahtsham', 'ahsan')\n"
     ]
    }
   ],
   "source": [
    "tuple_1=(\"usman\",\"ali\",\"ahtsham\",\"ahsan\")\n",
    "print(tuple_1)"
   ]
  },
  {
   "cell_type": "markdown",
   "id": "0cbc79a5",
   "metadata": {
    "papermill": {
     "duration": 0.061265,
     "end_time": "2022-11-11T10:16:39.290235",
     "exception": false,
     "start_time": "2022-11-11T10:16:39.228970",
     "status": "completed"
    },
    "tags": []
   },
   "source": [
    "### Tuple Length:\n",
    "- To determine how many items a tuple has, use the len() function,\n",
    "#### Example:"
   ]
  },
  {
   "cell_type": "code",
   "execution_count": 137,
   "id": "a9b2a40e",
   "metadata": {
    "execution": {
     "iopub.execute_input": "2022-11-11T10:16:39.418011Z",
     "iopub.status.busy": "2022-11-11T10:16:39.416836Z",
     "iopub.status.idle": "2022-11-11T10:16:39.422762Z",
     "shell.execute_reply": "2022-11-11T10:16:39.421995Z"
    },
    "papermill": {
     "duration": 0.073811,
     "end_time": "2022-11-11T10:16:39.425771",
     "exception": false,
     "start_time": "2022-11-11T10:16:39.351960",
     "status": "completed"
    },
    "tags": []
   },
   "outputs": [
    {
     "name": "stdout",
     "output_type": "stream",
     "text": [
      "4\n"
     ]
    }
   ],
   "source": [
    "tuple_2=(\"usman\",\"ali\",\"ahtsham\",\"ahsan\")\n",
    "print(len(tuple_2))"
   ]
  },
  {
   "cell_type": "markdown",
   "id": "146a0649",
   "metadata": {
    "papermill": {
     "duration": 0.061405,
     "end_time": "2022-11-11T10:16:39.552182",
     "exception": false,
     "start_time": "2022-11-11T10:16:39.490777",
     "status": "completed"
    },
    "tags": []
   },
   "source": [
    "### type():"
   ]
  },
  {
   "cell_type": "code",
   "execution_count": 138,
   "id": "20fad4f7",
   "metadata": {
    "execution": {
     "iopub.execute_input": "2022-11-11T10:16:39.678508Z",
     "iopub.status.busy": "2022-11-11T10:16:39.677281Z",
     "iopub.status.idle": "2022-11-11T10:16:39.682725Z",
     "shell.execute_reply": "2022-11-11T10:16:39.681928Z"
    },
    "papermill": {
     "duration": 0.071657,
     "end_time": "2022-11-11T10:16:39.685764",
     "exception": false,
     "start_time": "2022-11-11T10:16:39.614107",
     "status": "completed"
    },
    "tags": []
   },
   "outputs": [
    {
     "name": "stdout",
     "output_type": "stream",
     "text": [
      "<class 'tuple'>\n"
     ]
    }
   ],
   "source": [
    "print(type(tuple_2))"
   ]
  },
  {
   "cell_type": "markdown",
   "id": "46613897",
   "metadata": {
    "papermill": {
     "duration": 0.061523,
     "end_time": "2022-11-11T10:16:39.815122",
     "exception": false,
     "start_time": "2022-11-11T10:16:39.753599",
     "status": "completed"
    },
    "tags": []
   },
   "source": [
    " ## Access Tuple Items:\n",
    "- You can access tuple items by referring to the index number, inside square brackets\n",
    "#### Examples:"
   ]
  },
  {
   "cell_type": "code",
   "execution_count": 139,
   "id": "644de110",
   "metadata": {
    "execution": {
     "iopub.execute_input": "2022-11-11T10:16:39.941149Z",
     "iopub.status.busy": "2022-11-11T10:16:39.940349Z",
     "iopub.status.idle": "2022-11-11T10:16:39.947714Z",
     "shell.execute_reply": "2022-11-11T10:16:39.946196Z"
    },
    "papermill": {
     "duration": 0.073069,
     "end_time": "2022-11-11T10:16:39.950388",
     "exception": false,
     "start_time": "2022-11-11T10:16:39.877319",
     "status": "completed"
    },
    "tags": []
   },
   "outputs": [
    {
     "name": "stdout",
     "output_type": "stream",
     "text": [
      "2\n"
     ]
    }
   ],
   "source": [
    "tuple_3 = (1,2,3,4,5,6,7)\n",
    "print(tuple_3[1])"
   ]
  },
  {
   "cell_type": "code",
   "execution_count": 140,
   "id": "394ba911",
   "metadata": {
    "execution": {
     "iopub.execute_input": "2022-11-11T10:16:40.075689Z",
     "iopub.status.busy": "2022-11-11T10:16:40.074847Z",
     "iopub.status.idle": "2022-11-11T10:16:40.081297Z",
     "shell.execute_reply": "2022-11-11T10:16:40.079888Z"
    },
    "papermill": {
     "duration": 0.071937,
     "end_time": "2022-11-11T10:16:40.084007",
     "exception": false,
     "start_time": "2022-11-11T10:16:40.012070",
     "status": "completed"
    },
    "tags": []
   },
   "outputs": [
    {
     "name": "stdout",
     "output_type": "stream",
     "text": [
      "(2, 3)\n"
     ]
    }
   ],
   "source": [
    "tuple_3 = (1,2,3,4,5,6,7)\n",
    "print(tuple_3[1:3])"
   ]
  },
  {
   "cell_type": "code",
   "execution_count": 141,
   "id": "b9cc480f",
   "metadata": {
    "execution": {
     "iopub.execute_input": "2022-11-11T10:16:40.210747Z",
     "iopub.status.busy": "2022-11-11T10:16:40.210249Z",
     "iopub.status.idle": "2022-11-11T10:16:40.216970Z",
     "shell.execute_reply": "2022-11-11T10:16:40.215366Z"
    },
    "papermill": {
     "duration": 0.073041,
     "end_time": "2022-11-11T10:16:40.219248",
     "exception": false,
     "start_time": "2022-11-11T10:16:40.146207",
     "status": "completed"
    },
    "tags": []
   },
   "outputs": [
    {
     "name": "stdout",
     "output_type": "stream",
     "text": [
      "(1, 2, 3)\n"
     ]
    }
   ],
   "source": [
    "tuple_3 = (1,2,3,4,5,6,7)\n",
    "print(tuple_3[:3])"
   ]
  },
  {
   "cell_type": "code",
   "execution_count": 142,
   "id": "8b1ffe54",
   "metadata": {
    "execution": {
     "iopub.execute_input": "2022-11-11T10:16:40.344899Z",
     "iopub.status.busy": "2022-11-11T10:16:40.344465Z",
     "iopub.status.idle": "2022-11-11T10:16:40.350189Z",
     "shell.execute_reply": "2022-11-11T10:16:40.349396Z"
    },
    "papermill": {
     "duration": 0.071528,
     "end_time": "2022-11-11T10:16:40.352434",
     "exception": false,
     "start_time": "2022-11-11T10:16:40.280906",
     "status": "completed"
    },
    "tags": []
   },
   "outputs": [
    {
     "name": "stdout",
     "output_type": "stream",
     "text": [
      "(2, 3, 4, 5, 6, 7)\n"
     ]
    }
   ],
   "source": [
    "tuple_3 = (1,2,3,4,5,6,7)\n",
    "print(tuple_3[1:])"
   ]
  },
  {
   "cell_type": "code",
   "execution_count": 143,
   "id": "d309414c",
   "metadata": {
    "execution": {
     "iopub.execute_input": "2022-11-11T10:16:40.478510Z",
     "iopub.status.busy": "2022-11-11T10:16:40.478050Z",
     "iopub.status.idle": "2022-11-11T10:16:40.484740Z",
     "shell.execute_reply": "2022-11-11T10:16:40.483105Z"
    },
    "papermill": {
     "duration": 0.071747,
     "end_time": "2022-11-11T10:16:40.486869",
     "exception": false,
     "start_time": "2022-11-11T10:16:40.415122",
     "status": "completed"
    },
    "tags": []
   },
   "outputs": [
    {
     "name": "stdout",
     "output_type": "stream",
     "text": [
      "(4, 5, 6)\n"
     ]
    }
   ],
   "source": [
    "tuple_3 = (1,2,3,4,5,6,7)\n",
    "print(tuple_3[-4:-1])"
   ]
  },
  {
   "cell_type": "code",
   "execution_count": 144,
   "id": "4d482123",
   "metadata": {
    "execution": {
     "iopub.execute_input": "2022-11-11T10:16:40.611810Z",
     "iopub.status.busy": "2022-11-11T10:16:40.611391Z",
     "iopub.status.idle": "2022-11-11T10:16:40.617475Z",
     "shell.execute_reply": "2022-11-11T10:16:40.616304Z"
    },
    "papermill": {
     "duration": 0.071902,
     "end_time": "2022-11-11T10:16:40.620226",
     "exception": false,
     "start_time": "2022-11-11T10:16:40.548324",
     "status": "completed"
    },
    "tags": []
   },
   "outputs": [
    {
     "name": "stdout",
     "output_type": "stream",
     "text": [
      "ali is present in tuple\n"
     ]
    }
   ],
   "source": [
    "tuple_2=(\"usman\",\"ali\",\"ahtsham\",\"ahsan\")\n",
    "if \"ali\" in tuple_2:\n",
    "    print(\"ali is present in tuple\")"
   ]
  },
  {
   "cell_type": "markdown",
   "id": "7d4d30a4",
   "metadata": {
    "papermill": {
     "duration": 0.061758,
     "end_time": "2022-11-11T10:16:40.743591",
     "exception": false,
     "start_time": "2022-11-11T10:16:40.681833",
     "status": "completed"
    },
    "tags": []
   },
   "source": [
    "## Update Tuples :\n",
    "- Tuples are unchangeable, meaning that you cannot change, add, or remove items once the tuple is created.\n"
   ]
  },
  {
   "cell_type": "markdown",
   "id": "f247b90c",
   "metadata": {
    "papermill": {
     "duration": 0.062227,
     "end_time": "2022-11-11T10:16:40.868048",
     "exception": false,
     "start_time": "2022-11-11T10:16:40.805821",
     "status": "completed"
    },
    "tags": []
   },
   "source": [
    " ### Change Tuple Values:\n",
    " - Once a tuple is created, you cannot change its values. Tuples are unchangeable, or immutable as it also is called.\n",
    " #### Example\n",
    "- Convert the tuple into a list to be able to change it."
   ]
  },
  {
   "cell_type": "code",
   "execution_count": 145,
   "id": "d9aaebfa",
   "metadata": {
    "execution": {
     "iopub.execute_input": "2022-11-11T10:16:41.004300Z",
     "iopub.status.busy": "2022-11-11T10:16:41.003897Z",
     "iopub.status.idle": "2022-11-11T10:16:41.013120Z",
     "shell.execute_reply": "2022-11-11T10:16:41.011205Z"
    },
    "papermill": {
     "duration": 0.086042,
     "end_time": "2022-11-11T10:16:41.015863",
     "exception": false,
     "start_time": "2022-11-11T10:16:40.929821",
     "status": "completed"
    },
    "tags": []
   },
   "outputs": [
    {
     "name": "stdout",
     "output_type": "stream",
     "text": [
      "('usman', 'ali', 'ahtsham', 'ahsan', 'talha')\n",
      "['usman', 'ali', 'ahtsham', 'ahsan', 'talha']\n",
      "['usman', 'akram', 'ahtsham', 'ahsan', 'talha']\n",
      "('usman', 'akram', 'ahtsham', 'ahsan', 'talha')\n"
     ]
    }
   ],
   "source": [
    "tuple_4=(\"usman\",\"ali\",\"ahtsham\",\"ahsan\",\"talha\")\n",
    "list_1=list(tuple_4)\n",
    "print(tuple_4)\n",
    "print(list_1)\n",
    "list_1[1]=\"akram\"\n",
    "print(list_1)\n",
    "tuple_4=tuple(list_1)\n",
    "print(tuple_4)"
   ]
  },
  {
   "cell_type": "markdown",
   "id": "4f78055e",
   "metadata": {},
   "source": [
    "<!DOCTYPE html>\n",
    "<html>\n",
    "<head>\n",
    "</head>\n",
    "<body>\n",
    "<div style=\"background-color: #32a8a6; color: black; padding: 8px;text-align: center;\">\n",
    "    <h1>My Social Profiles</h1>\n",
    "    Note: To Follow And Any Query Feel Free To Contact\n",
    "       \n",
    "- <a href=\"https://www.linkedin.com/in/m-usman-akram-b29685251/\">My LinkedIn Profile</a>\n",
    "        \n",
    "- <a href=\"https://github.com/engrusman00109\">My GitHub Account</a>\n",
    "\n",
    "- <a href=\"https://www.facebook.com/profile.php?id=100055510195015\">My FaceBook Account</a>\n",
    "    \n",
    "- <a href=\"musman00109@gmail.com\">Click here to send an email</a>\n",
    "- <a href=\"@EngrUsman00109\">My Twiter Account </a>\n",
    "    \n",
    "</div>\n",
    "      \n",
    "</body>\n",
    "</html>\n"
   ]
  },
  {
   "cell_type": "code",
   "execution_count": null,
   "id": "67a37597",
   "metadata": {},
   "outputs": [],
   "source": []
  }
 ],
 "metadata": {
  "kernelspec": {
   "display_name": "Python 3 (ipykernel)",
   "language": "python",
   "name": "python3"
  },
  "language_info": {
   "codemirror_mode": {
    "name": "ipython",
    "version": 3
   },
   "file_extension": ".py",
   "mimetype": "text/x-python",
   "name": "python",
   "nbconvert_exporter": "python",
   "pygments_lexer": "ipython3",
   "version": "3.9.7"
  },
  "papermill": {
   "default_parameters": {},
   "duration": 46.110947,
   "end_time": "2022-11-11T10:16:41.812241",
   "environment_variables": {},
   "exception": null,
   "input_path": "__notebook__.ipynb",
   "output_path": "__notebook__.ipynb",
   "parameters": {},
   "start_time": "2022-11-11T10:15:55.701294",
   "version": "2.3.4"
  }
 },
 "nbformat": 4,
 "nbformat_minor": 5
}
