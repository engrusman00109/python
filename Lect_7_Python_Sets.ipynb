{
 "cells": [
  {
   "cell_type": "markdown",
   "id": "13ca533a",
   "metadata": {},
   "source": [
    "<div style=\"background-color: rED; color: BLACK; padding: 8px;text-align: center;\">\n",
    "    <h2 > PYTHON LECTURE 07 </h2>\n",
    "    <h2> M.Usman Akram </h2>\n",
    "    \n",
    "</div>"
   ]
  },
  {
   "cell_type": "markdown",
   "id": "1ac099d5",
   "metadata": {},
   "source": [
    "# In Python, a set :\n",
    "- is an unordered collection of unique elements. It is a built-in data type that is used to store a collection of distinct items. The elements in a set are not stored in any particular order, and duplicates are automatically removed.\n",
    "\n",
    "Here are a few key characteristics of sets in Python:\n",
    "\n",
    "## Uniqueness: \n",
    "- A set can only contain unique elements. If you try to add a duplicate element to a set, it will be ignored, and the set will remain unchanged.\n",
    "\n",
    "\n",
    "## Mutable: \n",
    "- Sets are mutable, which means you can add or remove elements from a set after it is created.\n",
    "\n",
    "\n",
    "## Unordered: \n",
    "- The elements in a set are not stored in any particular order. Therefore, you cannot access the elements of a set using indexing or slicing.\n",
    "\n",
    "\n",
    "## Hashable Elements: \n",
    "- Elements in a set must be hashable. Immutable data types like numbers, strings, and tuples are hashable and can be used as elements in a set. However, mutable types like lists and dictionaries are not hashable and cannot be used as set elements.\n"
   ]
  },
  {
   "cell_type": "markdown",
   "id": "0affa351",
   "metadata": {},
   "source": [
    "# Creating a Set:\n",
    "= You can create a set by enclosing comma-separated elements within curly braces {} or by using the set() function."
   ]
  },
  {
   "cell_type": "code",
   "execution_count": 1,
   "id": "814efcfd",
   "metadata": {},
   "outputs": [],
   "source": [
    "my_set = {1, 2, 3}  # Creating a set with elements\n",
    "empty_set = set()  # Creating an empty set\n"
   ]
  },
  {
   "cell_type": "markdown",
   "id": "6c6fca62",
   "metadata": {},
   "source": [
    "# Adding Elements:\n",
    "You can add elements to a set using the add() method or the update() method."
   ]
  },
  {
   "cell_type": "code",
   "execution_count": 2,
   "id": "ba816db9",
   "metadata": {},
   "outputs": [],
   "source": [
    "my_set.add(4)  # Adding a single element\n",
    "my_set.update([5, 6, 7])  # Adding multiple elements using an iterable\n"
   ]
  },
  {
   "cell_type": "markdown",
   "id": "c6d682ff",
   "metadata": {},
   "source": [
    "# Removing Elements:\n",
    "- You can remove elements from a set using the remove(), discard(), or pop() methods."
   ]
  },
  {
   "cell_type": "code",
   "execution_count": 3,
   "id": "a1cec861",
   "metadata": {},
   "outputs": [],
   "source": [
    "my_set.remove(3)  # Removing a specific element\n",
    "my_set.discard(4)  # Removing a specific element if present\n",
    "element = my_set.pop()  # Removing and returning an arbitrary element\n"
   ]
  },
  {
   "cell_type": "markdown",
   "id": "20de0f89",
   "metadata": {},
   "source": [
    "# Set Operations:\n",
    "  - Sets in Python support various mathematical set operations, such as union, intersection, difference, and symmetric difference."
   ]
  },
  {
   "cell_type": "code",
   "execution_count": 4,
   "id": "2cebe26e",
   "metadata": {},
   "outputs": [
    {
     "name": "stdout",
     "output_type": "stream",
     "text": [
      "{1, 2, 3, 4, 5}\n",
      "{3}\n",
      "{1, 2}\n",
      "{1, 2, 4, 5}\n"
     ]
    }
   ],
   "source": [
    "set1 = {1, 2, 3}\n",
    "set2 = {3, 4, 5}\n",
    "\n",
    "union_set = set1.union(set2)\n",
    "print(union_set)  # Output: {1, 2, 3, 4, 5}\n",
    "\n",
    "intersection_set = set1.intersection(set2)\n",
    "print(intersection_set)  # Output: {3}\n",
    "\n",
    "difference_set = set1.difference(set2)\n",
    "print(difference_set)  # Output: {1, 2}\n",
    "\n",
    "symmetric_difference_set = set1.symmetric_difference(set2)\n",
    "print(symmetric_difference_set)  # Output: {1, 2, 4, 5}\n"
   ]
  },
  {
   "cell_type": "markdown",
   "id": "ca86b1c4",
   "metadata": {},
   "source": [
    "# Set Comparisons:"
   ]
  },
  {
   "cell_type": "code",
   "execution_count": 5,
   "id": "7381c9d7",
   "metadata": {},
   "outputs": [
    {
     "name": "stdout",
     "output_type": "stream",
     "text": [
      "False\n",
      "True\n",
      "False\n",
      "False\n",
      "False\n",
      "False\n"
     ]
    }
   ],
   "source": [
    "set1 = {1, 2, 3}\n",
    "set2 = {2, 3, 4}\n",
    "\n",
    "print(set1 == set2)  # Output: False\n",
    "print(set1 != set2)  # Output: True\n",
    "print(set1 < set2)  # Output: False\n",
    "print(set1 > set2)  # Output: False\n",
    "print(set1 <= set2)  # Output: True\n",
    "print(set1 >= set2)  # Output: True\n"
   ]
  },
  {
   "cell_type": "markdown",
   "id": "f810ac24",
   "metadata": {},
   "source": [
    "# Set Membership:"
   ]
  },
  {
   "cell_type": "code",
   "execution_count": 6,
   "id": "4987aeee",
   "metadata": {},
   "outputs": [
    {
     "name": "stdout",
     "output_type": "stream",
     "text": [
      "2 is present in the set\n"
     ]
    }
   ],
   "source": [
    "my_set = {1, 2, 3}\n",
    "\n",
    "if 2 in my_set:\n",
    "    print(\"2 is present in the set\")  # Output: 2 is present in the set\n"
   ]
  },
  {
   "cell_type": "markdown",
   "id": "4adee03d",
   "metadata": {},
   "source": [
    "# Set Size and Clearing:"
   ]
  },
  {
   "cell_type": "code",
   "execution_count": 7,
   "id": "5161b1b5",
   "metadata": {},
   "outputs": [
    {
     "name": "stdout",
     "output_type": "stream",
     "text": [
      "3\n",
      "set()\n"
     ]
    }
   ],
   "source": [
    "my_set = {1, 2, 3}\n",
    "\n",
    "size = len(my_set)\n",
    "print(size)  # Output: 3\n",
    "\n",
    "my_set.clear()\n",
    "print(my_set)  # Output: set()\n"
   ]
  },
  {
   "cell_type": "markdown",
   "id": "cf256e65",
   "metadata": {},
   "source": [
    "# Copying a Set:"
   ]
  },
  {
   "cell_type": "code",
   "execution_count": 8,
   "id": "a0b09034",
   "metadata": {},
   "outputs": [
    {
     "name": "stdout",
     "output_type": "stream",
     "text": [
      "{1, 2, 3}\n"
     ]
    }
   ],
   "source": [
    "my_set = {1, 2, 3}\n",
    "new_set = my_set.copy()\n",
    "print(new_set)  # Output: {1, 2, 3}\n"
   ]
  },
  {
   "cell_type": "markdown",
   "id": "384a6a70",
   "metadata": {},
   "source": [
    "# Checking Subset and Superset:"
   ]
  },
  {
   "cell_type": "code",
   "execution_count": 9,
   "id": "378d648b",
   "metadata": {},
   "outputs": [
    {
     "name": "stdout",
     "output_type": "stream",
     "text": [
      "True\n",
      "False\n"
     ]
    }
   ],
   "source": [
    "set1 = {1, 2, 3}\n",
    "set2 = {1, 2, 3, 4, 5}\n",
    "\n",
    "print(set1.issubset(set2))  # Output: True\n",
    "print(set1.issuperset(set2))  # Output: False\n"
   ]
  },
  {
   "cell_type": "markdown",
   "id": "5f5b16c5",
   "metadata": {},
   "source": [
    "# Checking Disjoint:"
   ]
  },
  {
   "cell_type": "code",
   "execution_count": 10,
   "id": "b3e9f2f0",
   "metadata": {},
   "outputs": [
    {
     "name": "stdout",
     "output_type": "stream",
     "text": [
      "True\n"
     ]
    }
   ],
   "source": [
    "set1 = {1, 2, 3}\n",
    "set2 = {4, 5, 6}\n",
    "\n",
    "print(set1.isdisjoint(set2))  # Output: True\n"
   ]
  },
  {
   "cell_type": "markdown",
   "id": "a3614db4",
   "metadata": {},
   "source": [
    "# Removing and Returning an Arbitrary Element:"
   ]
  },
  {
   "cell_type": "code",
   "execution_count": 11,
   "id": "f137cd2d",
   "metadata": {},
   "outputs": [
    {
     "name": "stdout",
     "output_type": "stream",
     "text": [
      "1\n",
      "{2, 3, 4, 5}\n"
     ]
    }
   ],
   "source": [
    "my_set = {1, 2, 3, 4, 5}\n",
    "\n",
    "element = my_set.pop()\n",
    "print(element)  # Output: 1\n",
    "print(my_set)  # Output: {2, 3, 4, 5}\n"
   ]
  },
  {
   "cell_type": "markdown",
   "id": "1119eefe",
   "metadata": {},
   "source": [
    "# Removing Multiple Elements:"
   ]
  },
  {
   "cell_type": "code",
   "execution_count": 12,
   "id": "b28e9988",
   "metadata": {},
   "outputs": [
    {
     "name": "stdout",
     "output_type": "stream",
     "text": [
      "{1, 2, 3}\n"
     ]
    }
   ],
   "source": [
    "my_set = {1, 2, 3, 4, 5}\n",
    "\n",
    "my_set.difference_update({4, 5})\n",
    "print(my_set)  # Output: {1, 2, 3}\n"
   ]
  },
  {
   "cell_type": "markdown",
   "id": "eae082ea",
   "metadata": {},
   "source": [
    "# Iterating Over a Set:"
   ]
  },
  {
   "cell_type": "code",
   "execution_count": 13,
   "id": "228c5e69",
   "metadata": {},
   "outputs": [
    {
     "name": "stdout",
     "output_type": "stream",
     "text": [
      "1\n",
      "2\n",
      "3\n"
     ]
    }
   ],
   "source": [
    "my_set = {1, 2, 3}\n",
    "\n",
    "for item in my_set:\n",
    "    print(item)  # Output: 1, 2, 3 (order may vary)\n"
   ]
  },
  {
   "cell_type": "markdown",
   "id": "6d0586b4",
   "metadata": {},
   "source": [
    "# Frozensets:"
   ]
  },
  {
   "cell_type": "code",
   "execution_count": 14,
   "id": "9442328e",
   "metadata": {},
   "outputs": [
    {
     "name": "stdout",
     "output_type": "stream",
     "text": [
      "frozenset({1, 2, 3})\n"
     ]
    }
   ],
   "source": [
    "my_set = {1, 2, 3}\n",
    "frozen_set = frozenset(my_set)\n",
    "\n",
    "print(frozen_set)  # Output: frozenset({1, 2, 3})\n"
   ]
  },
  {
   "cell_type": "markdown",
   "id": "3fbdd526",
   "metadata": {},
   "source": [
    "# Cartesian Product:"
   ]
  },
  {
   "cell_type": "code",
   "execution_count": 15,
   "id": "76bc6535",
   "metadata": {},
   "outputs": [
    {
     "name": "stdout",
     "output_type": "stream",
     "text": [
      "{(2, 'b'), (1, 'b'), (2, 'a'), (1, 'a')}\n"
     ]
    }
   ],
   "source": [
    "set1 = {1, 2}\n",
    "set2 = {'a', 'b'}\n",
    "\n",
    "cartesian_product = {(x, y) for x in set1 for y in set2}\n",
    "print(cartesian_product)  # Output: {(1, 'a'), (1, 'b'), (2, 'a'), (2, 'b')}\n"
   ]
  },
  {
   "cell_type": "markdown",
   "id": "e2b0f339",
   "metadata": {},
   "source": [
    "# Set Comprehension:"
   ]
  },
  {
   "cell_type": "code",
   "execution_count": 16,
   "id": "117e29af",
   "metadata": {},
   "outputs": [
    {
     "name": "stdout",
     "output_type": "stream",
     "text": [
      "{2, 4}\n"
     ]
    }
   ],
   "source": [
    "my_set = {x for x in range(1, 6) if x % 2 == 0}\n",
    "print(my_set)  # Output: {2, 4}\n"
   ]
  },
  {
   "cell_type": "markdown",
   "id": "ae6e2f2d",
   "metadata": {},
   "source": [
    "# Min, Max, Sum of Elements:"
   ]
  },
  {
   "cell_type": "code",
   "execution_count": 17,
   "id": "fb2d0de3",
   "metadata": {},
   "outputs": [
    {
     "name": "stdout",
     "output_type": "stream",
     "text": [
      "2\n",
      "10\n",
      "28\n"
     ]
    }
   ],
   "source": [
    "my_set = {5, 3, 8, 2, 10}\n",
    "\n",
    "print(min(my_set))  # Output: 2\n",
    "print(max(my_set))  # Output: 10\n",
    "print(sum(my_set))  # Output: 28\n"
   ]
  },
  {
   "cell_type": "markdown",
   "id": "78e15b66",
   "metadata": {},
   "source": [
    "# Converting a List to a Set:"
   ]
  },
  {
   "cell_type": "code",
   "execution_count": 18,
   "id": "69afb7f5",
   "metadata": {},
   "outputs": [
    {
     "name": "stdout",
     "output_type": "stream",
     "text": [
      "{1, 2, 3, 4, 5}\n"
     ]
    }
   ],
   "source": [
    "my_list = [1, 2, 3, 3, 4, 4, 5]\n",
    "my_set = set(my_list)\n",
    "\n",
    "print(my_set)  # Output: {1, 2, 3, 4, 5}\n"
   ]
  },
  {
   "cell_type": "markdown",
   "id": "0def1f96",
   "metadata": {},
   "source": [
    "# Union of Multiple Sets:"
   ]
  },
  {
   "cell_type": "code",
   "execution_count": 19,
   "id": "48e64d97",
   "metadata": {},
   "outputs": [
    {
     "name": "stdout",
     "output_type": "stream",
     "text": [
      "{1, 2, 3, 4, 5, 6, 7}\n"
     ]
    }
   ],
   "source": [
    "set1 = {1, 2, 3}\n",
    "set2 = {3, 4, 5}\n",
    "set3 = {5, 6, 7}\n",
    "\n",
    "union_set = set1.union(set2, set3)\n",
    "print(union_set)  # Output: {1, 2, 3, 4, 5, 6, 7}\n"
   ]
  },
  {
   "cell_type": "markdown",
   "id": "9c74cfa2",
   "metadata": {},
   "source": [
    "# Intersection of Multiple Sets:"
   ]
  },
  {
   "cell_type": "code",
   "execution_count": 20,
   "id": "0f375de8",
   "metadata": {},
   "outputs": [
    {
     "name": "stdout",
     "output_type": "stream",
     "text": [
      "{3}\n"
     ]
    }
   ],
   "source": [
    "set1 = {1, 2, 3}\n",
    "set2 = {2, 3, 4}\n",
    "set3 = {3, 4, 5}\n",
    "\n",
    "intersection_set = set1.intersection(set2, set3)\n",
    "print(intersection_set)  # Output: {3}\n"
   ]
  },
  {
   "cell_type": "markdown",
   "id": "63806f06",
   "metadata": {},
   "source": [
    "# Difference of Multiple Sets:"
   ]
  },
  {
   "cell_type": "code",
   "execution_count": 21,
   "id": "7f9e20b2",
   "metadata": {},
   "outputs": [
    {
     "name": "stdout",
     "output_type": "stream",
     "text": [
      "{1}\n"
     ]
    }
   ],
   "source": [
    "set1 = {1, 2, 3, 4}\n",
    "set2 = {2, 3}\n",
    "set3 = {3, 4}\n",
    "\n",
    "difference_set = set1.difference(set2, set3)\n",
    "print(difference_set)  # Output: {1}\n"
   ]
  },
  {
   "cell_type": "markdown",
   "id": "93a37244",
   "metadata": {},
   "source": [
    "# Symmetric Difference of Multiple Sets:"
   ]
  },
  {
   "cell_type": "code",
   "execution_count": 22,
   "id": "2aa4c423",
   "metadata": {},
   "outputs": [
    {
     "ename": "TypeError",
     "evalue": "set.symmetric_difference() takes exactly one argument (2 given)",
     "output_type": "error",
     "traceback": [
      "\u001b[1;31m---------------------------------------------------------------------------\u001b[0m",
      "\u001b[1;31mTypeError\u001b[0m                                 Traceback (most recent call last)",
      "\u001b[1;32mC:\\Users\\SAEEDC~1\\AppData\\Local\\Temp/ipykernel_4060/3652066392.py\u001b[0m in \u001b[0;36m<module>\u001b[1;34m\u001b[0m\n\u001b[0;32m      3\u001b[0m \u001b[0mset3\u001b[0m \u001b[1;33m=\u001b[0m \u001b[1;33m{\u001b[0m\u001b[1;36m3\u001b[0m\u001b[1;33m,\u001b[0m \u001b[1;36m4\u001b[0m\u001b[1;33m,\u001b[0m \u001b[1;36m5\u001b[0m\u001b[1;33m}\u001b[0m\u001b[1;33m\u001b[0m\u001b[1;33m\u001b[0m\u001b[0m\n\u001b[0;32m      4\u001b[0m \u001b[1;33m\u001b[0m\u001b[0m\n\u001b[1;32m----> 5\u001b[1;33m \u001b[0msymmetric_difference_set\u001b[0m \u001b[1;33m=\u001b[0m \u001b[0mset1\u001b[0m\u001b[1;33m.\u001b[0m\u001b[0msymmetric_difference\u001b[0m\u001b[1;33m(\u001b[0m\u001b[0mset2\u001b[0m\u001b[1;33m,\u001b[0m \u001b[0mset3\u001b[0m\u001b[1;33m)\u001b[0m\u001b[1;33m\u001b[0m\u001b[1;33m\u001b[0m\u001b[0m\n\u001b[0m\u001b[0;32m      6\u001b[0m \u001b[0mprint\u001b[0m\u001b[1;33m(\u001b[0m\u001b[0msymmetric_difference_set\u001b[0m\u001b[1;33m)\u001b[0m  \u001b[1;31m# Output: {1, 5}\u001b[0m\u001b[1;33m\u001b[0m\u001b[1;33m\u001b[0m\u001b[0m\n",
      "\u001b[1;31mTypeError\u001b[0m: set.symmetric_difference() takes exactly one argument (2 given)"
     ]
    }
   ],
   "source": [
    "set1 = {1, 2, 3}\n",
    "set2 = {2, 3, 4}\n",
    "set3 = {3, 4, 5}\n",
    "\n",
    "symmetric_difference_set = set1.symmetric_difference(set2, set3)\n",
    "print(symmetric_difference_set)  # Output: {1, 5}\n"
   ]
  },
  {
   "cell_type": "markdown",
   "id": "d3831808",
   "metadata": {},
   "source": [
    "# Removing Duplicates from a List using Sets:"
   ]
  },
  {
   "cell_type": "code",
   "execution_count": null,
   "id": "317a6dd7",
   "metadata": {},
   "outputs": [],
   "source": [
    "my_list = [1, 2, 3, 2, 4, 3, 5]\n",
    "unique_elements = list(set(my_list))\n",
    "\n",
    "print(unique_elements)  # Output: [1, 2, 3, 4, 5]\n"
   ]
  },
  {
   "cell_type": "markdown",
   "id": "2e4e8bad",
   "metadata": {},
   "source": [
    "# Set Operations with Strings:"
   ]
  },
  {
   "cell_type": "code",
   "execution_count": null,
   "id": "e6ff5411",
   "metadata": {},
   "outputs": [],
   "source": [
    "set1 = set(\"hello\")\n",
    "set2 = set(\"world\")\n",
    "\n",
    "union_set = set1.union(set2)\n",
    "print(union_set)  # Output: {'o', 'd', 'l', 'r', 'w', 'e', 'h'}\n",
    "\n",
    "intersection_set = set1.intersection(set2)\n",
    "print(intersection_set)  # Output: {'o'}\n",
    "\n",
    "difference_set = set1.difference(set2)\n",
    "print(difference_set)  # Output: {'e', 'h', 'l'}\n",
    "\n",
    "symmetric_difference_set = set1.symmetric_difference(set2)\n",
    "print(symmetric_difference_set)  # Output: {'d', 'e', 'h', 'l', 'r', 'w'}\n"
   ]
  },
  {
   "cell_type": "markdown",
   "id": "33b3a298",
   "metadata": {},
   "source": [
    "# Set Power Set:"
   ]
  },
  {
   "cell_type": "code",
   "execution_count": null,
   "id": "d4eee195",
   "metadata": {},
   "outputs": [],
   "source": [
    "import itertools\n",
    "\n",
    "my_set = {1, 2, 3}\n",
    "\n",
    "power_set = list(itertools.chain.from_iterable(itertools.combinations(my_set, r) for r in range(len(my_set) + 1)))\n",
    "print(power_set)  # Output: [(), (1,), (2,), (3,), (1, 2), (1, 3), (2, 3), (1, 2, 3)]\n"
   ]
  },
  {
   "cell_type": "markdown",
   "id": "02badc1c",
   "metadata": {},
   "source": [
    "# Checking if Sets are Mutable:"
   ]
  },
  {
   "cell_type": "code",
   "execution_count": null,
   "id": "ac63e904",
   "metadata": {},
   "outputs": [],
   "source": [
    "set1 = {1, 2, 3}\n",
    "set2 = {4, 5, 6}\n",
    "\n",
    "print(set1.__hash__() is None)  # Output: True\n",
    "print(set2.__hash__() is None)  # Output: True\n"
   ]
  },
  {
   "cell_type": "markdown",
   "id": "b42a9b7c",
   "metadata": {},
   "source": [
    "# Set Operations with Boolean Values:"
   ]
  },
  {
   "cell_type": "code",
   "execution_count": null,
   "id": "4a23daeb",
   "metadata": {},
   "outputs": [],
   "source": [
    "set1 = {True, False}\n",
    "set2 = {False, True, True}\n",
    "\n",
    "union_set = set1.union(set2)\n",
    "print(union_set)  # Output: {True, False}\n",
    "\n",
    "intersection_set = set1.intersection(set2)\n",
    "print(intersection_set)  # Output: {True, False}\n",
    "\n",
    "difference_set = set1.difference(set2)\n",
    "print(difference_set)  # Output: set()\n",
    "\n",
    "symmetric_difference_set = set1.symmetric_difference(set2)\n",
    "print(symmetric_difference_set)  # Output: set()\n"
   ]
  },
  {
   "cell_type": "markdown",
   "id": "0c1df367",
   "metadata": {},
   "source": [
    "Certainly! Here are a few practice questions on sets that you can try:\n",
    "\n",
    "# Practice Question\n",
    "1. Create a set named `fruits` containing the following elements: \"apple\", \"banana\", \"orange\", \"mango\". Print the set.\n",
    "\n",
    "2. Create a set named `colors` containing the following elements: \"red\", \"green\", \"blue\". Print the set.\n",
    "\n",
    "3. Perform a union operation on the `fruits` and `colors` sets and store the result in a new set called `combined`. Print the `combined` set.\n",
    "\n",
    "4. Perform an intersection operation on the `fruits` and `colors` sets and store the result in a new set called `common`. Print the `common` set.\n",
    "\n",
    "5. Create a set named `new_fruits` containing the following elements: \"apple\", \"kiwi\", \"grape\". Print the set.\n",
    "\n",
    "6. Check if all the elements in the `new_fruits` set are also present in the `fruits` set. Print the result.\n",
    "\n",
    "7. Check if any of the elements in the `new_fruits` set are present in the `colors` set. Print the result.\n",
    "\n",
    "8. Add the element \"pineapple\" to the `fruits` set. Print the updated `fruits` set.\n",
    "\n",
    "9. Remove the element \"banana\" from the `fruits` set. Print the updated `fruits` set.\n",
    "\n",
    "10. Calculate the length of the `fruits` set and print the result.\n",
    "\n",
    "11. Convert the `fruits` set into a list and print the list.\n",
    "\n",
    "12. Check if the `colors` set is a subset of the `combined` set. Print the result.\n",
    "\n",
    "13. Check if the `combined` set is a superset of the `fruits` set. Print the result.\n",
    "\n",
    "14. Find the maximum and minimum elements in the `fruits` set and print the results.\n",
    "\n",
    "15. Clear the `fruits` set and print the empty set.\n",
    "\n",
    "These practice questions will help you reinforce your understanding of sets in Python. Feel free to give them a try!"
   ]
  },
  {
   "cell_type": "markdown",
   "id": "11a5e46c",
   "metadata": {},
   "source": [
    "Certainly! Here are the solutions to the practice questions on sets:\n",
    "\n",
    "1. Create a set named `fruits` containing the following elements: \"apple\", \"banana\", \"orange\", \"mango\". Print the set.\n",
    "```python\n",
    "fruits = {\"apple\", \"banana\", \"orange\", \"mango\"}\n",
    "print(fruits)\n",
    "```\n",
    "Output: `{'mango', 'apple', 'orange', 'banana'}`\n",
    "\n",
    "2. Create a set named `colors` containing the following elements: \"red\", \"green\", \"blue\". Print the set.\n",
    "```python\n",
    "colors = {\"red\", \"green\", \"blue\"}\n",
    "print(colors)\n",
    "```\n",
    "Output: `{'green', 'red', 'blue'}`\n",
    "\n",
    "3. Perform a union operation on the `fruits` and `colors` sets and store the result in a new set called `combined`. Print the `combined` set.\n",
    "```python\n",
    "combined = fruits.union(colors)\n",
    "print(combined)\n",
    "```\n",
    "Output: `{'mango', 'red', 'apple', 'orange', 'banana', 'blue', 'green'}`\n",
    "\n",
    "4. Perform an intersection operation on the `fruits` and `colors` sets and store the result in a new set called `common`. Print the `common` set.\n",
    "```python\n",
    "common = fruits.intersection(colors)\n",
    "print(common)\n",
    "```\n",
    "Output: `set()`\n",
    "\n",
    "5. Create a set named `new_fruits` containing the following elements: \"apple\", \"kiwi\", \"grape\". Print the set.\n",
    "```python\n",
    "new_fruits = {\"apple\", \"kiwi\", \"grape\"}\n",
    "print(new_fruits)\n",
    "```\n",
    "Output: `{'kiwi', 'grape', 'apple'}`\n",
    "\n",
    "6. Check if all the elements in the `new_fruits` set are also present in the `fruits` set. Print the result.\n",
    "```python\n",
    "result = new_fruits.issubset(fruits)\n",
    "print(result)\n",
    "```\n",
    "Output: `True`\n",
    "\n",
    "7. Check if any of the elements in the `new_fruits` set are present in the `colors` set. Print the result.\n",
    "```python\n",
    "result = new_fruits.intersection(colors)\n",
    "print(bool(result))\n",
    "```\n",
    "Output: `False`\n",
    "\n",
    "8. Add the element \"pineapple\" to the `fruits` set. Print the updated `fruits` set.\n",
    "```python\n",
    "fruits.add(\"pineapple\")\n",
    "print(fruits)\n",
    "```\n",
    "Output: `{'mango', 'apple', 'orange', 'banana', 'pineapple'}`\n",
    "\n",
    "9. Remove the element \"banana\" from the `fruits` set. Print the updated `fruits` set.\n",
    "```python\n",
    "fruits.remove(\"banana\")\n",
    "print(fruits)\n",
    "```\n",
    "Output: `{'mango', 'apple', 'orange', 'pineapple'}`\n",
    "\n",
    "10. Calculate the length of the `fruits` set and print the result.\n",
    "```python\n",
    "length = len(fruits)\n",
    "print(length)\n",
    "```\n",
    "Output: `4`\n",
    "\n",
    "11. Convert the `fruits` set into a list and print the list.\n",
    "```python\n",
    "fruits_list = list(fruits)\n",
    "print(fruits_list)\n",
    "```\n",
    "Output: `['mango', 'apple', 'orange', 'pineapple']`\n",
    "\n",
    "12. Check if the `colors` set is a subset of the `combined` set. Print the result.\n",
    "```python\n",
    "result = colors.issubset(combined)\n",
    "print(result)\n",
    "```\n",
    "Output: `True`\n",
    "\n",
    "13. Check if the `combined` set is a superset of the `fruits` set. Print the result.\n",
    "```python\n",
    "result = combined.issuperset(fruits)\n",
    "print(result)\n",
    "```\n",
    "Output: `True`\n",
    "\n",
    "14\n",
    "\n",
    ". Find the maximum and minimum elements in the `fruits` set and print the results.\n",
    "```python\n",
    "maximum = max(fruits)\n",
    "minimum = min(fruits)\n",
    "print(maximum)\n",
    "print(minimum)\n",
    "```\n",
    "Output:\n",
    "```\n",
    "pineapple\n",
    "apple\n",
    "```\n",
    "\n",
    "15. Clear the `fruits` set and print the empty set.\n",
    "```python\n",
    "fruits.clear()\n",
    "print(fruits)\n",
    "```\n",
    "Output: `set()`\n",
    "\n",
    "These are the solutions to the practice questions on sets. I hope they help you in understanding and working with sets in Python!"
   ]
  },
  {
   "cell_type": "markdown",
   "id": "74b16c93",
   "metadata": {},
   "source": [
    "# Python Exercise Sets\n",
    "Certainly! Here are some exercise questions about sets:\n",
    "\n",
    "1. Create a set named `countries` with the following elements: \"USA\", \"Canada\", \"France\", \"Germany\", \"Australia\".\n",
    "\n",
    "2. Create a set named `sports` with the following elements: \"Soccer\", \"Basketball\", \"Tennis\", \"Swimming\", \"Cricket\".\n",
    "\n",
    "3. Perform a union operation on the `countries` and `sports` sets and store the result in a new set called `all_items`.\n",
    "\n",
    "4. Perform an intersection operation on the `countries` and `sports` sets and store the result in a new set called `common_items`.\n",
    "\n",
    "5. Perform a difference operation on the `countries` and `sports` sets (elements in `countries` but not in `sports`) and store the result in a new set called `country_only_items`.\n",
    "\n",
    "6. Perform a symmetric difference operation on the `countries` and `sports` sets (elements in either `countries` or `sports`, but not both) and store the result in a new set called `unique_items`.\n",
    "\n",
    "7. Check if \"France\" is present in the `countries` set.\n",
    "\n",
    "8. Add the element \"Spain\" to the `countries` set.\n",
    "\n",
    "9. Remove \"Tennis\" from the `sports` set.\n",
    "\n",
    "10. Calculate the length of the `countries` set.\n",
    "\n",
    "11. Convert the `sports` set into a list.\n",
    "\n",
    "12. Check if the `countries` set is a subset of the `all_items` set.\n",
    "\n",
    "13. Check if the `all_items` set is a superset of the `countries` set.\n",
    "\n",
    "14. Create an empty set named `empty_set` and check if it is empty.\n",
    "\n",
    "15. Clear all the elements from the `sports` set.\n",
    "\n",
    "These exercise questions cover various operations and concepts related to sets in Python. They can help you practice and reinforce your understanding of working with sets."
   ]
  },
  {
   "cell_type": "markdown",
   "id": "5740848f",
   "metadata": {},
   "source": [
    "<!DOCTYPE html>\n",
    "<html>\n",
    "<head>\n",
    "</head>\n",
    "<body>\n",
    "<div style=\"background-color: #32a8a6; color: black; padding: 8px;text-align: center;\">\n",
    "    <h1>My Social Profiles</h1>\n",
    "    Note: To Follow And Any Query Feel Free To Contact\n",
    "       \n",
    "- <a href=\"https://www.linkedin.com/in/m-usman-akram-b29685251/\">My LinkedIn Profile</a>\n",
    "        \n",
    "- <a href=\"https://github.com/engrusman00109\">My GitHub Account</a>\n",
    "\n",
    "- <a href=\"https://www.facebook.com/profile.php?id=100055510195015\">My FaceBook Account</a>\n",
    "    \n",
    "- <a href=\"musman00109@gmail.com\">Click here to send an email</a>\n",
    "- <a href=\"@EngrUsman00109\">My Twiter Account </a>\n",
    "    \n",
    "</div>\n",
    "      \n",
    "</body>\n",
    "</html>\n"
   ]
  }
 ],
 "metadata": {
  "kernelspec": {
   "display_name": "Python 3 (ipykernel)",
   "language": "python",
   "name": "python3"
  },
  "language_info": {
   "codemirror_mode": {
    "name": "ipython",
    "version": 3
   },
   "file_extension": ".py",
   "mimetype": "text/x-python",
   "name": "python",
   "nbconvert_exporter": "python",
   "pygments_lexer": "ipython3",
   "version": "3.9.7"
  }
 },
 "nbformat": 4,
 "nbformat_minor": 5
}
