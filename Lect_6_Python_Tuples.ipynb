{
 "cells": [
  {
   "cell_type": "markdown",
   "id": "427b5d71",
   "metadata": {},
   "source": [
    "<div style=\"background-color: rED; color: BLACK; padding: 8px;text-align: center;\">\n",
    "    <h2 > PYTHON LECTURE 06 </h2>\n",
    "    <h2> M.Usman Akram </h2>\n",
    "    \n",
    "</div>"
   ]
  },
  {
   "cell_type": "markdown",
   "id": "754d4ea2",
   "metadata": {},
   "source": [
    "# Python_Tuples:"
   ]
  },
  {
   "cell_type": "markdown",
   "id": "a123dd77",
   "metadata": {},
   "source": [
    "Python tuples are ordered, immutable collections of elements enclosed in parentheses (()). Tuples are similar to lists, but they cannot be modified once created, which means you cannot add, remove, or change elements within a tuple. Tuples can store elements of different data types, such as numbers, strings, or even other tuples."
   ]
  },
  {
   "cell_type": "markdown",
   "id": "8b4f3a81",
   "metadata": {},
   "source": [
    "## 1. Creating a Tuple: Tuples can be created using parentheses or commas."
   ]
  },
  {
   "cell_type": "code",
   "execution_count": 1,
   "id": "fcf06dff",
   "metadata": {},
   "outputs": [],
   "source": [
    "my_tuple = (1, 2, 3)  # Using parentheses\n",
    "another_tuple = 4, 5, 6  # Using commas\n"
   ]
  },
  {
   "cell_type": "markdown",
   "id": "a79a3e0e",
   "metadata": {},
   "source": [
    "## 2. Accessing Elements: Elements of a tuple can be accessed using indexing."
   ]
  },
  {
   "cell_type": "code",
   "execution_count": 2,
   "id": "47925c26",
   "metadata": {},
   "outputs": [
    {
     "name": "stdout",
     "output_type": "stream",
     "text": [
      "1\n",
      "6\n"
     ]
    }
   ],
   "source": [
    "print(my_tuple[0])  # Output: 1\n",
    "print(another_tuple[2])  # Output: 6\n"
   ]
  },
  {
   "cell_type": "markdown",
   "id": "b54913ca",
   "metadata": {},
   "source": [
    "## 3. Slicing: Subsets of elements can be extracted using slicing."
   ]
  },
  {
   "cell_type": "code",
   "execution_count": 3,
   "id": "8f7f8086",
   "metadata": {},
   "outputs": [
    {
     "name": "stdout",
     "output_type": "stream",
     "text": [
      "(2, 3)\n",
      "(4, 5)\n"
     ]
    }
   ],
   "source": [
    "print(my_tuple[1:3])  # Output: (2, 3)\n",
    "print(another_tuple[:2])  # Output: (4, 5)\n"
   ]
  },
  {
   "cell_type": "markdown",
   "id": "7f3ecf29",
   "metadata": {},
   "source": [
    "## 4. Concatenating Tuples: Tuples can be concatenated using the + operator."
   ]
  },
  {
   "cell_type": "code",
   "execution_count": 4,
   "id": "f4325f00",
   "metadata": {},
   "outputs": [
    {
     "name": "stdout",
     "output_type": "stream",
     "text": [
      "(1, 2, 3, 4, 5, 6)\n"
     ]
    }
   ],
   "source": [
    "combined_tuple = my_tuple + another_tuple\n",
    "print(combined_tuple)  # Output: (1, 2, 3, 4, 5, 6)\n"
   ]
  },
  {
   "cell_type": "markdown",
   "id": "d2c56b07",
   "metadata": {},
   "source": [
    "## 5. Length of a Tuple: The number of elements in a tuple can be determined using the len() function."
   ]
  },
  {
   "cell_type": "code",
   "execution_count": 5,
   "id": "a522f7bc",
   "metadata": {},
   "outputs": [
    {
     "name": "stdout",
     "output_type": "stream",
     "text": [
      "3\n"
     ]
    }
   ],
   "source": [
    "print(len(my_tuple))  # Output: 3"
   ]
  },
  {
   "cell_type": "markdown",
   "id": "62228ef5",
   "metadata": {},
   "source": [
    "## 6. Checking Membership: You can check if an element is present in a tuple using the in keyword."
   ]
  },
  {
   "cell_type": "code",
   "execution_count": 6,
   "id": "6ae76b7a",
   "metadata": {},
   "outputs": [
    {
     "name": "stdout",
     "output_type": "stream",
     "text": [
      "True\n",
      "False\n"
     ]
    }
   ],
   "source": [
    "print(2 in my_tuple)  # Output: True\n",
    "print(5 in my_tuple)  # Output: False\n"
   ]
  },
  {
   "cell_type": "markdown",
   "id": "d2fffbe1",
   "metadata": {},
   "source": [
    "## 7. Iterating over a Tuple: Elements of a tuple can be iterated using a loop."
   ]
  },
  {
   "cell_type": "code",
   "execution_count": 7,
   "id": "16a07134",
   "metadata": {},
   "outputs": [
    {
     "name": "stdout",
     "output_type": "stream",
     "text": [
      "1\n",
      "2\n",
      "3\n"
     ]
    }
   ],
   "source": [
    "for item in my_tuple:\n",
    "    print(item)\n"
   ]
  },
  {
   "cell_type": "markdown",
   "id": "351acfb1",
   "metadata": {},
   "source": [
    "## 8. Unpacking a Tuple: You can assign the elements of a tuple to individual variables."
   ]
  },
  {
   "cell_type": "code",
   "execution_count": 8,
   "id": "20f928e7",
   "metadata": {},
   "outputs": [
    {
     "name": "stdout",
     "output_type": "stream",
     "text": [
      "1 2 3\n"
     ]
    }
   ],
   "source": [
    "a, b, c = my_tuple\n",
    "print(a, b, c)  # Output: 1 2 3\n"
   ]
  },
  {
   "cell_type": "markdown",
   "id": "d19ae98b",
   "metadata": {},
   "source": [
    "## 9. Nested Tuples: Tuples can contain other tuples."
   ]
  },
  {
   "cell_type": "code",
   "execution_count": 9,
   "id": "87fb273f",
   "metadata": {},
   "outputs": [
    {
     "name": "stdout",
     "output_type": "stream",
     "text": [
      "2\n"
     ]
    }
   ],
   "source": [
    "nested_tuple = (1, (2, 3), 4)\n",
    "print(nested_tuple[1][0])  # Output: 2\n"
   ]
  },
  {
   "cell_type": "markdown",
   "id": "7262dcad",
   "metadata": {},
   "source": [
    "## 10. Tuple Methods: Tuples have two methods: count() and index()."
   ]
  },
  {
   "cell_type": "code",
   "execution_count": 10,
   "id": "1b51d07a",
   "metadata": {},
   "outputs": [
    {
     "name": "stdout",
     "output_type": "stream",
     "text": [
      "3\n",
      "4\n"
     ]
    }
   ],
   "source": [
    "my_tuple = (1, 2, 3, 2, 4, 2)\n",
    "print(my_tuple.count(2))  # Output: 3\n",
    "print(my_tuple.index(4))  # Output: 4\n"
   ]
  },
  {
   "cell_type": "markdown",
   "id": "e305729b",
   "metadata": {},
   "source": [
    "## 11. Tuple Packing and Unpacking: Tuples can be packed by assigning multiple values to a single tuple variable. Similarly, tuple unpacking allows assigning multiple variables to the corresponding elements of a tuple."
   ]
  },
  {
   "cell_type": "code",
   "execution_count": 11,
   "id": "52d14228",
   "metadata": {},
   "outputs": [
    {
     "name": "stdout",
     "output_type": "stream",
     "text": [
      "(1, 2, 3)\n",
      "1 2 3\n"
     ]
    }
   ],
   "source": [
    "# Tuple packing\n",
    "my_tuple = 1, 2, 3\n",
    "print(my_tuple)  # Output: (1, 2, 3)\n",
    "\n",
    "# Tuple unpacking\n",
    "a, b, c = my_tuple\n",
    "print(a, b, c)  # Output: 1 2 3\n"
   ]
  },
  {
   "cell_type": "markdown",
   "id": "95c02057",
   "metadata": {},
   "source": [
    "## 12. Comparing Tuples: Tuples can be compared using comparison operators, and the comparison is performed element by element."
   ]
  },
  {
   "cell_type": "code",
   "execution_count": 12,
   "id": "9bcbbc0d",
   "metadata": {},
   "outputs": [
    {
     "name": "stdout",
     "output_type": "stream",
     "text": [
      "True\n",
      "False\n"
     ]
    }
   ],
   "source": [
    "tuple1 = (1, 2, 3)\n",
    "tuple2 = (4, 5, 6)\n",
    "\n",
    "print(tuple1 < tuple2)  # Output: True\n",
    "print(tuple1 == tuple2)  # Output: False\n"
   ]
  },
  {
   "cell_type": "markdown",
   "id": "f4ce06b1",
   "metadata": {},
   "source": [
    "## 13. Tuple as Function Arguments: Tuples can be used to pass multiple values as arguments to a function."
   ]
  },
  {
   "cell_type": "code",
   "execution_count": 13,
   "id": "9944ccf5",
   "metadata": {},
   "outputs": [
    {
     "name": "stdout",
     "output_type": "stream",
     "text": [
      "Coordinates: x=1, y=2, z=3\n"
     ]
    }
   ],
   "source": [
    "def print_coordinates(x, y, z):\n",
    "    print(f\"Coordinates: x={x}, y={y}, z={z}\")\n",
    "\n",
    "coordinates = (1, 2, 3)\n",
    "print_coordinates(*coordinates)  # Output: Coordinates: x=1, y=2, z=3\n"
   ]
  },
  {
   "cell_type": "markdown",
   "id": "3b2cc00d",
   "metadata": {},
   "source": [
    "## 14. Returning Multiple Values: Functions can return multiple values as a tuple."
   ]
  },
  {
   "cell_type": "code",
   "execution_count": 14,
   "id": "155c925a",
   "metadata": {},
   "outputs": [
    {
     "name": "stdout",
     "output_type": "stream",
     "text": [
      "('Alice', 25)\n"
     ]
    }
   ],
   "source": [
    "def get_name_and_age():\n",
    "    name = \"Alice\"\n",
    "    age = 25\n",
    "    return name, age\n",
    "\n",
    "person = get_name_and_age()\n",
    "print(person)  # Output: ('Alice', 25)\n"
   ]
  },
  {
   "cell_type": "markdown",
   "id": "d67d0532",
   "metadata": {},
   "source": [
    "## Immutable vs. Mutable: Tuples are immutable, meaning their elements cannot be modified once the tuple is created. However, if an element is mutable (like a list), it can be modified."
   ]
  },
  {
   "cell_type": "code",
   "execution_count": 15,
   "id": "8a0d64c6",
   "metadata": {},
   "outputs": [
    {
     "name": "stdout",
     "output_type": "stream",
     "text": [
      "([5, 2], [3, 4])\n"
     ]
    }
   ],
   "source": [
    "immutable_tuple = (1, 2, 3)\n",
    "# immutable_tuple[0] = 4  # Raises TypeError: 'tuple' object does not support item assignment\n",
    "\n",
    "mutable_tuple = ([1, 2], [3, 4])\n",
    "mutable_tuple[0][0] = 5\n",
    "print(mutable_tuple)  # Output: ([5, 2], [3, 4])\n"
   ]
  },
  {
   "cell_type": "markdown",
   "id": "85b6c6fc",
   "metadata": {},
   "source": [
    "## Named Tuples: The collections module in Python provides a class called namedtuple that allows creating tuple subclasses with named fields. This provides a more readable and self-documenting way to work with tuples."
   ]
  },
  {
   "cell_type": "code",
   "execution_count": 16,
   "id": "2be6c46b",
   "metadata": {},
   "outputs": [
    {
     "name": "stdout",
     "output_type": "stream",
     "text": [
      "Alice\n",
      "25\n",
      "New York\n"
     ]
    }
   ],
   "source": [
    "from collections import namedtuple\n",
    "\n",
    "Person = namedtuple('Person', ['name', 'age', 'city'])\n",
    "person = Person('Alice', 25, 'New York')\n",
    "\n",
    "print(person.name)  # Output: Alice\n",
    "print(person.age)   # Output: 25\n",
    "print(person.city)  # Output: New York\n"
   ]
  },
  {
   "cell_type": "markdown",
   "id": "59a464a2",
   "metadata": {},
   "source": [
    "## Tuple as Dictionary Key: Tuples can be used as keys in dictionaries since they are immutable."
   ]
  },
  {
   "cell_type": "code",
   "execution_count": 17,
   "id": "0d190f96",
   "metadata": {},
   "outputs": [
    {
     "name": "stdout",
     "output_type": "stream",
     "text": [
      "Engineer\n",
      "Manager\n"
     ]
    }
   ],
   "source": [
    "my_dict = {('John', 25): 'Engineer', ('Alice', 30): 'Manager'}\n",
    "\n",
    "print(my_dict[('John', 25)])  # Output: Engineer\n",
    "print(my_dict[('Alice', 30)])  # Output: Manager\n"
   ]
  },
  {
   "cell_type": "markdown",
   "id": "e9343c91",
   "metadata": {},
   "source": [
    "## Tuple Unpacking with Asterisk: You can use the asterisk (*) operator during tuple unpacking to assign multiple elements to a single variable."
   ]
  },
  {
   "cell_type": "code",
   "execution_count": 18,
   "id": "86665c23",
   "metadata": {},
   "outputs": [
    {
     "name": "stdout",
     "output_type": "stream",
     "text": [
      "1\n",
      "[2, 3, 4]\n",
      "5\n"
     ]
    }
   ],
   "source": [
    "my_tuple = (1, 2, 3, 4, 5)\n",
    "\n",
    "first, *middle, last = my_tuple\n",
    "\n",
    "print(first)   # Output: 1\n",
    "print(middle)  # Output: [2, 3, 4]\n",
    "print(last)    # Output: 5\n"
   ]
  },
  {
   "cell_type": "markdown",
   "id": "38496949",
   "metadata": {},
   "source": [
    "## Tuple Comparison and Sorting: Tuples support comparison operators, allowing you to compare tuples based on their elements. Tuples can also be sorted using the sorted() function."
   ]
  },
  {
   "cell_type": "code",
   "execution_count": 19,
   "id": "af019bae",
   "metadata": {},
   "outputs": [
    {
     "name": "stdout",
     "output_type": "stream",
     "text": [
      "True\n",
      "[1, 2, 3, 4, 5]\n"
     ]
    }
   ],
   "source": [
    "tuple1 = (1, 2, 3)\n",
    "tuple2 = (4, 5, 6)\n",
    "\n",
    "print(tuple1 < tuple2)  # Output: True\n",
    "\n",
    "unsorted_tuple = (3, 1, 4, 2, 5)\n",
    "sorted_tuple = sorted(unsorted_tuple)\n",
    "print(sorted_tuple)  # Output: [1, 2, 3, 4, 5]\n"
   ]
  },
  {
   "cell_type": "markdown",
   "id": "6ad6faa1",
   "metadata": {},
   "source": [
    "## Tuple as Immutable Keys in Sets: Tuples can be used as elements or keys in sets due to their immutability. Sets provide a way to store unique values."
   ]
  },
  {
   "cell_type": "code",
   "execution_count": 20,
   "id": "3a4c9d08",
   "metadata": {},
   "outputs": [
    {
     "name": "stdout",
     "output_type": "stream",
     "text": [
      "{(1, 2), (3, 4)}\n"
     ]
    }
   ],
   "source": [
    "my_set = {(1, 2), (3, 4), (1, 2)}\n",
    "print(my_set)  # Output: {(1, 2), (3, 4)}\n"
   ]
  },
  {
   "cell_type": "markdown",
   "id": "899edf57",
   "metadata": {},
   "source": [
    "## Tuple Comprehensions: Similar to list comprehensions, Python supports tuple comprehensions, allowing you to create tuples using a concise syntax."
   ]
  },
  {
   "cell_type": "code",
   "execution_count": 21,
   "id": "77dd5ac4",
   "metadata": {},
   "outputs": [
    {
     "name": "stdout",
     "output_type": "stream",
     "text": [
      "(0, 1, 2, 3, 4)\n"
     ]
    }
   ],
   "source": [
    "my_tuple = tuple(i for i in range(5))\n",
    "print(my_tuple)  # Output: (0, 1, 2, 3, 4)\n"
   ]
  },
  {
   "cell_type": "markdown",
   "id": "e17c8a4d",
   "metadata": {},
   "source": [
    "## Nested Tuples Unpacking: You can unpack nested tuples by using nested variables during tuple unpacking."
   ]
  },
  {
   "cell_type": "code",
   "execution_count": 22,
   "id": "892c009d",
   "metadata": {},
   "outputs": [
    {
     "name": "stdout",
     "output_type": "stream",
     "text": [
      "1\n",
      "2\n",
      "3\n",
      "4\n"
     ]
    }
   ],
   "source": [
    "nested_tuple = (1, (2, 3), 4)\n",
    "a, (b, c), d = nested_tuple\n",
    "\n",
    "print(a)  # Output: 1\n",
    "print(b)  # Output: 2\n",
    "print(c)  # Output: 3\n",
    "print(d)  # Output: 4\n"
   ]
  },
  {
   "cell_type": "markdown",
   "id": "f3b864d3",
   "metadata": {},
   "source": [
    "## Enumerating Tuples: You can use the enumerate() function to iterate over a tuple and retrieve both the index and the corresponding element."
   ]
  },
  {
   "cell_type": "code",
   "execution_count": 23,
   "id": "c2aa7df8",
   "metadata": {},
   "outputs": [
    {
     "name": "stdout",
     "output_type": "stream",
     "text": [
      "0 a\n",
      "1 b\n",
      "2 c\n"
     ]
    }
   ],
   "source": [
    "my_tuple = ('a', 'b', 'c')\n",
    "\n",
    "for index, element in enumerate(my_tuple):\n",
    "    print(index, element)\n"
   ]
  },
  {
   "cell_type": "markdown",
   "id": "0c8d6323",
   "metadata": {},
   "source": [
    "## Tuple Concatenation with Asterisk: You can concatenate multiple tuples using the asterisk (*) operator."
   ]
  },
  {
   "cell_type": "code",
   "execution_count": 24,
   "id": "ca3b0423",
   "metadata": {},
   "outputs": [
    {
     "name": "stdout",
     "output_type": "stream",
     "text": [
      "(1, 2, 3, 4, 5, 6)\n"
     ]
    }
   ],
   "source": [
    "tuple1 = (1, 2, 3)\n",
    "tuple2 = (4, 5, 6)\n",
    "\n",
    "concatenated_tuple = (*tuple1, *tuple2)\n",
    "\n",
    "print(concatenated_tuple)  # Output: (1, 2, 3, 4, 5, 6)\n"
   ]
  },
  {
   "cell_type": "markdown",
   "id": "6a5a52c9",
   "metadata": {},
   "source": [
    "## Using Tuples as Function Arguments: Tuples can be used to pass multiple arguments to a function by unpacking the tuple using the asterisk (*) operator."
   ]
  },
  {
   "cell_type": "code",
   "execution_count": 25,
   "id": "5dbc70cb",
   "metadata": {},
   "outputs": [
    {
     "name": "stdout",
     "output_type": "stream",
     "text": [
      "12\n"
     ]
    }
   ],
   "source": [
    "def multiply(a, b):\n",
    "    return a * b\n",
    "\n",
    "arguments = (3, 4)\n",
    "result = multiply(*arguments)\n",
    "\n",
    "print(result)  # Output: 12\n"
   ]
  },
  {
   "cell_type": "markdown",
   "id": "66fc9ddc",
   "metadata": {},
   "source": [
    "## Zip: The zip() function combines multiple iterables into a single iterable of tuples. It pairs corresponding elements from each iterable."
   ]
  },
  {
   "cell_type": "code",
   "execution_count": 26,
   "id": "1181ed81",
   "metadata": {},
   "outputs": [
    {
     "name": "stdout",
     "output_type": "stream",
     "text": [
      "[('Alice', 25), ('Bob', 30), ('Charlie', 35)]\n"
     ]
    }
   ],
   "source": [
    "names = ('Alice', 'Bob', 'Charlie')\n",
    "ages = (25, 30, 35)\n",
    "\n",
    "combined = zip(names, ages)\n",
    "print(list(combined))\n"
   ]
  },
  {
   "cell_type": "markdown",
   "id": "1d884f05",
   "metadata": {},
   "source": [
    "## Tuple as a Key in a Dictionary: Tuples can be used as keys in dictionaries, allowing you to create mappings with multiple values."
   ]
  },
  {
   "cell_type": "code",
   "execution_count": 27,
   "id": "411e29b4",
   "metadata": {},
   "outputs": [
    {
     "name": "stdout",
     "output_type": "stream",
     "text": [
      "90\n"
     ]
    }
   ],
   "source": [
    "student_grades = {('Alice', 'Math'): 90, ('Bob', 'Math'): 85, ('Charlie', 'Science'): 92}\n",
    "\n",
    "print(student_grades[('Alice', 'Math')])  # Output: 90\n"
   ]
  },
  {
   "cell_type": "markdown",
   "id": "4112986f",
   "metadata": {},
   "source": [
    "## Deleting a Tuple: Tuples are immutable, so you cannot delete individual elements. However, you can delete an entire tuple using the del statement."
   ]
  },
  {
   "cell_type": "code",
   "execution_count": 28,
   "id": "7c1e54a1",
   "metadata": {},
   "outputs": [],
   "source": [
    "my_tuple = (1, 2, 3)\n",
    "\n",
    "del my_tuple\n",
    "# print(my_tuple)  # Raises NameError: name 'my_tuple' is not defined\n"
   ]
  },
  {
   "cell_type": "markdown",
   "id": "a7964874",
   "metadata": {},
   "source": [
    "## Tuple Repetition: You can repeat a tuple multiple times using the * operator."
   ]
  },
  {
   "cell_type": "code",
   "execution_count": 29,
   "id": "71782d67",
   "metadata": {},
   "outputs": [
    {
     "name": "stdout",
     "output_type": "stream",
     "text": [
      "(1, 2, 3, 1, 2, 3, 1, 2, 3)\n"
     ]
    }
   ],
   "source": [
    "my_tuple = (1, 2, 3)\n",
    "\n",
    "repeated_tuple = my_tuple * 3\n",
    "print(repeated_tuple)  # Output: (1, 2, 3, 1, 2, 3, 1, 2, 3)\n"
   ]
  },
  {
   "cell_type": "markdown",
   "id": "4d3b86a1",
   "metadata": {},
   "source": [
    "Sure! Here are some practice tasks related to Python tuples:\n",
    "\n",
    "1. Write a Python program to swap the first and last elements of a given tuple.\n",
    "   ```python\n",
    "   def swap_first_last(tuple):\n",
    "       # Convert tuple to list to allow swapping\n",
    "       list_tuple = list(tuple)\n",
    "       list_tuple[0], list_tuple[-1] = list_tuple[-1], list_tuple[0]\n",
    "       return tuple(list_tuple)\n",
    "   \n",
    "   my_tuple = (1, 2, 3, 4, 5)\n",
    "   swapped_tuple = swap_first_last(my_tuple)\n",
    "   print(swapped_tuple)  # Output: (5, 2, 3, 4, 1)\n",
    "   ```\n",
    "\n",
    "2. Write a Python program to find the maximum and minimum elements in a given tuple.\n",
    "   ```python\n",
    "   def find_max_min(tuple):\n",
    "       return max(tuple), min(tuple)\n",
    "   \n",
    "   my_tuple = (4, 2, 6, 8, 1)\n",
    "   max_val, min_val = find_max_min(my_tuple)\n",
    "   print(max_val)  # Output: 8\n",
    "   print(min_val)  # Output: 1\n",
    "   ```\n",
    "\n",
    "3. Write a Python program to check if a given element exists in a tuple.\n",
    "   ```python\n",
    "   def element_exists(tuple, element):\n",
    "       return element in tuple\n",
    "   \n",
    "   my_tuple = (1, 2, 3, 4, 5)\n",
    "   print(element_exists(my_tuple, 3))  # Output: True\n",
    "   print(element_exists(my_tuple, 6))  # Output: False\n",
    "   ```\n",
    "\n",
    "4. Write a Python program to count the occurrences of a specific element in a given tuple.\n",
    "   ```python\n",
    "   def count_occurrences(tuple, element):\n",
    "       return tuple.count(element)\n",
    "   \n",
    "   my_tuple = (1, 2, 3, 2, 4, 2)\n",
    "   print(count_occurrences(my_tuple, 2))  # Output: 3\n",
    "   ```\n",
    "\n",
    "5. Write a Python program to convert a tuple of strings into a single string.\n",
    "   ```python\n",
    "   def convert_to_string(tuple):\n",
    "       return ''.join(tuple)\n",
    "   \n",
    "   my_tuple = ('H', 'e', 'l', 'l', 'o')\n",
    "   result = convert_to_string(my_tuple)\n",
    "   print(result)  # Output: 'Hello'\n",
    "   ```\n",
    "\n",
    "These tasks will give you some hands-on practice with tuples in Python. Feel free to modify them or create your own tasks to further enhance your understanding of tuples."
   ]
  },
  {
   "cell_type": "markdown",
   "id": "0c372560",
   "metadata": {},
   "source": [
    "# Task Questions:\n",
    "some exercise questions related to Python tuples:\n",
    "\n",
    "1. Write a Python program to concatenate two tuples.\n",
    "2. Write a Python program to find the length of a tuple.\n",
    "3. Write a Python program to check if two tuples are equal.\n",
    "4. Write a Python program to find the maximum and minimum values in a tuple of numbers.\n",
    "5. Write a Python program to count the occurrences of an element in a tuple.\n",
    "6. Write a Python program to find the index of a specific element in a tuple.\n",
    "7. Write a Python program to convert a tuple into a list.\n",
    "8. Write a Python program to convert a list into a tuple.\n",
    "9. Write a Python program to remove an element from a tuple.\n",
    "10. Write a Python program to create a new tuple with elements from an existing tuple that are greater than a given value.\n",
    "\n",
    "These questions will help you practice different aspects of tuples, such as concatenation, length determination, equality checking, finding maximum/minimum values, counting occurrences, finding index, conversion between tuple and list, removing elements, and creating a new tuple based on a condition.\n",
    "\n",
    "Feel free to try solving these questions and let me know if you need any further assistance!"
   ]
  },
  {
   "cell_type": "markdown",
   "id": "c596b479",
   "metadata": {},
   "source": [
    "<!DOCTYPE html>\n",
    "<html>\n",
    "<head>\n",
    "</head>\n",
    "<body>\n",
    "<div style=\"background-color: #32a8a6; color: black; padding: 8px;text-align: center;\">\n",
    "    <h1>My Social Profiles</h1>\n",
    "    Note: To Follow And Any Query Feel Free To Contact\n",
    "       \n",
    "- <a href=\"https://www.linkedin.com/in/m-usman-akram-b29685251/\">My LinkedIn Profile</a>\n",
    "        \n",
    "- <a href=\"https://github.com/engrusman00109\">My GitHub Account</a>\n",
    "\n",
    "- <a href=\"https://www.facebook.com/profile.php?id=100055510195015\">My FaceBook Account</a>\n",
    "    \n",
    "- <a href=\"musman00109@gmail.com\">Click here to send an email</a>\n",
    "- <a href=\"@EngrUsman00109\">My Twiter Account </a>\n",
    "    \n",
    "</div>\n",
    "      \n",
    "</body>\n",
    "</html>\n"
   ]
  }
 ],
 "metadata": {
  "kernelspec": {
   "display_name": "Python 3 (ipykernel)",
   "language": "python",
   "name": "python3"
  },
  "language_info": {
   "codemirror_mode": {
    "name": "ipython",
    "version": 3
   },
   "file_extension": ".py",
   "mimetype": "text/x-python",
   "name": "python",
   "nbconvert_exporter": "python",
   "pygments_lexer": "ipython3",
   "version": "3.9.7"
  }
 },
 "nbformat": 4,
 "nbformat_minor": 5
}
