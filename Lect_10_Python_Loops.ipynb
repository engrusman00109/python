{
 "cells": [
  {
   "cell_type": "markdown",
   "id": "f85a84bf",
   "metadata": {},
   "source": [
    "<div style=\"background-color: rED; color: BLACK; padding: 8px;text-align: center;\">\n",
    "    <h2 > PYTHON LECTURE 10 </h2>\n",
    "    <h2> M.Usman Akram </h2>\n",
    "    \n",
    "</div>"
   ]
  },
  {
   "cell_type": "markdown",
   "id": "5d59c962",
   "metadata": {},
   "source": [
    "Loops are used in programming to execute a block of code repeatedly. They allow you to automate repetitive tasks and iterate over a collection of elements. In this response, I'll explain three types of loops commonly used in programming: for loops, while loops, and the concepts of break and continue statements.\n",
    "\n",
    "1. For Loops:\n",
    "A for loop is used when you know the number of times you want to repeat a block of code. It has the following syntax:\n",
    "\n",
    "```python\n",
    "for variable in iterable:\n",
    "    # code to be executed\n",
    "```\n",
    "\n",
    "Here's an example that prints the numbers from 1 to 5:\n",
    "\n",
    "```python\n",
    "for i in range(1, 6):\n",
    "    print(i)\n",
    "```\n",
    "\n",
    "Output:\n",
    "```\n",
    "1\n",
    "2\n",
    "3\n",
    "4\n",
    "5\n",
    "```\n",
    "\n",
    "In the above example, the `range(1, 6)` function generates a sequence of numbers from 1 to 5, and the loop iterates over this sequence, assigning each value to the variable `i`.\n",
    "\n",
    "2. While Loops:\n",
    "A while loop is used when you don't know the number of iterations in advance and want to repeat a block of code until a condition becomes false. Its syntax is as follows:\n",
    "\n",
    "```python\n",
    "while condition:\n",
    "    # code to be executed\n",
    "```\n",
    "\n",
    "Here's an example that prints the numbers from 1 to 5 using a while loop:\n",
    "\n",
    "```python\n",
    "i = 1\n",
    "while i <= 5:\n",
    "    print(i)\n",
    "    i += 1\n",
    "```\n",
    "\n",
    "Output:\n",
    "```\n",
    "1\n",
    "2\n",
    "3\n",
    "4\n",
    "5\n",
    "```\n",
    "\n",
    "In the above example, the loop continues executing the code inside it as long as the condition `i <= 5` is true. The `i += 1` statement increments the value of `i` by 1 in each iteration.\n",
    "\n",
    "3. Break and Continue Statements:\n",
    "Break and continue statements are used to control the flow of a loop.\n",
    "\n",
    "- Break Statement:\n",
    "The `break` statement is used to exit the loop prematurely, even if the loop condition is still true. It is commonly used to terminate a loop when a certain condition is met. Here's an example:\n",
    "\n",
    "```python\n",
    "for i in range(1, 11):\n",
    "    if i == 6:\n",
    "        break\n",
    "    print(i)\n",
    "```\n",
    "\n",
    "Output:\n",
    "```\n",
    "1\n",
    "2\n",
    "3\n",
    "4\n",
    "5\n",
    "```\n",
    "\n",
    "In this example, the loop is terminated when `i` equals 6 due to the `break` statement.\n",
    "\n",
    "- Continue Statement:\n",
    "The `continue` statement is used to skip the rest of the code inside a loop for the current iteration and move to the next iteration. It is commonly used to skip certain iterations based on a specific condition. Here's an example:\n",
    "\n",
    "```python\n",
    "for i in range(1, 6):\n",
    "    if i == 3:\n",
    "        continue\n",
    "    print(i)\n",
    "```\n",
    "\n",
    "Output:\n",
    "```\n",
    "1\n",
    "2\n",
    "4\n",
    "5\n",
    "```\n",
    "\n",
    "In this example, the `continue` statement is triggered when `i` equals 3, causing the loop to skip the `print(i)` statement for that iteration.\n",
    "\n",
    "These are the basics of for loops, while loops, and the concepts of break and continue statements in programming. They provide powerful tools for controlling the execution flow within loops."
   ]
  },
  {
   "cell_type": "markdown",
   "id": "9413c626",
   "metadata": {},
   "source": [
    "# Printing numbers from 1 to 5:"
   ]
  },
  {
   "cell_type": "code",
   "execution_count": 1,
   "id": "d0f24c8e",
   "metadata": {},
   "outputs": [
    {
     "name": "stdout",
     "output_type": "stream",
     "text": [
      "1\n",
      "2\n",
      "3\n",
      "4\n",
      "5\n"
     ]
    }
   ],
   "source": [
    "for i in range(1, 6):\n",
    "    print(i)\n"
   ]
  },
  {
   "cell_type": "markdown",
   "id": "c4d2c223",
   "metadata": {},
   "source": [
    "# Iterating over a list and printing each element:"
   ]
  },
  {
   "cell_type": "code",
   "execution_count": 2,
   "id": "09e67b3a",
   "metadata": {},
   "outputs": [
    {
     "name": "stdout",
     "output_type": "stream",
     "text": [
      "apple\n",
      "banana\n",
      "cherry\n",
      "date\n"
     ]
    }
   ],
   "source": [
    "fruits = ['apple', 'banana', 'cherry', 'date']\n",
    "\n",
    "for fruit in fruits:\n",
    "    print(fruit)\n"
   ]
  },
  {
   "cell_type": "markdown",
   "id": "9364dc40",
   "metadata": {},
   "source": [
    "# Summing up a list of numbers:"
   ]
  },
  {
   "cell_type": "code",
   "execution_count": 3,
   "id": "ed729a1f",
   "metadata": {},
   "outputs": [
    {
     "name": "stdout",
     "output_type": "stream",
     "text": [
      "Sum: 15\n"
     ]
    }
   ],
   "source": [
    "numbers = [1, 2, 3, 4, 5]\n",
    "sum = 0\n",
    "\n",
    "for num in numbers:\n",
    "    sum += num\n",
    "\n",
    "print(\"Sum:\", sum)\n"
   ]
  },
  {
   "cell_type": "markdown",
   "id": "6cbf4abe",
   "metadata": {},
   "source": [
    "# Iterating over a string and counting the occurrence of a specific character:"
   ]
  },
  {
   "cell_type": "code",
   "execution_count": 4,
   "id": "2b9ea863",
   "metadata": {},
   "outputs": [
    {
     "name": "stdout",
     "output_type": "stream",
     "text": [
      "Number of 'o' in the sentence: 2\n"
     ]
    }
   ],
   "source": [
    "sentence = \"Hello, world!\"\n",
    "count = 0\n",
    "\n",
    "for char in sentence:\n",
    "    if char == 'o':\n",
    "        count += 1\n",
    "\n",
    "print(\"Number of 'o' in the sentence:\", count)\n"
   ]
  },
  {
   "cell_type": "markdown",
   "id": "b68e0c5d",
   "metadata": {},
   "source": [
    "# Nested for loop to create a multiplication table:"
   ]
  },
  {
   "cell_type": "code",
   "execution_count": 5,
   "id": "947f9896",
   "metadata": {},
   "outputs": [
    {
     "name": "stdout",
     "output_type": "stream",
     "text": [
      "1\t2\t3\t4\t5\t\n",
      "2\t4\t6\t8\t10\t\n",
      "3\t6\t9\t12\t15\t\n",
      "4\t8\t12\t16\t20\t\n",
      "5\t10\t15\t20\t25\t\n"
     ]
    }
   ],
   "source": [
    "for i in range(1, 6):\n",
    "    for j in range(1, 6):\n",
    "        print(i * j, end='\\t')\n",
    "    print()\n"
   ]
  },
  {
   "cell_type": "markdown",
   "id": "005b4433",
   "metadata": {},
   "source": [
    "# While Loop\n",
    "\n",
    "The while loop is used to repeatedly execute a block of code as long as a given condition remains true. It is often used when the number of iterations is not known in advance and depends on a specific condition. The general syntax of a while loop in Python is as follows:\n",
    "\n",
    "python\n",
    "Copy code\n",
    "\n",
    "while condition:\n",
    "    # code to be executed\n",
    "Here's how a while loop works:\n",
    "\n",
    "The condition is evaluated first. If it is true, the code inside the loop is executed. If the condition is false, the loop is exited, and the program continues with the next statement after the loop.\n",
    "\n",
    "After executing the code block inside the loop, the condition is evaluated again. If it is still true, the code block is executed again. This process continues until the condition becomes false.\n",
    "\n",
    "It's important to ensure that the condition eventually becomes false to avoid an infinite loop. An infinite loop occurs when the condition never becomes false, and the loop keeps executing indefinitely."
   ]
  },
  {
   "cell_type": "code",
   "execution_count": 6,
   "id": "ef7d59f8",
   "metadata": {},
   "outputs": [
    {
     "name": "stdout",
     "output_type": "stream",
     "text": [
      "Count: 0\n",
      "Count: 1\n",
      "Count: 2\n",
      "Count: 3\n",
      "Count: 4\n"
     ]
    }
   ],
   "source": [
    "count = 0\n",
    "\n",
    "while count < 5:\n",
    "    print(\"Count:\", count)\n",
    "    count += 1\n"
   ]
  },
  {
   "cell_type": "markdown",
   "id": "f08a6a91",
   "metadata": {},
   "source": [
    "# Summing up numbers until a certain condition is met:"
   ]
  },
  {
   "cell_type": "code",
   "execution_count": 7,
   "id": "c28d9fea",
   "metadata": {},
   "outputs": [
    {
     "name": "stdout",
     "output_type": "stream",
     "text": [
      "Sum: 15\n"
     ]
    }
   ],
   "source": [
    "sum = 0\n",
    "num = 1\n",
    "\n",
    "while num <= 5:\n",
    "    sum += num\n",
    "    num += 1\n",
    "\n",
    "print(\"Sum:\", sum)\n"
   ]
  },
  {
   "cell_type": "markdown",
   "id": "990f68ee",
   "metadata": {},
   "source": [
    "# Taking user input until a specific value is entered:"
   ]
  },
  {
   "cell_type": "code",
   "execution_count": 8,
   "id": "0722faae",
   "metadata": {},
   "outputs": [
    {
     "name": "stdout",
     "output_type": "stream",
     "text": [
      "Enter the password:  \n",
      "Enter the password: secret\n",
      "Access granted!\n"
     ]
    }
   ],
   "source": [
    "password = \"\"\n",
    "\n",
    "while password != \"secret\":\n",
    "    password = input(\"Enter the password: \")\n",
    "\n",
    "print(\"Access granted!\")\n"
   ]
  },
  {
   "cell_type": "markdown",
   "id": "49612b3d",
   "metadata": {},
   "source": [
    "# Printing Fibonacci series up to a given number:"
   ]
  },
  {
   "cell_type": "code",
   "execution_count": 9,
   "id": "c0ec9855",
   "metadata": {},
   "outputs": [
    {
     "name": "stdout",
     "output_type": "stream",
     "text": [
      "0\n",
      "1\n",
      "1\n",
      "2\n",
      "3\n",
      "5\n",
      "8\n",
      "13\n",
      "21\n",
      "34\n"
     ]
    }
   ],
   "source": [
    "limit = 50\n",
    "a, b = 0, 1\n",
    "\n",
    "while a <= limit:\n",
    "    print(a)\n",
    "    a, b = b, a + b\n"
   ]
  },
  {
   "cell_type": "markdown",
   "id": "810b8cd4",
   "metadata": {},
   "source": [
    "# Break Statement:\n",
    "The break statement is used to exit the current loop prematurely. When the break statement is encountered, the program immediately exits the loop, and the execution continues with the next statement after the loop.\n",
    "Here's an example of using the break statement in a while loop to terminate the loop when a specific condition is met:"
   ]
  },
  {
   "cell_type": "code",
   "execution_count": 10,
   "id": "2d62935e",
   "metadata": {},
   "outputs": [
    {
     "name": "stdout",
     "output_type": "stream",
     "text": [
      "0\n",
      "1\n",
      "2\n",
      "3\n",
      "4\n"
     ]
    }
   ],
   "source": [
    "count = 0\n",
    "\n",
    "while True:\n",
    "    print(count)\n",
    "    count += 1\n",
    "\n",
    "    if count == 5:\n",
    "        break\n"
   ]
  },
  {
   "cell_type": "markdown",
   "id": "638bfbfc",
   "metadata": {},
   "source": [
    "In this example, the while True creates an infinite loop. However, the break statement is used to exit the loop when count becomes 5. Without the break statement, the loop would continue indefinitely"
   ]
  },
  {
   "cell_type": "markdown",
   "id": "7e7dc439",
   "metadata": {},
   "source": [
    "# Continue Statement:\n",
    "The continue statement is used to skip the remaining code within a loop for the current iteration and move to the next iteration. When the continue statement is encountered, the program jumps to the beginning of the loop and evaluates the loop condition again.\n",
    "Here's an example of using the continue statement in a for loop to skip printing even numbers:"
   ]
  },
  {
   "cell_type": "code",
   "execution_count": 11,
   "id": "a8e6b87d",
   "metadata": {},
   "outputs": [
    {
     "name": "stdout",
     "output_type": "stream",
     "text": [
      "1\n",
      "3\n",
      "5\n"
     ]
    }
   ],
   "source": [
    "for num in range(1, 6):\n",
    "    if num % 2 == 0:\n",
    "        continue\n",
    "    print(num)\n"
   ]
  },
  {
   "cell_type": "markdown",
   "id": "155a259a",
   "metadata": {},
   "source": [
    "In this example, when an even number is encountered (num % 2 == 0), the continue statement is executed, and the loop moves to the next iteration. As a result, even numbers are skipped, and only odd numbers are printed.\n",
    "\n",
    "The break and continue statements provide ways to modify the normal flow of loops. While the break statement terminates the loop entirely, the continue statement skips the remaining code within the loop for the current iteration. These statements offer control and flexibility in handling specific conditions within loops."
   ]
  },
  {
   "cell_type": "markdown",
   "id": "f88ebcd9",
   "metadata": {},
   "source": [
    "Task-Oriented questions that you can use to practice loops and flow control in Python:\n",
    "\n",
    "## 1. For Loops:\n",
    "   a. Write a program that prints the numbers from 1 to 10 using a for loop.\n",
    "   b. Create a for loop that iterates over a list of names and prints each name in uppercase.\n",
    "   c. Implement a for loop to calculate the sum of all even numbers between 1 and 100.\n",
    "\n",
    "## 2. While Loops:\n",
    "   a. Write a program that asks the user to enter a password and keeps asking until the correct password is entered.\n",
    "   b. Create a while loop that generates random numbers between 1 and 10 until it generates the number 7.\n",
    "   c. Implement a while loop to calculate the factorial of a given number entered by the user.\n",
    "\n",
    "## 3. Break and Continue:\n",
    "   a. Write a program that prompts the user to enter a series of numbers and stops when a negative number is entered.\n",
    "   b. Create a loop that iterates over a list of names and prints only the names starting with the letter 'A'.\n",
    "   c. Implement a loop that prints the numbers from 1 to 10 but skips the number 5 using the continue statement.\n",
    "\n",
    "These questions cover various scenarios where you can apply for loops, while loops, and the concepts of break and continue statements. They will help you practice different aspects of flow control in Python. Feel free to modify or expand upon these questions to suit your learning needs."
   ]
  },
  {
   "cell_type": "markdown",
   "id": "3d0aa829",
   "metadata": {},
   "source": [
    "<!DOCTYPE html>\n",
    "<html>\n",
    "<head>\n",
    "</head>\n",
    "<body>\n",
    "<div style=\"background-color: #32a8a6; color: black; padding: 8px;text-align: center;\">\n",
    "    <h1>My Social Profiles</h1>\n",
    "    Note: To Follow And Any Query Feel Free To Contact\n",
    "       \n",
    "- <a href=\"https://www.linkedin.com/in/m-usman-akram-b29685251/\">My LinkedIn Profile</a>\n",
    "        \n",
    "- <a href=\"https://github.com/engrusman00109\">My GitHub Account</a>\n",
    "\n",
    "- <a href=\"https://www.facebook.com/profile.php?id=100055510195015\">My FaceBook Account</a>\n",
    "    \n",
    "- <a href=\"musman00109@gmail.com\">Click here to send an email</a>\n",
    "- <a href=\"@EngrUsman00109\">My Twiter Account </a>\n",
    "    \n",
    "</div>\n",
    "      \n",
    "</body>\n",
    "</html>\n"
   ]
  }
 ],
 "metadata": {
  "kernelspec": {
   "display_name": "Python 3 (ipykernel)",
   "language": "python",
   "name": "python3"
  },
  "language_info": {
   "codemirror_mode": {
    "name": "ipython",
    "version": 3
   },
   "file_extension": ".py",
   "mimetype": "text/x-python",
   "name": "python",
   "nbconvert_exporter": "python",
   "pygments_lexer": "ipython3",
   "version": "3.9.7"
  }
 },
 "nbformat": 4,
 "nbformat_minor": 5
}
