{
 "cells": [
  {
   "cell_type": "markdown",
   "id": "d6030519",
   "metadata": {},
   "source": [
    "<div style=\"background-color: rED; color: BLACK; padding: 8px;text-align: center;\">\n",
    "    <h2 > PYTHON LECTURE 09 </h2>\n",
    "    <h2> M.Usman Akram </h2>\n",
    "    \n",
    "</div>"
   ]
  },
  {
   "cell_type": "markdown",
   "id": "d153917c",
   "metadata": {},
   "source": [
    "# Control Flow Statements\n",
    "In Python, control flow statements like if statements, if-else statements, and nested if-else statements are used to control the execution of code based on certain conditions. Let's explore them in more detail:\n",
    "\n",
    "## 1. If Statement:\n",
    "The if statement allows you to execute a block of code only if a specific condition is true. If the condition is false, the block of code is skipped.\n",
    "\n",
    "```python\n",
    "if condition:\n",
    "    # Code block to be executed if the condition is true\n",
    "```\n",
    "\n",
    "## 2. If-Else Statement:\n",
    "The if-else statement extends the if statement by providing an alternative code block to be executed when the condition is false.\n",
    "\n",
    "```python\n",
    "if condition:\n",
    "    # Code block to be executed if the condition is true\n",
    "else:\n",
    "    # Code block to be executed if the condition is false\n",
    "```\n",
    "\n",
    "## 3. Nested If-Else Statement:\n",
    "A nested if-else statement is used when you have multiple conditions to check. It allows you to have an if-else statement inside another if or else block.\n",
    "\n",
    "```python\n",
    "if condition1:\n",
    "    # Code block to be executed if condition1 is true\n",
    "    if condition2:\n",
    "        # Code block to be executed if both condition1 and condition2 are true\n",
    "    else:\n",
    "        # Code block to be executed if condition1 is true but condition2 is false\n",
    "else:\n",
    "    # Code block to be executed if condition1 is false\n",
    "```\n",
    "\n",
    "In a nested if-else statement, the inner if-else block is only evaluated if the outer if condition is true.\n",
    "\n",
    "These control flow statements enable you to write code that performs different actions based on specific conditions. By utilizing if statements, if-else statements, and nested if-else statements, you can implement decision-making logic and handle various scenarios in your Python programs.\n",
    "\n",
    "In addition to the basic if statements, if-else statements, and nested if-else statements, Python offers some other control flow constructs for conditionals. Here are a few examples:\n",
    "\n",
    "## 1. Elif Statement:\n",
    "The elif statement allows you to check multiple conditions sequentially. It is used in conjunction with if statements and can provide alternative blocks of code to execute based on different conditions.\n",
    "\n",
    "```python\n",
    "if condition1:\n",
    "    # Code block to be executed if condition1 is true\n",
    "elif condition2:\n",
    "    # Code block to be executed if condition1 is false and condition2 is true\n",
    "else:\n",
    "    # Code block to be executed if both condition1 and condition2 are false\n",
    "```\n",
    "\n",
    "## 2. Ternary Operator:\n",
    "The ternary operator provides a concise way to write if-else statements in a single line. It is useful when you want to assign a value based on a condition.\n",
    "\n",
    "```python\n",
    "variable = value_if_true if condition else value_if_false\n",
    "```\n",
    "\n",
    "## 3. Assert Statement:\n",
    "The assert statement is used to assert that a condition is true. It is commonly used for debugging purposes to check if assumptions about the code are valid. If the condition is false, it raises an AssertionError.\n",
    "\n",
    "```python\n",
    "assert condition, \"Error message\"\n",
    "```\n",
    "\n",
    "## 4. Switch-Case-like Behavior with Dictionaries:\n",
    "Python doesn't have a built-in switch statement, but you can achieve similar behavior using dictionaries. You can map different cases to corresponding functions or code blocks.\n",
    "\n",
    "```python\n",
    "def case1():\n",
    "    # Code block for case 1\n",
    "\n",
    "def case2():\n",
    "    # Code block for case 2\n",
    "\n",
    "def case3():\n",
    "    # Code block for case 3\n",
    "\n",
    "switch = {\n",
    "    'option1': case1,\n",
    "    'option2': case2,\n",
    "    'option3': case3\n",
    "}\n",
    "\n",
    "selected_option = 'option2'\n",
    "switch.get(selected_option, lambda: None)()\n",
    "```\n",
    "\n",
    "These additional control flow constructs provide flexibility and alternative ways to handle conditionals in Python, allowing you to write more expressive and concise code.\n",
    "\n",
    "\n",
    "Certainly! In addition to the control flow constructs mentioned earlier, Python provides a few more options for conditionals:\n",
    "\n",
    "## 1. While Loop:\n",
    "The while loop allows you to repeatedly execute a block of code as long as a certain condition is true.\n",
    "\n",
    "```python\n",
    "while condition:\n",
    "    # Code block to be executed while the condition is true\n",
    "```\n",
    "\n",
    "## 2. For Loop:\n",
    "The for loop is used to iterate over a sequence (such as a list, string, or range) and perform a block of code for each item in the sequence.\n",
    "\n",
    "```python\n",
    "for item in sequence:\n",
    "    # Code block to be executed for each item in the sequence\n",
    "```\n",
    "\n",
    "## 3. Break Statement:\n",
    "The break statement is used to exit a loop prematurely. It is often used in combination with conditional statements to terminate a loop based on certain conditions.\n",
    "\n",
    "```python\n",
    "while condition:\n",
    "    # Code block\n",
    "    if condition2:\n",
    "        break  # Exit the loop if condition2 is true\n",
    "```\n",
    "\n",
    "## 4. Continue Statement:\n",
    "The continue statement is used to skip the rest of the current iteration in a loop and continue to the next iteration. It is often used in combination with conditional statements to skip certain iterations based on specific conditions.\n",
    "\n",
    "```python\n",
    "for item in sequence:\n",
    "    if condition:\n",
    "        continue  # Skip the rest of the code in the current iteration and continue to the next iteration\n",
    "    # Code block to be executed for each item, excluding the skipped iterations\n",
    "```\n",
    "\n",
    "These additional control flow constructs, such as while loops, for loops, break statements, and continue statements, provide more flexibility and control over the flow of your code based on conditions and iterations."
   ]
  },
  {
   "cell_type": "markdown",
   "id": "420dc458",
   "metadata": {},
   "source": [
    "#  if statement"
   ]
  },
  {
   "cell_type": "markdown",
   "id": "bb69b293",
   "metadata": {},
   "source": [
    "Here are some important points to remember when working with if statements:\n",
    "\n",
    "Indentation:\n",
    "Python uses indentation to define blocks of code. The code block under the if statement should be indented by four spaces or a tab."
   ]
  },
  {
   "cell_type": "markdown",
   "id": "a4a3875e",
   "metadata": {},
   "source": [
    "# Simple If Statement:"
   ]
  },
  {
   "cell_type": "code",
   "execution_count": 1,
   "id": "2e5b6651",
   "metadata": {},
   "outputs": [
    {
     "name": "stdout",
     "output_type": "stream",
     "text": [
      "x is positive\n"
     ]
    }
   ],
   "source": [
    "x = 5\n",
    "if x > 0:\n",
    "    print(\"x is positive\")\n"
   ]
  },
  {
   "cell_type": "markdown",
   "id": "d6d89870",
   "metadata": {},
   "source": [
    "# If-Else Statement:"
   ]
  },
  {
   "cell_type": "code",
   "execution_count": 2,
   "id": "c01442ef",
   "metadata": {},
   "outputs": [
    {
     "name": "stdout",
     "output_type": "stream",
     "text": [
      "x is non-positive\n"
     ]
    }
   ],
   "source": [
    "x = -2\n",
    "if x > 0:\n",
    "    print(\"x is positive\")\n",
    "else:\n",
    "    print(\"x is non-positive\")\n"
   ]
  },
  {
   "cell_type": "markdown",
   "id": "7be101c5",
   "metadata": {},
   "source": [
    "# Nested If-Else Statement:"
   ]
  },
  {
   "cell_type": "code",
   "execution_count": 3,
   "id": "f505db53",
   "metadata": {},
   "outputs": [
    {
     "name": "stdout",
     "output_type": "stream",
     "text": [
      "x is positive and even\n"
     ]
    }
   ],
   "source": [
    "x = 10\n",
    "if x > 0:\n",
    "    if x % 2 == 0:\n",
    "        print(\"x is positive and even\")\n",
    "    else:\n",
    "        print(\"x is positive and odd\")\n",
    "else:\n",
    "    print(\"x is non-positive\")\n"
   ]
  },
  {
   "cell_type": "markdown",
   "id": "78cdfc76",
   "metadata": {},
   "source": [
    "# Elif Statement:"
   ]
  },
  {
   "cell_type": "code",
   "execution_count": 4,
   "id": "4064970c",
   "metadata": {},
   "outputs": [
    {
     "name": "stdout",
     "output_type": "stream",
     "text": [
      "x is greater than 5 but not greater than 10\n"
     ]
    }
   ],
   "source": [
    "x = 7\n",
    "if x > 10:\n",
    "    print(\"x is greater than 10\")\n",
    "elif x > 5:\n",
    "    print(\"x is greater than 5 but not greater than 10\")\n",
    "else:\n",
    "    print(\"x is less than or equal to 5\")\n"
   ]
  },
  {
   "cell_type": "markdown",
   "id": "39a7ad2e",
   "metadata": {},
   "source": [
    "# Single-Line If Statement:"
   ]
  },
  {
   "cell_type": "code",
   "execution_count": 5,
   "id": "24ff26b2",
   "metadata": {},
   "outputs": [
    {
     "name": "stdout",
     "output_type": "stream",
     "text": [
      "x is positive\n"
     ]
    }
   ],
   "source": [
    "x = 5\n",
    "if x > 0: print(\"x is positive\")\n"
   ]
  },
  {
   "cell_type": "markdown",
   "id": "c3c70371",
   "metadata": {},
   "source": [
    "# Nested If Statements:"
   ]
  },
  {
   "cell_type": "code",
   "execution_count": 6,
   "id": "643317d9",
   "metadata": {},
   "outputs": [
    {
     "name": "stdout",
     "output_type": "stream",
     "text": [
      "x is greater than or equal to 5\n"
     ]
    }
   ],
   "source": [
    "x = 10\n",
    "if x > 0:\n",
    "    if x < 5:\n",
    "        print(\"x is between 0 and 5\")\n",
    "    else:\n",
    "        print(\"x is greater than or equal to 5\")\n"
   ]
  },
  {
   "cell_type": "markdown",
   "id": "b343c516",
   "metadata": {},
   "source": [
    "These examples showcase how if statements in Python allow you to make decisions and execute specific blocks of code based on different conditions."
   ]
  },
  {
   "cell_type": "markdown",
   "id": "24b8bba2",
   "metadata": {},
   "source": [
    "# String Comparison:"
   ]
  },
  {
   "cell_type": "code",
   "execution_count": 7,
   "id": "52a32460",
   "metadata": {},
   "outputs": [
    {
     "name": "stdout",
     "output_type": "stream",
     "text": [
      "Hello, Alice!\n"
     ]
    }
   ],
   "source": [
    "name = \"Alice\"\n",
    "if name == \"Alice\":\n",
    "    print(\"Hello, Alice!\")\n",
    "else:\n",
    "    print(\"Hello, stranger!\")\n"
   ]
  },
  {
   "cell_type": "markdown",
   "id": "7518eb3a",
   "metadata": {},
   "source": [
    "# List Membership:"
   ]
  },
  {
   "cell_type": "code",
   "execution_count": 8,
   "id": "d809180e",
   "metadata": {},
   "outputs": [
    {
     "name": "stdout",
     "output_type": "stream",
     "text": [
      "3 is present in the list.\n"
     ]
    }
   ],
   "source": [
    "numbers = [1, 2, 3, 4, 5]\n",
    "if 3 in numbers:\n",
    "    print(\"3 is present in the list.\")\n",
    "else:\n",
    "    print(\"3 is not present in the list.\")\n"
   ]
  },
  {
   "cell_type": "markdown",
   "id": "da5a5f37",
   "metadata": {},
   "source": [
    "# String Length:"
   ]
  },
  {
   "cell_type": "code",
   "execution_count": 9,
   "id": "933c833c",
   "metadata": {},
   "outputs": [
    {
     "name": "stdout",
     "output_type": "stream",
     "text": [
      "The text is long.\n"
     ]
    }
   ],
   "source": [
    "text = \"Hello, world!\"\n",
    "if len(text) > 10:\n",
    "    print(\"The text is long.\")\n",
    "else:\n",
    "    print(\"The text is short.\")\n"
   ]
  },
  {
   "cell_type": "markdown",
   "id": "56bf7447",
   "metadata": {},
   "source": [
    "# Checking for None:"
   ]
  },
  {
   "cell_type": "code",
   "execution_count": 10,
   "id": "67c1ea04",
   "metadata": {},
   "outputs": [
    {
     "name": "stdout",
     "output_type": "stream",
     "text": [
      "The value is None.\n"
     ]
    }
   ],
   "source": [
    "value = None\n",
    "if value is None:\n",
    "    print(\"The value is None.\")\n",
    "else:\n",
    "    print(\"The value is not None.\")\n"
   ]
  },
  {
   "cell_type": "markdown",
   "id": "ac977216",
   "metadata": {},
   "source": [
    "# Number Range:"
   ]
  },
  {
   "cell_type": "code",
   "execution_count": 11,
   "id": "75f5fed0",
   "metadata": {},
   "outputs": [
    {
     "name": "stdout",
     "output_type": "stream",
     "text": [
      "The number is outside the range of 10 to 20.\n"
     ]
    }
   ],
   "source": [
    "x = 25\n",
    "if 10 <= x <= 20:\n",
    "    print(\"The number is in the range of 10 to 20.\")\n",
    "else:\n",
    "    print(\"The number is outside the range of 10 to 20.\")\n"
   ]
  },
  {
   "cell_type": "markdown",
   "id": "96094323",
   "metadata": {},
   "source": [
    "# Checking for Empty List:"
   ]
  },
  {
   "cell_type": "code",
   "execution_count": 12,
   "id": "83767929",
   "metadata": {},
   "outputs": [
    {
     "name": "stdout",
     "output_type": "stream",
     "text": [
      "The list is empty.\n"
     ]
    }
   ],
   "source": [
    "my_list = []\n",
    "if not my_list:\n",
    "    print(\"The list is empty.\")\n",
    "else:\n",
    "    print(\"The list is not empty.\")\n"
   ]
  },
  {
   "cell_type": "markdown",
   "id": "8b7d328b",
   "metadata": {},
   "source": [
    "# Checking Even or Odd:"
   ]
  },
  {
   "cell_type": "code",
   "execution_count": 13,
   "id": "da3123da",
   "metadata": {},
   "outputs": [
    {
     "name": "stdout",
     "output_type": "stream",
     "text": [
      "The number is odd.\n"
     ]
    }
   ],
   "source": [
    "number = 7\n",
    "if number % 2 == 0:\n",
    "    print(\"The number is even.\")\n",
    "else:\n",
    "    print(\"The number is odd.\")\n"
   ]
  },
  {
   "cell_type": "markdown",
   "id": "701708c8",
   "metadata": {},
   "source": [
    "# User Input Validation:"
   ]
  },
  {
   "cell_type": "code",
   "execution_count": 14,
   "id": "886a3a40",
   "metadata": {},
   "outputs": [
    {
     "name": "stdout",
     "output_type": "stream",
     "text": [
      "Enter your age: 22\n",
      "You are eligible to vote.\n"
     ]
    }
   ],
   "source": [
    "age = int(input(\"Enter your age: \"))\n",
    "if age >= 18:\n",
    "    print(\"You are eligible to vote.\")\n",
    "else:\n",
    "    print(\"You are not eligible to vote.\")\n"
   ]
  },
  {
   "cell_type": "markdown",
   "id": "0c455128",
   "metadata": {},
   "source": [
    "# Checking Leap Year:"
   ]
  },
  {
   "cell_type": "code",
   "execution_count": 15,
   "id": "1a5f28a8",
   "metadata": {},
   "outputs": [
    {
     "name": "stdout",
     "output_type": "stream",
     "text": [
      "The year is a leap year.\n"
     ]
    }
   ],
   "source": [
    "year = 2024\n",
    "if (year % 4 == 0 and year % 100 != 0) or (year % 400 == 0):\n",
    "    print(\"The year is a leap year.\")\n",
    "else:\n",
    "    print(\"The year is not a leap year.\")\n"
   ]
  },
  {
   "cell_type": "markdown",
   "id": "866e989c",
   "metadata": {},
   "source": [
    "# Grade Calculation:"
   ]
  },
  {
   "cell_type": "code",
   "execution_count": 16,
   "id": "871a3de3",
   "metadata": {},
   "outputs": [
    {
     "name": "stdout",
     "output_type": "stream",
     "text": [
      "Your grade is: B\n"
     ]
    }
   ],
   "source": [
    "marks = 85\n",
    "if marks >= 90:\n",
    "    grade = \"A\"\n",
    "elif marks >= 80:\n",
    "    grade = \"B\"\n",
    "elif marks >= 70:\n",
    "    grade = \"C\"\n",
    "elif marks >= 60:\n",
    "    grade = \"D\"\n",
    "else:\n",
    "    grade = \"F\"\n",
    "print(\"Your grade is:\", grade)\n"
   ]
  },
  {
   "cell_type": "markdown",
   "id": "21062a6b",
   "metadata": {},
   "source": [
    "# Temperature Conversion:"
   ]
  },
  {
   "cell_type": "code",
   "execution_count": 17,
   "id": "bc91b516",
   "metadata": {},
   "outputs": [
    {
     "name": "stdout",
     "output_type": "stream",
     "text": [
      "It's a hot day.\n"
     ]
    }
   ],
   "source": [
    "temperature = 75\n",
    "if temperature >= 30:\n",
    "    print(\"It's a hot day.\")\n",
    "elif temperature <= 10:\n",
    "    print(\"It's a cold day.\")\n",
    "else:\n",
    "    print(\"It's a moderate day.\")\n"
   ]
  },
  {
   "cell_type": "markdown",
   "id": "d4cf1561",
   "metadata": {},
   "source": [
    "# ternary operator\n",
    "The ternary operator, also known as the conditional expression, provides a concise way to write if-else statements in a single line of code. It allows you to assign a value to a variable based on a condition. The syntax of the ternary operator is as follows:\n",
    "\n",
    "python\n",
    "Copy code\n",
    "- variable = value_if_true if condition else value_if_false\n",
    "Here's a breakdown of the components:\n",
    "\n",
    "- variable: The variable to which the value will be assigned.\n",
    "- condition: The condition to evaluate. If it's true, value_if_true will be assigned; otherwise, value_if_false will be assigned.\n",
    "- value_if_true: The value to assign if the condition is true.\n",
    "- value_if_false: The value to assign if the condition is false.\n",
    "\n",
    "- The ternary operator is useful when you want to assign a value to a variable based on a condition without writing a full if-else statement. It helps in writing more compact and readable code.\n",
    "\n",
    "Here's an example to illustrate the usage of the ternary operator:"
   ]
  },
  {
   "cell_type": "code",
   "execution_count": 18,
   "id": "088c7b24",
   "metadata": {},
   "outputs": [
    {
     "name": "stdout",
     "output_type": "stream",
     "text": [
      "Even number\n"
     ]
    }
   ],
   "source": [
    "x = 10\n",
    "message = \"Even number\" if x % 2 == 0 else \"Odd number\"\n",
    "print(message)\n"
   ]
  },
  {
   "cell_type": "markdown",
   "id": "138d40df",
   "metadata": {},
   "source": [
    "In this example, the ternary operator is used to assign the value \"Even number\" to the variable message if the condition x % 2 == 0 is true. Otherwise, the value \"Odd number\" is assigned. The result is then printed to the console.\n",
    "\n",
    "The ternary operator is a powerful tool for simplifying if-else statements and making your code more concise and readable. However, it's important to use it judiciously to maintain code clarity and avoid excessive complexity."
   ]
  },
  {
   "cell_type": "markdown",
   "id": "78206432",
   "metadata": {},
   "source": [
    "# Maximum of Two Numbers:"
   ]
  },
  {
   "cell_type": "code",
   "execution_count": 19,
   "id": "5b25a781",
   "metadata": {},
   "outputs": [
    {
     "name": "stdout",
     "output_type": "stream",
     "text": [
      "The maximum number is: 15\n"
     ]
    }
   ],
   "source": [
    "a = 10\n",
    "b = 15\n",
    "maximum = a if a > b else b\n",
    "print(\"The maximum number is:\", maximum)\n"
   ]
  },
  {
   "cell_type": "markdown",
   "id": "2a0b78c8",
   "metadata": {},
   "source": [
    "# Grade Calculation with Ternary Operator:"
   ]
  },
  {
   "cell_type": "code",
   "execution_count": 20,
   "id": "10a3743d",
   "metadata": {},
   "outputs": [
    {
     "name": "stdout",
     "output_type": "stream",
     "text": [
      "Your grade is: B\n"
     ]
    }
   ],
   "source": [
    "marks = 85\n",
    "grade = \"A\" if marks >= 90 else \"B\" if marks >= 80 else \"C\" if marks >= 70 else \"D\" if marks >= 60 else \"F\"\n",
    "print(\"Your grade is:\", grade)\n"
   ]
  },
  {
   "cell_type": "markdown",
   "id": "025b7c1a",
   "metadata": {},
   "source": [
    "# Absolute Value:"
   ]
  },
  {
   "cell_type": "code",
   "execution_count": 21,
   "id": "9bd2ef4c",
   "metadata": {},
   "outputs": [
    {
     "name": "stdout",
     "output_type": "stream",
     "text": [
      "The absolute value is: 5\n"
     ]
    }
   ],
   "source": [
    "x = -5\n",
    "absolute_value = x if x >= 0 else -x\n",
    "print(\"The absolute value is:\", absolute_value)\n"
   ]
  },
  {
   "cell_type": "markdown",
   "id": "faa0df99",
   "metadata": {},
   "source": [
    "# User Access Level:"
   ]
  },
  {
   "cell_type": "code",
   "execution_count": 22,
   "id": "9bc8f1b2",
   "metadata": {},
   "outputs": [
    {
     "name": "stdout",
     "output_type": "stream",
     "text": [
      "Access level: Admin\n"
     ]
    }
   ],
   "source": [
    "is_admin = True\n",
    "access_level = \"Admin\" if is_admin else \"User\"\n",
    "print(\"Access level:\", access_level)\n"
   ]
  },
  {
   "cell_type": "markdown",
   "id": "fd5262f5",
   "metadata": {},
   "source": [
    "# assert statement"
   ]
  },
  {
   "cell_type": "markdown",
   "id": "9e399f8f",
   "metadata": {},
   "source": [
    "The assert statement in Python is used to check whether a given condition is true. It is mainly used for debugging and testing purposes. If the condition specified in the assert statement evaluates to false, an AssertionError is raised, indicating that something unexpected has occurred.\n",
    "\n",
    "The syntax of the assert statement is as follows:\n",
    "\n",
    "python\n",
    "Copy code\n",
    "assert condition, message\n",
    "Here's a breakdown of the components:\n",
    "\n",
    "- condition: The expression or condition that you want to check. If the condition is false, an AssertionError is raised.\n",
    "message (optional): An optional message that you can include to provide additional information about the assertion. It is displayed along with the AssertionError if the condition is false.\n",
    "- When an assert statement is encountered, the condition is evaluated. If the condition is true, the program continues execution normally. However, if the condition is false, an AssertionError is raised, and the program terminates (unless the AssertionError is caught and handled).\n",
    "\n",
    "- The assert statement is commonly used to verify assumptions about the state of the program during development and testing. It helps in catching logical errors and debugging the code by identifying unexpected conditions.\n",
    "\n",
    "Here's an example to illustrate the usage of the assert statement:"
   ]
  },
  {
   "cell_type": "code",
   "execution_count": 23,
   "id": "a1b89e74",
   "metadata": {},
   "outputs": [
    {
     "name": "stdout",
     "output_type": "stream",
     "text": [
      "Result: 2.0\n"
     ]
    }
   ],
   "source": [
    "def divide(a, b):\n",
    "    assert b != 0, \"Cannot divide by zero.\"\n",
    "    return a / b\n",
    "\n",
    "result = divide(10, 5)\n",
    "print(\"Result:\", result)\n",
    "\n",
    "#result = divide(10, 0)\n",
    "#print(\"Result:\", result)\n"
   ]
  },
  {
   "cell_type": "markdown",
   "id": "351b798e",
   "metadata": {},
   "source": [
    "In this example, the assert statement is used to check whether the divisor (b) is not equal to zero before performing the division operation. If the condition b != 0 is false, an AssertionError is raised with the provided message \"Cannot divide by zero.\"\n",
    "\n",
    "The first division operation (divide(10, 5)) is successful because the condition is true, and the result is printed. However, the second division operation (divide(10, 0)) triggers the assert statement and raises an AssertionError with the corresponding message.\n",
    "\n",
    "The assert statement is a useful tool for validating assumptions and ensuring that your code behaves as expected. It helps in catching errors early and providing useful information for debugging and troubleshooting."
   ]
  },
  {
   "cell_type": "markdown",
   "id": "dd953016",
   "metadata": {},
   "source": [
    "<!DOCTYPE html>\n",
    "<html>\n",
    "<head>\n",
    "</head>\n",
    "<body>\n",
    "<div style=\"background-color: #32a8a6; color: black; padding: 8px;text-align: center;\">\n",
    "    <h1>My Social Profiles</h1>\n",
    "    Note: To Follow And Any Query Feel Free To Contact\n",
    "       \n",
    "- <a href=\"https://www.linkedin.com/in/m-usman-akram-b29685251/\">My LinkedIn Profile</a>\n",
    "        \n",
    "- <a href=\"https://github.com/engrusman00109\">My GitHub Account</a>\n",
    "\n",
    "- <a href=\"https://www.facebook.com/profile.php?id=100055510195015\">My FaceBook Account</a>\n",
    "    \n",
    "- <a href=\"musman00109@gmail.com\">Click here to send an email</a>\n",
    "- <a href=\"@EngrUsman00109\">My Twiter Account </a>\n",
    "    \n",
    "</div>\n",
    "      \n",
    "</body>\n",
    "</html>\n"
   ]
  }
 ],
 "metadata": {
  "kernelspec": {
   "display_name": "Python 3 (ipykernel)",
   "language": "python",
   "name": "python3"
  },
  "language_info": {
   "codemirror_mode": {
    "name": "ipython",
    "version": 3
   },
   "file_extension": ".py",
   "mimetype": "text/x-python",
   "name": "python",
   "nbconvert_exporter": "python",
   "pygments_lexer": "ipython3",
   "version": "3.9.7"
  }
 },
 "nbformat": 4,
 "nbformat_minor": 5
}
