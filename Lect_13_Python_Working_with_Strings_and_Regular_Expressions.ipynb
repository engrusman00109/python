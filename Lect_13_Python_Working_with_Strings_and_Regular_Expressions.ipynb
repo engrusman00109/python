{
 "cells": [
  {
   "cell_type": "markdown",
   "id": "83f079d8",
   "metadata": {},
   "source": [
    "<div style=\"background-color: rED; color: BLACK; padding: 8px;text-align: center;\">\n",
    "    <h2 > PYTHON LECTURE 13 </h2>\n",
    "    <h2> M.Usman Akram </h2>\n",
    "    \n",
    "</div>"
   ]
  },
  {
   "cell_type": "markdown",
   "id": "0e83ee9c",
   "metadata": {},
   "source": [
    "Working with strings and regular expressions in Python can be quite useful for tasks such as text processing, data extraction, and pattern matching. Python provides a rich set of built-in string manipulation functions and a powerful regular expression module called `re`. Let's explore some common operations and techniques.\n",
    "\n",
    "1. Basic String Operations:\n",
    "   - Concatenation: You can concatenate strings using the `+` operator.\n",
    "   - Length: Use the `len()` function to get the length of a string.\n",
    "   - Accessing Characters: Strings are indexed, so you can access individual characters using square brackets (`[]`). Python uses zero-based indexing.\n",
    "   - Slicing: You can extract substrings using the slicing operator `[:]`. For example, `my_string[1:5]` returns a substring from index 1 to 4.\n",
    "   - String Methods: Python provides several built-in methods for string manipulation, such as `upper()`, `lower()`, `strip()`, `split()`, `replace()`, and more.\n",
    "\n",
    "2. Regular Expressions with `re` module:\n",
    "   - Importing the module: Begin by importing the `re` module with `import re`.\n",
    "   - Matching Patterns: Use the `re.match()` function to check if a pattern matches at the beginning of a string, or `re.search()` to find a pattern anywhere in the string.\n",
    "   - Pattern Compilation: For complex patterns, it's efficient to compile the regular expression pattern using `re.compile()`, which returns a regular expression object.\n",
    "   - Pattern Matching: Once a pattern is compiled or using `re.match()` or `re.search()`, you can access the matched parts using the returned match object's methods like `group()`, `start()`, and `end()`.\n",
    "   - Pattern Substitution: You can replace matched patterns using `re.sub()` or `re.subn()`, providing the replacement string and the original string.\n",
    "\n",
    "Here's an example that combines some of these concepts:\n",
    "\n",
    "```python\n",
    "import re\n",
    "\n",
    "# Basic String Operations\n",
    "my_string = \"Hello, World!\"\n",
    "print(len(my_string))  # Output: 13\n",
    "print(my_string[0])  # Output: H\n",
    "print(my_string[7:])  # Output: World!\n",
    "\n",
    "# String Methods\n",
    "print(my_string.upper())  # Output: HELLO, WORLD!\n",
    "print(my_string.lower())  # Output: hello, world!\n",
    "print(my_string.strip())  # Output: Hello, World!\n",
    "\n",
    "# Regular Expressions\n",
    "pattern = r\"\\b\\w+@\\w+\\.\\w+\\b\"  # Pattern to match email addresses\n",
    "\n",
    "text = \"Contact us at info@example.com or support@example.org.\"\n",
    "match = re.search(pattern, text)\n",
    "if match:\n",
    "    print(\"Found:\", match.group())  # Output: Found: info@example.com\n",
    "else:\n",
    "    print(\"No match found.\")\n",
    "\n",
    "new_text = re.sub(pattern, \"REDACTED\", text)\n",
    "print(new_text)  # Output: Contact us at REDACTED or REDACTED.\n",
    "\n",
    "```\n",
    "\n",
    "This example demonstrates some common operations, such as string length, accessing characters, string methods, regular expression pattern matching using `re.search()`, and substitution using `re.sub()`.\n",
    "\n",
    "Regular expressions provide a powerful way to work with text patterns, and the `re` module offers a variety of functions to handle different scenarios. Be sure to consult the official Python documentation for more details on string manipulation and regular expressions: https://docs.python.org/3/library/re.html"
   ]
  },
  {
   "cell_type": "markdown",
   "id": "25832982",
   "metadata": {},
   "source": [
    "# Matching a Specific Pattern:"
   ]
  },
  {
   "cell_type": "code",
   "execution_count": 1,
   "id": "d79429e7",
   "metadata": {},
   "outputs": [
    {
     "name": "stdout",
     "output_type": "stream",
     "text": [
      "Match found!\n"
     ]
    }
   ],
   "source": [
    "import re\n",
    "\n",
    "# Check if a string starts with \"Hello\"\n",
    "pattern = r\"^Hello\"\n",
    "text = \"Hello, World!\"\n",
    "match = re.match(pattern, text)\n",
    "if match:\n",
    "    print(\"Match found!\")\n"
   ]
  },
  {
   "cell_type": "markdown",
   "id": "daa45dd1",
   "metadata": {},
   "source": [
    "# Matching Multiple Patterns:"
   ]
  },
  {
   "cell_type": "code",
   "execution_count": 2,
   "id": "945970f1",
   "metadata": {},
   "outputs": [
    {
     "name": "stdout",
     "output_type": "stream",
     "text": [
      "['cat', 'dog']\n"
     ]
    }
   ],
   "source": [
    "import re\n",
    "\n",
    "# Check if a string contains either \"cat\" or \"dog\"\n",
    "pattern = r\"cat|dog\"\n",
    "text = \"I have a cat and a dog.\"\n",
    "matches = re.findall(pattern, text)\n",
    "print(matches)  # Output: ['cat', 'dog']\n"
   ]
  },
  {
   "cell_type": "markdown",
   "id": "604d1e4a",
   "metadata": {},
   "source": [
    "# Extracting Substrings:"
   ]
  },
  {
   "cell_type": "code",
   "execution_count": 3,
   "id": "64a8e818",
   "metadata": {},
   "outputs": [
    {
     "name": "stdout",
     "output_type": "stream",
     "text": [
      "['Hello', 'World', 'How', 'are', 'you']\n"
     ]
    }
   ],
   "source": [
    "import re\n",
    "\n",
    "# Extract all the words from a string\n",
    "pattern = r\"\\b\\w+\\b\"\n",
    "text = \"Hello, World! How are you?\"\n",
    "matches = re.findall(pattern, text)\n",
    "print(matches)  # Output: ['Hello', 'World', 'How', 'are', 'you']\n"
   ]
  },
  {
   "cell_type": "markdown",
   "id": "694743e6",
   "metadata": {},
   "source": [
    "# Splitting a String based on a Pattern:"
   ]
  },
  {
   "cell_type": "code",
   "execution_count": 4,
   "id": "ca7bfdb5",
   "metadata": {},
   "outputs": [
    {
     "name": "stdout",
     "output_type": "stream",
     "text": [
      "['apple', 'banana', '', '', 'orange', 'cherry']\n"
     ]
    }
   ],
   "source": [
    "import re\n",
    "\n",
    "# Split a string using multiple delimiters: comma, space, and dash\n",
    "pattern = r\"[, -]\"\n",
    "text = \"apple,banana - orange cherry\"\n",
    "split_result = re.split(pattern, text)\n",
    "print(split_result)  # Output: ['apple', 'banana', '', 'orange', 'cherry']\n"
   ]
  },
  {
   "cell_type": "markdown",
   "id": "0150f89b",
   "metadata": {},
   "source": [
    "# Substituting Patterns:"
   ]
  },
  {
   "cell_type": "code",
   "execution_count": 5,
   "id": "9c92b91a",
   "metadata": {},
   "outputs": [
    {
     "name": "stdout",
     "output_type": "stream",
     "text": [
      "The sky is red, the ocean is red.\n"
     ]
    }
   ],
   "source": [
    "import re\n",
    "\n",
    "# Replace all occurrences of \"blue\" with \"red\"\n",
    "pattern = r\"blue\"\n",
    "text = \"The sky is blue, the ocean is blue.\"\n",
    "new_text = re.sub(pattern, \"red\", text)\n",
    "print(new_text)  # Output: The sky is red, the ocean is red.\n"
   ]
  },
  {
   "cell_type": "markdown",
   "id": "0b8fa6ab",
   "metadata": {},
   "source": [
    "# Validation and Extraction:"
   ]
  },
  {
   "cell_type": "code",
   "execution_count": 6,
   "id": "8672a4e7",
   "metadata": {},
   "outputs": [
    {
     "name": "stdout",
     "output_type": "stream",
     "text": [
      "Valid email address!\n"
     ]
    }
   ],
   "source": [
    "import re\n",
    "\n",
    "# Validate an email address\n",
    "pattern = r\"\\b[A-Za-z0-9._%+-]+@[A-Za-z0-9.-]+\\.[A-Z|a-z]{2,}\\b\"\n",
    "email = \"example@example.com\"\n",
    "if re.match(pattern, email):\n",
    "    print(\"Valid email address!\")\n"
   ]
  },
  {
   "cell_type": "markdown",
   "id": "0f52573a",
   "metadata": {},
   "source": [
    "The `re` module in Python provides a powerful and efficient way to work with regular expressions. Regular expressions (regex) are patterns used to match and manipulate text. They are widely used for tasks such as text processing, data validation, data extraction, and pattern matching.\n",
    "\n",
    "Here are some reasons why we use the `re` module in Python:\n",
    "\n",
    "## 1. Pattern Matching:\n",
    "Regular expressions allow you to define patterns and search for matches within strings. The `re` module provides functions like `re.search()` and `re.match()` to find matches based on the specified pattern. This is useful for tasks such as searching for specific words, validating input formats, or extracting specific information from text.\n",
    "\n",
    "## 2. Text Manipulation:\n",
    "Regular expressions enable you to perform text manipulation operations, such as replacing matched patterns or splitting strings based on a pattern. The `re.sub()` and `re.split()` functions in the `re` module facilitate these operations, providing a convenient way to modify or extract information from text.\n",
    "\n",
    "\n",
    "## 3. Flexible Patterns: \n",
    "Regular expressions offer a flexible syntax to define complex patterns. You can use metacharacters, character classes, quantifiers, and anchors to create patterns that match specific text patterns or follow certain rules. This allows for precise matching and extraction of information from text, making regular expressions a powerful tool for data processing.\n",
    "\n",
    "\n",
    "## 4. Efficiency: \n",
    "The `re` module is implemented in C, making it efficient and optimized for performance. It provides compiled regular expression objects, which can be reused for multiple matching operations, improving efficiency when working with large volumes of text.\n",
    "\n",
    "## 5. Wide Adoption: Regular expressions are widely used across different programming languages and tools. Learning how to work with regular expressions in Python using the `re` module gives you transferable skills that can be applied in various contexts and platforms.\n",
    "\n",
    "Regular expressions are a versatile tool for working with strings and text patterns. They provide a concise and powerful way to perform complex operations on textual data. However, regular expressions can be intricate and require careful attention to detail when creating patterns. It's important to consult the Python documentation and practice to become proficient in using regular expressions effectively."
   ]
  },
  {
   "cell_type": "markdown",
   "id": "b26a5819",
   "metadata": {},
   "source": [
    "<!DOCTYPE html>\n",
    "<html>\n",
    "<head>\n",
    "</head>\n",
    "<body>\n",
    "<div style=\"background-color: #32a8a6; color: black; padding: 8px;text-align: center;\">\n",
    "    <h1>My Social Profiles</h1>\n",
    "    Note: To Follow And Any Query Feel Free To Contact\n",
    "       \n",
    "- <a href=\"https://www.linkedin.com/in/m-usman-akram-b29685251/\">My LinkedIn Profile</a>\n",
    "        \n",
    "- <a href=\"https://github.com/engrusman00109\">My GitHub Account</a>\n",
    "\n",
    "- <a href=\"https://www.facebook.com/profile.php?id=100055510195015\">My FaceBook Account</a>\n",
    "    \n",
    "- <a href=\"musman00109@gmail.com\">Click here to send an email</a>\n",
    "- <a href=\"@EngrUsman00109\">My Twiter Account </a>\n",
    "    \n",
    "</div>\n",
    "      \n",
    "</body>\n",
    "</html>\n"
   ]
  }
 ],
 "metadata": {
  "kernelspec": {
   "display_name": "Python 3 (ipykernel)",
   "language": "python",
   "name": "python3"
  },
  "language_info": {
   "codemirror_mode": {
    "name": "ipython",
    "version": 3
   },
   "file_extension": ".py",
   "mimetype": "text/x-python",
   "name": "python",
   "nbconvert_exporter": "python",
   "pygments_lexer": "ipython3",
   "version": "3.9.7"
  }
 },
 "nbformat": 4,
 "nbformat_minor": 5
}
