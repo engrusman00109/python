{
 "cells": [
  {
   "cell_type": "markdown",
   "id": "45af7c22",
   "metadata": {},
   "source": [
    "<div style=\"background-color: rED; color: BLACK; padding: 8px;text-align: center;\">\n",
    "    <h2 > PYTHON LECTURE 05 </h2>\n",
    "    <h2> M.Usman Akram </h2>\n",
    "    \n",
    "</div>"
   ]
  },
  {
   "cell_type": "markdown",
   "id": "8023e5aa",
   "metadata": {},
   "source": [
    "# Python List"
   ]
  },
  {
   "cell_type": "markdown",
   "id": "e483fe28",
   "metadata": {},
   "source": [
    "A Python list is a built-in data structure that allows you to store and organize a collection of items. It is a mutable, ordered sequence of elements, which means you can add, remove, and modify its contents. Lists are created by enclosing comma-separated values within square brackets ([]). Here's an example of creating a list:\n",
    "\n",
    "```python\n",
    "my_list = [1, 2, 3, 4, 5]\n",
    "```\n",
    "\n",
    "In this example, `my_list` is a list that contains the numbers 1, 2, 3, 4, and 5. Lists can hold elements of different data types, such as integers, floats, strings, or even other lists. Here's an example of a list with mixed data types:\n",
    "\n",
    "```python\n",
    "mixed_list = [1, \"apple\", 3.14, True]\n",
    "```\n",
    "\n",
    "Lists are zero-indexed, which means you can access individual elements by their index. The first element has an index of 0, the second element has an index of 1, and so on. You can access list elements using square brackets and the index of the element you want. Here's an example:\n",
    "\n",
    "```python\n",
    "my_list = [1, 2, 3, 4, 5]\n",
    "print(my_list[0])  # Output: 1\n",
    "print(my_list[2])  # Output: 3\n",
    "```\n",
    "\n",
    "Lists also support negative indexing, where -1 refers to the last element, -2 refers to the second-to-last element, and so on. Here's an example:\n",
    "\n",
    "```python\n",
    "my_list = [1, 2, 3, 4, 5]\n",
    "print(my_list[-1])  # Output: 5\n",
    "print(my_list[-3])  # Output: 3\n",
    "```\n",
    "\n",
    "You can perform various operations on lists, such as appending or removing elements, slicing, sorting, and more. Python provides a rich set of list methods and built-in functions to work with lists efficiently."
   ]
  },
  {
   "cell_type": "markdown",
   "id": "51cfd8d7",
   "metadata": {},
   "source": [
    "## append(): Adds an element to the end of the list."
   ]
  },
  {
   "cell_type": "code",
   "execution_count": 1,
   "id": "1e018baa",
   "metadata": {},
   "outputs": [
    {
     "name": "stdout",
     "output_type": "stream",
     "text": [
      "['apple', 'banana', 'cherry', 'orange']\n"
     ]
    }
   ],
   "source": [
    "fruits = ['apple', 'banana', 'cherry']\n",
    "fruits.append('orange')\n",
    "print(fruits)  # Output: ['apple', 'banana', 'cherry', 'orange']"
   ]
  },
  {
   "cell_type": "markdown",
   "id": "a5d4123d",
   "metadata": {},
   "source": [
    "Explanation: The append() method modifies the list in-place by adding the specified element at the end."
   ]
  },
  {
   "cell_type": "markdown",
   "id": "c18e0e85",
   "metadata": {},
   "source": [
    "### insert(): Inserts an element at a specific index in the list."
   ]
  },
  {
   "cell_type": "code",
   "execution_count": 2,
   "id": "d371f0b7",
   "metadata": {},
   "outputs": [
    {
     "name": "stdout",
     "output_type": "stream",
     "text": [
      "['apple', 'orange', 'banana', 'cherry']\n"
     ]
    }
   ],
   "source": [
    "fruits = ['apple', 'banana', 'cherry']\n",
    "fruits.insert(1, 'orange')\n",
    "print(fruits)  # Output: ['apple', 'orange', 'banana', 'cherry']"
   ]
  },
  {
   "cell_type": "markdown",
   "id": "d2b3881f",
   "metadata": {},
   "source": [
    "Explanation: The insert() method modifies the list by inserting the specified element at the given index, pushing the existing elements to the right."
   ]
  },
  {
   "cell_type": "markdown",
   "id": "a29c6241",
   "metadata": {},
   "source": [
    "### remove(): Removes the first occurrence of a specified element from the list."
   ]
  },
  {
   "cell_type": "code",
   "execution_count": 3,
   "id": "7d9dfb64",
   "metadata": {},
   "outputs": [
    {
     "name": "stdout",
     "output_type": "stream",
     "text": [
      "['apple', 'cherry']\n"
     ]
    }
   ],
   "source": [
    "fruits = ['apple', 'banana', 'cherry']\n",
    "fruits.remove('banana')\n",
    "print(fruits)  # Output: ['apple', 'cherry']"
   ]
  },
  {
   "cell_type": "markdown",
   "id": "4fb1a68b",
   "metadata": {},
   "source": [
    "Explanation: The remove() method modifies the list by removing the first occurrence of the specified element. If the element is not found, it raises a ValueError."
   ]
  },
  {
   "cell_type": "markdown",
   "id": "852526e9",
   "metadata": {},
   "source": [
    "## pop(): Removes and returns the element at a specific index in the list."
   ]
  },
  {
   "cell_type": "code",
   "execution_count": 4,
   "id": "12d9e44a",
   "metadata": {},
   "outputs": [
    {
     "name": "stdout",
     "output_type": "stream",
     "text": [
      "banana\n",
      "['apple', 'cherry']\n"
     ]
    }
   ],
   "source": [
    "fruits = ['apple', 'banana', 'cherry']\n",
    "removed_fruit = fruits.pop(1)\n",
    "print(removed_fruit)  # Output: 'banana'\n",
    "print(fruits)        # Output: ['apple', 'cherry']\n"
   ]
  },
  {
   "cell_type": "markdown",
   "id": "5fda0c67",
   "metadata": {},
   "source": [
    "Explanation: The pop() method modifies the list by removing and returning the element at the given index. If no index is provided, it removes and returns the last element."
   ]
  },
  {
   "cell_type": "markdown",
   "id": "4fa655af",
   "metadata": {},
   "source": [
    "## index(): Returns the index of the first occurrence of a specified element in the list."
   ]
  },
  {
   "cell_type": "code",
   "execution_count": 5,
   "id": "1b9c7693",
   "metadata": {},
   "outputs": [
    {
     "name": "stdout",
     "output_type": "stream",
     "text": [
      "1\n"
     ]
    }
   ],
   "source": [
    "fruits = ['apple', 'banana', 'cherry']\n",
    "index = fruits.index('banana')\n",
    "print(index)  # Output: 1"
   ]
  },
  {
   "cell_type": "markdown",
   "id": "76616544",
   "metadata": {},
   "source": [
    "Explanation: The index() method returns the index of the first occurrence of the specified element. If the element is not found, it raises a ValueError."
   ]
  },
  {
   "cell_type": "markdown",
   "id": "dbcd25bc",
   "metadata": {},
   "source": [
    "## sort(): Sorts the elements in the list in ascending order."
   ]
  },
  {
   "cell_type": "code",
   "execution_count": 6,
   "id": "91d65e80",
   "metadata": {},
   "outputs": [
    {
     "name": "stdout",
     "output_type": "stream",
     "text": [
      "[1, 2, 5, 7, 9]\n"
     ]
    }
   ],
   "source": [
    "numbers = [5, 2, 9, 1, 7]\n",
    "numbers.sort()\n",
    "print(numbers)  # Output: [1, 2, 5, 7, 9]"
   ]
  },
  {
   "cell_type": "markdown",
   "id": "564f3848",
   "metadata": {},
   "source": [
    "Explanation: The sort() method modifies the list by sorting its elements in ascending order."
   ]
  },
  {
   "cell_type": "markdown",
   "id": "8f91f5c3",
   "metadata": {},
   "source": [
    "## len(): Returns the number of elements in the list."
   ]
  },
  {
   "cell_type": "code",
   "execution_count": 7,
   "id": "0e010d02",
   "metadata": {},
   "outputs": [
    {
     "name": "stdout",
     "output_type": "stream",
     "text": [
      "3\n"
     ]
    }
   ],
   "source": [
    "fruits = ['apple', 'banana', 'cherry']\n",
    "length = len(fruits)\n",
    "print(length)  # Output: 3\n"
   ]
  },
  {
   "cell_type": "markdown",
   "id": "ca59a5a2",
   "metadata": {},
   "source": [
    "Explanation: The len() function returns the number of elements in the list."
   ]
  },
  {
   "cell_type": "markdown",
   "id": "26462b75",
   "metadata": {},
   "source": [
    "## clear(): Removes all elements from the list."
   ]
  },
  {
   "cell_type": "code",
   "execution_count": 8,
   "id": "9a06fc02",
   "metadata": {},
   "outputs": [
    {
     "name": "stdout",
     "output_type": "stream",
     "text": [
      "[]\n"
     ]
    }
   ],
   "source": [
    "fruits = ['apple', 'banana', 'cherry']\n",
    "fruits.clear()\n",
    "print(fruits)  # Output: []\n"
   ]
  },
  {
   "cell_type": "markdown",
   "id": "bda3a6ae",
   "metadata": {},
   "source": [
    "Explanation: The clear() method removes all elements from the list, making it empty."
   ]
  },
  {
   "cell_type": "markdown",
   "id": "5b35579a",
   "metadata": {},
   "source": [
    "## extend(): Extends the list by appending elements from another iterable."
   ]
  },
  {
   "cell_type": "code",
   "execution_count": 9,
   "id": "d0d50a36",
   "metadata": {},
   "outputs": [
    {
     "name": "stdout",
     "output_type": "stream",
     "text": [
      "['apple', 'banana', 'cherry', 'orange', 'kiwi']\n"
     ]
    }
   ],
   "source": [
    "fruits = ['apple', 'banana', 'cherry']\n",
    "more_fruits = ['orange', 'kiwi']\n",
    "fruits.extend(more_fruits)\n",
    "print(fruits)  # Output: ['apple', 'banana', 'cherry', 'orange', 'kiwi']\n"
   ]
  },
  {
   "cell_type": "markdown",
   "id": "8ccc99dd",
   "metadata": {},
   "source": [
    "## count(): Returns the number of occurrences of a specified element in the list."
   ]
  },
  {
   "cell_type": "code",
   "execution_count": 10,
   "id": "8d1099ce",
   "metadata": {},
   "outputs": [
    {
     "name": "stdout",
     "output_type": "stream",
     "text": [
      "2\n"
     ]
    }
   ],
   "source": [
    "fruits = ['apple', 'banana', 'cherry', 'banana']\n",
    "count = fruits.count('banana')\n",
    "print(count)  # Output: 2\n"
   ]
  },
  {
   "cell_type": "markdown",
   "id": "ded37a31",
   "metadata": {},
   "source": [
    "Explanation: The count() method returns the number of occurrences of the specified element in the list."
   ]
  },
  {
   "cell_type": "markdown",
   "id": "9dea8be7",
   "metadata": {},
   "source": [
    "## slicing: Extracts a portion of the list."
   ]
  },
  {
   "cell_type": "code",
   "execution_count": 11,
   "id": "c6dde889",
   "metadata": {},
   "outputs": [
    {
     "name": "stdout",
     "output_type": "stream",
     "text": [
      "[2, 3, 4]\n"
     ]
    }
   ],
   "source": [
    "numbers = [1, 2, 3, 4, 5]\n",
    "subset = numbers[1:4]\n",
    "print(subset)  # Output: [2, 3, 4]\n"
   ]
  },
  {
   "cell_type": "markdown",
   "id": "d192e843",
   "metadata": {},
   "source": [
    "Explanation: Slicing allows you to extract a portion of the list by specifying start and end indices. The resulting sublist includes elements from the start index up to, but not including, the end index."
   ]
  },
  {
   "cell_type": "markdown",
   "id": "d7230b77",
   "metadata": {},
   "source": [
    "## reverse(): Reverses the order of elements in the list."
   ]
  },
  {
   "cell_type": "code",
   "execution_count": 12,
   "id": "afdec757",
   "metadata": {},
   "outputs": [
    {
     "name": "stdout",
     "output_type": "stream",
     "text": [
      "[5, 4, 3, 2, 1]\n"
     ]
    }
   ],
   "source": [
    "numbers = [1, 2, 3, 4, 5]\n",
    "numbers.reverse()\n",
    "print(numbers)  # Output: [5, 4, 3, 2, 1]\n"
   ]
  },
  {
   "cell_type": "markdown",
   "id": "9d90a437",
   "metadata": {},
   "source": [
    "Explanation: The reverse() method modifies the list by reversing the order of its elements."
   ]
  },
  {
   "cell_type": "markdown",
   "id": "10b9f680",
   "metadata": {},
   "source": [
    "## copy(): Creates a shallow copy of the list."
   ]
  },
  {
   "cell_type": "code",
   "execution_count": 13,
   "id": "d7d51df9",
   "metadata": {},
   "outputs": [
    {
     "name": "stdout",
     "output_type": "stream",
     "text": [
      "['apple', 'banana', 'cherry']\n"
     ]
    }
   ],
   "source": [
    "fruits = ['apple', 'banana', 'cherry']\n",
    "fruits_copy = fruits.copy()\n",
    "print(fruits_copy)  # Output: ['apple', 'banana', 'cherry']\n"
   ]
  },
  {
   "cell_type": "markdown",
   "id": "a9573daf",
   "metadata": {},
   "source": [
    "Explanation: The copy() method creates a shallow copy of the list, allowing you to work with a separate copy without modifying the original list."
   ]
  },
  {
   "cell_type": "markdown",
   "id": "329fe8c0",
   "metadata": {},
   "source": [
    "## min(): Returns the minimum element in the list"
   ]
  },
  {
   "cell_type": "code",
   "execution_count": 14,
   "id": "26f8001e",
   "metadata": {},
   "outputs": [
    {
     "name": "stdout",
     "output_type": "stream",
     "text": [
      "1\n"
     ]
    }
   ],
   "source": [
    "numbers = [5, 2, 9, 1, 7]\n",
    "minimum = min(numbers)\n",
    "print(minimum)  # Output: 1\n"
   ]
  },
  {
   "cell_type": "markdown",
   "id": "1d2d65cb",
   "metadata": {},
   "source": [
    "Explanation: The min() function returns the minimum value from the elements in the list."
   ]
  },
  {
   "cell_type": "markdown",
   "id": "701f8e7a",
   "metadata": {},
   "source": [
    "## max(): Returns the maximum element in the list."
   ]
  },
  {
   "cell_type": "code",
   "execution_count": 15,
   "id": "12cd57c0",
   "metadata": {},
   "outputs": [
    {
     "name": "stdout",
     "output_type": "stream",
     "text": [
      "9\n"
     ]
    }
   ],
   "source": [
    "numbers = [5, 2, 9, 1, 7]\n",
    "maximum = max(numbers)\n",
    "print(maximum)  # Output: 9\n"
   ]
  },
  {
   "cell_type": "markdown",
   "id": "40e30f41",
   "metadata": {},
   "source": [
    "Explanation: The max() function returns the maximum value from the elements in the list."
   ]
  },
  {
   "cell_type": "markdown",
   "id": "d16273a6",
   "metadata": {},
   "source": [
    "## join(): Concatenates all elements in the list into a single string."
   ]
  },
  {
   "cell_type": "code",
   "execution_count": 16,
   "id": "19383fdb",
   "metadata": {},
   "outputs": [
    {
     "name": "stdout",
     "output_type": "stream",
     "text": [
      "Hello world !\n"
     ]
    }
   ],
   "source": [
    "words = ['Hello', 'world', '!']\n",
    "sentence = ' '.join(words)\n",
    "print(sentence)  # Output: 'Hello world !'\n"
   ]
  },
  {
   "cell_type": "markdown",
   "id": "6d0ccd77",
   "metadata": {},
   "source": [
    "Explanation: The join() method concatenates all elements in the list into a single string, using the specified separator between each element."
   ]
  },
  {
   "cell_type": "markdown",
   "id": "1361e352",
   "metadata": {},
   "source": [
    "## del: Removes elements from a list using the del statement."
   ]
  },
  {
   "cell_type": "code",
   "execution_count": 17,
   "id": "0673921d",
   "metadata": {},
   "outputs": [
    {
     "name": "stdout",
     "output_type": "stream",
     "text": [
      "['apple', 'cherry']\n"
     ]
    }
   ],
   "source": [
    "fruits = ['apple', 'banana', 'cherry']\n",
    "del fruits[1]\n",
    "print(fruits)  # Output: ['apple', 'cherry']\n"
   ]
  },
  {
   "cell_type": "markdown",
   "id": "7ca4a03f",
   "metadata": {},
   "source": [
    "Explanation: The del statement removes the element at the specified index from the list."
   ]
  },
  {
   "cell_type": "markdown",
   "id": "cf797912",
   "metadata": {},
   "source": [
    "## any(): Returns True if any element in the list is true, otherwise returns False."
   ]
  },
  {
   "cell_type": "code",
   "execution_count": 18,
   "id": "0a0cb11a",
   "metadata": {},
   "outputs": [
    {
     "name": "stdout",
     "output_type": "stream",
     "text": [
      "True\n"
     ]
    }
   ],
   "source": [
    "bool_list = [False, True, False, True]\n",
    "result = any(bool_list)\n",
    "print(result)  # Output: True\n"
   ]
  },
  {
   "cell_type": "markdown",
   "id": "ca3d04c0",
   "metadata": {},
   "source": [
    "Explanation: The any() function returns True if at least one element in the list evaluates to True. If all elements are False or the list is empty, it returns False."
   ]
  },
  {
   "cell_type": "markdown",
   "id": "82abf3f6",
   "metadata": {},
   "source": [
    "## all(): Returns True if all elements in the list are true, otherwise returns False."
   ]
  },
  {
   "cell_type": "code",
   "execution_count": 19,
   "id": "8a4f1ad1",
   "metadata": {},
   "outputs": [
    {
     "name": "stdout",
     "output_type": "stream",
     "text": [
      "False\n"
     ]
    }
   ],
   "source": [
    "bool_list = [True, True, True, False]\n",
    "result = all(bool_list)\n",
    "print(result)  # Output: False\n"
   ]
  },
  {
   "cell_type": "markdown",
   "id": "bc55019e",
   "metadata": {},
   "source": [
    "Explanation: The all() function returns True if all elements in the list evaluate to True. If any element is False or the list is empty, it returns False"
   ]
  },
  {
   "cell_type": "markdown",
   "id": "b5fb5672",
   "metadata": {},
   "source": [
    "# Task Questions"
   ]
  },
  {
   "cell_type": "markdown",
   "id": "aef46b09",
   "metadata": {},
   "source": [
    " Here are a few task-oriented questions that can be solved using Python lists without using if-else statements or loops:\n",
    "\n",
    "1. Task: Find the maximum value in a list.\n",
    "   Question: Write a Python function that takes a list of numbers as input and returns the maximum value in the list without using if-else statements or loops.\n",
    "\n",
    "2. Task: Remove duplicates from a list.\n",
    "   Question: Write a Python function that takes a list as input and removes any duplicate elements, returning a new list without duplicates, without using if-else statements or loops.\n",
    "\n",
    "3. Task: Check if a list is palindrome.\n",
    "   Question: Write a Python function that takes a list as input and returns True if the list is a palindrome (reads the same forwards and backwards), and False otherwise, without using if-else statements or loops.\n",
    "\n",
    "4. Task: Count the frequency of elements in a list.\n",
    "   Question: Write a Python function that takes a list as input and returns a dictionary where the keys are the unique elements in the list, and the values are their respective frequencies, without using if-else statements or loops.\n",
    "\n",
    "5. Task: Reverse the order of elements in a list.\n",
    "   Question: Write a Python function that takes a list as input and returns a new list with the elements in reverse order, without modifying the original list, without using if-else statements or loops.\n",
    "\n",
    "6. Task: Find the second largest element in a list.\n",
    "   Question: Write a Python function that takes a list of numbers as input and returns the second largest element in the list, without using if-else statements or loops.\n",
    "\n",
    "7. Task: Check if a list is sorted.\n",
    "   Question: Write a Python function that takes a list of numbers as input and returns True if the list is sorted in non-decreasing order, and False otherwise, without using if-else statements or loops.\n",
    "\n",
    "These task-oriented questions provide opportunities to explore alternative approaches and functional programming concepts in Python. Solving them without if-else statements or loops may involve using built-in functions, list comprehension, recursion, or other creative techniques."
   ]
  },
  {
   "cell_type": "markdown",
   "id": "da503d67",
   "metadata": {},
   "source": [
    "<!DOCTYPE html>\n",
    "<html>\n",
    "<head>\n",
    "</head>\n",
    "<body>\n",
    "<div style=\"background-color: #32a8a6; color: black; padding: 8px;text-align: center;\">\n",
    "    <h1>My Social Profiles</h1>\n",
    "    Note: To Follow And Any Query Feel Free To Contact\n",
    "       \n",
    "- <a href=\"https://www.linkedin.com/in/m-usman-akram-b29685251/\">My LinkedIn Profile</a>\n",
    "        \n",
    "- <a href=\"https://github.com/engrusman00109\">My GitHub Account</a>\n",
    "\n",
    "- <a href=\"https://www.facebook.com/profile.php?id=100055510195015\">My FaceBook Account</a>\n",
    "    \n",
    "- <a href=\"musman00109@gmail.com\">Click here to send an email</a>\n",
    "- <a href=\"@EngrUsman00109\">My Twiter Account </a>\n",
    "    \n",
    "</div>\n",
    "      \n",
    "</body>\n",
    "</html>\n"
   ]
  }
 ],
 "metadata": {
  "kernelspec": {
   "display_name": "Python 3 (ipykernel)",
   "language": "python",
   "name": "python3"
  },
  "language_info": {
   "codemirror_mode": {
    "name": "ipython",
    "version": 3
   },
   "file_extension": ".py",
   "mimetype": "text/x-python",
   "name": "python",
   "nbconvert_exporter": "python",
   "pygments_lexer": "ipython3",
   "version": "3.9.7"
  }
 },
 "nbformat": 4,
 "nbformat_minor": 5
}
