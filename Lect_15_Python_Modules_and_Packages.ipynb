{
 "cells": [
  {
   "cell_type": "markdown",
   "id": "74b844fb",
   "metadata": {},
   "source": [
    "<div style=\"background-color: rED; color: BLACK; padding: 8px;text-align: center;\">\n",
    "    <h2 > PYTHON LECTURE 15</h2>\n",
    "    <h2> M.Usman Akram </h2>\n",
    "    \n",
    "</div>"
   ]
  },
  {
   "cell_type": "markdown",
   "id": "20c8f915",
   "metadata": {},
   "source": [
    "Modules and packages are an essential part of organizing and packaging code in Python. They help in creating reusable and maintainable code by dividing it into smaller logical units. Let's explore how to create and organize modules and package code into reusable modules."
   ]
  },
  {
   "cell_type": "markdown",
   "id": "063b94cd",
   "metadata": {},
   "source": [
    "# Modules:\n",
    "A module is a file containing Python code that defines functions, classes, and variables. It allows you to logically organize related code. To create a module, follow these steps:\n",
    "\n",
    "- Create a new Python file with a .py extension, e.g., my_module.py.\n",
    "- Define functions, classes, or variables in the file"
   ]
  },
  {
   "cell_type": "code",
   "execution_count": 1,
   "id": "814dff40",
   "metadata": {},
   "outputs": [],
   "source": [
    "# my_module.py\n",
    "\n",
    "def greet(name):\n",
    "    print(f\"Hello, {name}!\")\n",
    "\n",
    "def add_numbers(a, b):\n",
    "    return a + b\n",
    "\n",
    "message = \"Welcome to my module\"\n"
   ]
  },
  {
   "cell_type": "markdown",
   "id": "0f79be0d",
   "metadata": {},
   "source": [
    "\n",
    "\n",
    "**Packages:**\n",
    "A package is a directory that contains multiple Python modules. It provides a way to organize related modules hierarchically. To create a package, follow these steps:\n",
    "\n",
    "1. Create a directory with a meaningful name for your package, e.g., `my_package`.\n",
    "2. Inside the package directory, create a special file called `__init__.py`. This file can be empty or contain initialization code.\n",
    "3. Create Python module files inside the package directory.\n",
    "   ```\n",
    "   my_package/\n",
    "   ├── __init__.py\n",
    "   ├── module1.py\n",
    "   └── module2.py\n",
    "   ```\n",
    "4. In another Python file, import and use modules from the package.\n",
    "   ```python\n",
    "   # main.py\n",
    "\n",
    "   import my_package.module1\n",
    "   import my_package.module2\n",
    "\n",
    "   my_package.module1.function1()\n",
    "   my_package.module2.function2()\n",
    "   ```\n",
    "\n",
    "**Packaging Code into Reusable Modules:**\n",
    "To package your code into a reusable module that can be easily distributed and installed by others, you can create a Python package and use a `setup.py` file along with the `setuptools` library. Here are the steps:\n",
    "\n",
    "1. Create a directory for your package.\n",
    "2. Inside the package directory, create the necessary module files and `__init__.py` file.\n",
    "3. Create a `setup.py` file with the following content:\n",
    "   ```python\n",
    "   from setuptools import setup\n",
    "\n",
    "   setup(\n",
    "       name='my_package',\n",
    "       version='1.0',\n",
    "       packages=['my_package'],\n",
    "   )\n",
    "   ```\n",
    "4. Use the `python setup.py sdist` command to create a source distribution package.\n",
    "5. Distribute the package to others, who can install it using `pip`:\n",
    "   ```\n",
    "   pip install my_package-1.0.tar.gz\n",
    "   ```\n",
    "\n",
    "By following these steps, you can package your code into a reusable module or package, making it easier to share and reuse in different projects."
   ]
  },
  {
   "cell_type": "markdown",
   "id": "a1f7db4e",
   "metadata": {},
   "source": [
    "<!DOCTYPE html>\n",
    "<html>\n",
    "<head>\n",
    "</head>\n",
    "<body>\n",
    "<div style=\"background-color: #32a8a6; color: black; padding: 8px;text-align: center;\">\n",
    "    <h1>My Social Profiles</h1>\n",
    "    Note: To Follow And Any Query Feel Free To Contact\n",
    "       \n",
    "- <a href=\"https://www.linkedin.com/in/m-usman-akram-b29685251/\">My LinkedIn Profile</a>\n",
    "        \n",
    "- <a href=\"https://github.com/engrusman00109\">My GitHub Account</a>\n",
    "\n",
    "- <a href=\"https://www.facebook.com/profile.php?id=100055510195015\">My FaceBook Account</a>\n",
    "    \n",
    "- <a href=\"musman00109@gmail.com\">Click here to send an email</a>\n",
    "- <a href=\"@EngrUsman00109\">My Twiter Account </a>\n",
    "    \n",
    "</div>\n",
    "      \n",
    "</body>\n",
    "</html>\n"
   ]
  }
 ],
 "metadata": {
  "kernelspec": {
   "display_name": "Python 3 (ipykernel)",
   "language": "python",
   "name": "python3"
  },
  "language_info": {
   "codemirror_mode": {
    "name": "ipython",
    "version": 3
   },
   "file_extension": ".py",
   "mimetype": "text/x-python",
   "name": "python",
   "nbconvert_exporter": "python",
   "pygments_lexer": "ipython3",
   "version": "3.9.7"
  }
 },
 "nbformat": 4,
 "nbformat_minor": 5
}
