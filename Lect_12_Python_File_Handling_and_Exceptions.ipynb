{
 "cells": [
  {
   "cell_type": "markdown",
   "id": "a55abfb2",
   "metadata": {},
   "source": [
    "<div style=\"background-color: rED; color: BLACK; padding: 8px;text-align: center;\">\n",
    "    <h2 > PYTHON LECTURE 12 </h2>\n",
    "    <h2> M.Usman Akram </h2>\n",
    "    \n",
    "</div>"
   ]
  },
  {
   "cell_type": "markdown",
   "id": "247a54a2",
   "metadata": {},
   "source": [
    "File handling and exceptions are two important concepts in programming, especially when working with input/output operations and error handling. Let's discuss each of them in more detail:\n",
    "\n",
    "File Handling:\n",
    "File handling refers to the process of working with files in a program. It involves tasks such as creating, opening, reading, writing, and closing files. File handling allows you to store data persistently on storage devices, such as a hard disk, and retrieve it when needed. Most programming languages provide built-in functions or libraries for file handling operations.\n",
    "\n",
    "Here are some common file handling operations:\n",
    "\n",
    "1. Opening a file: In order to read from or write to a file, you first need to open it. Opening a file establishes a connection between the file and your program. You can specify whether you want to open the file in read mode, write mode, or append mode.\n",
    "\n",
    "2. Reading from a file: Once a file is opened in read mode, you can read its contents. Reading can be done line by line or character by character, depending on the requirements. The read data can be processed or displayed in your program.\n",
    "\n",
    "3. Writing to a file: When a file is opened in write mode, you can write data to it. You can write data as strings, numbers, or any other suitable format. Writing to a file overwrites its previous contents. If you want to add data to an existing file without deleting its contents, you can open it in append mode.\n",
    "\n",
    "4. Closing a file: After you have finished working with a file, it's important to close it. Closing a file releases the resources associated with it and makes it available for other operations or programs. Failing to close a file can lead to resource leaks.\n",
    "\n",
    "Exceptions:\n",
    "Exceptions are events or conditions that occur during the execution of a program, which disrupt the normal flow of the program. When an exception occurs, it can be handled or propagated to higher-level code for handling. Exceptions help in identifying and dealing with errors or unexpected situations in a controlled manner.\n",
    "\n",
    "Here's how exceptions work:\n",
    "\n",
    "1. Throwing an exception: When an error or exceptional condition occurs, you can raise an exception using the appropriate keyword provided by the programming language. This transfers control to an exception handler.\n",
    "\n",
    "2. Catching and handling exceptions: An exception handler is a block of code that is responsible for catching and handling exceptions. It allows you to specify how to handle different types of exceptions. By handling exceptions, you can provide alternative logic or error messages to the user.\n",
    "\n",
    "3. Exception propagation: If an exception is not caught and handled within a particular block of code, it propagates up the call stack, searching for an appropriate exception handler. This continues until either an exception handler is found or the program terminates.\n",
    "\n",
    "By effectively using exceptions, you can improve the robustness and reliability of your code. They allow you to gracefully handle errors, provide meaningful error messages, and control the flow of your program in exceptional circumstances.\n",
    "\n",
    "It's important to note that the specific implementation of file handling and exceptions may vary depending on the programming language you are using. Each language has its own set of functions, syntax, and error types for handling files and exceptions."
   ]
  },
  {
   "cell_type": "markdown",
   "id": "13187798",
   "metadata": {},
   "source": [
    "# File Handling:\n",
    "File handling refers to the process of working with files in a program. It involves tasks such as creating, opening, reading, writing, and closing files. File handling allows you to store data persistently on storage devices, such as a hard disk, and retrieve it when needed. Most programming languages provide built-in functions or libraries for file handling operations.\n",
    "\n",
    "- Remember, when working with files, it's important to handle exceptions appropriately, such as FileNotFoundError when opening a non-existent file or PermissionError when you don't have sufficient permissions to access the file."
   ]
  },
  {
   "cell_type": "markdown",
   "id": "034e5ce3",
   "metadata": {},
   "source": [
    "In Python, you can perform various file handling operations using the built-in open() function and the file object it returns. Here are the common file handling operations in Python:"
   ]
  },
  {
   "cell_type": "markdown",
   "id": "93f5b979",
   "metadata": {},
   "source": [
    "# Opening a file:\n",
    "To open a file, you use the open() function and specify the file path and the mode in which you want to open the file. The mode can be \"r\" for reading, \"w\" for writing (creates a new file or overwrites existing content), \"a\" for appending (appends data to an existing file), or \"x\" for exclusive creation (fails if the file already exists)."
   ]
  },
  {
   "cell_type": "code",
   "execution_count": 1,
   "id": "f9fc6e2c",
   "metadata": {},
   "outputs": [],
   "source": [
    "file = open(\"output.txt\", \"r\")"
   ]
  },
  {
   "cell_type": "code",
   "execution_count": 2,
   "id": "81dbf913",
   "metadata": {},
   "outputs": [
    {
     "data": {
      "text/plain": [
       "<_io.TextIOWrapper name='output.txt' mode='r' encoding='cp1252'>"
      ]
     },
     "execution_count": 2,
     "metadata": {},
     "output_type": "execute_result"
    }
   ],
   "source": [
    "file"
   ]
  },
  {
   "cell_type": "markdown",
   "id": "fa51833d",
   "metadata": {},
   "source": [
    "# Reading from a file:"
   ]
  },
  {
   "cell_type": "markdown",
   "id": "00b24cbb",
   "metadata": {},
   "source": [
    "Once a file is opened in read mode, you can read its contents using various methods of the file object. The read() method reads the entire content of the file, while readline() reads a single line at a time. You can also use a for loop to iterate over the lines of the file."
   ]
  },
  {
   "cell_type": "code",
   "execution_count": 3,
   "id": "ce90d6ce",
   "metadata": {},
   "outputs": [],
   "source": [
    "file = open(\"output.txt\", \"r\")\n",
    "content = file.read()  # Read the entire content of the file\n",
    "line = file.readline()  # Read a single line\n",
    "for line in file:\n",
    "    # Process each line\n",
    "    print(line)\n"
   ]
  },
  {
   "cell_type": "markdown",
   "id": "967ce1c3",
   "metadata": {},
   "source": [
    "# Writing to a file:\n",
    "If a file is opened in write mode, you can write data to it using the write() method. It takes a string as an argument and writes it to the file. You can also use the writelines() method to write a list of strings to the file."
   ]
  },
  {
   "cell_type": "code",
   "execution_count": 4,
   "id": "3fb4b913",
   "metadata": {},
   "outputs": [],
   "source": [
    "file = open(\"output.txt\", \"w\")\n",
    "file.write(\"Hello, World!\")  # Write a string to the file\n",
    "file.writelines([\"Line 1\\n\", \"Line 2\\n\"])  # Write a list of strings to the file\n"
   ]
  },
  {
   "cell_type": "markdown",
   "id": "e9594fea",
   "metadata": {},
   "source": [
    "# Closing a file:\n",
    "After you finish working with a file, it's important to close it using the close() method of the file object. This ensures that any buffers or system resources associated with the file are properly released"
   ]
  },
  {
   "cell_type": "code",
   "execution_count": 5,
   "id": "c4083bfa",
   "metadata": {},
   "outputs": [],
   "source": [
    "file = open(\"output.txt\", \"r\")\n",
    "# Perform file operations\n",
    "file.close()  # Close the file\n"
   ]
  },
  {
   "cell_type": "markdown",
   "id": "d92401c9",
   "metadata": {},
   "source": [
    "It's a good practice to use the with statement when working with files. It automatically takes care of closing the file, even if an exception occurs. Here's an example:"
   ]
  },
  {
   "cell_type": "code",
   "execution_count": 6,
   "id": "7bfb87d4",
   "metadata": {},
   "outputs": [],
   "source": [
    "with open(\"output.txt\", \"r\") as file:\n",
    "    content = file.read()\n",
    "    # Process the content\n"
   ]
  },
  {
   "cell_type": "markdown",
   "id": "8e3e991f",
   "metadata": {},
   "source": [
    "Handling different types of exceptions involves using try-except blocks to catch specific exceptions and handle them accordingly. In Python, you can catch and handle exceptions using the following syntax:\n",
    "\n",
    "```python\n",
    "try:\n",
    "    # Code that may raise an exception\n",
    "    # ...\n",
    "except ExceptionType1:\n",
    "    # Code to handle ExceptionType1\n",
    "    # ...\n",
    "except ExceptionType2:\n",
    "    # Code to handle ExceptionType2\n",
    "    # ...\n",
    "except (ExceptionType3, ExceptionType4):\n",
    "    # Code to handle ExceptionType3 and ExceptionType4\n",
    "    # ...\n",
    "except Exception as e:\n",
    "    # Code to handle any other exception not caught above\n",
    "    # ...\n",
    "finally:\n",
    "    # Code that will always run, whether an exception occurred or not\n",
    "    # ...\n",
    "```\n",
    "\n",
    "Here's how you can handle different types of exceptions:\n",
    "\n",
    "1. Specific Exception Handling:\n",
    "   You can catch and handle specific exceptions by specifying the type of exception after the `except` keyword. When an exception of that type occurs, the corresponding block of code will be executed.\n",
    "\n",
    "   ```python\n",
    "   try:\n",
    "       # Code that may raise an exception\n",
    "       # ...\n",
    "   except FileNotFoundError:\n",
    "       # Code to handle a specific FileNotFoundError\n",
    "       # ...\n",
    "   except ValueError:\n",
    "       # Code to handle a specific ValueError\n",
    "       # ...\n",
    "   ```\n",
    "\n",
    "2. Multiple Exceptions:\n",
    "   You can handle multiple exceptions in a single `except` block by specifying the exception types inside parentheses.\n",
    "\n",
    "   ```python\n",
    "   try:\n",
    "       # Code that may raise exceptions\n",
    "       # ...\n",
    "   except (TypeError, ValueError):\n",
    "       # Code to handle TypeError or ValueError\n",
    "       # ...\n",
    "   ```\n",
    "\n",
    "3. Generic Exception Handling:\n",
    "   If you want to handle any type of exception that is not caught by the specific exception handlers, you can use a generic `except` block. It is usually placed at the end of the `try-except` block. You can access the exception object using the `as` keyword to gather information about the exception.\n",
    "\n",
    "   ```python\n",
    "   try:\n",
    "       # Code that may raise exceptions\n",
    "       # ...\n",
    "   except Exception as e:\n",
    "       # Code to handle any other exception\n",
    "       # Print the exception message\n",
    "       print(\"An error occurred:\", str(e))\n",
    "       # ...\n",
    "   ```\n",
    "\n",
    "4. Finally Block:\n",
    "   The `finally` block is optional but useful. It allows you to specify code that will run regardless of whether an exception occurred or not. This block is typically used to release resources or perform cleanup operations.\n",
    "\n",
    "   ```python\n",
    "   try:\n",
    "       # Code that may raise an exception\n",
    "       # ...\n",
    "   except ExceptionType:\n",
    "       # Code to handle the exception\n",
    "       # ...\n",
    "   finally:\n",
    "       # Code that will always run\n",
    "       # ...\n",
    "   ```\n",
    "\n",
    "By using try-except blocks with specific exception handling, you can gracefully handle different types of exceptions in your code, provide appropriate error messages, and ensure the program continues running smoothly even in exceptional situations."
   ]
  },
  {
   "cell_type": "markdown",
   "id": "666b61df",
   "metadata": {},
   "source": [
    "# Example 1: Handling a FileNotFoundError"
   ]
  },
  {
   "cell_type": "code",
   "execution_count": 7,
   "id": "d2f8473f",
   "metadata": {},
   "outputs": [
    {
     "name": "stdout",
     "output_type": "stream",
     "text": [
      "The file does not exist.\n"
     ]
    }
   ],
   "source": [
    "try:\n",
    "    file = open(\"nonexistent_file.txt\", \"r\")\n",
    "    content = file.read()\n",
    "    file.close()\n",
    "except FileNotFoundError:\n",
    "    print(\"The file does not exist.\")\n"
   ]
  },
  {
   "cell_type": "markdown",
   "id": "2f28290c",
   "metadata": {},
   "source": [
    "# Example 2: Handling a ValueError"
   ]
  },
  {
   "cell_type": "code",
   "execution_count": 8,
   "id": "23a69a8d",
   "metadata": {},
   "outputs": [
    {
     "name": "stdout",
     "output_type": "stream",
     "text": [
      "Enter a number: 100\n",
      "Result: 1.0\n"
     ]
    }
   ],
   "source": [
    "try:\n",
    "    number = int(input(\"Enter a number: \"))\n",
    "    result = 100 / number\n",
    "    print(\"Result:\", result)\n",
    "except ValueError:\n",
    "    print(\"Invalid input. Please enter a valid number.\")\n",
    "except ZeroDivisionError:\n",
    "    print(\"Cannot divide by zero.\")\n"
   ]
  },
  {
   "cell_type": "markdown",
   "id": "71048be1",
   "metadata": {},
   "source": [
    "# Example 3: Handling multiple exceptions"
   ]
  },
  {
   "cell_type": "code",
   "execution_count": 9,
   "id": "40cb8078",
   "metadata": {},
   "outputs": [
    {
     "name": "stdout",
     "output_type": "stream",
     "text": [
      "Error: Invalid operands for division.\n"
     ]
    }
   ],
   "source": [
    "try:\n",
    "    x = 10\n",
    "    y = \"abc\"\n",
    "    z = x / int(y)\n",
    "    print(\"Result:\", z)\n",
    "except (TypeError, ValueError):\n",
    "    print(\"Error: Invalid operands for division.\")\n"
   ]
  },
  {
   "cell_type": "markdown",
   "id": "deedc536",
   "metadata": {},
   "source": [
    "# Example 4: Handling any other exception"
   ]
  },
  {
   "cell_type": "code",
   "execution_count": 10,
   "id": "9fda90f4",
   "metadata": {},
   "outputs": [
    {
     "name": "stdout",
     "output_type": "stream",
     "text": [
      "An error occurred: division by zero\n"
     ]
    }
   ],
   "source": [
    "try:\n",
    "    num1 = 10\n",
    "    num2 = 0\n",
    "    result = num1 / num2\n",
    "    print(\"Result:\", result)\n",
    "except Exception as e:\n",
    "    print(\"An error occurred:\", str(e))\n"
   ]
  },
  {
   "cell_type": "markdown",
   "id": "8c2fe833",
   "metadata": {},
   "source": [
    "# Example 5: Using the finally block"
   ]
  },
  {
   "cell_type": "code",
   "execution_count": 11,
   "id": "264d4514",
   "metadata": {},
   "outputs": [
    {
     "name": "stdout",
     "output_type": "stream",
     "text": [
      "File content: Hello, World!Line 1\n",
      "Line 2\n",
      "\n"
     ]
    }
   ],
   "source": [
    "try:\n",
    "    file = open(\"output.txt\", \"r\")\n",
    "    content = file.read()\n",
    "    print(\"File content:\", content)\n",
    "except FileNotFoundError:\n",
    "    print(\"The file does not exist.\")\n",
    "finally:\n",
    "    if 'file' in locals():\n",
    "        file.close()\n"
   ]
  },
  {
   "cell_type": "markdown",
   "id": "72a8bc93",
   "metadata": {},
   "source": [
    "# Example 6: Handling IndexError"
   ]
  },
  {
   "cell_type": "code",
   "execution_count": 12,
   "id": "a5e56c64",
   "metadata": {},
   "outputs": [
    {
     "name": "stdout",
     "output_type": "stream",
     "text": [
      "Index out of range. Please provide a valid index.\n"
     ]
    }
   ],
   "source": [
    "try:\n",
    "    my_list = [1, 2, 3]\n",
    "    print(my_list[4])\n",
    "except IndexError:\n",
    "    print(\"Index out of range. Please provide a valid index.\")\n"
   ]
  },
  {
   "cell_type": "markdown",
   "id": "0d06fcfa",
   "metadata": {},
   "source": [
    "# Example 7: Handling KeyError"
   ]
  },
  {
   "cell_type": "code",
   "execution_count": 13,
   "id": "37a8ba5a",
   "metadata": {},
   "outputs": [
    {
     "name": "stdout",
     "output_type": "stream",
     "text": [
      "Key not found in the dictionary.\n"
     ]
    }
   ],
   "source": [
    "try:\n",
    "    my_dict = {\"key1\": 10, \"key2\": 20}\n",
    "    print(my_dict[\"key3\"])\n",
    "except KeyError:\n",
    "    print(\"Key not found in the dictionary.\")\n"
   ]
  },
  {
   "cell_type": "markdown",
   "id": "1122df1a",
   "metadata": {},
   "source": [
    "# Example 8: Handling TypeError"
   ]
  },
  {
   "cell_type": "code",
   "execution_count": 14,
   "id": "4aac95cf",
   "metadata": {},
   "outputs": [
    {
     "name": "stdout",
     "output_type": "stream",
     "text": [
      "Unsupported operand types. Please provide compatible operands.\n"
     ]
    }
   ],
   "source": [
    "try:\n",
    "    result = \"Hello\" + 42\n",
    "except TypeError:\n",
    "    print(\"Unsupported operand types. Please provide compatible operands.\")\n"
   ]
  },
  {
   "cell_type": "markdown",
   "id": "d0e0bad6",
   "metadata": {},
   "source": [
    "# Example 9: Handling IOError (Python 2)"
   ]
  },
  {
   "cell_type": "code",
   "execution_count": 15,
   "id": "f99dc496",
   "metadata": {},
   "outputs": [
    {
     "name": "stdout",
     "output_type": "stream",
     "text": [
      "An error occurred while reading the file.\n"
     ]
    }
   ],
   "source": [
    "try:\n",
    "    file = open(\"filename.txt\", \"r\")\n",
    "    content = file.read()\n",
    "    file.close()\n",
    "except IOError:\n",
    "    print(\"An error occurred while reading the file.\")\n"
   ]
  },
  {
   "cell_type": "markdown",
   "id": "f72c655b",
   "metadata": {},
   "source": [
    "# Example 10: Handling PermissionError"
   ]
  },
  {
   "cell_type": "code",
   "execution_count": 16,
   "id": "7baa7e71",
   "metadata": {},
   "outputs": [],
   "source": [
    "try:\n",
    "    file = open(\"output.txt\", \"w\")\n",
    "    file.write(\"Hello, World!\")\n",
    "    file.close()\n",
    "except PermissionError:\n",
    "    print(\"Permission denied. Unable to write to the file.\")\n"
   ]
  },
  {
   "cell_type": "markdown",
   "id": "e7f1f8f4",
   "metadata": {},
   "source": [
    "<!DOCTYPE html>\n",
    "<html>\n",
    "<head>\n",
    "</head>\n",
    "<body>\n",
    "<div style=\"background-color: #32a8a6; color: black; padding: 8px;text-align: center;\">\n",
    "    <h1>My Social Profiles</h1>\n",
    "    Note: To Follow And Any Query Feel Free To Contact\n",
    "       \n",
    "- <a href=\"https://www.linkedin.com/in/m-usman-akram-b29685251/\">My LinkedIn Profile</a>\n",
    "        \n",
    "- <a href=\"https://github.com/engrusman00109\">My GitHub Account</a>\n",
    "\n",
    "- <a href=\"https://www.facebook.com/profile.php?id=100055510195015\">My FaceBook Account</a>\n",
    "    \n",
    "- <a href=\"musman00109@gmail.com\">Click here to send an email</a>\n",
    "- <a href=\"@EngrUsman00109\">My Twiter Account </a>\n",
    "    \n",
    "</div>\n",
    "      \n",
    "</body>\n",
    "</html>\n"
   ]
  }
 ],
 "metadata": {
  "kernelspec": {
   "display_name": "Python 3 (ipykernel)",
   "language": "python",
   "name": "python3"
  },
  "language_info": {
   "codemirror_mode": {
    "name": "ipython",
    "version": 3
   },
   "file_extension": ".py",
   "mimetype": "text/x-python",
   "name": "python",
   "nbconvert_exporter": "python",
   "pygments_lexer": "ipython3",
   "version": "3.9.7"
  }
 },
 "nbformat": 4,
 "nbformat_minor": 5
}
